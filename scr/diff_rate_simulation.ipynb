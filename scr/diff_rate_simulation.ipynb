{
 "cells": [
  {
   "cell_type": "code",
   "execution_count": null,
   "id": "642e7d46",
   "metadata": {},
   "outputs": [],
   "source": [
    "#recombination_rate=1e-8\n",
    "#mutation_rate=1e-8, 0.2e-8 , 5e-8"
   ]
  },
  {
   "cell_type": "code",
   "execution_count": 1,
   "id": "2a0412e6",
   "metadata": {},
   "outputs": [
    {
     "name": "stderr",
     "output_type": "stream",
     "text": [
      "/Users/jinminli/research/tree_distance/myenv/lib/python3.13/site-packages/tqdm/auto.py:21: TqdmWarning: IProgress not found. Please update jupyter and ipywidgets. See https://ipywidgets.readthedocs.io/en/stable/user_install.html\n",
      "  from .autonotebook import tqdm as notebook_tqdm\n"
     ]
    }
   ],
   "source": [
    "import stdpopsim\n",
    "import os\n",
    "import tskit\n",
    "import msprime\n",
    "import numpy as np\n",
    "import tsinfer\n",
    "import zarr\n",
    "import demesdraw\n",
    "import subprocess\n",
    "import pyfaidx\n",
    "import tsdate\n",
    "import matplotlib.pyplot as plt\n",
    "from IPython.display import display, SVG\n",
    "from Bio import bgzf\n",
    "#display(SVG(ts.draw_svg()))\n",
    "from OOA_sim import simple_OOA_sim"
   ]
  },
  {
   "cell_type": "code",
   "execution_count": 3,
   "id": "2b3a55b6",
   "metadata": {},
   "outputs": [],
   "source": [
    "def dump_ts(ts,save_dir=\"./simulations/sim1/\",vcz_dir=\"./simulations/sim1/\",name=\"test\",contig_id=0):\n",
    "    os.makedirs(save_dir, exist_ok=True)\n",
    "    ts.dump(save_dir+name+\".trees\")\n",
    "    np.save(f\"{vcz_dir+name}-AA.npy\", [s.ancestral_state for s in ts.sites()])\n",
    "    vcf_name = f\"{vcz_dir+name}.vcf.gz\"\n",
    "    with bgzf.open(vcf_name, \"wt\") as f:\n",
    "        ts.write_vcf(f,contig_id=contig_id)\n",
    "    subprocess.run([\"tabix\", vcf_name])\n",
    "    ret = subprocess.run(\n",
    "        [\"python\", \"-m\", \"bio2zarr\", \"vcf2zarr\", \"convert\", \"--force\", vcf_name, f\"{vcz_dir+name}.vcz\"],\n",
    "        stderr = None,\n",
    "    )\n",
    "    if ret.returncode != 0: \n",
    "        print(f\"[ERROR] bio2zarr failed for {name} with code {ret.returncode}\") \n",
    "    else: \n",
    "        print(f\"[OK] bio2zarr finished for {name}\")\n",
    "def infer_ts(vcz_full_name,tree_full_name):\n",
    "    #load zarr file, ancestral states and infer\n",
    "    ancestral_states = np.load(f\"{vcz_full_name}-AA.npy\")\n",
    "    vdata = tsinfer.VariantData(f\"{vcz_full_name}.vcz\", ancestral_states)\n",
    "    inferred_ts=tsinfer.infer(vdata,recombination_rate=1e-8)\n",
    "    inferred_ts.dump(f\"{tree_full_name}-inferred.trees\")\n",
    "    print(\"tsinfer done\")\n",
    "    print(\"Running tsdate\")\n",
    "    simplified_ts = tsdate.preprocess_ts(inferred_ts)\n",
    "\n",
    "    redated_ts = tsdate.date(simplified_ts, mutation_rate=1e-8)\n",
    "\n",
    "    out_file = f\"{tree_full_name}-inferred.tsdate.trees\"\n",
    "    redated_ts.dump(out_file)"
   ]
  },
  {
   "cell_type": "code",
   "execution_count": 9,
   "id": "bd757aa0",
   "metadata": {},
   "outputs": [],
   "source": [
    "#specifying rate version\n",
    "def simulate_dump(model,number_individuals,num_replicates,tree_dir,vcz_dir,sequence_length=1e6,mut_rate=1e-8):\n",
    "    if isinstance(model, float):\n",
    "        name = f\"Ne{model:.0e}_r{mut_rate:.0e}_{2*number_individuals}_{sequence_length:.0e}\"\n",
    "        \n",
    "        tree_base_path = os.path.join(tree_dir, name)\n",
    "        vcz_base_path=os.path.join(vcz_dir, name)\n",
    "        os.makedirs(tree_base_path, exist_ok=True)\n",
    "        os.makedirs(vcz_base_path, exist_ok=True)\n",
    "        for i in range(num_replicates):\n",
    "            tree_replicate_dir = os.path.join(tree_base_path, str(i))+\"/\"\n",
    "            vcz_replicate_dir = os.path.join(vcz_base_path, str(i))+\"/\"\n",
    "            os.makedirs(tree_replicate_dir, exist_ok=True)\n",
    "            os.makedirs(vcz_replicate_dir, exist_ok=True)\n",
    "            ts=msprime.sim_ancestry(samples=number_individuals,population_size=model,sequence_length=sequence_length,recombination_rate=1e-8)\n",
    "            ts=msprime.sim_mutations(ts,rate=mut_rate)\n",
    "            #remove site at 0\n",
    "            if ts.site(0).position==0:\n",
    "                ts=ts.delete_sites(0)\n",
    "            dump_ts(ts,save_dir=tree_replicate_dir,vcz_dir=vcz_replicate_dir,name=name+\"_\"+str(i))\n",
    "            infer_ts(vcz_full_name=vcz_replicate_dir+name+\"_\"+str(i),tree_full_name=tree_replicate_dir+name+\"_\"+str(i))\n",
    "    else:\n",
    "        assert(isinstance(model, str))\n",
    "        assert(model==\"ooa\")\n",
    "        name=f\"ooa_r{mut_rate:.0e}_{6*number_individuals}_{sequence_length:.0e}\"\n",
    "    \n",
    "        tree_base_path = os.path.join(tree_dir, name)\n",
    "        vcz_base_path=os.path.join(vcz_dir, name)\n",
    "        os.makedirs(tree_base_path, exist_ok=True)\n",
    "        os.makedirs(vcz_base_path, exist_ok=True)\n",
    "        for i in range(num_replicates):\n",
    "            tree_replicate_dir = os.path.join(tree_base_path, str(i))+\"/\"\n",
    "            vcz_replicate_dir = os.path.join(vcz_base_path, str(i))+\"/\"\n",
    "            os.makedirs(tree_replicate_dir, exist_ok=True)\n",
    "            os.makedirs(vcz_replicate_dir, exist_ok=True)\n",
    "            ts=simple_OOA_sim(number_individuals,sequence_length,mut_rate=mut_rate)\n",
    "            #remove site at 0\n",
    "            if ts.site(0).position==0:\n",
    "                ts=ts.delete_sites(0)\n",
    "            dump_ts(ts,save_dir=tree_replicate_dir,vcz_dir=vcz_replicate_dir,name=name+\"_\"+str(i))\n",
    "            infer_ts(vcz_full_name=vcz_replicate_dir+name+\"_\"+str(i),tree_full_name=tree_replicate_dir+name+\"_\"+str(i))"
   ]
  },
  {
   "cell_type": "code",
   "execution_count": 10,
   "id": "45b8700a",
   "metadata": {},
   "outputs": [
    {
     "name": "stderr",
     "output_type": "stream",
     "text": [
      "    Scan: 100%|██████████| 1.00/1.00 [00:00<00:00, 93.4files/s]\n",
      " Explode: 100%|██████████| 4.26k/4.26k [00:00<00:00, 23.4kvars/s]\n",
      "  Encode: 100%|██████████| 1.25M/1.25M [00:00<00:00, 9.67MB/s]\n",
      "Finalise: 100%|██████████| 11.0/11.0 [00:00<00:00, 869array/s]\n"
     ]
    },
    {
     "name": "stdout",
     "output_type": "stream",
     "text": [
      "[OK] bio2zarr finished for Ne2e+04_r1e-08_100_1e+06_0\n",
      "tsinfer done\n",
      "Running tsdate\n"
     ]
    },
    {
     "name": "stderr",
     "output_type": "stream",
     "text": [
      "    Scan: 100%|██████████| 1.00/1.00 [00:00<00:00, 78.0files/s]\n",
      " Explode: 100%|██████████| 3.95k/3.95k [00:00<00:00, 20.0kvars/s]\n",
      "  Encode: 100%|██████████| 1.16M/1.16M [00:00<00:00, 12.5MB/s]\n",
      "Finalise: 100%|██████████| 11.0/11.0 [00:00<00:00, 1.08karray/s]\n"
     ]
    },
    {
     "name": "stdout",
     "output_type": "stream",
     "text": [
      "[OK] bio2zarr finished for Ne2e+04_r1e-08_100_1e+06_1\n",
      "tsinfer done\n",
      "Running tsdate\n"
     ]
    },
    {
     "name": "stderr",
     "output_type": "stream",
     "text": [
      "    Scan: 100%|██████████| 1.00/1.00 [00:00<00:00, 84.7files/s]\n",
      " Explode: 100%|██████████| 4.32k/4.32k [00:00<00:00, 23.0kvars/s]\n",
      "  Encode: 100%|██████████| 1.27M/1.27M [00:00<00:00, 11.3MB/s]\n",
      "Finalise: 100%|██████████| 11.0/11.0 [00:00<00:00, 1.03karray/s]\n"
     ]
    },
    {
     "name": "stdout",
     "output_type": "stream",
     "text": [
      "[OK] bio2zarr finished for Ne2e+04_r1e-08_100_1e+06_2\n",
      "tsinfer done\n",
      "Running tsdate\n"
     ]
    },
    {
     "name": "stderr",
     "output_type": "stream",
     "text": [
      "    Scan: 100%|██████████| 1.00/1.00 [00:00<00:00, 85.1files/s]\n",
      " Explode: 100%|██████████| 4.10k/4.10k [00:00<00:00, 19.8kvars/s]\n",
      "  Encode: 100%|██████████| 1.21M/1.21M [00:00<00:00, 12.4MB/s]\n",
      "Finalise: 100%|██████████| 11.0/11.0 [00:00<00:00, 1.02karray/s]\n"
     ]
    },
    {
     "name": "stdout",
     "output_type": "stream",
     "text": [
      "[OK] bio2zarr finished for Ne2e+04_r1e-08_100_1e+06_3\n",
      "tsinfer done\n",
      "Running tsdate\n"
     ]
    },
    {
     "name": "stderr",
     "output_type": "stream",
     "text": [
      "    Scan: 100%|██████████| 1.00/1.00 [00:00<00:00, 78.9files/s]\n",
      " Explode: 100%|██████████| 4.33k/4.33k [00:00<00:00, 23.2kvars/s]\n",
      "  Encode: 100%|██████████| 1.27M/1.27M [00:00<00:00, 12.0MB/s]\n",
      "Finalise: 100%|██████████| 11.0/11.0 [00:00<00:00, 867array/s]\n"
     ]
    },
    {
     "name": "stdout",
     "output_type": "stream",
     "text": [
      "[OK] bio2zarr finished for Ne2e+04_r1e-08_100_1e+06_4\n",
      "tsinfer done\n",
      "Running tsdate\n"
     ]
    },
    {
     "name": "stderr",
     "output_type": "stream",
     "text": [
      "    Scan: 100%|██████████| 1.00/1.00 [00:00<00:00, 78.6files/s]\n",
      " Explode: 100%|██████████| 4.24k/4.24k [00:00<00:00, 22.3kvars/s]\n",
      "  Encode: 100%|██████████| 1.25M/1.25M [00:00<00:00, 12.2MB/s]\n",
      "Finalise: 100%|██████████| 11.0/11.0 [00:00<00:00, 909array/s]\n"
     ]
    },
    {
     "name": "stdout",
     "output_type": "stream",
     "text": [
      "[OK] bio2zarr finished for Ne2e+04_r1e-08_100_1e+06_5\n",
      "tsinfer done\n",
      "Running tsdate\n"
     ]
    },
    {
     "name": "stderr",
     "output_type": "stream",
     "text": [
      "    Scan: 100%|██████████| 1.00/1.00 [00:00<00:00, 85.0files/s]\n",
      " Explode: 100%|██████████| 4.20k/4.20k [00:00<00:00, 20.5kvars/s]\n",
      "  Encode: 100%|██████████| 1.24M/1.24M [00:00<00:00, 11.3MB/s]\n",
      "Finalise: 100%|██████████| 11.0/11.0 [00:00<00:00, 894array/s]\n"
     ]
    },
    {
     "name": "stdout",
     "output_type": "stream",
     "text": [
      "[OK] bio2zarr finished for Ne2e+04_r1e-08_100_1e+06_6\n",
      "tsinfer done\n",
      "Running tsdate\n"
     ]
    },
    {
     "name": "stderr",
     "output_type": "stream",
     "text": [
      "    Scan: 100%|██████████| 1.00/1.00 [00:00<00:00, 79.0files/s]\n",
      " Explode: 100%|██████████| 3.98k/3.98k [00:00<00:00, 19.9kvars/s]\n",
      "  Encode: 100%|██████████| 1.17M/1.17M [00:00<00:00, 11.5MB/s]\n",
      "Finalise: 100%|██████████| 11.0/11.0 [00:00<00:00, 867array/s]\n"
     ]
    },
    {
     "name": "stdout",
     "output_type": "stream",
     "text": [
      "[OK] bio2zarr finished for Ne2e+04_r1e-08_100_1e+06_7\n",
      "tsinfer done\n",
      "Running tsdate\n"
     ]
    },
    {
     "name": "stderr",
     "output_type": "stream",
     "text": [
      "    Scan: 100%|██████████| 1.00/1.00 [00:00<00:00, 78.7files/s]\n",
      " Explode: 100%|██████████| 4.01k/4.01k [00:00<00:00, 20.3kvars/s]\n",
      "  Encode: 100%|██████████| 1.18M/1.18M [00:00<00:00, 11.6MB/s]\n",
      "Finalise: 100%|██████████| 11.0/11.0 [00:00<00:00, 905array/s]\n"
     ]
    },
    {
     "name": "stdout",
     "output_type": "stream",
     "text": [
      "[OK] bio2zarr finished for Ne2e+04_r1e-08_100_1e+06_8\n",
      "tsinfer done\n",
      "Running tsdate\n"
     ]
    },
    {
     "name": "stderr",
     "output_type": "stream",
     "text": [
      "    Scan: 100%|██████████| 1.00/1.00 [00:00<00:00, 78.9files/s]\n",
      " Explode: 100%|██████████| 4.03k/4.03k [00:00<00:00, 20.6kvars/s]\n",
      "  Encode: 100%|██████████| 1.18M/1.18M [00:00<00:00, 11.8MB/s]\n",
      "Finalise: 100%|██████████| 11.0/11.0 [00:00<00:00, 871array/s]\n"
     ]
    },
    {
     "name": "stdout",
     "output_type": "stream",
     "text": [
      "[OK] bio2zarr finished for Ne2e+04_r1e-08_100_1e+06_9\n",
      "tsinfer done\n",
      "Running tsdate\n"
     ]
    },
    {
     "name": "stderr",
     "output_type": "stream",
     "text": [
      "    Scan: 100%|██████████| 1.00/1.00 [00:00<00:00, 92.9files/s]\n",
      " Explode: 100%|██████████| 4.14k/4.14k [00:00<00:00, 19.1kvars/s]\n",
      "  Encode: 100%|██████████| 1.22M/1.22M [00:00<00:00, 12.5MB/s]\n",
      "Finalise: 100%|██████████| 11.0/11.0 [00:00<00:00, 989array/s]\n"
     ]
    },
    {
     "name": "stdout",
     "output_type": "stream",
     "text": [
      "[OK] bio2zarr finished for Ne2e+04_r1e-08_100_1e+06_10\n",
      "tsinfer done\n",
      "Running tsdate\n"
     ]
    },
    {
     "name": "stderr",
     "output_type": "stream",
     "text": [
      "    Scan: 100%|██████████| 1.00/1.00 [00:00<00:00, 78.9files/s]\n",
      " Explode: 100%|██████████| 4.36k/4.36k [00:00<00:00, 22.7kvars/s]\n",
      "  Encode: 100%|██████████| 1.28M/1.28M [00:00<00:00, 12.2MB/s]\n",
      "Finalise: 100%|██████████| 11.0/11.0 [00:00<00:00, 868array/s]\n"
     ]
    },
    {
     "name": "stdout",
     "output_type": "stream",
     "text": [
      "[OK] bio2zarr finished for Ne2e+04_r1e-08_100_1e+06_11\n",
      "tsinfer done\n",
      "Running tsdate\n"
     ]
    },
    {
     "name": "stderr",
     "output_type": "stream",
     "text": [
      "    Scan: 100%|██████████| 1.00/1.00 [00:00<00:00, 78.7files/s]\n",
      " Explode: 100%|██████████| 4.15k/4.15k [00:00<00:00, 20.2kvars/s]\n",
      "  Encode: 100%|██████████| 1.22M/1.22M [00:00<00:00, 11.8MB/s]\n",
      "Finalise: 100%|██████████| 11.0/11.0 [00:00<00:00, 869array/s]\n"
     ]
    },
    {
     "name": "stdout",
     "output_type": "stream",
     "text": [
      "[OK] bio2zarr finished for Ne2e+04_r1e-08_100_1e+06_12\n",
      "tsinfer done\n",
      "Running tsdate\n"
     ]
    },
    {
     "name": "stderr",
     "output_type": "stream",
     "text": [
      "    Scan: 100%|██████████| 1.00/1.00 [00:00<00:00, 78.8files/s]\n",
      " Explode: 100%|██████████| 4.06k/4.06k [00:00<00:00, 20.3kvars/s]\n",
      "  Encode: 100%|██████████| 1.19M/1.19M [00:00<00:00, 12.1MB/s]\n",
      "Finalise: 100%|██████████| 11.0/11.0 [00:00<00:00, 1.06karray/s]\n"
     ]
    },
    {
     "name": "stdout",
     "output_type": "stream",
     "text": [
      "[OK] bio2zarr finished for Ne2e+04_r1e-08_100_1e+06_13\n",
      "tsinfer done\n",
      "Running tsdate\n"
     ]
    },
    {
     "name": "stderr",
     "output_type": "stream",
     "text": [
      "    Scan: 100%|██████████| 1.00/1.00 [00:00<00:00, 93.0files/s]\n",
      " Explode: 100%|██████████| 4.06k/4.06k [00:00<00:00, 20.1kvars/s]\n",
      "  Encode: 100%|██████████| 1.19M/1.19M [00:00<00:00, 11.7MB/s]\n",
      "Finalise: 100%|██████████| 11.0/11.0 [00:00<00:00, 1.07karray/s]\n"
     ]
    },
    {
     "name": "stdout",
     "output_type": "stream",
     "text": [
      "[OK] bio2zarr finished for Ne2e+04_r1e-08_100_1e+06_14\n",
      "tsinfer done\n",
      "Running tsdate\n"
     ]
    },
    {
     "name": "stderr",
     "output_type": "stream",
     "text": [
      "    Scan: 100%|██████████| 1.00/1.00 [00:00<00:00, 79.1files/s]\n",
      " Explode: 100%|██████████| 4.00k/4.00k [00:00<00:00, 20.2kvars/s]\n",
      "  Encode: 100%|██████████| 1.18M/1.18M [00:00<00:00, 11.7MB/s]\n",
      "Finalise: 100%|██████████| 11.0/11.0 [00:00<00:00, 868array/s]\n"
     ]
    },
    {
     "name": "stdout",
     "output_type": "stream",
     "text": [
      "[OK] bio2zarr finished for Ne2e+04_r1e-08_100_1e+06_15\n",
      "tsinfer done\n",
      "Running tsdate\n"
     ]
    },
    {
     "name": "stderr",
     "output_type": "stream",
     "text": [
      "    Scan: 100%|██████████| 1.00/1.00 [00:00<00:00, 86.0files/s]\n",
      " Explode: 100%|██████████| 4.05k/4.05k [00:00<00:00, 20.1kvars/s]\n",
      "  Encode: 100%|██████████| 1.19M/1.19M [00:00<00:00, 12.0MB/s]\n",
      "Finalise: 100%|██████████| 11.0/11.0 [00:00<00:00, 1.06karray/s]\n"
     ]
    },
    {
     "name": "stdout",
     "output_type": "stream",
     "text": [
      "[OK] bio2zarr finished for Ne2e+04_r1e-08_100_1e+06_16\n",
      "tsinfer done\n",
      "Running tsdate\n"
     ]
    },
    {
     "name": "stderr",
     "output_type": "stream",
     "text": [
      "    Scan: 100%|██████████| 1.00/1.00 [00:00<00:00, 94.8files/s]\n",
      " Explode: 100%|██████████| 4.14k/4.14k [00:00<00:00, 19.8kvars/s]\n",
      "  Encode: 100%|██████████| 1.22M/1.22M [00:00<00:00, 12.4MB/s]\n",
      "Finalise: 100%|██████████| 11.0/11.0 [00:00<00:00, 874array/s]\n"
     ]
    },
    {
     "name": "stdout",
     "output_type": "stream",
     "text": [
      "[OK] bio2zarr finished for Ne2e+04_r1e-08_100_1e+06_17\n",
      "tsinfer done\n",
      "Running tsdate\n"
     ]
    },
    {
     "name": "stderr",
     "output_type": "stream",
     "text": [
      "    Scan: 100%|██████████| 1.00/1.00 [00:00<00:00, 78.9files/s]\n",
      " Explode: 100%|██████████| 3.75k/3.75k [00:00<00:00, 19.5kvars/s]\n",
      "  Encode: 100%|██████████| 1.10M/1.10M [00:00<00:00, 11.2MB/s]\n",
      "Finalise: 100%|██████████| 11.0/11.0 [00:00<00:00, 893array/s]\n"
     ]
    },
    {
     "name": "stdout",
     "output_type": "stream",
     "text": [
      "[OK] bio2zarr finished for Ne2e+04_r1e-08_100_1e+06_18\n",
      "tsinfer done\n",
      "Running tsdate\n"
     ]
    },
    {
     "name": "stderr",
     "output_type": "stream",
     "text": [
      "    Scan: 100%|██████████| 1.00/1.00 [00:00<00:00, 78.9files/s]\n",
      " Explode: 100%|██████████| 4.21k/4.21k [00:00<00:00, 20.1kvars/s]\n",
      "  Encode: 100%|██████████| 1.24M/1.24M [00:00<00:00, 11.9MB/s]\n",
      "Finalise: 100%|██████████| 11.0/11.0 [00:00<00:00, 874array/s]\n"
     ]
    },
    {
     "name": "stdout",
     "output_type": "stream",
     "text": [
      "[OK] bio2zarr finished for Ne2e+04_r1e-08_100_1e+06_19\n",
      "tsinfer done\n",
      "Running tsdate\n"
     ]
    },
    {
     "name": "stderr",
     "output_type": "stream",
     "text": [
      "    Scan: 100%|██████████| 1.00/1.00 [00:00<00:00, 79.0files/s]\n",
      " Explode: 100%|██████████| 4.18k/4.18k [00:00<00:00, 20.2kvars/s]\n",
      "  Encode: 100%|██████████| 1.23M/1.23M [00:00<00:00, 11.9MB/s]\n",
      "Finalise: 100%|██████████| 11.0/11.0 [00:00<00:00, 869array/s]\n"
     ]
    },
    {
     "name": "stdout",
     "output_type": "stream",
     "text": [
      "[OK] bio2zarr finished for Ne2e+04_r1e-08_100_1e+06_20\n",
      "tsinfer done\n",
      "Running tsdate\n"
     ]
    },
    {
     "name": "stderr",
     "output_type": "stream",
     "text": [
      "    Scan: 100%|██████████| 1.00/1.00 [00:00<00:00, 78.9files/s]\n",
      " Explode: 100%|██████████| 4.27k/4.27k [00:00<00:00, 23.4kvars/s]\n",
      "  Encode: 100%|██████████| 1.26M/1.26M [00:00<00:00, 11.8MB/s]\n",
      "Finalise: 100%|██████████| 11.0/11.0 [00:00<00:00, 868array/s]\n"
     ]
    },
    {
     "name": "stdout",
     "output_type": "stream",
     "text": [
      "[OK] bio2zarr finished for Ne2e+04_r1e-08_100_1e+06_21\n",
      "tsinfer done\n",
      "Running tsdate\n"
     ]
    },
    {
     "name": "stderr",
     "output_type": "stream",
     "text": [
      "    Scan: 100%|██████████| 1.00/1.00 [00:00<00:00, 78.9files/s]\n",
      " Explode: 100%|██████████| 3.83k/3.83k [00:00<00:00, 18.7kvars/s]\n",
      "  Encode: 100%|██████████| 1.13M/1.13M [00:00<00:00, 11.4MB/s]\n",
      "Finalise: 100%|██████████| 11.0/11.0 [00:00<00:00, 868array/s]\n"
     ]
    },
    {
     "name": "stdout",
     "output_type": "stream",
     "text": [
      "[OK] bio2zarr finished for Ne2e+04_r1e-08_100_1e+06_22\n",
      "tsinfer done\n",
      "Running tsdate\n"
     ]
    },
    {
     "name": "stderr",
     "output_type": "stream",
     "text": [
      "    Scan: 100%|██████████| 1.00/1.00 [00:00<00:00, 78.9files/s]\n",
      " Explode: 100%|██████████| 4.25k/4.25k [00:00<00:00, 23.2kvars/s]\n",
      "  Encode: 100%|██████████| 1.25M/1.25M [00:00<00:00, 11.6MB/s]\n",
      "Finalise: 100%|██████████| 11.0/11.0 [00:00<00:00, 943array/s]\n"
     ]
    },
    {
     "name": "stdout",
     "output_type": "stream",
     "text": [
      "[OK] bio2zarr finished for Ne2e+04_r1e-08_100_1e+06_23\n",
      "tsinfer done\n",
      "Running tsdate\n"
     ]
    },
    {
     "name": "stderr",
     "output_type": "stream",
     "text": [
      "    Scan: 100%|██████████| 1.00/1.00 [00:00<00:00, 85.9files/s]\n",
      " Explode: 100%|██████████| 4.13k/4.13k [00:00<00:00, 19.7kvars/s]\n",
      "  Encode: 100%|██████████| 1.21M/1.21M [00:00<00:00, 11.9MB/s]\n",
      "Finalise: 100%|██████████| 11.0/11.0 [00:00<00:00, 874array/s]\n"
     ]
    },
    {
     "name": "stdout",
     "output_type": "stream",
     "text": [
      "[OK] bio2zarr finished for Ne2e+04_r1e-08_100_1e+06_24\n",
      "tsinfer done\n",
      "Running tsdate\n"
     ]
    },
    {
     "name": "stderr",
     "output_type": "stream",
     "text": [
      "    Scan: 100%|██████████| 1.00/1.00 [00:00<00:00, 78.8files/s]\n",
      " Explode: 100%|██████████| 4.17k/4.17k [00:00<00:00, 19.9kvars/s]\n",
      "  Encode: 100%|██████████| 1.23M/1.23M [00:00<00:00, 12.0MB/s]\n",
      "Finalise: 100%|██████████| 11.0/11.0 [00:00<00:00, 874array/s]\n"
     ]
    },
    {
     "name": "stdout",
     "output_type": "stream",
     "text": [
      "[OK] bio2zarr finished for Ne2e+04_r1e-08_100_1e+06_25\n",
      "tsinfer done\n",
      "Running tsdate\n"
     ]
    },
    {
     "name": "stderr",
     "output_type": "stream",
     "text": [
      "    Scan: 100%|██████████| 1.00/1.00 [00:00<00:00, 88.2files/s]\n",
      " Explode: 100%|██████████| 3.94k/3.94k [00:00<00:00, 20.1kvars/s]\n",
      "  Encode: 100%|██████████| 1.16M/1.16M [00:00<00:00, 11.7MB/s]\n",
      "Finalise: 100%|██████████| 11.0/11.0 [00:00<00:00, 1.07karray/s]\n"
     ]
    },
    {
     "name": "stdout",
     "output_type": "stream",
     "text": [
      "[OK] bio2zarr finished for Ne2e+04_r1e-08_100_1e+06_26\n",
      "tsinfer done\n",
      "Running tsdate\n"
     ]
    },
    {
     "name": "stderr",
     "output_type": "stream",
     "text": [
      "    Scan: 100%|██████████| 1.00/1.00 [00:00<00:00, 78.8files/s]\n",
      " Explode: 100%|██████████| 4.05k/4.05k [00:00<00:00, 19.9kvars/s]\n",
      "  Encode: 100%|██████████| 1.19M/1.19M [00:00<00:00, 12.1MB/s]\n",
      "Finalise: 100%|██████████| 11.0/11.0 [00:00<00:00, 872array/s]\n"
     ]
    },
    {
     "name": "stdout",
     "output_type": "stream",
     "text": [
      "[OK] bio2zarr finished for Ne2e+04_r1e-08_100_1e+06_27\n",
      "tsinfer done\n",
      "Running tsdate\n"
     ]
    },
    {
     "name": "stderr",
     "output_type": "stream",
     "text": [
      "    Scan: 100%|██████████| 1.00/1.00 [00:00<00:00, 78.8files/s]\n",
      " Explode: 100%|██████████| 4.43k/4.43k [00:00<00:00, 23.2kvars/s]\n",
      "  Encode: 100%|██████████| 1.30M/1.30M [00:00<00:00, 11.5MB/s]\n",
      "Finalise: 100%|██████████| 11.0/11.0 [00:00<00:00, 936array/s]\n"
     ]
    },
    {
     "name": "stdout",
     "output_type": "stream",
     "text": [
      "[OK] bio2zarr finished for Ne2e+04_r1e-08_100_1e+06_28\n",
      "tsinfer done\n",
      "Running tsdate\n"
     ]
    },
    {
     "name": "stderr",
     "output_type": "stream",
     "text": [
      "    Scan: 100%|██████████| 1.00/1.00 [00:00<00:00, 85.6files/s]\n",
      " Explode: 100%|██████████| 3.97k/3.97k [00:00<00:00, 20.3kvars/s]\n",
      "  Encode: 100%|██████████| 1.17M/1.17M [00:00<00:00, 11.6MB/s]\n",
      "Finalise: 100%|██████████| 11.0/11.0 [00:00<00:00, 868array/s]\n"
     ]
    },
    {
     "name": "stdout",
     "output_type": "stream",
     "text": [
      "[OK] bio2zarr finished for Ne2e+04_r1e-08_100_1e+06_29\n",
      "tsinfer done\n",
      "Running tsdate\n"
     ]
    },
    {
     "name": "stderr",
     "output_type": "stream",
     "text": [
      "    Scan: 100%|██████████| 1.00/1.00 [00:00<00:00, 78.6files/s]\n",
      " Explode: 100%|██████████| 4.10k/4.10k [00:00<00:00, 20.6kvars/s]\n",
      "  Encode: 100%|██████████| 1.21M/1.21M [00:00<00:00, 11.9MB/s]\n",
      "Finalise: 100%|██████████| 11.0/11.0 [00:00<00:00, 873array/s]\n"
     ]
    },
    {
     "name": "stdout",
     "output_type": "stream",
     "text": [
      "[OK] bio2zarr finished for Ne2e+04_r1e-08_100_1e+06_30\n",
      "tsinfer done\n",
      "Running tsdate\n"
     ]
    },
    {
     "name": "stderr",
     "output_type": "stream",
     "text": [
      "    Scan: 100%|██████████| 1.00/1.00 [00:00<00:00, 78.8files/s]\n",
      " Explode: 100%|██████████| 4.20k/4.20k [00:00<00:00, 19.9kvars/s]\n",
      "  Encode: 100%|██████████| 1.23M/1.23M [00:00<00:00, 11.2MB/s]\n",
      "Finalise: 100%|██████████| 11.0/11.0 [00:00<00:00, 899array/s]\n"
     ]
    },
    {
     "name": "stdout",
     "output_type": "stream",
     "text": [
      "[OK] bio2zarr finished for Ne2e+04_r1e-08_100_1e+06_31\n",
      "tsinfer done\n",
      "Running tsdate\n"
     ]
    },
    {
     "name": "stderr",
     "output_type": "stream",
     "text": [
      "    Scan: 100%|██████████| 1.00/1.00 [00:00<00:00, 79.0files/s]\n",
      " Explode: 100%|██████████| 4.26k/4.26k [00:00<00:00, 23.2kvars/s]\n",
      "  Encode: 100%|██████████| 1.25M/1.25M [00:00<00:00, 12.3MB/s]\n",
      "Finalise: 100%|██████████| 11.0/11.0 [00:00<00:00, 1.03karray/s]\n"
     ]
    },
    {
     "name": "stdout",
     "output_type": "stream",
     "text": [
      "[OK] bio2zarr finished for Ne2e+04_r1e-08_100_1e+06_32\n",
      "tsinfer done\n",
      "Running tsdate\n"
     ]
    },
    {
     "name": "stderr",
     "output_type": "stream",
     "text": [
      "    Scan: 100%|██████████| 1.00/1.00 [00:00<00:00, 78.9files/s]\n",
      " Explode: 100%|██████████| 4.32k/4.32k [00:00<00:00, 22.3kvars/s]\n",
      "  Encode: 100%|██████████| 1.27M/1.27M [00:00<00:00, 12.2MB/s]\n",
      "Finalise: 100%|██████████| 11.0/11.0 [00:00<00:00, 968array/s]\n"
     ]
    },
    {
     "name": "stdout",
     "output_type": "stream",
     "text": [
      "[OK] bio2zarr finished for Ne2e+04_r1e-08_100_1e+06_33\n",
      "tsinfer done\n",
      "Running tsdate\n"
     ]
    },
    {
     "name": "stderr",
     "output_type": "stream",
     "text": [
      "    Scan: 100%|██████████| 1.00/1.00 [00:00<00:00, 78.5files/s]\n",
      " Explode: 100%|██████████| 4.09k/4.09k [00:00<00:00, 19.5kvars/s]\n",
      "  Encode: 100%|██████████| 1.20M/1.20M [00:00<00:00, 11.9MB/s]\n",
      "Finalise: 100%|██████████| 11.0/11.0 [00:00<00:00, 873array/s]\n"
     ]
    },
    {
     "name": "stdout",
     "output_type": "stream",
     "text": [
      "[OK] bio2zarr finished for Ne2e+04_r1e-08_100_1e+06_34\n",
      "tsinfer done\n",
      "Running tsdate\n"
     ]
    },
    {
     "name": "stderr",
     "output_type": "stream",
     "text": [
      "    Scan: 100%|██████████| 1.00/1.00 [00:00<00:00, 89.0files/s]\n",
      " Explode: 100%|██████████| 4.05k/4.05k [00:00<00:00, 20.1kvars/s]\n",
      "  Encode: 100%|██████████| 1.19M/1.19M [00:00<00:00, 11.8MB/s]\n",
      "Finalise: 100%|██████████| 11.0/11.0 [00:00<00:00, 870array/s]\n"
     ]
    },
    {
     "name": "stdout",
     "output_type": "stream",
     "text": [
      "[OK] bio2zarr finished for Ne2e+04_r1e-08_100_1e+06_35\n",
      "tsinfer done\n",
      "Running tsdate\n"
     ]
    },
    {
     "name": "stderr",
     "output_type": "stream",
     "text": [
      "    Scan: 100%|██████████| 1.00/1.00 [00:00<00:00, 88.6files/s]\n",
      " Explode: 100%|██████████| 3.98k/3.98k [00:00<00:00, 20.1kvars/s]\n",
      "  Encode: 100%|██████████| 1.17M/1.17M [00:00<00:00, 12.0MB/s]\n",
      "Finalise: 100%|██████████| 11.0/11.0 [00:00<00:00, 869array/s]\n"
     ]
    },
    {
     "name": "stdout",
     "output_type": "stream",
     "text": [
      "[OK] bio2zarr finished for Ne2e+04_r1e-08_100_1e+06_36\n",
      "tsinfer done\n",
      "Running tsdate\n"
     ]
    },
    {
     "name": "stderr",
     "output_type": "stream",
     "text": [
      "    Scan: 100%|██████████| 1.00/1.00 [00:00<00:00, 95.4files/s]\n",
      " Explode: 100%|██████████| 4.16k/4.16k [00:00<00:00, 20.0kvars/s]\n",
      "  Encode: 100%|██████████| 1.22M/1.22M [00:00<00:00, 11.9MB/s]\n",
      "Finalise: 100%|██████████| 11.0/11.0 [00:00<00:00, 871array/s]\n"
     ]
    },
    {
     "name": "stdout",
     "output_type": "stream",
     "text": [
      "[OK] bio2zarr finished for Ne2e+04_r1e-08_100_1e+06_37\n",
      "tsinfer done\n",
      "Running tsdate\n"
     ]
    },
    {
     "name": "stderr",
     "output_type": "stream",
     "text": [
      "    Scan: 100%|██████████| 1.00/1.00 [00:00<00:00, 84.9files/s]\n",
      " Explode: 100%|██████████| 4.09k/4.09k [00:00<00:00, 19.8kvars/s]\n",
      "  Encode: 100%|██████████| 1.20M/1.20M [00:00<00:00, 11.6MB/s]\n",
      "Finalise: 100%|██████████| 11.0/11.0 [00:00<00:00, 870array/s]\n"
     ]
    },
    {
     "name": "stdout",
     "output_type": "stream",
     "text": [
      "[OK] bio2zarr finished for Ne2e+04_r1e-08_100_1e+06_38\n",
      "tsinfer done\n",
      "Running tsdate\n"
     ]
    },
    {
     "name": "stderr",
     "output_type": "stream",
     "text": [
      "    Scan: 100%|██████████| 1.00/1.00 [00:00<00:00, 93.2files/s]\n",
      " Explode: 100%|██████████| 3.98k/3.98k [00:00<00:00, 20.1kvars/s]\n",
      "  Encode: 100%|██████████| 1.17M/1.17M [00:00<00:00, 11.9MB/s]\n",
      "Finalise: 100%|██████████| 11.0/11.0 [00:00<00:00, 868array/s]\n"
     ]
    },
    {
     "name": "stdout",
     "output_type": "stream",
     "text": [
      "[OK] bio2zarr finished for Ne2e+04_r1e-08_100_1e+06_39\n",
      "tsinfer done\n",
      "Running tsdate\n"
     ]
    },
    {
     "name": "stderr",
     "output_type": "stream",
     "text": [
      "    Scan: 100%|██████████| 1.00/1.00 [00:00<00:00, 78.5files/s]\n",
      " Explode: 100%|██████████| 3.92k/3.92k [00:00<00:00, 19.2kvars/s]\n",
      "  Encode: 100%|██████████| 1.15M/1.15M [00:00<00:00, 11.6MB/s]\n",
      "Finalise: 100%|██████████| 11.0/11.0 [00:00<00:00, 898array/s]\n"
     ]
    },
    {
     "name": "stdout",
     "output_type": "stream",
     "text": [
      "[OK] bio2zarr finished for Ne2e+04_r1e-08_100_1e+06_40\n",
      "tsinfer done\n",
      "Running tsdate\n"
     ]
    },
    {
     "name": "stderr",
     "output_type": "stream",
     "text": [
      "    Scan: 100%|██████████| 1.00/1.00 [00:00<00:00, 78.9files/s]\n",
      " Explode: 100%|██████████| 3.99k/3.99k [00:00<00:00, 18.8kvars/s]\n",
      "  Encode: 100%|██████████| 1.17M/1.17M [00:00<00:00, 12.1MB/s]\n",
      "Finalise: 100%|██████████| 11.0/11.0 [00:00<00:00, 874array/s]\n"
     ]
    },
    {
     "name": "stdout",
     "output_type": "stream",
     "text": [
      "[OK] bio2zarr finished for Ne2e+04_r1e-08_100_1e+06_41\n",
      "tsinfer done\n",
      "Running tsdate\n"
     ]
    },
    {
     "name": "stderr",
     "output_type": "stream",
     "text": [
      "    Scan: 100%|██████████| 1.00/1.00 [00:00<00:00, 90.6files/s]\n",
      " Explode: 100%|██████████| 4.14k/4.14k [00:00<00:00, 19.9kvars/s]\n",
      "  Encode: 100%|██████████| 1.22M/1.22M [00:00<00:00, 11.8MB/s]\n",
      "Finalise: 100%|██████████| 11.0/11.0 [00:00<00:00, 1.03karray/s]\n"
     ]
    },
    {
     "name": "stdout",
     "output_type": "stream",
     "text": [
      "[OK] bio2zarr finished for Ne2e+04_r1e-08_100_1e+06_42\n",
      "tsinfer done\n",
      "Running tsdate\n"
     ]
    },
    {
     "name": "stderr",
     "output_type": "stream",
     "text": [
      "    Scan: 100%|██████████| 1.00/1.00 [00:00<00:00, 79.1files/s]\n",
      " Explode: 100%|██████████| 4.22k/4.22k [00:00<00:00, 20.3kvars/s]\n",
      "  Encode: 100%|██████████| 1.24M/1.24M [00:00<00:00, 12.1MB/s]\n",
      "Finalise: 100%|██████████| 11.0/11.0 [00:00<00:00, 880array/s]\n"
     ]
    },
    {
     "name": "stdout",
     "output_type": "stream",
     "text": [
      "[OK] bio2zarr finished for Ne2e+04_r1e-08_100_1e+06_43\n",
      "tsinfer done\n",
      "Running tsdate\n"
     ]
    },
    {
     "name": "stderr",
     "output_type": "stream",
     "text": [
      "    Scan: 100%|██████████| 1.00/1.00 [00:00<00:00, 79.1files/s]\n",
      " Explode: 100%|██████████| 3.84k/3.84k [00:00<00:00, 18.8kvars/s]\n",
      "  Encode: 100%|██████████| 1.13M/1.13M [00:00<00:00, 11.4MB/s]\n",
      "Finalise: 100%|██████████| 11.0/11.0 [00:00<00:00, 1.06karray/s]\n"
     ]
    },
    {
     "name": "stdout",
     "output_type": "stream",
     "text": [
      "[OK] bio2zarr finished for Ne2e+04_r1e-08_100_1e+06_44\n",
      "tsinfer done\n",
      "Running tsdate\n"
     ]
    },
    {
     "name": "stderr",
     "output_type": "stream",
     "text": [
      "    Scan: 100%|██████████| 1.00/1.00 [00:00<00:00, 89.2files/s]\n",
      " Explode: 100%|██████████| 4.52k/4.52k [00:00<00:00, 22.8kvars/s]\n",
      "  Encode: 100%|██████████| 1.33M/1.33M [00:00<00:00, 11.3MB/s]\n",
      "Finalise: 100%|██████████| 11.0/11.0 [00:00<00:00, 868array/s]\n"
     ]
    },
    {
     "name": "stdout",
     "output_type": "stream",
     "text": [
      "[OK] bio2zarr finished for Ne2e+04_r1e-08_100_1e+06_45\n",
      "tsinfer done\n",
      "Running tsdate\n"
     ]
    },
    {
     "name": "stderr",
     "output_type": "stream",
     "text": [
      "    Scan: 100%|██████████| 1.00/1.00 [00:00<00:00, 79.1files/s]\n",
      " Explode: 100%|██████████| 3.98k/3.98k [00:00<00:00, 20.0kvars/s]\n",
      "  Encode: 100%|██████████| 1.17M/1.17M [00:00<00:00, 11.8MB/s]\n",
      "Finalise: 100%|██████████| 11.0/11.0 [00:00<00:00, 868array/s]\n"
     ]
    },
    {
     "name": "stdout",
     "output_type": "stream",
     "text": [
      "[OK] bio2zarr finished for Ne2e+04_r1e-08_100_1e+06_46\n",
      "tsinfer done\n",
      "Running tsdate\n"
     ]
    },
    {
     "name": "stderr",
     "output_type": "stream",
     "text": [
      "    Scan: 100%|██████████| 1.00/1.00 [00:00<00:00, 78.9files/s]\n",
      " Explode: 100%|██████████| 4.02k/4.02k [00:00<00:00, 19.2kvars/s]\n",
      "  Encode: 100%|██████████| 1.18M/1.18M [00:00<00:00, 11.4MB/s]\n",
      "Finalise: 100%|██████████| 11.0/11.0 [00:00<00:00, 931array/s]\n"
     ]
    },
    {
     "name": "stdout",
     "output_type": "stream",
     "text": [
      "[OK] bio2zarr finished for Ne2e+04_r1e-08_100_1e+06_47\n",
      "tsinfer done\n",
      "Running tsdate\n"
     ]
    },
    {
     "name": "stderr",
     "output_type": "stream",
     "text": [
      "    Scan: 100%|██████████| 1.00/1.00 [00:00<00:00, 88.7files/s]\n",
      " Explode: 100%|██████████| 4.24k/4.24k [00:00<00:00, 23.3kvars/s]\n",
      "  Encode: 100%|██████████| 1.25M/1.25M [00:00<00:00, 11.6MB/s]\n",
      "Finalise: 100%|██████████| 11.0/11.0 [00:00<00:00, 1.06karray/s]\n"
     ]
    },
    {
     "name": "stdout",
     "output_type": "stream",
     "text": [
      "[OK] bio2zarr finished for Ne2e+04_r1e-08_100_1e+06_48\n",
      "tsinfer done\n",
      "Running tsdate\n"
     ]
    },
    {
     "name": "stderr",
     "output_type": "stream",
     "text": [
      "    Scan: 100%|██████████| 1.00/1.00 [00:00<00:00, 95.4files/s]\n",
      " Explode: 100%|██████████| 4.01k/4.01k [00:00<00:00, 20.2kvars/s]\n",
      "  Encode: 100%|██████████| 1.18M/1.18M [00:00<00:00, 11.7MB/s]\n",
      "Finalise: 100%|██████████| 11.0/11.0 [00:00<00:00, 866array/s]\n"
     ]
    },
    {
     "name": "stdout",
     "output_type": "stream",
     "text": [
      "[OK] bio2zarr finished for Ne2e+04_r1e-08_100_1e+06_49\n",
      "tsinfer done\n",
      "Running tsdate\n"
     ]
    },
    {
     "name": "stderr",
     "output_type": "stream",
     "text": [
      "    Scan: 100%|██████████| 1.00/1.00 [00:00<00:00, 78.8files/s]\n",
      " Explode: 100%|██████████| 4.20k/4.20k [00:00<00:00, 18.2kvars/s]\n",
      "  Encode: 100%|██████████| 1.23M/1.23M [00:00<00:00, 12.2MB/s]\n",
      "Finalise: 100%|██████████| 11.0/11.0 [00:00<00:00, 1.04karray/s]\n"
     ]
    },
    {
     "name": "stdout",
     "output_type": "stream",
     "text": [
      "[OK] bio2zarr finished for Ne2e+04_r1e-08_100_1e+06_50\n",
      "tsinfer done\n",
      "Running tsdate\n"
     ]
    },
    {
     "name": "stderr",
     "output_type": "stream",
     "text": [
      "    Scan: 100%|██████████| 1.00/1.00 [00:00<00:00, 79.0files/s]\n",
      " Explode: 100%|██████████| 3.99k/3.99k [00:00<00:00, 19.3kvars/s]\n",
      "  Encode: 100%|██████████| 1.17M/1.17M [00:00<00:00, 11.7MB/s]\n",
      "Finalise: 100%|██████████| 11.0/11.0 [00:00<00:00, 868array/s]\n"
     ]
    },
    {
     "name": "stdout",
     "output_type": "stream",
     "text": [
      "[OK] bio2zarr finished for Ne2e+04_r1e-08_100_1e+06_51\n",
      "tsinfer done\n",
      "Running tsdate\n"
     ]
    },
    {
     "name": "stderr",
     "output_type": "stream",
     "text": [
      "    Scan: 100%|██████████| 1.00/1.00 [00:00<00:00, 82.5files/s]\n",
      " Explode: 100%|██████████| 4.08k/4.08k [00:00<00:00, 19.5kvars/s]\n",
      "  Encode: 100%|██████████| 1.20M/1.20M [00:00<00:00, 11.8MB/s]\n",
      "Finalise: 100%|██████████| 11.0/11.0 [00:00<00:00, 869array/s]\n"
     ]
    },
    {
     "name": "stdout",
     "output_type": "stream",
     "text": [
      "[OK] bio2zarr finished for Ne2e+04_r1e-08_100_1e+06_52\n",
      "tsinfer done\n",
      "Running tsdate\n"
     ]
    },
    {
     "name": "stderr",
     "output_type": "stream",
     "text": [
      "    Scan: 100%|██████████| 1.00/1.00 [00:00<00:00, 93.2files/s]\n",
      " Explode: 100%|██████████| 4.13k/4.13k [00:00<00:00, 19.4kvars/s]\n",
      "  Encode: 100%|██████████| 1.21M/1.21M [00:00<00:00, 11.8MB/s]\n",
      "Finalise: 100%|██████████| 11.0/11.0 [00:00<00:00, 869array/s]\n"
     ]
    },
    {
     "name": "stdout",
     "output_type": "stream",
     "text": [
      "[OK] bio2zarr finished for Ne2e+04_r1e-08_100_1e+06_53\n",
      "tsinfer done\n",
      "Running tsdate\n"
     ]
    },
    {
     "name": "stderr",
     "output_type": "stream",
     "text": [
      "    Scan: 100%|██████████| 1.00/1.00 [00:00<00:00, 78.9files/s]\n",
      " Explode: 100%|██████████| 4.32k/4.32k [00:00<00:00, 23.1kvars/s]\n",
      "  Encode: 100%|██████████| 1.27M/1.27M [00:00<00:00, 12.2MB/s]\n",
      "Finalise: 100%|██████████| 11.0/11.0 [00:00<00:00, 1.02karray/s]\n"
     ]
    },
    {
     "name": "stdout",
     "output_type": "stream",
     "text": [
      "[OK] bio2zarr finished for Ne2e+04_r1e-08_100_1e+06_54\n",
      "tsinfer done\n",
      "Running tsdate\n"
     ]
    },
    {
     "name": "stderr",
     "output_type": "stream",
     "text": [
      "    Scan: 100%|██████████| 1.00/1.00 [00:00<00:00, 78.8files/s]\n",
      " Explode: 100%|██████████| 4.13k/4.13k [00:00<00:00, 20.1kvars/s]\n",
      "  Encode: 100%|██████████| 1.21M/1.21M [00:00<00:00, 12.0MB/s]\n",
      "Finalise: 100%|██████████| 11.0/11.0 [00:00<00:00, 874array/s]\n"
     ]
    },
    {
     "name": "stdout",
     "output_type": "stream",
     "text": [
      "[OK] bio2zarr finished for Ne2e+04_r1e-08_100_1e+06_55\n",
      "tsinfer done\n",
      "Running tsdate\n"
     ]
    },
    {
     "name": "stderr",
     "output_type": "stream",
     "text": [
      "    Scan: 100%|██████████| 1.00/1.00 [00:00<00:00, 83.8files/s]\n",
      " Explode: 100%|██████████| 3.95k/3.95k [00:00<00:00, 19.7kvars/s]\n",
      "  Encode: 100%|██████████| 1.16M/1.16M [00:00<00:00, 11.7MB/s]\n",
      "Finalise: 100%|██████████| 11.0/11.0 [00:00<00:00, 1.07karray/s]\n"
     ]
    },
    {
     "name": "stdout",
     "output_type": "stream",
     "text": [
      "[OK] bio2zarr finished for Ne2e+04_r1e-08_100_1e+06_56\n",
      "tsinfer done\n",
      "Running tsdate\n"
     ]
    },
    {
     "name": "stderr",
     "output_type": "stream",
     "text": [
      "    Scan: 100%|██████████| 1.00/1.00 [00:00<00:00, 78.9files/s]\n",
      " Explode: 100%|██████████| 4.11k/4.11k [00:00<00:00, 19.8kvars/s]\n",
      "  Encode: 100%|██████████| 1.21M/1.21M [00:00<00:00, 12.3MB/s]\n",
      "Finalise: 100%|██████████| 11.0/11.0 [00:00<00:00, 972array/s]\n"
     ]
    },
    {
     "name": "stdout",
     "output_type": "stream",
     "text": [
      "[OK] bio2zarr finished for Ne2e+04_r1e-08_100_1e+06_57\n",
      "tsinfer done\n",
      "Running tsdate\n"
     ]
    },
    {
     "name": "stderr",
     "output_type": "stream",
     "text": [
      "    Scan: 100%|██████████| 1.00/1.00 [00:00<00:00, 78.7files/s]\n",
      " Explode: 100%|██████████| 4.13k/4.13k [00:00<00:00, 19.5kvars/s]\n",
      "  Encode: 100%|██████████| 1.21M/1.21M [00:00<00:00, 10.8MB/s]\n",
      "Finalise: 100%|██████████| 11.0/11.0 [00:00<00:00, 950array/s]\n"
     ]
    },
    {
     "name": "stdout",
     "output_type": "stream",
     "text": [
      "[OK] bio2zarr finished for Ne2e+04_r1e-08_100_1e+06_58\n",
      "tsinfer done\n",
      "Running tsdate\n"
     ]
    },
    {
     "name": "stderr",
     "output_type": "stream",
     "text": [
      "    Scan: 100%|██████████| 1.00/1.00 [00:00<00:00, 79.0files/s]\n",
      " Explode: 100%|██████████| 3.80k/3.80k [00:00<00:00, 18.6kvars/s]\n",
      "  Encode: 100%|██████████| 1.12M/1.12M [00:00<00:00, 11.1MB/s]\n",
      "Finalise: 100%|██████████| 11.0/11.0 [00:00<00:00, 869array/s]\n"
     ]
    },
    {
     "name": "stdout",
     "output_type": "stream",
     "text": [
      "[OK] bio2zarr finished for Ne2e+04_r1e-08_100_1e+06_59\n",
      "tsinfer done\n",
      "Running tsdate\n"
     ]
    },
    {
     "name": "stderr",
     "output_type": "stream",
     "text": [
      "    Scan: 100%|██████████| 1.00/1.00 [00:00<00:00, 87.6files/s]\n",
      " Explode: 100%|██████████| 4.21k/4.21k [00:00<00:00, 19.4kvars/s]\n",
      "  Encode: 100%|██████████| 1.24M/1.24M [00:00<00:00, 11.9MB/s]\n",
      "Finalise: 100%|██████████| 11.0/11.0 [00:00<00:00, 924array/s]\n"
     ]
    },
    {
     "name": "stdout",
     "output_type": "stream",
     "text": [
      "[OK] bio2zarr finished for Ne2e+04_r1e-08_100_1e+06_60\n",
      "tsinfer done\n",
      "Running tsdate\n"
     ]
    },
    {
     "name": "stderr",
     "output_type": "stream",
     "text": [
      "    Scan: 100%|██████████| 1.00/1.00 [00:00<00:00, 78.9files/s]\n",
      " Explode: 100%|██████████| 4.14k/4.14k [00:00<00:00, 19.7kvars/s]\n",
      "  Encode: 100%|██████████| 1.22M/1.22M [00:00<00:00, 12.1MB/s]\n",
      "Finalise: 100%|██████████| 11.0/11.0 [00:00<00:00, 874array/s]\n"
     ]
    },
    {
     "name": "stdout",
     "output_type": "stream",
     "text": [
      "[OK] bio2zarr finished for Ne2e+04_r1e-08_100_1e+06_61\n",
      "tsinfer done\n",
      "Running tsdate\n"
     ]
    },
    {
     "name": "stderr",
     "output_type": "stream",
     "text": [
      "    Scan: 100%|██████████| 1.00/1.00 [00:00<00:00, 79.0files/s]\n",
      " Explode: 100%|██████████| 4.19k/4.19k [00:00<00:00, 19.8kvars/s]\n",
      "  Encode: 100%|██████████| 1.23M/1.23M [00:00<00:00, 11.7MB/s]\n",
      "Finalise: 100%|██████████| 11.0/11.0 [00:00<00:00, 882array/s]\n"
     ]
    },
    {
     "name": "stdout",
     "output_type": "stream",
     "text": [
      "[OK] bio2zarr finished for Ne2e+04_r1e-08_100_1e+06_62\n",
      "tsinfer done\n",
      "Running tsdate\n"
     ]
    },
    {
     "name": "stderr",
     "output_type": "stream",
     "text": [
      "    Scan: 100%|██████████| 1.00/1.00 [00:00<00:00, 81.3files/s]\n",
      " Explode: 100%|██████████| 4.39k/4.39k [00:00<00:00, 23.2kvars/s]\n",
      "  Encode: 100%|██████████| 1.29M/1.29M [00:00<00:00, 12.0MB/s]\n",
      "Finalise: 100%|██████████| 11.0/11.0 [00:00<00:00, 872array/s]\n"
     ]
    },
    {
     "name": "stdout",
     "output_type": "stream",
     "text": [
      "[OK] bio2zarr finished for Ne2e+04_r1e-08_100_1e+06_63\n",
      "tsinfer done\n",
      "Running tsdate\n"
     ]
    },
    {
     "name": "stderr",
     "output_type": "stream",
     "text": [
      "    Scan: 100%|██████████| 1.00/1.00 [00:00<00:00, 79.0files/s]\n",
      " Explode: 100%|██████████| 3.92k/3.92k [00:00<00:00, 19.8kvars/s]\n",
      "  Encode: 100%|██████████| 1.15M/1.15M [00:00<00:00, 9.48MB/s]\n",
      "Finalise: 100%|██████████| 11.0/11.0 [00:00<00:00, 1.04karray/s]\n"
     ]
    },
    {
     "name": "stdout",
     "output_type": "stream",
     "text": [
      "[OK] bio2zarr finished for Ne2e+04_r1e-08_100_1e+06_64\n",
      "tsinfer done\n",
      "Running tsdate\n"
     ]
    },
    {
     "name": "stderr",
     "output_type": "stream",
     "text": [
      "    Scan: 100%|██████████| 1.00/1.00 [00:00<00:00, 79.0files/s]\n",
      " Explode: 100%|██████████| 4.01k/4.01k [00:00<00:00, 20.1kvars/s]\n",
      "  Encode: 100%|██████████| 1.18M/1.18M [00:00<00:00, 11.8MB/s]\n",
      "Finalise: 100%|██████████| 11.0/11.0 [00:00<00:00, 1.05karray/s]\n"
     ]
    },
    {
     "name": "stdout",
     "output_type": "stream",
     "text": [
      "[OK] bio2zarr finished for Ne2e+04_r1e-08_100_1e+06_65\n",
      "tsinfer done\n",
      "Running tsdate\n"
     ]
    },
    {
     "name": "stderr",
     "output_type": "stream",
     "text": [
      "    Scan: 100%|██████████| 1.00/1.00 [00:00<00:00, 79.1files/s]\n",
      " Explode: 100%|██████████| 4.01k/4.01k [00:00<00:00, 20.0kvars/s]\n",
      "  Encode: 100%|██████████| 1.18M/1.18M [00:00<00:00, 11.7MB/s]\n",
      "Finalise: 100%|██████████| 11.0/11.0 [00:00<00:00, 1.05karray/s]\n"
     ]
    },
    {
     "name": "stdout",
     "output_type": "stream",
     "text": [
      "[OK] bio2zarr finished for Ne2e+04_r1e-08_100_1e+06_66\n",
      "tsinfer done\n",
      "Running tsdate\n"
     ]
    },
    {
     "name": "stderr",
     "output_type": "stream",
     "text": [
      "    Scan: 100%|██████████| 1.00/1.00 [00:00<00:00, 78.8files/s]\n",
      " Explode: 100%|██████████| 4.00k/4.00k [00:00<00:00, 20.0kvars/s]\n",
      "  Encode: 100%|██████████| 1.18M/1.18M [00:00<00:00, 11.6MB/s]\n",
      "Finalise: 100%|██████████| 11.0/11.0 [00:00<00:00, 897array/s]\n"
     ]
    },
    {
     "name": "stdout",
     "output_type": "stream",
     "text": [
      "[OK] bio2zarr finished for Ne2e+04_r1e-08_100_1e+06_67\n",
      "tsinfer done\n",
      "Running tsdate\n"
     ]
    },
    {
     "name": "stderr",
     "output_type": "stream",
     "text": [
      "    Scan: 100%|██████████| 1.00/1.00 [00:00<00:00, 78.9files/s]\n",
      " Explode: 100%|██████████| 4.16k/4.16k [00:00<00:00, 19.6kvars/s]\n",
      "  Encode: 100%|██████████| 1.22M/1.22M [00:00<00:00, 12.0MB/s]\n",
      "Finalise: 100%|██████████| 11.0/11.0 [00:00<00:00, 874array/s]\n"
     ]
    },
    {
     "name": "stdout",
     "output_type": "stream",
     "text": [
      "[OK] bio2zarr finished for Ne2e+04_r1e-08_100_1e+06_68\n",
      "tsinfer done\n",
      "Running tsdate\n"
     ]
    },
    {
     "name": "stderr",
     "output_type": "stream",
     "text": [
      "    Scan: 100%|██████████| 1.00/1.00 [00:00<00:00, 78.9files/s]\n",
      " Explode: 100%|██████████| 4.24k/4.24k [00:00<00:00, 22.8kvars/s]\n",
      "  Encode: 100%|██████████| 1.25M/1.25M [00:00<00:00, 11.4MB/s]\n",
      "Finalise: 100%|██████████| 11.0/11.0 [00:00<00:00, 873array/s]\n"
     ]
    },
    {
     "name": "stdout",
     "output_type": "stream",
     "text": [
      "[OK] bio2zarr finished for Ne2e+04_r1e-08_100_1e+06_69\n",
      "tsinfer done\n",
      "Running tsdate\n"
     ]
    },
    {
     "name": "stderr",
     "output_type": "stream",
     "text": [
      "    Scan: 100%|██████████| 1.00/1.00 [00:00<00:00, 78.9files/s]\n",
      " Explode: 100%|██████████| 3.87k/3.87k [00:00<00:00, 18.6kvars/s]\n",
      "  Encode: 100%|██████████| 1.14M/1.14M [00:00<00:00, 11.4MB/s]\n",
      "Finalise: 100%|██████████| 11.0/11.0 [00:00<00:00, 1.05karray/s]\n"
     ]
    },
    {
     "name": "stdout",
     "output_type": "stream",
     "text": [
      "[OK] bio2zarr finished for Ne2e+04_r1e-08_100_1e+06_70\n",
      "tsinfer done\n",
      "Running tsdate\n"
     ]
    },
    {
     "name": "stderr",
     "output_type": "stream",
     "text": [
      "    Scan: 100%|██████████| 1.00/1.00 [00:00<00:00, 79.1files/s]\n",
      " Explode: 100%|██████████| 4.16k/4.16k [00:00<00:00, 19.8kvars/s]\n",
      "  Encode: 100%|██████████| 1.22M/1.22M [00:00<00:00, 11.7MB/s]\n",
      "Finalise: 100%|██████████| 11.0/11.0 [00:00<00:00, 874array/s]\n"
     ]
    },
    {
     "name": "stdout",
     "output_type": "stream",
     "text": [
      "[OK] bio2zarr finished for Ne2e+04_r1e-08_100_1e+06_71\n",
      "tsinfer done\n",
      "Running tsdate\n"
     ]
    },
    {
     "name": "stderr",
     "output_type": "stream",
     "text": [
      "    Scan: 100%|██████████| 1.00/1.00 [00:00<00:00, 79.0files/s]\n",
      " Explode: 100%|██████████| 4.11k/4.11k [00:00<00:00, 20.0kvars/s]\n",
      "  Encode: 100%|██████████| 1.21M/1.21M [00:00<00:00, 11.5MB/s]\n",
      "Finalise: 100%|██████████| 11.0/11.0 [00:00<00:00, 867array/s]\n"
     ]
    },
    {
     "name": "stdout",
     "output_type": "stream",
     "text": [
      "[OK] bio2zarr finished for Ne2e+04_r1e-08_100_1e+06_72\n",
      "tsinfer done\n",
      "Running tsdate\n"
     ]
    },
    {
     "name": "stderr",
     "output_type": "stream",
     "text": [
      "    Scan: 100%|██████████| 1.00/1.00 [00:00<00:00, 78.9files/s]\n",
      " Explode: 100%|██████████| 4.07k/4.07k [00:00<00:00, 19.9kvars/s]\n",
      "  Encode: 100%|██████████| 1.20M/1.20M [00:00<00:00, 11.5MB/s]\n",
      "Finalise: 100%|██████████| 11.0/11.0 [00:00<00:00, 975array/s]\n"
     ]
    },
    {
     "name": "stdout",
     "output_type": "stream",
     "text": [
      "[OK] bio2zarr finished for Ne2e+04_r1e-08_100_1e+06_73\n",
      "tsinfer done\n",
      "Running tsdate\n"
     ]
    },
    {
     "name": "stderr",
     "output_type": "stream",
     "text": [
      "    Scan: 100%|██████████| 1.00/1.00 [00:00<00:00, 93.1files/s]\n",
      " Explode: 100%|██████████| 3.94k/3.94k [00:00<00:00, 19.8kvars/s]\n",
      "  Encode: 100%|██████████| 1.16M/1.16M [00:00<00:00, 11.4MB/s]\n",
      "Finalise: 100%|██████████| 11.0/11.0 [00:00<00:00, 1.07karray/s]\n"
     ]
    },
    {
     "name": "stdout",
     "output_type": "stream",
     "text": [
      "[OK] bio2zarr finished for Ne2e+04_r1e-08_100_1e+06_74\n",
      "tsinfer done\n",
      "Running tsdate\n"
     ]
    },
    {
     "name": "stderr",
     "output_type": "stream",
     "text": [
      "    Scan: 100%|██████████| 1.00/1.00 [00:00<00:00, 79.0files/s]\n",
      " Explode: 100%|██████████| 4.05k/4.05k [00:00<00:00, 19.5kvars/s]\n",
      "  Encode: 100%|██████████| 1.19M/1.19M [00:00<00:00, 11.7MB/s]\n",
      "Finalise: 100%|██████████| 11.0/11.0 [00:00<00:00, 874array/s]\n"
     ]
    },
    {
     "name": "stdout",
     "output_type": "stream",
     "text": [
      "[OK] bio2zarr finished for Ne2e+04_r1e-08_100_1e+06_75\n",
      "tsinfer done\n",
      "Running tsdate\n"
     ]
    },
    {
     "name": "stderr",
     "output_type": "stream",
     "text": [
      "    Scan: 100%|██████████| 1.00/1.00 [00:00<00:00, 78.8files/s]\n",
      " Explode: 100%|██████████| 4.27k/4.27k [00:00<00:00, 22.1kvars/s]\n",
      "  Encode: 100%|██████████| 1.25M/1.25M [00:00<00:00, 9.48MB/s]\n",
      "Finalise: 100%|██████████| 11.0/11.0 [00:00<00:00, 872array/s]\n"
     ]
    },
    {
     "name": "stdout",
     "output_type": "stream",
     "text": [
      "[OK] bio2zarr finished for Ne2e+04_r1e-08_100_1e+06_76\n",
      "tsinfer done\n",
      "Running tsdate\n"
     ]
    },
    {
     "name": "stderr",
     "output_type": "stream",
     "text": [
      "    Scan: 100%|██████████| 1.00/1.00 [00:00<00:00, 78.0files/s]\n",
      " Explode: 100%|██████████| 4.05k/4.05k [00:00<00:00, 18.5kvars/s]\n",
      "  Encode: 100%|██████████| 1.19M/1.19M [00:00<00:00, 11.9MB/s]\n",
      "Finalise: 100%|██████████| 11.0/11.0 [00:00<00:00, 874array/s]\n"
     ]
    },
    {
     "name": "stdout",
     "output_type": "stream",
     "text": [
      "[OK] bio2zarr finished for Ne2e+04_r1e-08_100_1e+06_77\n",
      "tsinfer done\n",
      "Running tsdate\n"
     ]
    },
    {
     "name": "stderr",
     "output_type": "stream",
     "text": [
      "    Scan: 100%|██████████| 1.00/1.00 [00:00<00:00, 78.8files/s]\n",
      " Explode: 100%|██████████| 4.23k/4.23k [00:00<00:00, 23.1kvars/s]\n",
      "  Encode: 100%|██████████| 1.24M/1.24M [00:00<00:00, 10.1MB/s]\n",
      "Finalise: 100%|██████████| 11.0/11.0 [00:00<00:00, 869array/s]\n"
     ]
    },
    {
     "name": "stdout",
     "output_type": "stream",
     "text": [
      "[OK] bio2zarr finished for Ne2e+04_r1e-08_100_1e+06_78\n",
      "tsinfer done\n",
      "Running tsdate\n"
     ]
    },
    {
     "name": "stderr",
     "output_type": "stream",
     "text": [
      "    Scan: 100%|██████████| 1.00/1.00 [00:00<00:00, 78.9files/s]\n",
      " Explode: 100%|██████████| 4.02k/4.02k [00:00<00:00, 18.5kvars/s]\n",
      "  Encode: 100%|██████████| 1.18M/1.18M [00:00<00:00, 11.6MB/s]\n",
      "Finalise: 100%|██████████| 11.0/11.0 [00:00<00:00, 1.08karray/s]\n"
     ]
    },
    {
     "name": "stdout",
     "output_type": "stream",
     "text": [
      "[OK] bio2zarr finished for Ne2e+04_r1e-08_100_1e+06_79\n",
      "tsinfer done\n",
      "Running tsdate\n"
     ]
    },
    {
     "name": "stderr",
     "output_type": "stream",
     "text": [
      "    Scan: 100%|██████████| 1.00/1.00 [00:00<00:00, 78.8files/s]\n",
      " Explode: 100%|██████████| 3.94k/3.94k [00:00<00:00, 20.0kvars/s]\n",
      "  Encode: 100%|██████████| 1.16M/1.16M [00:00<00:00, 11.2MB/s]\n",
      "Finalise: 100%|██████████| 11.0/11.0 [00:00<00:00, 869array/s]\n"
     ]
    },
    {
     "name": "stdout",
     "output_type": "stream",
     "text": [
      "[OK] bio2zarr finished for Ne2e+04_r1e-08_100_1e+06_80\n",
      "tsinfer done\n",
      "Running tsdate\n"
     ]
    },
    {
     "name": "stderr",
     "output_type": "stream",
     "text": [
      "    Scan: 100%|██████████| 1.00/1.00 [00:00<00:00, 81.3files/s]\n",
      " Explode: 100%|██████████| 4.28k/4.28k [00:00<00:00, 23.0kvars/s]\n",
      "  Encode: 100%|██████████| 1.26M/1.26M [00:00<00:00, 9.63MB/s]\n",
      "Finalise: 100%|██████████| 11.0/11.0 [00:00<00:00, 869array/s]\n"
     ]
    },
    {
     "name": "stdout",
     "output_type": "stream",
     "text": [
      "[OK] bio2zarr finished for Ne2e+04_r1e-08_100_1e+06_81\n",
      "tsinfer done\n",
      "Running tsdate\n"
     ]
    },
    {
     "name": "stderr",
     "output_type": "stream",
     "text": [
      "    Scan: 100%|██████████| 1.00/1.00 [00:00<00:00, 78.7files/s]\n",
      " Explode: 100%|██████████| 3.80k/3.80k [00:00<00:00, 18.5kvars/s]\n",
      "  Encode: 100%|██████████| 1.12M/1.12M [00:00<00:00, 11.3MB/s]\n",
      "Finalise: 100%|██████████| 11.0/11.0 [00:00<00:00, 893array/s]\n"
     ]
    },
    {
     "name": "stdout",
     "output_type": "stream",
     "text": [
      "[OK] bio2zarr finished for Ne2e+04_r1e-08_100_1e+06_82\n",
      "tsinfer done\n",
      "Running tsdate\n"
     ]
    },
    {
     "name": "stderr",
     "output_type": "stream",
     "text": [
      "    Scan: 100%|██████████| 1.00/1.00 [00:00<00:00, 89.4files/s]\n",
      " Explode: 100%|██████████| 4.34k/4.34k [00:00<00:00, 22.9kvars/s]\n",
      "  Encode: 100%|██████████| 1.28M/1.28M [00:00<00:00, 10.9MB/s]\n",
      "Finalise: 100%|██████████| 11.0/11.0 [00:00<00:00, 868array/s]\n"
     ]
    },
    {
     "name": "stdout",
     "output_type": "stream",
     "text": [
      "[OK] bio2zarr finished for Ne2e+04_r1e-08_100_1e+06_83\n",
      "tsinfer done\n",
      "Running tsdate\n"
     ]
    },
    {
     "name": "stderr",
     "output_type": "stream",
     "text": [
      "    Scan: 100%|██████████| 1.00/1.00 [00:00<00:00, 91.8files/s]\n",
      " Explode: 100%|██████████| 3.95k/3.95k [00:00<00:00, 19.4kvars/s]\n",
      "  Encode: 100%|██████████| 1.16M/1.16M [00:00<00:00, 11.8MB/s]\n",
      "Finalise: 100%|██████████| 11.0/11.0 [00:00<00:00, 983array/s]\n"
     ]
    },
    {
     "name": "stdout",
     "output_type": "stream",
     "text": [
      "[OK] bio2zarr finished for Ne2e+04_r1e-08_100_1e+06_84\n",
      "tsinfer done\n",
      "Running tsdate\n"
     ]
    },
    {
     "name": "stderr",
     "output_type": "stream",
     "text": [
      "    Scan: 100%|██████████| 1.00/1.00 [00:00<00:00, 78.9files/s]\n",
      " Explode: 100%|██████████| 3.91k/3.91k [00:00<00:00, 18.7kvars/s]\n",
      "  Encode: 100%|██████████| 1.15M/1.15M [00:00<00:00, 11.7MB/s]\n",
      "Finalise: 100%|██████████| 11.0/11.0 [00:00<00:00, 869array/s]\n"
     ]
    },
    {
     "name": "stdout",
     "output_type": "stream",
     "text": [
      "[OK] bio2zarr finished for Ne2e+04_r1e-08_100_1e+06_85\n",
      "tsinfer done\n",
      "Running tsdate\n"
     ]
    },
    {
     "name": "stderr",
     "output_type": "stream",
     "text": [
      "    Scan: 100%|██████████| 1.00/1.00 [00:00<00:00, 78.6files/s]\n",
      " Explode: 100%|██████████| 3.98k/3.98k [00:00<00:00, 20.0kvars/s]\n",
      "  Encode: 100%|██████████| 1.17M/1.17M [00:00<00:00, 11.7MB/s]\n",
      "Finalise: 100%|██████████| 11.0/11.0 [00:00<00:00, 1.05karray/s]\n"
     ]
    },
    {
     "name": "stdout",
     "output_type": "stream",
     "text": [
      "[OK] bio2zarr finished for Ne2e+04_r1e-08_100_1e+06_86\n",
      "tsinfer done\n",
      "Running tsdate\n"
     ]
    },
    {
     "name": "stderr",
     "output_type": "stream",
     "text": [
      "    Scan: 100%|██████████| 1.00/1.00 [00:00<00:00, 95.9files/s]\n",
      " Explode: 100%|██████████| 4.36k/4.36k [00:00<00:00, 23.1kvars/s]\n",
      "  Encode: 100%|██████████| 1.28M/1.28M [00:00<00:00, 11.7MB/s]\n",
      "Finalise: 100%|██████████| 11.0/11.0 [00:00<00:00, 872array/s]\n"
     ]
    },
    {
     "name": "stdout",
     "output_type": "stream",
     "text": [
      "[OK] bio2zarr finished for Ne2e+04_r1e-08_100_1e+06_87\n",
      "tsinfer done\n",
      "Running tsdate\n"
     ]
    },
    {
     "name": "stderr",
     "output_type": "stream",
     "text": [
      "    Scan: 100%|██████████| 1.00/1.00 [00:00<00:00, 79.0files/s]\n",
      " Explode: 100%|██████████| 4.15k/4.15k [00:00<00:00, 17.7kvars/s]\n",
      "  Encode: 100%|██████████| 1.22M/1.22M [00:00<00:00, 12.0MB/s]\n",
      "Finalise: 100%|██████████| 11.0/11.0 [00:00<00:00, 907array/s]\n"
     ]
    },
    {
     "name": "stdout",
     "output_type": "stream",
     "text": [
      "[OK] bio2zarr finished for Ne2e+04_r1e-08_100_1e+06_88\n",
      "tsinfer done\n",
      "Running tsdate\n"
     ]
    },
    {
     "name": "stderr",
     "output_type": "stream",
     "text": [
      "    Scan: 100%|██████████| 1.00/1.00 [00:00<00:00, 78.7files/s]\n",
      " Explode: 100%|██████████| 4.07k/4.07k [00:00<00:00, 18.8kvars/s]\n",
      "  Encode: 100%|██████████| 1.20M/1.20M [00:00<00:00, 11.7MB/s]\n",
      "Finalise: 100%|██████████| 11.0/11.0 [00:00<00:00, 873array/s]\n"
     ]
    },
    {
     "name": "stdout",
     "output_type": "stream",
     "text": [
      "[OK] bio2zarr finished for Ne2e+04_r1e-08_100_1e+06_89\n",
      "tsinfer done\n",
      "Running tsdate\n"
     ]
    },
    {
     "name": "stderr",
     "output_type": "stream",
     "text": [
      "    Scan: 100%|██████████| 1.00/1.00 [00:00<00:00, 97.6files/s]\n",
      " Explode: 100%|██████████| 4.05k/4.05k [00:00<00:00, 20.2kvars/s]\n",
      "  Encode: 100%|██████████| 1.19M/1.19M [00:00<00:00, 11.8MB/s]\n",
      "Finalise: 100%|██████████| 11.0/11.0 [00:00<00:00, 906array/s]\n"
     ]
    },
    {
     "name": "stdout",
     "output_type": "stream",
     "text": [
      "[OK] bio2zarr finished for Ne2e+04_r1e-08_100_1e+06_90\n",
      "tsinfer done\n",
      "Running tsdate\n"
     ]
    },
    {
     "name": "stderr",
     "output_type": "stream",
     "text": [
      "    Scan: 100%|██████████| 1.00/1.00 [00:00<00:00, 78.9files/s]\n",
      " Explode: 100%|██████████| 3.90k/3.90k [00:00<00:00, 18.7kvars/s]\n",
      "  Encode: 100%|██████████| 1.15M/1.15M [00:00<00:00, 11.5MB/s]\n",
      "Finalise: 100%|██████████| 11.0/11.0 [00:00<00:00, 868array/s]\n"
     ]
    },
    {
     "name": "stdout",
     "output_type": "stream",
     "text": [
      "[OK] bio2zarr finished for Ne2e+04_r1e-08_100_1e+06_91\n",
      "tsinfer done\n",
      "Running tsdate\n"
     ]
    },
    {
     "name": "stderr",
     "output_type": "stream",
     "text": [
      "    Scan: 100%|██████████| 1.00/1.00 [00:00<00:00, 78.9files/s]\n",
      " Explode: 100%|██████████| 4.33k/4.33k [00:00<00:00, 22.5kvars/s]\n",
      "  Encode: 100%|██████████| 1.27M/1.27M [00:00<00:00, 10.9MB/s]\n",
      "Finalise: 100%|██████████| 11.0/11.0 [00:00<00:00, 873array/s]\n"
     ]
    },
    {
     "name": "stdout",
     "output_type": "stream",
     "text": [
      "[OK] bio2zarr finished for Ne2e+04_r1e-08_100_1e+06_92\n",
      "tsinfer done\n",
      "Running tsdate\n"
     ]
    },
    {
     "name": "stderr",
     "output_type": "stream",
     "text": [
      "    Scan: 100%|██████████| 1.00/1.00 [00:00<00:00, 78.9files/s]\n",
      " Explode: 100%|██████████| 3.90k/3.90k [00:00<00:00, 18.6kvars/s]\n",
      "  Encode: 100%|██████████| 1.15M/1.15M [00:00<00:00, 11.6MB/s]\n",
      "Finalise: 100%|██████████| 11.0/11.0 [00:00<00:00, 948array/s]\n"
     ]
    },
    {
     "name": "stdout",
     "output_type": "stream",
     "text": [
      "[OK] bio2zarr finished for Ne2e+04_r1e-08_100_1e+06_93\n",
      "tsinfer done\n",
      "Running tsdate\n"
     ]
    },
    {
     "name": "stderr",
     "output_type": "stream",
     "text": [
      "    Scan: 100%|██████████| 1.00/1.00 [00:00<00:00, 89.6files/s]\n",
      " Explode: 100%|██████████| 4.17k/4.17k [00:00<00:00, 18.1kvars/s]\n",
      "  Encode: 100%|██████████| 1.23M/1.23M [00:00<00:00, 11.9MB/s]\n",
      "Finalise: 100%|██████████| 11.0/11.0 [00:00<00:00, 873array/s]\n"
     ]
    },
    {
     "name": "stdout",
     "output_type": "stream",
     "text": [
      "[OK] bio2zarr finished for Ne2e+04_r1e-08_100_1e+06_94\n",
      "tsinfer done\n",
      "Running tsdate\n"
     ]
    },
    {
     "name": "stderr",
     "output_type": "stream",
     "text": [
      "    Scan: 100%|██████████| 1.00/1.00 [00:00<00:00, 78.9files/s]\n",
      " Explode: 100%|██████████| 4.10k/4.10k [00:00<00:00, 19.7kvars/s]\n",
      "  Encode: 100%|██████████| 1.21M/1.21M [00:00<00:00, 11.9MB/s]\n",
      "Finalise: 100%|██████████| 11.0/11.0 [00:00<00:00, 874array/s]\n"
     ]
    },
    {
     "name": "stdout",
     "output_type": "stream",
     "text": [
      "[OK] bio2zarr finished for Ne2e+04_r1e-08_100_1e+06_95\n",
      "tsinfer done\n",
      "Running tsdate\n"
     ]
    },
    {
     "name": "stderr",
     "output_type": "stream",
     "text": [
      "    Scan: 100%|██████████| 1.00/1.00 [00:00<00:00, 82.6files/s]\n",
      " Explode: 100%|██████████| 4.09k/4.09k [00:00<00:00, 19.4kvars/s]\n",
      "  Encode: 100%|██████████| 1.20M/1.20M [00:00<00:00, 11.7MB/s]\n",
      "Finalise: 100%|██████████| 11.0/11.0 [00:00<00:00, 918array/s]\n"
     ]
    },
    {
     "name": "stdout",
     "output_type": "stream",
     "text": [
      "[OK] bio2zarr finished for Ne2e+04_r1e-08_100_1e+06_96\n",
      "tsinfer done\n",
      "Running tsdate\n"
     ]
    },
    {
     "name": "stderr",
     "output_type": "stream",
     "text": [
      "    Scan: 100%|██████████| 1.00/1.00 [00:00<00:00, 78.9files/s]\n",
      " Explode: 100%|██████████| 4.00k/4.00k [00:00<00:00, 20.0kvars/s]\n",
      "  Encode: 100%|██████████| 1.18M/1.18M [00:00<00:00, 12.0MB/s]\n",
      "Finalise: 100%|██████████| 11.0/11.0 [00:00<00:00, 1.05karray/s]\n"
     ]
    },
    {
     "name": "stdout",
     "output_type": "stream",
     "text": [
      "[OK] bio2zarr finished for Ne2e+04_r1e-08_100_1e+06_97\n",
      "tsinfer done\n",
      "Running tsdate\n"
     ]
    },
    {
     "name": "stderr",
     "output_type": "stream",
     "text": [
      "    Scan: 100%|██████████| 1.00/1.00 [00:00<00:00, 79.0files/s]\n",
      " Explode: 100%|██████████| 4.26k/4.26k [00:00<00:00, 22.5kvars/s]\n",
      "  Encode: 100%|██████████| 1.25M/1.25M [00:00<00:00, 12.1MB/s]\n",
      "Finalise: 100%|██████████| 11.0/11.0 [00:00<00:00, 872array/s]\n"
     ]
    },
    {
     "name": "stdout",
     "output_type": "stream",
     "text": [
      "[OK] bio2zarr finished for Ne2e+04_r1e-08_100_1e+06_98\n",
      "tsinfer done\n",
      "Running tsdate\n"
     ]
    },
    {
     "name": "stderr",
     "output_type": "stream",
     "text": [
      "    Scan: 100%|██████████| 1.00/1.00 [00:00<00:00, 79.0files/s]\n",
      " Explode: 100%|██████████| 4.45k/4.45k [00:00<00:00, 23.4kvars/s]\n",
      "  Encode: 100%|██████████| 1.31M/1.31M [00:00<00:00, 11.7MB/s]\n",
      "Finalise: 100%|██████████| 11.0/11.0 [00:00<00:00, 873array/s]\n"
     ]
    },
    {
     "name": "stdout",
     "output_type": "stream",
     "text": [
      "[OK] bio2zarr finished for Ne2e+04_r1e-08_100_1e+06_99\n",
      "tsinfer done\n",
      "Running tsdate\n"
     ]
    }
   ],
   "source": [
    "simulate_dump(2e4,50,100,tree_dir=\"/Users/jinminli/research/tree_distance/simulations/diff_rates/tree/\",vcz_dir=\"/Users/jinminli/research/tree_distance/simulations/diff_rates/vcf/\",mut_rate=1e-8)"
   ]
  },
  {
   "cell_type": "code",
   "execution_count": 13,
   "id": "6ec21404",
   "metadata": {},
   "outputs": [
    {
     "name": "stderr",
     "output_type": "stream",
     "text": [
      "    Scan: 100%|██████████| 1.00/1.00 [00:00<00:00, 84.6files/s]\n",
      " Explode: 100%|██████████| 20.3k/20.3k [00:00<00:00, 23.0kvars/s]\n",
      "  Encode: 100%|██████████| 5.96M/5.96M [00:00<00:00, 13.0MB/s]\n",
      "Finalise: 100%|██████████| 11.0/11.0 [00:00<00:00, 455array/s]\n"
     ]
    },
    {
     "name": "stdout",
     "output_type": "stream",
     "text": [
      "[OK] bio2zarr finished for Ne2e+04_r5e-08_100_1e+06_0\n",
      "tsinfer done\n",
      "Running tsdate\n"
     ]
    },
    {
     "name": "stderr",
     "output_type": "stream",
     "text": [
      "    Scan: 100%|██████████| 1.00/1.00 [00:00<00:00, 78.9files/s]\n",
      " Explode: 100%|██████████| 20.4k/20.4k [00:00<00:00, 22.9kvars/s]\n",
      "  Encode: 100%|██████████| 6.00M/6.00M [00:00<00:00, 12.7MB/s]\n",
      "Finalise: 100%|██████████| 11.0/11.0 [00:00<00:00, 437array/s]\n"
     ]
    },
    {
     "name": "stdout",
     "output_type": "stream",
     "text": [
      "[OK] bio2zarr finished for Ne2e+04_r5e-08_100_1e+06_1\n",
      "tsinfer done\n",
      "Running tsdate\n"
     ]
    },
    {
     "name": "stderr",
     "output_type": "stream",
     "text": [
      "    Scan: 100%|██████████| 1.00/1.00 [00:00<00:00, 78.9files/s]\n",
      " Explode: 100%|██████████| 21.2k/21.2k [00:00<00:00, 23.6kvars/s]\n",
      "  Encode: 100%|██████████| 6.23M/6.23M [00:00<00:00, 12.8MB/s]\n",
      "Finalise: 100%|██████████| 11.0/11.0 [00:00<00:00, 470array/s]\n"
     ]
    },
    {
     "name": "stdout",
     "output_type": "stream",
     "text": [
      "[OK] bio2zarr finished for Ne2e+04_r5e-08_100_1e+06_2\n",
      "tsinfer done\n",
      "Running tsdate\n"
     ]
    },
    {
     "name": "stderr",
     "output_type": "stream",
     "text": [
      "    Scan: 100%|██████████| 1.00/1.00 [00:00<00:00, 78.8files/s]\n",
      " Explode: 100%|██████████| 20.9k/20.9k [00:00<00:00, 22.5kvars/s]\n",
      "  Encode: 100%|██████████| 6.30M/6.30M [00:00<00:00, 13.0MB/s]\n",
      "Finalise: 100%|██████████| 11.0/11.0 [00:00<00:00, 475array/s]\n"
     ]
    },
    {
     "name": "stdout",
     "output_type": "stream",
     "text": [
      "[OK] bio2zarr finished for Ne2e+04_r5e-08_100_1e+06_3\n",
      "tsinfer done\n",
      "Running tsdate\n"
     ]
    },
    {
     "name": "stderr",
     "output_type": "stream",
     "text": [
      "    Scan: 100%|██████████| 1.00/1.00 [00:00<00:00, 79.0files/s]\n",
      " Explode: 100%|██████████| 20.5k/20.5k [00:00<00:00, 22.6kvars/s]\n",
      "  Encode: 100%|██████████| 6.02M/6.02M [00:00<00:00, 12.9MB/s]\n",
      "Finalise: 100%|██████████| 11.0/11.0 [00:00<00:00, 468array/s]\n"
     ]
    },
    {
     "name": "stdout",
     "output_type": "stream",
     "text": [
      "[OK] bio2zarr finished for Ne2e+04_r5e-08_100_1e+06_4\n",
      "tsinfer done\n",
      "Running tsdate\n"
     ]
    },
    {
     "name": "stderr",
     "output_type": "stream",
     "text": [
      "    Scan: 100%|██████████| 1.00/1.00 [00:00<00:00, 78.4files/s]\n",
      " Explode: 100%|██████████| 19.6k/19.6k [00:00<00:00, 22.1kvars/s]\n",
      "  Encode: 100%|██████████| 5.91M/5.91M [00:00<00:00, 12.0MB/s]\n",
      "Finalise: 100%|██████████| 11.0/11.0 [00:00<00:00, 451array/s]\n"
     ]
    },
    {
     "name": "stdout",
     "output_type": "stream",
     "text": [
      "[OK] bio2zarr finished for Ne2e+04_r5e-08_100_1e+06_5\n",
      "tsinfer done\n",
      "Running tsdate\n"
     ]
    },
    {
     "name": "stderr",
     "output_type": "stream",
     "text": [
      "    Scan: 100%|██████████| 1.00/1.00 [00:00<00:00, 79.0files/s]\n",
      " Explode: 100%|██████████| 20.6k/20.6k [00:00<00:00, 21.3kvars/s]\n",
      "  Encode: 100%|██████████| 6.22M/6.22M [00:00<00:00, 13.0MB/s]\n",
      "Finalise: 100%|██████████| 11.0/11.0 [00:00<00:00, 478array/s]\n"
     ]
    },
    {
     "name": "stdout",
     "output_type": "stream",
     "text": [
      "[OK] bio2zarr finished for Ne2e+04_r5e-08_100_1e+06_6\n",
      "tsinfer done\n",
      "Running tsdate\n"
     ]
    },
    {
     "name": "stderr",
     "output_type": "stream",
     "text": [
      "    Scan: 100%|██████████| 1.00/1.00 [00:00<00:00, 78.8files/s]\n",
      " Explode: 100%|██████████| 20.4k/20.4k [00:00<00:00, 22.7kvars/s]\n",
      "  Encode: 100%|██████████| 5.99M/5.99M [00:00<00:00, 12.8MB/s]\n",
      "Finalise: 100%|██████████| 11.0/11.0 [00:00<00:00, 464array/s]\n"
     ]
    },
    {
     "name": "stdout",
     "output_type": "stream",
     "text": [
      "[OK] bio2zarr finished for Ne2e+04_r5e-08_100_1e+06_7\n",
      "tsinfer done\n",
      "Running tsdate\n"
     ]
    },
    {
     "name": "stderr",
     "output_type": "stream",
     "text": [
      "    Scan: 100%|██████████| 1.00/1.00 [00:00<00:00, 81.3files/s]\n",
      " Explode: 100%|██████████| 19.8k/19.8k [00:00<00:00, 21.6kvars/s]\n",
      "  Encode: 100%|██████████| 5.83M/5.83M [00:00<00:00, 13.1MB/s]\n",
      "Finalise: 100%|██████████| 11.0/11.0 [00:00<00:00, 467array/s]\n"
     ]
    },
    {
     "name": "stdout",
     "output_type": "stream",
     "text": [
      "[OK] bio2zarr finished for Ne2e+04_r5e-08_100_1e+06_8\n",
      "tsinfer done\n",
      "Running tsdate\n"
     ]
    },
    {
     "name": "stderr",
     "output_type": "stream",
     "text": [
      "    Scan: 100%|██████████| 1.00/1.00 [00:00<00:00, 79.1files/s]\n",
      " Explode: 100%|██████████| 20.4k/20.4k [00:00<00:00, 21.9kvars/s]\n",
      "  Encode: 100%|██████████| 6.01M/6.01M [00:00<00:00, 11.6MB/s]\n",
      "Finalise: 100%|██████████| 11.0/11.0 [00:00<00:00, 437array/s]\n"
     ]
    },
    {
     "name": "stdout",
     "output_type": "stream",
     "text": [
      "[OK] bio2zarr finished for Ne2e+04_r5e-08_100_1e+06_9\n",
      "tsinfer done\n",
      "Running tsdate\n"
     ]
    },
    {
     "name": "stderr",
     "output_type": "stream",
     "text": [
      "    Scan: 100%|██████████| 1.00/1.00 [00:00<00:00, 80.8files/s]\n",
      " Explode: 100%|██████████| 19.7k/19.7k [00:00<00:00, 21.5kvars/s]\n",
      "  Encode: 100%|██████████| 5.80M/5.80M [00:00<00:00, 11.8MB/s]\n",
      "Finalise: 100%|██████████| 11.0/11.0 [00:00<00:00, 528array/s]\n"
     ]
    },
    {
     "name": "stdout",
     "output_type": "stream",
     "text": [
      "[OK] bio2zarr finished for Ne2e+04_r5e-08_100_1e+06_10\n",
      "tsinfer done\n",
      "Running tsdate\n"
     ]
    },
    {
     "name": "stderr",
     "output_type": "stream",
     "text": [
      "    Scan: 100%|██████████| 1.00/1.00 [00:00<00:00, 78.8files/s]\n",
      " Explode: 100%|██████████| 21.2k/21.2k [00:00<00:00, 21.8kvars/s]\n",
      "  Encode: 100%|██████████| 6.40M/6.40M [00:00<00:00, 10.7MB/s]\n",
      "Finalise: 100%|██████████| 11.0/11.0 [00:00<00:00, 461array/s]\n"
     ]
    },
    {
     "name": "stdout",
     "output_type": "stream",
     "text": [
      "[OK] bio2zarr finished for Ne2e+04_r5e-08_100_1e+06_11\n",
      "tsinfer done\n",
      "Running tsdate\n"
     ]
    },
    {
     "name": "stderr",
     "output_type": "stream",
     "text": [
      "    Scan: 100%|██████████| 1.00/1.00 [00:00<00:00, 78.9files/s]\n",
      " Explode: 100%|██████████| 20.6k/20.6k [00:00<00:00, 22.5kvars/s]\n",
      "  Encode: 100%|██████████| 6.07M/6.07M [00:00<00:00, 12.8MB/s]\n",
      "Finalise: 100%|██████████| 11.0/11.0 [00:00<00:00, 437array/s]\n"
     ]
    },
    {
     "name": "stdout",
     "output_type": "stream",
     "text": [
      "[OK] bio2zarr finished for Ne2e+04_r5e-08_100_1e+06_12\n",
      "tsinfer done\n",
      "Running tsdate\n"
     ]
    },
    {
     "name": "stderr",
     "output_type": "stream",
     "text": [
      "    Scan: 100%|██████████| 1.00/1.00 [00:00<00:00, 98.1files/s]\n",
      " Explode: 100%|██████████| 20.3k/20.3k [00:00<00:00, 22.0kvars/s]\n",
      "  Encode: 100%|██████████| 5.96M/5.96M [00:00<00:00, 12.5MB/s]\n",
      "Finalise: 100%|██████████| 11.0/11.0 [00:00<00:00, 470array/s]\n"
     ]
    },
    {
     "name": "stdout",
     "output_type": "stream",
     "text": [
      "[OK] bio2zarr finished for Ne2e+04_r5e-08_100_1e+06_13\n",
      "tsinfer done\n",
      "Running tsdate\n"
     ]
    },
    {
     "name": "stderr",
     "output_type": "stream",
     "text": [
      "    Scan: 100%|██████████| 1.00/1.00 [00:00<00:00, 78.7files/s]\n",
      " Explode: 100%|██████████| 20.7k/20.7k [00:00<00:00, 22.0kvars/s]\n",
      "  Encode: 100%|██████████| 6.25M/6.25M [00:00<00:00, 12.7MB/s]\n",
      "Finalise: 100%|██████████| 11.0/11.0 [00:00<00:00, 473array/s]\n"
     ]
    },
    {
     "name": "stdout",
     "output_type": "stream",
     "text": [
      "[OK] bio2zarr finished for Ne2e+04_r5e-08_100_1e+06_14\n",
      "tsinfer done\n",
      "Running tsdate\n"
     ]
    },
    {
     "name": "stderr",
     "output_type": "stream",
     "text": [
      "    Scan: 100%|██████████| 1.00/1.00 [00:00<00:00, 98.0files/s]\n",
      " Explode: 100%|██████████| 21.5k/21.5k [00:00<00:00, 23.2kvars/s]\n",
      "  Encode: 100%|██████████| 6.51M/6.51M [00:00<00:00, 13.5MB/s]\n",
      "Finalise: 100%|██████████| 11.0/11.0 [00:00<00:00, 463array/s]\n"
     ]
    },
    {
     "name": "stdout",
     "output_type": "stream",
     "text": [
      "[OK] bio2zarr finished for Ne2e+04_r5e-08_100_1e+06_15\n",
      "tsinfer done\n",
      "Running tsdate\n"
     ]
    },
    {
     "name": "stderr",
     "output_type": "stream",
     "text": [
      "    Scan: 100%|██████████| 1.00/1.00 [00:00<00:00, 96.4files/s]\n",
      " Explode: 100%|██████████| 20.4k/20.4k [00:00<00:00, 22.3kvars/s]\n",
      "  Encode: 100%|██████████| 6.00M/6.00M [00:00<00:00, 12.7MB/s]\n",
      "Finalise: 100%|██████████| 11.0/11.0 [00:00<00:00, 488array/s]\n"
     ]
    },
    {
     "name": "stdout",
     "output_type": "stream",
     "text": [
      "[OK] bio2zarr finished for Ne2e+04_r5e-08_100_1e+06_16\n",
      "tsinfer done\n",
      "Running tsdate\n"
     ]
    },
    {
     "name": "stderr",
     "output_type": "stream",
     "text": [
      "    Scan: 100%|██████████| 1.00/1.00 [00:00<00:00, 85.8files/s]\n",
      " Explode: 100%|██████████| 20.2k/20.2k [00:00<00:00, 22.6kvars/s]\n",
      "  Encode: 100%|██████████| 6.11M/6.11M [00:00<00:00, 13.1MB/s]\n",
      "Finalise: 100%|██████████| 11.0/11.0 [00:00<00:00, 482array/s]\n"
     ]
    },
    {
     "name": "stdout",
     "output_type": "stream",
     "text": [
      "[OK] bio2zarr finished for Ne2e+04_r5e-08_100_1e+06_17\n",
      "tsinfer done\n",
      "Running tsdate\n"
     ]
    },
    {
     "name": "stderr",
     "output_type": "stream",
     "text": [
      "    Scan: 100%|██████████| 1.00/1.00 [00:00<00:00, 78.9files/s]\n",
      " Explode: 100%|██████████| 20.2k/20.2k [00:00<00:00, 22.4kvars/s]\n",
      "  Encode: 100%|██████████| 5.94M/5.94M [00:00<00:00, 12.6MB/s]\n",
      "Finalise: 100%|██████████| 11.0/11.0 [00:00<00:00, 443array/s]\n"
     ]
    },
    {
     "name": "stdout",
     "output_type": "stream",
     "text": [
      "[OK] bio2zarr finished for Ne2e+04_r5e-08_100_1e+06_18\n",
      "tsinfer done\n",
      "Running tsdate\n"
     ]
    },
    {
     "name": "stderr",
     "output_type": "stream",
     "text": [
      "    Scan: 100%|██████████| 1.00/1.00 [00:00<00:00, 78.9files/s]\n",
      " Explode: 100%|██████████| 20.0k/20.0k [00:00<00:00, 22.3kvars/s]\n",
      "  Encode: 100%|██████████| 6.03M/6.03M [00:00<00:00, 13.3MB/s]\n",
      "Finalise: 100%|██████████| 11.0/11.0 [00:00<00:00, 523array/s]\n"
     ]
    },
    {
     "name": "stdout",
     "output_type": "stream",
     "text": [
      "[OK] bio2zarr finished for Ne2e+04_r5e-08_100_1e+06_19\n",
      "tsinfer done\n",
      "Running tsdate\n"
     ]
    },
    {
     "name": "stderr",
     "output_type": "stream",
     "text": [
      "    Scan: 100%|██████████| 1.00/1.00 [00:00<00:00, 78.6files/s]\n",
      " Explode: 100%|██████████| 19.9k/19.9k [00:00<00:00, 22.2kvars/s]\n",
      "  Encode: 100%|██████████| 5.85M/5.85M [00:00<00:00, 12.9MB/s]\n",
      "Finalise: 100%|██████████| 11.0/11.0 [00:00<00:00, 453array/s]\n"
     ]
    },
    {
     "name": "stdout",
     "output_type": "stream",
     "text": [
      "[OK] bio2zarr finished for Ne2e+04_r5e-08_100_1e+06_20\n",
      "tsinfer done\n",
      "Running tsdate\n"
     ]
    },
    {
     "name": "stderr",
     "output_type": "stream",
     "text": [
      "    Scan: 100%|██████████| 1.00/1.00 [00:00<00:00, 79.0files/s]\n",
      " Explode: 100%|██████████| 20.3k/20.3k [00:00<00:00, 22.9kvars/s]\n",
      "  Encode: 100%|██████████| 5.97M/5.97M [00:00<00:00, 12.7MB/s]\n",
      "Finalise: 100%|██████████| 11.0/11.0 [00:00<00:00, 488array/s]\n"
     ]
    },
    {
     "name": "stdout",
     "output_type": "stream",
     "text": [
      "[OK] bio2zarr finished for Ne2e+04_r5e-08_100_1e+06_21\n",
      "tsinfer done\n",
      "Running tsdate\n"
     ]
    },
    {
     "name": "stderr",
     "output_type": "stream",
     "text": [
      "    Scan: 100%|██████████| 1.00/1.00 [00:00<00:00, 78.7files/s]\n",
      " Explode: 100%|██████████| 21.7k/21.7k [00:00<00:00, 23.4kvars/s]\n",
      "  Encode: 100%|██████████| 6.39M/6.39M [00:00<00:00, 12.7MB/s]\n",
      "Finalise: 100%|██████████| 11.0/11.0 [00:00<00:00, 479array/s]\n"
     ]
    },
    {
     "name": "stdout",
     "output_type": "stream",
     "text": [
      "[OK] bio2zarr finished for Ne2e+04_r5e-08_100_1e+06_22\n",
      "tsinfer done\n",
      "Running tsdate\n"
     ]
    },
    {
     "name": "stderr",
     "output_type": "stream",
     "text": [
      "    Scan: 100%|██████████| 1.00/1.00 [00:00<00:00, 79.0files/s]\n",
      " Explode: 100%|██████████| 20.5k/20.5k [00:00<00:00, 23.0kvars/s]\n",
      "  Encode: 100%|██████████| 6.03M/6.03M [00:00<00:00, 13.0MB/s]\n",
      "Finalise: 100%|██████████| 11.0/11.0 [00:00<00:00, 438array/s]\n"
     ]
    },
    {
     "name": "stdout",
     "output_type": "stream",
     "text": [
      "[OK] bio2zarr finished for Ne2e+04_r5e-08_100_1e+06_23\n",
      "tsinfer done\n",
      "Running tsdate\n"
     ]
    },
    {
     "name": "stderr",
     "output_type": "stream",
     "text": [
      "    Scan: 100%|██████████| 1.00/1.00 [00:00<00:00, 92.4files/s]\n",
      " Explode: 100%|██████████| 20.3k/20.3k [00:00<00:00, 22.5kvars/s]\n",
      "  Encode: 100%|██████████| 5.97M/5.97M [00:00<00:00, 13.2MB/s]\n",
      "Finalise: 100%|██████████| 11.0/11.0 [00:00<00:00, 465array/s]\n"
     ]
    },
    {
     "name": "stdout",
     "output_type": "stream",
     "text": [
      "[OK] bio2zarr finished for Ne2e+04_r5e-08_100_1e+06_24\n",
      "tsinfer done\n",
      "Running tsdate\n"
     ]
    },
    {
     "name": "stderr",
     "output_type": "stream",
     "text": [
      "    Scan: 100%|██████████| 1.00/1.00 [00:00<00:00, 79.0files/s]\n",
      " Explode: 100%|██████████| 19.6k/19.6k [00:00<00:00, 22.0kvars/s]\n",
      "  Encode: 100%|██████████| 5.90M/5.90M [00:00<00:00, 13.1MB/s]\n",
      "Finalise: 100%|██████████| 11.0/11.0 [00:00<00:00, 458array/s]\n"
     ]
    },
    {
     "name": "stdout",
     "output_type": "stream",
     "text": [
      "[OK] bio2zarr finished for Ne2e+04_r5e-08_100_1e+06_25\n",
      "tsinfer done\n",
      "Running tsdate\n"
     ]
    },
    {
     "name": "stderr",
     "output_type": "stream",
     "text": [
      "    Scan: 100%|██████████| 1.00/1.00 [00:00<00:00, 79.1files/s]\n",
      " Explode: 100%|██████████| 20.3k/20.3k [00:00<00:00, 22.3kvars/s]\n",
      "  Encode: 100%|██████████| 6.12M/6.12M [00:00<00:00, 13.5MB/s]\n",
      "Finalise: 100%|██████████| 11.0/11.0 [00:00<00:00, 438array/s]\n"
     ]
    },
    {
     "name": "stdout",
     "output_type": "stream",
     "text": [
      "[OK] bio2zarr finished for Ne2e+04_r5e-08_100_1e+06_26\n",
      "tsinfer done\n",
      "Running tsdate\n"
     ]
    },
    {
     "name": "stderr",
     "output_type": "stream",
     "text": [
      "    Scan: 100%|██████████| 1.00/1.00 [00:00<00:00, 87.1files/s]\n",
      " Explode: 100%|██████████| 20.5k/20.5k [00:00<00:00, 22.9kvars/s]\n",
      "  Encode: 100%|██████████| 6.19M/6.19M [00:00<00:00, 13.4MB/s]\n",
      "Finalise: 100%|██████████| 11.0/11.0 [00:00<00:00, 497array/s]\n"
     ]
    },
    {
     "name": "stdout",
     "output_type": "stream",
     "text": [
      "[OK] bio2zarr finished for Ne2e+04_r5e-08_100_1e+06_27\n",
      "tsinfer done\n",
      "Running tsdate\n"
     ]
    },
    {
     "name": "stderr",
     "output_type": "stream",
     "text": [
      "    Scan: 100%|██████████| 1.00/1.00 [00:00<00:00, 78.8files/s]\n",
      " Explode: 100%|██████████| 20.1k/20.1k [00:00<00:00, 21.0kvars/s]\n",
      "  Encode: 100%|██████████| 5.92M/5.92M [00:00<00:00, 10.4MB/s]\n",
      "Finalise: 100%|██████████| 11.0/11.0 [00:00<00:00, 460array/s]\n"
     ]
    },
    {
     "name": "stdout",
     "output_type": "stream",
     "text": [
      "[OK] bio2zarr finished for Ne2e+04_r5e-08_100_1e+06_28\n",
      "tsinfer done\n",
      "Running tsdate\n"
     ]
    },
    {
     "name": "stderr",
     "output_type": "stream",
     "text": [
      "    Scan: 100%|██████████| 1.00/1.00 [00:00<00:00, 78.9files/s]\n",
      " Explode: 100%|██████████| 19.8k/19.8k [00:00<00:00, 22.8kvars/s]\n",
      "  Encode: 100%|██████████| 5.99M/5.99M [00:00<00:00, 12.9MB/s]\n",
      "Finalise: 100%|██████████| 11.0/11.0 [00:00<00:00, 494array/s]\n"
     ]
    },
    {
     "name": "stdout",
     "output_type": "stream",
     "text": [
      "[OK] bio2zarr finished for Ne2e+04_r5e-08_100_1e+06_29\n",
      "tsinfer done\n",
      "Running tsdate\n"
     ]
    },
    {
     "name": "stderr",
     "output_type": "stream",
     "text": [
      "    Scan: 100%|██████████| 1.00/1.00 [00:00<00:00, 78.9files/s]\n",
      " Explode: 100%|██████████| 20.1k/20.1k [00:00<00:00, 22.1kvars/s]\n",
      "  Encode: 100%|██████████| 6.08M/6.08M [00:00<00:00, 12.9MB/s]\n",
      "Finalise: 100%|██████████| 11.0/11.0 [00:00<00:00, 462array/s]\n"
     ]
    },
    {
     "name": "stdout",
     "output_type": "stream",
     "text": [
      "[OK] bio2zarr finished for Ne2e+04_r5e-08_100_1e+06_30\n",
      "tsinfer done\n",
      "Running tsdate\n"
     ]
    },
    {
     "name": "stderr",
     "output_type": "stream",
     "text": [
      "    Scan: 100%|██████████| 1.00/1.00 [00:00<00:00, 78.7files/s]\n",
      " Explode: 100%|██████████| 21.5k/21.5k [00:00<00:00, 23.8kvars/s]\n",
      "  Encode: 100%|██████████| 6.33M/6.33M [00:00<00:00, 12.8MB/s]\n",
      "Finalise: 100%|██████████| 11.0/11.0 [00:00<00:00, 452array/s]\n"
     ]
    },
    {
     "name": "stdout",
     "output_type": "stream",
     "text": [
      "[OK] bio2zarr finished for Ne2e+04_r5e-08_100_1e+06_31\n",
      "tsinfer done\n",
      "Running tsdate\n"
     ]
    },
    {
     "name": "stderr",
     "output_type": "stream",
     "text": [
      "    Scan: 100%|██████████| 1.00/1.00 [00:00<00:00, 79.0files/s]\n",
      " Explode: 100%|██████████| 21.2k/21.2k [00:00<00:00, 23.5kvars/s]\n",
      "  Encode: 100%|██████████| 6.39M/6.39M [00:00<00:00, 13.3MB/s]\n",
      "Finalise: 100%|██████████| 11.0/11.0 [00:00<00:00, 438array/s]\n"
     ]
    },
    {
     "name": "stdout",
     "output_type": "stream",
     "text": [
      "[OK] bio2zarr finished for Ne2e+04_r5e-08_100_1e+06_32\n",
      "tsinfer done\n",
      "Running tsdate\n"
     ]
    },
    {
     "name": "stderr",
     "output_type": "stream",
     "text": [
      "    Scan: 100%|██████████| 1.00/1.00 [00:00<00:00, 87.0files/s]\n",
      " Explode: 100%|██████████| 19.8k/19.8k [00:00<00:00, 23.0kvars/s]\n",
      "  Encode: 100%|██████████| 5.98M/5.98M [00:00<00:00, 13.5MB/s]\n",
      "Finalise: 100%|██████████| 11.0/11.0 [00:00<00:00, 450array/s]\n"
     ]
    },
    {
     "name": "stdout",
     "output_type": "stream",
     "text": [
      "[OK] bio2zarr finished for Ne2e+04_r5e-08_100_1e+06_33\n",
      "tsinfer done\n",
      "Running tsdate\n"
     ]
    },
    {
     "name": "stderr",
     "output_type": "stream",
     "text": [
      "    Scan: 100%|██████████| 1.00/1.00 [00:00<00:00, 84.5files/s]\n",
      " Explode: 100%|██████████| 20.1k/20.1k [00:00<00:00, 22.6kvars/s]\n",
      "  Encode: 100%|██████████| 5.90M/5.90M [00:00<00:00, 13.0MB/s]\n",
      "Finalise: 100%|██████████| 11.0/11.0 [00:00<00:00, 456array/s]\n"
     ]
    },
    {
     "name": "stdout",
     "output_type": "stream",
     "text": [
      "[OK] bio2zarr finished for Ne2e+04_r5e-08_100_1e+06_34\n",
      "tsinfer done\n",
      "Running tsdate\n"
     ]
    },
    {
     "name": "stderr",
     "output_type": "stream",
     "text": [
      "    Scan: 100%|██████████| 1.00/1.00 [00:00<00:00, 79.1files/s]\n",
      " Explode: 100%|██████████| 20.5k/20.5k [00:00<00:00, 22.5kvars/s]\n",
      "  Encode: 100%|██████████| 6.20M/6.20M [00:00<00:00, 13.5MB/s]\n",
      "Finalise: 100%|██████████| 11.0/11.0 [00:00<00:00, 441array/s]\n"
     ]
    },
    {
     "name": "stdout",
     "output_type": "stream",
     "text": [
      "[OK] bio2zarr finished for Ne2e+04_r5e-08_100_1e+06_35\n",
      "tsinfer done\n",
      "Running tsdate\n"
     ]
    },
    {
     "name": "stderr",
     "output_type": "stream",
     "text": [
      "    Scan: 100%|██████████| 1.00/1.00 [00:00<00:00, 78.9files/s]\n",
      " Explode: 100%|██████████| 20.5k/20.5k [00:00<00:00, 22.6kvars/s]\n",
      "  Encode: 100%|██████████| 6.02M/6.02M [00:00<00:00, 12.5MB/s]\n",
      "Finalise: 100%|██████████| 11.0/11.0 [00:00<00:00, 483array/s]\n"
     ]
    },
    {
     "name": "stdout",
     "output_type": "stream",
     "text": [
      "[OK] bio2zarr finished for Ne2e+04_r5e-08_100_1e+06_36\n",
      "tsinfer done\n",
      "Running tsdate\n"
     ]
    },
    {
     "name": "stderr",
     "output_type": "stream",
     "text": [
      "    Scan: 100%|██████████| 1.00/1.00 [00:00<00:00, 79.2files/s]\n",
      " Explode: 100%|██████████| 19.9k/19.9k [00:00<00:00, 22.3kvars/s]\n",
      "  Encode: 100%|██████████| 5.86M/5.86M [00:00<00:00, 12.8MB/s]\n",
      "Finalise: 100%|██████████| 11.0/11.0 [00:00<00:00, 457array/s]\n"
     ]
    },
    {
     "name": "stdout",
     "output_type": "stream",
     "text": [
      "[OK] bio2zarr finished for Ne2e+04_r5e-08_100_1e+06_37\n",
      "tsinfer done\n",
      "Running tsdate\n"
     ]
    },
    {
     "name": "stderr",
     "output_type": "stream",
     "text": [
      "    Scan: 100%|██████████| 1.00/1.00 [00:00<00:00, 78.9files/s]\n",
      " Explode: 100%|██████████| 21.1k/21.1k [00:00<00:00, 23.7kvars/s]\n",
      "  Encode: 100%|██████████| 6.38M/6.38M [00:00<00:00, 13.0MB/s]\n",
      "Finalise: 100%|██████████| 11.0/11.0 [00:00<00:00, 445array/s]\n"
     ]
    },
    {
     "name": "stdout",
     "output_type": "stream",
     "text": [
      "[OK] bio2zarr finished for Ne2e+04_r5e-08_100_1e+06_38\n",
      "tsinfer done\n",
      "Running tsdate\n"
     ]
    },
    {
     "name": "stderr",
     "output_type": "stream",
     "text": [
      "    Scan: 100%|██████████| 1.00/1.00 [00:00<00:00, 79.0files/s]\n",
      " Explode: 100%|██████████| 19.7k/19.7k [00:00<00:00, 22.8kvars/s]\n",
      "  Encode: 100%|██████████| 5.80M/5.80M [00:00<00:00, 13.0MB/s]\n",
      "Finalise: 100%|██████████| 11.0/11.0 [00:00<00:00, 540array/s]\n"
     ]
    },
    {
     "name": "stdout",
     "output_type": "stream",
     "text": [
      "[OK] bio2zarr finished for Ne2e+04_r5e-08_100_1e+06_39\n",
      "tsinfer done\n",
      "Running tsdate\n"
     ]
    },
    {
     "name": "stderr",
     "output_type": "stream",
     "text": [
      "    Scan: 100%|██████████| 1.00/1.00 [00:00<00:00, 90.2files/s]\n",
      " Explode: 100%|██████████| 20.4k/20.4k [00:00<00:00, 22.8kvars/s]\n",
      "  Encode: 100%|██████████| 5.99M/5.99M [00:00<00:00, 13.1MB/s]\n",
      "Finalise: 100%|██████████| 11.0/11.0 [00:00<00:00, 453array/s]\n"
     ]
    },
    {
     "name": "stdout",
     "output_type": "stream",
     "text": [
      "[OK] bio2zarr finished for Ne2e+04_r5e-08_100_1e+06_40\n",
      "tsinfer done\n",
      "Running tsdate\n"
     ]
    },
    {
     "name": "stderr",
     "output_type": "stream",
     "text": [
      "    Scan: 100%|██████████| 1.00/1.00 [00:00<00:00, 91.5files/s]\n",
      " Explode: 100%|██████████| 20.3k/20.3k [00:00<00:00, 22.8kvars/s]\n",
      "  Encode: 100%|██████████| 6.13M/6.13M [00:00<00:00, 13.0MB/s]\n",
      "Finalise: 100%|██████████| 11.0/11.0 [00:00<00:00, 295array/s]\n"
     ]
    },
    {
     "name": "stdout",
     "output_type": "stream",
     "text": [
      "[OK] bio2zarr finished for Ne2e+04_r5e-08_100_1e+06_41\n",
      "tsinfer done\n",
      "Running tsdate\n"
     ]
    },
    {
     "name": "stderr",
     "output_type": "stream",
     "text": [
      "    Scan: 100%|██████████| 1.00/1.00 [00:00<00:00, 82.8files/s]\n",
      " Explode: 100%|██████████| 19.6k/19.6k [00:00<00:00, 23.2kvars/s]\n",
      "  Encode: 100%|██████████| 5.76M/5.76M [00:00<00:00, 12.4MB/s]\n",
      "Finalise: 100%|██████████| 11.0/11.0 [00:00<00:00, 465array/s]\n"
     ]
    },
    {
     "name": "stdout",
     "output_type": "stream",
     "text": [
      "[OK] bio2zarr finished for Ne2e+04_r5e-08_100_1e+06_42\n",
      "tsinfer done\n",
      "Running tsdate\n"
     ]
    },
    {
     "name": "stderr",
     "output_type": "stream",
     "text": [
      "    Scan: 100%|██████████| 1.00/1.00 [00:00<00:00, 79.1files/s]\n",
      " Explode: 100%|██████████| 20.0k/20.0k [00:00<00:00, 22.6kvars/s]\n",
      "  Encode: 100%|██████████| 5.87M/5.87M [00:00<00:00, 12.7MB/s]\n",
      "Finalise: 100%|██████████| 11.0/11.0 [00:00<00:00, 462array/s]\n"
     ]
    },
    {
     "name": "stdout",
     "output_type": "stream",
     "text": [
      "[OK] bio2zarr finished for Ne2e+04_r5e-08_100_1e+06_43\n",
      "tsinfer done\n",
      "Running tsdate\n"
     ]
    },
    {
     "name": "stderr",
     "output_type": "stream",
     "text": [
      "    Scan: 100%|██████████| 1.00/1.00 [00:00<00:00, 98.4files/s]\n",
      " Explode: 100%|██████████| 19.6k/19.6k [00:00<00:00, 22.9kvars/s]\n",
      "  Encode: 100%|██████████| 5.75M/5.75M [00:00<00:00, 12.9MB/s]\n",
      "Finalise: 100%|██████████| 11.0/11.0 [00:00<00:00, 452array/s]\n"
     ]
    },
    {
     "name": "stdout",
     "output_type": "stream",
     "text": [
      "[OK] bio2zarr finished for Ne2e+04_r5e-08_100_1e+06_44\n",
      "tsinfer done\n",
      "Running tsdate\n"
     ]
    },
    {
     "name": "stderr",
     "output_type": "stream",
     "text": [
      "    Scan: 100%|██████████| 1.00/1.00 [00:00<00:00, 78.6files/s]\n",
      " Explode: 100%|██████████| 20.8k/20.8k [00:00<00:00, 22.9kvars/s]\n",
      "  Encode: 100%|██████████| 6.13M/6.13M [00:00<00:00, 13.1MB/s]\n",
      "Finalise: 100%|██████████| 11.0/11.0 [00:00<00:00, 479array/s]\n"
     ]
    },
    {
     "name": "stdout",
     "output_type": "stream",
     "text": [
      "[OK] bio2zarr finished for Ne2e+04_r5e-08_100_1e+06_45\n",
      "tsinfer done\n",
      "Running tsdate\n"
     ]
    },
    {
     "name": "stderr",
     "output_type": "stream",
     "text": [
      "    Scan: 100%|██████████| 1.00/1.00 [00:00<00:00, 79.1files/s]\n",
      " Explode: 100%|██████████| 20.9k/20.9k [00:00<00:00, 23.0kvars/s]\n",
      "  Encode: 100%|██████████| 6.30M/6.30M [00:00<00:00, 13.2MB/s]\n",
      "Finalise: 100%|██████████| 11.0/11.0 [00:00<00:00, 491array/s]\n"
     ]
    },
    {
     "name": "stdout",
     "output_type": "stream",
     "text": [
      "[OK] bio2zarr finished for Ne2e+04_r5e-08_100_1e+06_46\n",
      "tsinfer done\n",
      "Running tsdate\n"
     ]
    },
    {
     "name": "stderr",
     "output_type": "stream",
     "text": [
      "    Scan: 100%|██████████| 1.00/1.00 [00:00<00:00, 78.9files/s]\n",
      " Explode: 100%|██████████| 21.1k/21.1k [00:00<00:00, 22.7kvars/s]\n",
      "  Encode: 100%|██████████| 6.20M/6.20M [00:00<00:00, 12.9MB/s]\n",
      "Finalise: 100%|██████████| 11.0/11.0 [00:00<00:00, 451array/s]\n"
     ]
    },
    {
     "name": "stdout",
     "output_type": "stream",
     "text": [
      "[OK] bio2zarr finished for Ne2e+04_r5e-08_100_1e+06_47\n",
      "tsinfer done\n",
      "Running tsdate\n"
     ]
    },
    {
     "name": "stderr",
     "output_type": "stream",
     "text": [
      "    Scan: 100%|██████████| 1.00/1.00 [00:00<00:00, 96.9files/s]\n",
      " Explode: 100%|██████████| 20.4k/20.4k [00:00<00:00, 22.8kvars/s]\n",
      "  Encode: 100%|██████████| 5.98M/5.98M [00:00<00:00, 13.1MB/s]\n",
      "Finalise: 100%|██████████| 11.0/11.0 [00:00<00:00, 456array/s]\n"
     ]
    },
    {
     "name": "stdout",
     "output_type": "stream",
     "text": [
      "[OK] bio2zarr finished for Ne2e+04_r5e-08_100_1e+06_48\n",
      "tsinfer done\n",
      "Running tsdate\n"
     ]
    },
    {
     "name": "stderr",
     "output_type": "stream",
     "text": [
      "    Scan: 100%|██████████| 1.00/1.00 [00:00<00:00, 87.9files/s]\n",
      " Explode: 100%|██████████| 20.5k/20.5k [00:00<00:00, 22.9kvars/s]\n",
      "  Encode: 100%|██████████| 6.04M/6.04M [00:00<00:00, 13.0MB/s]\n",
      "Finalise: 100%|██████████| 11.0/11.0 [00:00<00:00, 438array/s]\n"
     ]
    },
    {
     "name": "stdout",
     "output_type": "stream",
     "text": [
      "[OK] bio2zarr finished for Ne2e+04_r5e-08_100_1e+06_49\n",
      "tsinfer done\n",
      "Running tsdate\n"
     ]
    },
    {
     "name": "stderr",
     "output_type": "stream",
     "text": [
      "    Scan: 100%|██████████| 1.00/1.00 [00:00<00:00, 78.9files/s]\n",
      " Explode: 100%|██████████| 20.0k/20.0k [00:00<00:00, 23.2kvars/s]\n",
      "  Encode: 100%|██████████| 5.88M/5.88M [00:00<00:00, 13.0MB/s]\n",
      "Finalise: 100%|██████████| 11.0/11.0 [00:00<00:00, 463array/s]\n"
     ]
    },
    {
     "name": "stdout",
     "output_type": "stream",
     "text": [
      "[OK] bio2zarr finished for Ne2e+04_r5e-08_100_1e+06_50\n",
      "tsinfer done\n",
      "Running tsdate\n"
     ]
    },
    {
     "name": "stderr",
     "output_type": "stream",
     "text": [
      "    Scan: 100%|██████████| 1.00/1.00 [00:00<00:00, 79.0files/s]\n",
      " Explode: 100%|██████████| 21.3k/21.3k [00:00<00:00, 23.6kvars/s]\n",
      "  Encode: 100%|██████████| 6.26M/6.26M [00:00<00:00, 13.2MB/s]\n",
      "Finalise: 100%|██████████| 11.0/11.0 [00:00<00:00, 465array/s]\n"
     ]
    },
    {
     "name": "stdout",
     "output_type": "stream",
     "text": [
      "[OK] bio2zarr finished for Ne2e+04_r5e-08_100_1e+06_51\n",
      "tsinfer done\n",
      "Running tsdate\n"
     ]
    },
    {
     "name": "stderr",
     "output_type": "stream",
     "text": [
      "    Scan: 100%|██████████| 1.00/1.00 [00:00<00:00, 79.0files/s]\n",
      " Explode: 100%|██████████| 21.0k/21.0k [00:00<00:00, 23.0kvars/s]\n",
      "  Encode: 100%|██████████| 6.19M/6.19M [00:00<00:00, 12.8MB/s]\n",
      "Finalise: 100%|██████████| 11.0/11.0 [00:00<00:00, 463array/s]\n"
     ]
    },
    {
     "name": "stdout",
     "output_type": "stream",
     "text": [
      "[OK] bio2zarr finished for Ne2e+04_r5e-08_100_1e+06_52\n",
      "tsinfer done\n",
      "Running tsdate\n"
     ]
    },
    {
     "name": "stderr",
     "output_type": "stream",
     "text": [
      "    Scan: 100%|██████████| 1.00/1.00 [00:00<00:00, 82.7files/s]\n",
      " Explode: 100%|██████████| 19.9k/19.9k [00:00<00:00, 23.1kvars/s]\n",
      "  Encode: 100%|██████████| 5.85M/5.85M [00:00<00:00, 13.0MB/s]\n",
      "Finalise: 100%|██████████| 11.0/11.0 [00:00<00:00, 470array/s]\n"
     ]
    },
    {
     "name": "stdout",
     "output_type": "stream",
     "text": [
      "[OK] bio2zarr finished for Ne2e+04_r5e-08_100_1e+06_53\n",
      "tsinfer done\n",
      "Running tsdate\n"
     ]
    },
    {
     "name": "stderr",
     "output_type": "stream",
     "text": [
      "    Scan: 100%|██████████| 1.00/1.00 [00:00<00:00, 79.0files/s]\n",
      " Explode: 100%|██████████| 20.2k/20.2k [00:00<00:00, 22.8kvars/s]\n",
      "  Encode: 100%|██████████| 5.94M/5.94M [00:00<00:00, 13.0MB/s]\n",
      "Finalise: 100%|██████████| 11.0/11.0 [00:00<00:00, 485array/s]\n"
     ]
    },
    {
     "name": "stdout",
     "output_type": "stream",
     "text": [
      "[OK] bio2zarr finished for Ne2e+04_r5e-08_100_1e+06_54\n",
      "tsinfer done\n",
      "Running tsdate\n"
     ]
    },
    {
     "name": "stderr",
     "output_type": "stream",
     "text": [
      "    Scan: 100%|██████████| 1.00/1.00 [00:00<00:00, 96.7files/s]\n",
      " Explode: 100%|██████████| 19.6k/19.6k [00:00<00:00, 23.1kvars/s]\n",
      "  Encode: 100%|██████████| 5.78M/5.78M [00:00<00:00, 12.8MB/s]\n",
      "Finalise: 100%|██████████| 11.0/11.0 [00:00<00:00, 450array/s]\n"
     ]
    },
    {
     "name": "stdout",
     "output_type": "stream",
     "text": [
      "[OK] bio2zarr finished for Ne2e+04_r5e-08_100_1e+06_55\n",
      "tsinfer done\n",
      "Running tsdate\n"
     ]
    },
    {
     "name": "stderr",
     "output_type": "stream",
     "text": [
      "    Scan: 100%|██████████| 1.00/1.00 [00:00<00:00, 79.0files/s]\n",
      " Explode: 100%|██████████| 20.5k/20.5k [00:00<00:00, 23.0kvars/s]\n",
      "  Encode: 100%|██████████| 6.20M/6.20M [00:00<00:00, 13.2MB/s]\n",
      "Finalise: 100%|██████████| 11.0/11.0 [00:00<00:00, 438array/s]\n"
     ]
    },
    {
     "name": "stdout",
     "output_type": "stream",
     "text": [
      "[OK] bio2zarr finished for Ne2e+04_r5e-08_100_1e+06_56\n",
      "tsinfer done\n",
      "Running tsdate\n"
     ]
    },
    {
     "name": "stderr",
     "output_type": "stream",
     "text": [
      "    Scan: 100%|██████████| 1.00/1.00 [00:00<00:00, 79.0files/s]\n",
      " Explode: 100%|██████████| 20.5k/20.5k [00:00<00:00, 23.2kvars/s]\n",
      "  Encode: 100%|██████████| 6.03M/6.03M [00:00<00:00, 12.8MB/s]\n",
      "Finalise: 100%|██████████| 11.0/11.0 [00:00<00:00, 443array/s]\n"
     ]
    },
    {
     "name": "stdout",
     "output_type": "stream",
     "text": [
      "[OK] bio2zarr finished for Ne2e+04_r5e-08_100_1e+06_57\n",
      "tsinfer done\n",
      "Running tsdate\n"
     ]
    },
    {
     "name": "stderr",
     "output_type": "stream",
     "text": [
      "    Scan: 100%|██████████| 1.00/1.00 [00:00<00:00, 81.1files/s]\n",
      " Explode: 100%|██████████| 22.1k/22.1k [00:00<00:00, 23.6kvars/s]\n",
      "  Encode: 100%|██████████| 6.68M/6.68M [00:00<00:00, 13.3MB/s]\n",
      "Finalise: 100%|██████████| 11.0/11.0 [00:00<00:00, 487array/s]\n"
     ]
    },
    {
     "name": "stdout",
     "output_type": "stream",
     "text": [
      "[OK] bio2zarr finished for Ne2e+04_r5e-08_100_1e+06_58\n",
      "tsinfer done\n",
      "Running tsdate\n"
     ]
    },
    {
     "name": "stderr",
     "output_type": "stream",
     "text": [
      "    Scan: 100%|██████████| 1.00/1.00 [00:00<00:00, 79.2files/s]\n",
      " Explode: 100%|██████████| 19.8k/19.8k [00:00<00:00, 23.0kvars/s]\n",
      "  Encode: 100%|██████████| 5.83M/5.83M [00:00<00:00, 13.0MB/s]\n",
      "Finalise: 100%|██████████| 11.0/11.0 [00:00<00:00, 446array/s]\n"
     ]
    },
    {
     "name": "stdout",
     "output_type": "stream",
     "text": [
      "[OK] bio2zarr finished for Ne2e+04_r5e-08_100_1e+06_59\n",
      "tsinfer done\n",
      "Running tsdate\n"
     ]
    },
    {
     "name": "stderr",
     "output_type": "stream",
     "text": [
      "    Scan: 100%|██████████| 1.00/1.00 [00:00<00:00, 79.1files/s]\n",
      " Explode: 100%|██████████| 20.0k/20.0k [00:00<00:00, 22.8kvars/s]\n",
      "  Encode: 100%|██████████| 5.87M/5.87M [00:00<00:00, 12.9MB/s]\n",
      "Finalise: 100%|██████████| 11.0/11.0 [00:00<00:00, 438array/s]\n"
     ]
    },
    {
     "name": "stdout",
     "output_type": "stream",
     "text": [
      "[OK] bio2zarr finished for Ne2e+04_r5e-08_100_1e+06_60\n",
      "tsinfer done\n",
      "Running tsdate\n"
     ]
    },
    {
     "name": "stderr",
     "output_type": "stream",
     "text": [
      "    Scan: 100%|██████████| 1.00/1.00 [00:00<00:00, 79.0files/s]\n",
      " Explode: 100%|██████████| 20.3k/20.3k [00:00<00:00, 22.7kvars/s]\n",
      "  Encode: 100%|██████████| 5.96M/5.96M [00:00<00:00, 12.6MB/s]\n",
      "Finalise: 100%|██████████| 11.0/11.0 [00:00<00:00, 451array/s]\n"
     ]
    },
    {
     "name": "stdout",
     "output_type": "stream",
     "text": [
      "[OK] bio2zarr finished for Ne2e+04_r5e-08_100_1e+06_61\n",
      "tsinfer done\n",
      "Running tsdate\n"
     ]
    },
    {
     "name": "stderr",
     "output_type": "stream",
     "text": [
      "    Scan: 100%|██████████| 1.00/1.00 [00:00<00:00, 78.8files/s]\n",
      " Explode: 100%|██████████| 21.4k/21.4k [00:00<00:00, 23.3kvars/s]\n",
      "  Encode: 100%|██████████| 6.30M/6.30M [00:00<00:00, 12.5MB/s]\n",
      "Finalise: 100%|██████████| 11.0/11.0 [00:00<00:00, 454array/s]\n"
     ]
    },
    {
     "name": "stdout",
     "output_type": "stream",
     "text": [
      "[OK] bio2zarr finished for Ne2e+04_r5e-08_100_1e+06_62\n",
      "tsinfer done\n",
      "Running tsdate\n"
     ]
    },
    {
     "name": "stderr",
     "output_type": "stream",
     "text": [
      "    Scan: 100%|██████████| 1.00/1.00 [00:00<00:00, 94.8files/s]\n",
      " Explode: 100%|██████████| 21.7k/21.7k [00:00<00:00, 24.0kvars/s]\n",
      "  Encode: 100%|██████████| 6.57M/6.57M [00:00<00:00, 13.0MB/s]\n",
      "Finalise: 100%|██████████| 11.0/11.0 [00:00<00:00, 447array/s]\n"
     ]
    },
    {
     "name": "stdout",
     "output_type": "stream",
     "text": [
      "[OK] bio2zarr finished for Ne2e+04_r5e-08_100_1e+06_63\n",
      "tsinfer done\n",
      "Running tsdate\n"
     ]
    },
    {
     "name": "stderr",
     "output_type": "stream",
     "text": [
      "    Scan: 100%|██████████| 1.00/1.00 [00:00<00:00, 66.0files/s]\n",
      " Explode: 100%|██████████| 21.3k/21.3k [00:00<00:00, 23.7kvars/s]\n",
      "  Encode: 100%|██████████| 6.42M/6.42M [00:00<00:00, 13.5MB/s]\n",
      "Finalise: 100%|██████████| 11.0/11.0 [00:00<00:00, 376array/s]\n"
     ]
    },
    {
     "name": "stdout",
     "output_type": "stream",
     "text": [
      "[OK] bio2zarr finished for Ne2e+04_r5e-08_100_1e+06_64\n",
      "tsinfer done\n",
      "Running tsdate\n"
     ]
    },
    {
     "name": "stderr",
     "output_type": "stream",
     "text": [
      "    Scan: 100%|██████████| 1.00/1.00 [00:00<00:00, 81.7files/s]\n",
      " Explode: 100%|██████████| 21.4k/21.4k [00:00<00:00, 23.8kvars/s]\n",
      "  Encode: 100%|██████████| 6.46M/6.46M [00:00<00:00, 13.5MB/s]\n",
      "Finalise: 100%|██████████| 11.0/11.0 [00:00<00:00, 417array/s]\n"
     ]
    },
    {
     "name": "stdout",
     "output_type": "stream",
     "text": [
      "[OK] bio2zarr finished for Ne2e+04_r5e-08_100_1e+06_65\n",
      "tsinfer done\n",
      "Running tsdate\n"
     ]
    },
    {
     "name": "stderr",
     "output_type": "stream",
     "text": [
      "    Scan: 100%|██████████| 1.00/1.00 [00:00<00:00, 79.9files/s]\n",
      " Explode: 100%|██████████| 21.1k/21.1k [00:00<00:00, 22.5kvars/s]\n",
      "  Encode: 100%|██████████| 6.19M/6.19M [00:00<00:00, 12.7MB/s]\n",
      "Finalise: 100%|██████████| 11.0/11.0 [00:00<00:00, 480array/s]\n"
     ]
    },
    {
     "name": "stdout",
     "output_type": "stream",
     "text": [
      "[OK] bio2zarr finished for Ne2e+04_r5e-08_100_1e+06_66\n",
      "tsinfer done\n",
      "Running tsdate\n"
     ]
    },
    {
     "name": "stderr",
     "output_type": "stream",
     "text": [
      "    Scan: 100%|██████████| 1.00/1.00 [00:00<00:00, 84.8files/s]\n",
      " Explode: 100%|██████████| 20.1k/20.1k [00:00<00:00, 22.9kvars/s]\n",
      "  Encode: 100%|██████████| 5.90M/5.90M [00:00<00:00, 12.9MB/s]\n",
      "Finalise: 100%|██████████| 11.0/11.0 [00:00<00:00, 496array/s]\n"
     ]
    },
    {
     "name": "stdout",
     "output_type": "stream",
     "text": [
      "[OK] bio2zarr finished for Ne2e+04_r5e-08_100_1e+06_67\n",
      "tsinfer done\n",
      "Running tsdate\n"
     ]
    },
    {
     "name": "stderr",
     "output_type": "stream",
     "text": [
      "    Scan: 100%|██████████| 1.00/1.00 [00:00<00:00, 65.8files/s]\n",
      " Explode: 100%|██████████| 20.3k/20.3k [00:00<00:00, 22.8kvars/s]\n",
      "  Encode: 100%|██████████| 6.14M/6.14M [00:00<00:00, 13.3MB/s]\n",
      "Finalise: 100%|██████████| 11.0/11.0 [00:00<00:00, 365array/s]\n"
     ]
    },
    {
     "name": "stdout",
     "output_type": "stream",
     "text": [
      "[OK] bio2zarr finished for Ne2e+04_r5e-08_100_1e+06_68\n",
      "tsinfer done\n",
      "Running tsdate\n"
     ]
    },
    {
     "name": "stderr",
     "output_type": "stream",
     "text": [
      "    Scan: 100%|██████████| 1.00/1.00 [00:00<00:00, 73.4files/s]\n",
      " Explode: 100%|██████████| 20.9k/20.9k [00:00<00:00, 22.9kvars/s]\n",
      "  Encode: 100%|██████████| 6.30M/6.30M [00:00<00:00, 13.5MB/s]\n",
      "Finalise: 100%|██████████| 11.0/11.0 [00:00<00:00, 463array/s]\n"
     ]
    },
    {
     "name": "stdout",
     "output_type": "stream",
     "text": [
      "[OK] bio2zarr finished for Ne2e+04_r5e-08_100_1e+06_69\n",
      "tsinfer done\n",
      "Running tsdate\n"
     ]
    },
    {
     "name": "stderr",
     "output_type": "stream",
     "text": [
      "    Scan: 100%|██████████| 1.00/1.00 [00:00<00:00, 65.9files/s]\n",
      " Explode: 100%|██████████| 21.7k/21.7k [00:00<00:00, 23.6kvars/s]\n",
      "  Encode: 100%|██████████| 6.39M/6.39M [00:00<00:00, 12.9MB/s]\n",
      "Finalise: 100%|██████████| 11.0/11.0 [00:00<00:00, 411array/s]\n"
     ]
    },
    {
     "name": "stdout",
     "output_type": "stream",
     "text": [
      "[OK] bio2zarr finished for Ne2e+04_r5e-08_100_1e+06_70\n",
      "tsinfer done\n",
      "Running tsdate\n"
     ]
    },
    {
     "name": "stderr",
     "output_type": "stream",
     "text": [
      "    Scan: 100%|██████████| 1.00/1.00 [00:00<00:00, 72.5files/s]\n",
      " Explode: 100%|██████████| 19.7k/19.7k [00:00<00:00, 22.8kvars/s]\n",
      "  Encode: 100%|██████████| 5.78M/5.78M [00:00<00:00, 12.8MB/s]\n",
      "Finalise: 100%|██████████| 11.0/11.0 [00:00<00:00, 477array/s]\n"
     ]
    },
    {
     "name": "stdout",
     "output_type": "stream",
     "text": [
      "[OK] bio2zarr finished for Ne2e+04_r5e-08_100_1e+06_71\n",
      "tsinfer done\n",
      "Running tsdate\n"
     ]
    },
    {
     "name": "stderr",
     "output_type": "stream",
     "text": [
      "    Scan: 100%|██████████| 1.00/1.00 [00:00<00:00, 78.9files/s]\n",
      " Explode: 100%|██████████| 20.8k/20.8k [00:00<00:00, 22.9kvars/s]\n",
      "  Encode: 100%|██████████| 6.27M/6.27M [00:00<00:00, 13.0MB/s]\n",
      "Finalise: 100%|██████████| 11.0/11.0 [00:00<00:00, 505array/s]\n"
     ]
    },
    {
     "name": "stdout",
     "output_type": "stream",
     "text": [
      "[OK] bio2zarr finished for Ne2e+04_r5e-08_100_1e+06_72\n",
      "tsinfer done\n",
      "Running tsdate\n"
     ]
    },
    {
     "name": "stderr",
     "output_type": "stream",
     "text": [
      "    Scan: 100%|██████████| 1.00/1.00 [00:00<00:00, 78.7files/s]\n",
      " Explode: 100%|██████████| 20.1k/20.1k [00:00<00:00, 23.0kvars/s]\n",
      "  Encode: 100%|██████████| 6.08M/6.08M [00:00<00:00, 13.3MB/s]\n",
      "Finalise: 100%|██████████| 11.0/11.0 [00:00<00:00, 444array/s]\n"
     ]
    },
    {
     "name": "stdout",
     "output_type": "stream",
     "text": [
      "[OK] bio2zarr finished for Ne2e+04_r5e-08_100_1e+06_73\n",
      "tsinfer done\n",
      "Running tsdate\n"
     ]
    },
    {
     "name": "stderr",
     "output_type": "stream",
     "text": [
      "    Scan: 100%|██████████| 1.00/1.00 [00:00<00:00, 78.9files/s]\n",
      " Explode: 100%|██████████| 20.5k/20.5k [00:00<00:00, 22.7kvars/s]\n",
      "  Encode: 100%|██████████| 6.03M/6.03M [00:00<00:00, 12.7MB/s]\n",
      "Finalise: 100%|██████████| 11.0/11.0 [00:00<00:00, 480array/s]\n"
     ]
    },
    {
     "name": "stdout",
     "output_type": "stream",
     "text": [
      "[OK] bio2zarr finished for Ne2e+04_r5e-08_100_1e+06_74\n",
      "tsinfer done\n",
      "Running tsdate\n"
     ]
    },
    {
     "name": "stderr",
     "output_type": "stream",
     "text": [
      "    Scan: 100%|██████████| 1.00/1.00 [00:00<00:00, 78.9files/s]\n",
      " Explode: 100%|██████████| 20.6k/20.6k [00:00<00:00, 22.6kvars/s]\n",
      "  Encode: 100%|██████████| 6.06M/6.06M [00:00<00:00, 12.8MB/s]\n",
      "Finalise: 100%|██████████| 11.0/11.0 [00:00<00:00, 438array/s]\n"
     ]
    },
    {
     "name": "stdout",
     "output_type": "stream",
     "text": [
      "[OK] bio2zarr finished for Ne2e+04_r5e-08_100_1e+06_75\n",
      "tsinfer done\n",
      "Running tsdate\n"
     ]
    },
    {
     "name": "stderr",
     "output_type": "stream",
     "text": [
      "    Scan: 100%|██████████| 1.00/1.00 [00:00<00:00, 79.1files/s]\n",
      " Explode: 100%|██████████| 21.0k/21.0k [00:00<00:00, 22.8kvars/s]\n",
      "  Encode: 100%|██████████| 6.18M/6.18M [00:00<00:00, 12.9MB/s]\n",
      "Finalise: 100%|██████████| 11.0/11.0 [00:00<00:00, 438array/s]\n"
     ]
    },
    {
     "name": "stdout",
     "output_type": "stream",
     "text": [
      "[OK] bio2zarr finished for Ne2e+04_r5e-08_100_1e+06_76\n",
      "tsinfer done\n",
      "Running tsdate\n"
     ]
    },
    {
     "name": "stderr",
     "output_type": "stream",
     "text": [
      "    Scan: 100%|██████████| 1.00/1.00 [00:00<00:00, 78.9files/s]\n",
      " Explode: 100%|██████████| 21.5k/21.5k [00:00<00:00, 23.7kvars/s]\n",
      "  Encode: 100%|██████████| 6.50M/6.50M [00:00<00:00, 12.7MB/s]\n",
      "Finalise: 100%|██████████| 11.0/11.0 [00:00<00:00, 469array/s]\n"
     ]
    },
    {
     "name": "stdout",
     "output_type": "stream",
     "text": [
      "[OK] bio2zarr finished for Ne2e+04_r5e-08_100_1e+06_77\n",
      "tsinfer done\n",
      "Running tsdate\n"
     ]
    },
    {
     "name": "stderr",
     "output_type": "stream",
     "text": [
      "    Scan: 100%|██████████| 1.00/1.00 [00:00<00:00, 78.8files/s]\n",
      " Explode: 100%|██████████| 21.1k/21.1k [00:00<00:00, 22.6kvars/s]\n",
      "  Encode: 100%|██████████| 6.20M/6.20M [00:00<00:00, 13.1MB/s]\n",
      "Finalise: 100%|██████████| 11.0/11.0 [00:00<00:00, 438array/s]\n"
     ]
    },
    {
     "name": "stdout",
     "output_type": "stream",
     "text": [
      "[OK] bio2zarr finished for Ne2e+04_r5e-08_100_1e+06_78\n",
      "tsinfer done\n",
      "Running tsdate\n"
     ]
    },
    {
     "name": "stderr",
     "output_type": "stream",
     "text": [
      "    Scan: 100%|██████████| 1.00/1.00 [00:00<00:00, 84.5files/s]\n",
      " Explode: 100%|██████████| 20.7k/20.7k [00:00<00:00, 23.1kvars/s]\n",
      "  Encode: 100%|██████████| 6.10M/6.10M [00:00<00:00, 13.0MB/s]\n",
      "Finalise: 100%|██████████| 11.0/11.0 [00:00<00:00, 455array/s]\n"
     ]
    },
    {
     "name": "stdout",
     "output_type": "stream",
     "text": [
      "[OK] bio2zarr finished for Ne2e+04_r5e-08_100_1e+06_79\n",
      "tsinfer done\n",
      "Running tsdate\n"
     ]
    },
    {
     "name": "stderr",
     "output_type": "stream",
     "text": [
      "    Scan: 100%|██████████| 1.00/1.00 [00:00<00:00, 79.1files/s]\n",
      " Explode: 100%|██████████| 19.8k/19.8k [00:00<00:00, 23.1kvars/s]\n",
      "  Encode: 100%|██████████| 5.98M/5.98M [00:00<00:00, 13.6MB/s]\n",
      "Finalise: 100%|██████████| 11.0/11.0 [00:00<00:00, 438array/s]\n"
     ]
    },
    {
     "name": "stdout",
     "output_type": "stream",
     "text": [
      "[OK] bio2zarr finished for Ne2e+04_r5e-08_100_1e+06_80\n",
      "tsinfer done\n",
      "Running tsdate\n"
     ]
    },
    {
     "name": "stderr",
     "output_type": "stream",
     "text": [
      "    Scan: 100%|██████████| 1.00/1.00 [00:00<00:00, 84.2files/s]\n",
      " Explode: 100%|██████████| 20.4k/20.4k [00:00<00:00, 22.6kvars/s]\n",
      "  Encode: 100%|██████████| 6.00M/6.00M [00:00<00:00, 12.7MB/s]\n",
      "Finalise: 100%|██████████| 11.0/11.0 [00:00<00:00, 462array/s]\n"
     ]
    },
    {
     "name": "stdout",
     "output_type": "stream",
     "text": [
      "[OK] bio2zarr finished for Ne2e+04_r5e-08_100_1e+06_81\n",
      "tsinfer done\n",
      "Running tsdate\n"
     ]
    },
    {
     "name": "stderr",
     "output_type": "stream",
     "text": [
      "    Scan: 100%|██████████| 1.00/1.00 [00:00<00:00, 83.7files/s]\n",
      " Explode: 100%|██████████| 21.4k/21.4k [00:00<00:00, 23.7kvars/s]\n",
      "  Encode: 100%|██████████| 6.31M/6.31M [00:00<00:00, 13.1MB/s]\n",
      "Finalise: 100%|██████████| 11.0/11.0 [00:00<00:00, 483array/s]\n"
     ]
    },
    {
     "name": "stdout",
     "output_type": "stream",
     "text": [
      "[OK] bio2zarr finished for Ne2e+04_r5e-08_100_1e+06_82\n",
      "tsinfer done\n",
      "Running tsdate\n"
     ]
    },
    {
     "name": "stderr",
     "output_type": "stream",
     "text": [
      "    Scan: 100%|██████████| 1.00/1.00 [00:00<00:00, 78.8files/s]\n",
      " Explode: 100%|██████████| 20.6k/20.6k [00:00<00:00, 23.0kvars/s]\n",
      "  Encode: 100%|██████████| 6.05M/6.05M [00:00<00:00, 12.8MB/s]\n",
      "Finalise: 100%|██████████| 11.0/11.0 [00:00<00:00, 480array/s]\n"
     ]
    },
    {
     "name": "stdout",
     "output_type": "stream",
     "text": [
      "[OK] bio2zarr finished for Ne2e+04_r5e-08_100_1e+06_83\n",
      "tsinfer done\n",
      "Running tsdate\n"
     ]
    },
    {
     "name": "stderr",
     "output_type": "stream",
     "text": [
      "    Scan: 100%|██████████| 1.00/1.00 [00:00<00:00, 90.1files/s]\n",
      " Explode: 100%|██████████| 19.4k/19.4k [00:00<00:00, 22.8kvars/s]\n",
      "  Encode: 100%|██████████| 5.69M/5.69M [00:00<00:00, 13.0MB/s]\n",
      "Finalise: 100%|██████████| 11.0/11.0 [00:00<00:00, 442array/s]\n"
     ]
    },
    {
     "name": "stdout",
     "output_type": "stream",
     "text": [
      "[OK] bio2zarr finished for Ne2e+04_r5e-08_100_1e+06_84\n",
      "tsinfer done\n",
      "Running tsdate\n"
     ]
    },
    {
     "name": "stderr",
     "output_type": "stream",
     "text": [
      "    Scan: 100%|██████████| 1.00/1.00 [00:00<00:00, 97.2files/s]\n",
      " Explode: 100%|██████████| 21.3k/21.3k [00:00<00:00, 23.8kvars/s]\n",
      "  Encode: 100%|██████████| 6.26M/6.26M [00:00<00:00, 12.4MB/s]\n",
      "Finalise: 100%|██████████| 11.0/11.0 [00:00<00:00, 454array/s]\n"
     ]
    },
    {
     "name": "stdout",
     "output_type": "stream",
     "text": [
      "[OK] bio2zarr finished for Ne2e+04_r5e-08_100_1e+06_85\n",
      "tsinfer done\n",
      "Running tsdate\n"
     ]
    },
    {
     "name": "stderr",
     "output_type": "stream",
     "text": [
      "    Scan: 100%|██████████| 1.00/1.00 [00:00<00:00, 94.5files/s]\n",
      " Explode: 100%|██████████| 20.5k/20.5k [00:00<00:00, 22.6kvars/s]\n",
      "  Encode: 100%|██████████| 6.03M/6.03M [00:00<00:00, 13.1MB/s]\n",
      "Finalise: 100%|██████████| 11.0/11.0 [00:00<00:00, 482array/s]\n"
     ]
    },
    {
     "name": "stdout",
     "output_type": "stream",
     "text": [
      "[OK] bio2zarr finished for Ne2e+04_r5e-08_100_1e+06_86\n",
      "tsinfer done\n",
      "Running tsdate\n"
     ]
    },
    {
     "name": "stderr",
     "output_type": "stream",
     "text": [
      "    Scan: 100%|██████████| 1.00/1.00 [00:00<00:00, 79.0files/s]\n",
      " Explode: 100%|██████████| 20.1k/20.1k [00:00<00:00, 22.6kvars/s]\n",
      "  Encode: 100%|██████████| 6.08M/6.08M [00:00<00:00, 13.5MB/s]\n",
      "Finalise: 100%|██████████| 11.0/11.0 [00:00<00:00, 437array/s]\n"
     ]
    },
    {
     "name": "stdout",
     "output_type": "stream",
     "text": [
      "[OK] bio2zarr finished for Ne2e+04_r5e-08_100_1e+06_87\n",
      "tsinfer done\n",
      "Running tsdate\n"
     ]
    },
    {
     "name": "stderr",
     "output_type": "stream",
     "text": [
      "    Scan: 100%|██████████| 1.00/1.00 [00:00<00:00, 78.9files/s]\n",
      " Explode: 100%|██████████| 18.8k/18.8k [00:00<00:00, 23.0kvars/s]\n",
      "  Encode: 100%|██████████| 5.54M/5.54M [00:00<00:00, 12.8MB/s]\n",
      "Finalise: 100%|██████████| 11.0/11.0 [00:00<00:00, 438array/s]\n"
     ]
    },
    {
     "name": "stdout",
     "output_type": "stream",
     "text": [
      "[OK] bio2zarr finished for Ne2e+04_r5e-08_100_1e+06_88\n",
      "tsinfer done\n",
      "Running tsdate\n"
     ]
    },
    {
     "name": "stderr",
     "output_type": "stream",
     "text": [
      "    Scan: 100%|██████████| 1.00/1.00 [00:00<00:00, 79.1files/s]\n",
      " Explode: 100%|██████████| 19.9k/19.9k [00:00<00:00, 22.5kvars/s]\n",
      "  Encode: 100%|██████████| 6.01M/6.01M [00:00<00:00, 13.2MB/s]\n",
      "Finalise: 100%|██████████| 11.0/11.0 [00:00<00:00, 447array/s]\n"
     ]
    },
    {
     "name": "stdout",
     "output_type": "stream",
     "text": [
      "[OK] bio2zarr finished for Ne2e+04_r5e-08_100_1e+06_89\n",
      "tsinfer done\n",
      "Running tsdate\n"
     ]
    },
    {
     "name": "stderr",
     "output_type": "stream",
     "text": [
      "    Scan: 100%|██████████| 1.00/1.00 [00:00<00:00, 79.8files/s]\n",
      " Explode: 100%|██████████| 19.1k/19.1k [00:00<00:00, 22.8kvars/s]\n",
      "  Encode: 100%|██████████| 5.62M/5.62M [00:00<00:00, 12.8MB/s]\n",
      "Finalise: 100%|██████████| 11.0/11.0 [00:00<00:00, 454array/s]\n"
     ]
    },
    {
     "name": "stdout",
     "output_type": "stream",
     "text": [
      "[OK] bio2zarr finished for Ne2e+04_r5e-08_100_1e+06_90\n",
      "tsinfer done\n",
      "Running tsdate\n"
     ]
    },
    {
     "name": "stderr",
     "output_type": "stream",
     "text": [
      "    Scan: 100%|██████████| 1.00/1.00 [00:00<00:00, 83.2files/s]\n",
      " Explode: 100%|██████████| 19.9k/19.9k [00:00<00:00, 22.7kvars/s]\n",
      "  Encode: 100%|██████████| 6.02M/6.02M [00:00<00:00, 13.5MB/s]\n",
      "Finalise: 100%|██████████| 11.0/11.0 [00:00<00:00, 451array/s]\n"
     ]
    },
    {
     "name": "stdout",
     "output_type": "stream",
     "text": [
      "[OK] bio2zarr finished for Ne2e+04_r5e-08_100_1e+06_91\n",
      "tsinfer done\n",
      "Running tsdate\n"
     ]
    },
    {
     "name": "stderr",
     "output_type": "stream",
     "text": [
      "    Scan: 100%|██████████| 1.00/1.00 [00:00<00:00, 79.1files/s]\n",
      " Explode: 100%|██████████| 21.2k/21.2k [00:00<00:00, 23.5kvars/s]\n",
      "  Encode: 100%|██████████| 6.39M/6.39M [00:00<00:00, 13.0MB/s]\n",
      "Finalise: 100%|██████████| 11.0/11.0 [00:00<00:00, 476array/s]\n"
     ]
    },
    {
     "name": "stdout",
     "output_type": "stream",
     "text": [
      "[OK] bio2zarr finished for Ne2e+04_r5e-08_100_1e+06_92\n",
      "tsinfer done\n",
      "Running tsdate\n"
     ]
    },
    {
     "name": "stderr",
     "output_type": "stream",
     "text": [
      "    Scan: 100%|██████████| 1.00/1.00 [00:00<00:00, 93.7files/s]\n",
      " Explode: 100%|██████████| 20.1k/20.1k [00:00<00:00, 22.7kvars/s]\n",
      "  Encode: 100%|██████████| 5.90M/5.90M [00:00<00:00, 12.6MB/s]\n",
      "Finalise: 100%|██████████| 11.0/11.0 [00:00<00:00, 514array/s]\n"
     ]
    },
    {
     "name": "stdout",
     "output_type": "stream",
     "text": [
      "[OK] bio2zarr finished for Ne2e+04_r5e-08_100_1e+06_93\n",
      "tsinfer done\n",
      "Running tsdate\n"
     ]
    },
    {
     "name": "stderr",
     "output_type": "stream",
     "text": [
      "    Scan: 100%|██████████| 1.00/1.00 [00:00<00:00, 78.7files/s]\n",
      " Explode: 100%|██████████| 20.4k/20.4k [00:00<00:00, 22.6kvars/s]\n",
      "  Encode: 100%|██████████| 6.01M/6.01M [00:00<00:00, 12.9MB/s]\n",
      "Finalise: 100%|██████████| 11.0/11.0 [00:00<00:00, 461array/s]\n"
     ]
    },
    {
     "name": "stdout",
     "output_type": "stream",
     "text": [
      "[OK] bio2zarr finished for Ne2e+04_r5e-08_100_1e+06_94\n",
      "tsinfer done\n",
      "Running tsdate\n"
     ]
    },
    {
     "name": "stderr",
     "output_type": "stream",
     "text": [
      "    Scan: 100%|██████████| 1.00/1.00 [00:00<00:00, 97.8files/s]\n",
      " Explode: 100%|██████████| 19.9k/19.9k [00:00<00:00, 22.8kvars/s]\n",
      "  Encode: 100%|██████████| 5.84M/5.84M [00:00<00:00, 12.7MB/s]\n",
      "Finalise: 100%|██████████| 11.0/11.0 [00:00<00:00, 461array/s]\n"
     ]
    },
    {
     "name": "stdout",
     "output_type": "stream",
     "text": [
      "[OK] bio2zarr finished for Ne2e+04_r5e-08_100_1e+06_95\n",
      "tsinfer done\n",
      "Running tsdate\n"
     ]
    },
    {
     "name": "stderr",
     "output_type": "stream",
     "text": [
      "    Scan: 100%|██████████| 1.00/1.00 [00:00<00:00, 81.8files/s]\n",
      " Explode: 100%|██████████| 19.7k/19.7k [00:00<00:00, 22.9kvars/s]\n",
      "  Encode: 100%|██████████| 5.79M/5.79M [00:00<00:00, 13.0MB/s]\n",
      "Finalise: 100%|██████████| 11.0/11.0 [00:00<00:00, 529array/s]\n"
     ]
    },
    {
     "name": "stdout",
     "output_type": "stream",
     "text": [
      "[OK] bio2zarr finished for Ne2e+04_r5e-08_100_1e+06_96\n",
      "tsinfer done\n",
      "Running tsdate\n"
     ]
    },
    {
     "name": "stderr",
     "output_type": "stream",
     "text": [
      "    Scan: 100%|██████████| 1.00/1.00 [00:00<00:00, 78.7files/s]\n",
      " Explode: 100%|██████████| 19.0k/19.0k [00:00<00:00, 23.3kvars/s]\n",
      "  Encode: 100%|██████████| 5.74M/5.74M [00:00<00:00, 13.5MB/s]\n",
      "Finalise: 100%|██████████| 11.0/11.0 [00:00<00:00, 444array/s]\n"
     ]
    },
    {
     "name": "stdout",
     "output_type": "stream",
     "text": [
      "[OK] bio2zarr finished for Ne2e+04_r5e-08_100_1e+06_97\n",
      "tsinfer done\n",
      "Running tsdate\n"
     ]
    },
    {
     "name": "stderr",
     "output_type": "stream",
     "text": [
      "    Scan: 100%|██████████| 1.00/1.00 [00:00<00:00, 83.7files/s]\n",
      " Explode: 100%|██████████| 21.2k/21.2k [00:00<00:00, 23.6kvars/s]\n",
      "  Encode: 100%|██████████| 6.41M/6.41M [00:00<00:00, 13.4MB/s]\n",
      "Finalise: 100%|██████████| 11.0/11.0 [00:00<00:00, 399array/s]\n"
     ]
    },
    {
     "name": "stdout",
     "output_type": "stream",
     "text": [
      "[OK] bio2zarr finished for Ne2e+04_r5e-08_100_1e+06_98\n",
      "tsinfer done\n",
      "Running tsdate\n"
     ]
    },
    {
     "name": "stderr",
     "output_type": "stream",
     "text": [
      "    Scan: 100%|██████████| 1.00/1.00 [00:00<00:00, 90.4files/s]\n",
      " Explode: 100%|██████████| 20.3k/20.3k [00:00<00:00, 22.6kvars/s]\n",
      "  Encode: 100%|██████████| 5.96M/5.96M [00:00<00:00, 12.8MB/s]\n",
      "Finalise: 100%|██████████| 11.0/11.0 [00:00<00:00, 407array/s]\n"
     ]
    },
    {
     "name": "stdout",
     "output_type": "stream",
     "text": [
      "[OK] bio2zarr finished for Ne2e+04_r5e-08_100_1e+06_99\n",
      "tsinfer done\n",
      "Running tsdate\n"
     ]
    }
   ],
   "source": [
    "simulate_dump(2e4,50,100,tree_dir=\"/Users/jinminli/research/tree_distance/simulations/diff_rates/tree/\",vcz_dir=\"/Users/jinminli/research/tree_distance/simulations/diff_rates/vcf/\",mut_rate=5e-8)"
   ]
  },
  {
   "cell_type": "code",
   "execution_count": 14,
   "id": "b755fd33",
   "metadata": {},
   "outputs": [
    {
     "name": "stderr",
     "output_type": "stream",
     "text": [
      "    Scan: 100%|██████████| 1.00/1.00 [00:00<00:00, 79.1files/s]\n",
      " Explode: 100%|██████████| 820/820 [00:00<00:00, 17.1kvars/s]\n",
      "  Encode: 100%|██████████| 235k/235k [00:00<00:00, 8.32MB/s]\n",
      "Finalise: 100%|██████████| 11.0/11.0 [00:00<00:00, 870array/s]\n"
     ]
    },
    {
     "name": "stdout",
     "output_type": "stream",
     "text": [
      "[OK] bio2zarr finished for Ne2e+04_r2e-09_100_1e+06_0\n",
      "tsinfer done\n",
      "Running tsdate\n"
     ]
    },
    {
     "name": "stderr",
     "output_type": "stream",
     "text": [
      "    Scan: 100%|██████████| 1.00/1.00 [00:00<00:00, 79.0files/s]\n",
      " Explode: 100%|██████████| 781/781 [00:00<00:00, 15.5kvars/s]\n",
      "  Encode: 100%|██████████| 223k/223k [00:00<00:00, 8.73MB/s]\n",
      "Finalise: 100%|██████████| 11.0/11.0 [00:00<00:00, 873array/s]\n"
     ]
    },
    {
     "name": "stdout",
     "output_type": "stream",
     "text": [
      "[OK] bio2zarr finished for Ne2e+04_r2e-09_100_1e+06_1\n",
      "tsinfer done\n",
      "Running tsdate\n"
     ]
    },
    {
     "name": "stderr",
     "output_type": "stream",
     "text": [
      "    Scan: 100%|██████████| 1.00/1.00 [00:00<00:00, 78.9files/s]\n",
      " Explode: 100%|██████████| 839/839 [00:00<00:00, 17.1kvars/s]\n",
      "  Encode: 100%|██████████| 247k/247k [00:00<00:00, 8.55MB/s]\n",
      "Finalise: 100%|██████████| 11.0/11.0 [00:00<00:00, 870array/s]\n"
     ]
    },
    {
     "name": "stdout",
     "output_type": "stream",
     "text": [
      "[OK] bio2zarr finished for Ne2e+04_r2e-09_100_1e+06_2\n",
      "tsinfer done\n",
      "Running tsdate\n"
     ]
    },
    {
     "name": "stderr",
     "output_type": "stream",
     "text": [
      "    Scan: 100%|██████████| 1.00/1.00 [00:00<00:00, 82.5files/s]\n",
      " Explode: 100%|██████████| 816/816 [00:00<00:00, 16.0kvars/s]\n",
      "  Encode: 100%|██████████| 233k/233k [00:00<00:00, 8.69MB/s]\n",
      "Finalise: 100%|██████████| 11.0/11.0 [00:00<00:00, 865array/s]\n"
     ]
    },
    {
     "name": "stdout",
     "output_type": "stream",
     "text": [
      "[OK] bio2zarr finished for Ne2e+04_r2e-09_100_1e+06_3\n",
      "tsinfer done\n",
      "Running tsdate\n"
     ]
    },
    {
     "name": "stderr",
     "output_type": "stream",
     "text": [
      "    Scan: 100%|██████████| 1.00/1.00 [00:00<00:00, 79.0files/s]\n",
      " Explode: 100%|██████████| 870/870 [00:00<00:00, 18.3kvars/s]\n",
      "  Encode: 100%|██████████| 256k/256k [00:00<00:00, 9.35MB/s]\n",
      "Finalise: 100%|██████████| 11.0/11.0 [00:00<00:00, 871array/s]\n"
     ]
    },
    {
     "name": "stdout",
     "output_type": "stream",
     "text": [
      "[OK] bio2zarr finished for Ne2e+04_r2e-09_100_1e+06_4\n",
      "tsinfer done\n",
      "Running tsdate\n"
     ]
    },
    {
     "name": "stderr",
     "output_type": "stream",
     "text": [
      "    Scan: 100%|██████████| 1.00/1.00 [00:00<00:00, 94.2files/s]\n",
      " Explode: 100%|██████████| 795/795 [00:00<00:00, 20.5kvars/s]\n",
      "  Encode: 100%|██████████| 227k/227k [00:00<00:00, 8.16MB/s]\n",
      "Finalise: 100%|██████████| 11.0/11.0 [00:00<00:00, 876array/s]\n"
     ]
    },
    {
     "name": "stdout",
     "output_type": "stream",
     "text": [
      "[OK] bio2zarr finished for Ne2e+04_r2e-09_100_1e+06_5\n",
      "tsinfer done\n",
      "Running tsdate\n"
     ]
    },
    {
     "name": "stderr",
     "output_type": "stream",
     "text": [
      "    Scan: 100%|██████████| 1.00/1.00 [00:00<00:00, 78.9files/s]\n",
      " Explode: 100%|██████████| 918/918 [00:00<00:00, 18.2kvars/s]\n",
      "  Encode: 100%|██████████| 270k/270k [00:00<00:00, 9.30MB/s]\n",
      "Finalise: 100%|██████████| 11.0/11.0 [00:00<00:00, 904array/s]\n"
     ]
    },
    {
     "name": "stdout",
     "output_type": "stream",
     "text": [
      "[OK] bio2zarr finished for Ne2e+04_r2e-09_100_1e+06_6\n",
      "tsinfer done\n",
      "Running tsdate\n"
     ]
    },
    {
     "name": "stderr",
     "output_type": "stream",
     "text": [
      "    Scan: 100%|██████████| 1.00/1.00 [00:00<00:00, 79.1files/s]\n",
      " Explode: 100%|██████████| 806/806 [00:00<00:00, 16.5kvars/s]\n",
      "  Encode: 100%|██████████| 237k/237k [00:00<00:00, 8.43MB/s]\n",
      "Finalise: 100%|██████████| 11.0/11.0 [00:00<00:00, 874array/s]\n"
     ]
    },
    {
     "name": "stdout",
     "output_type": "stream",
     "text": [
      "[OK] bio2zarr finished for Ne2e+04_r2e-09_100_1e+06_7\n",
      "tsinfer done\n",
      "Running tsdate\n"
     ]
    },
    {
     "name": "stderr",
     "output_type": "stream",
     "text": [
      "    Scan: 100%|██████████| 1.00/1.00 [00:00<00:00, 79.0files/s]\n",
      " Explode: 100%|██████████| 762/762 [00:00<00:00, 15.3kvars/s]\n",
      "  Encode: 100%|██████████| 224k/224k [00:00<00:00, 8.38MB/s]\n",
      "Finalise: 100%|██████████| 11.0/11.0 [00:00<00:00, 868array/s]\n"
     ]
    },
    {
     "name": "stdout",
     "output_type": "stream",
     "text": [
      "[OK] bio2zarr finished for Ne2e+04_r2e-09_100_1e+06_8\n",
      "tsinfer done\n",
      "Running tsdate\n"
     ]
    },
    {
     "name": "stderr",
     "output_type": "stream",
     "text": [
      "    Scan: 100%|██████████| 1.00/1.00 [00:00<00:00, 79.1files/s]\n",
      " Explode: 100%|██████████| 804/804 [00:00<00:00, 17.9kvars/s]\n",
      "  Encode: 100%|██████████| 230k/230k [00:00<00:00, 8.38MB/s]\n",
      "Finalise: 100%|██████████| 11.0/11.0 [00:00<00:00, 870array/s]\n"
     ]
    },
    {
     "name": "stdout",
     "output_type": "stream",
     "text": [
      "[OK] bio2zarr finished for Ne2e+04_r2e-09_100_1e+06_9\n",
      "tsinfer done\n",
      "Running tsdate\n"
     ]
    },
    {
     "name": "stderr",
     "output_type": "stream",
     "text": [
      "    Scan: 100%|██████████| 1.00/1.00 [00:00<00:00, 78.8files/s]\n",
      " Explode: 100%|██████████| 891/891 [00:00<00:00, 18.1kvars/s]\n",
      "  Encode: 100%|██████████| 262k/262k [00:00<00:00, 8.85MB/s]\n",
      "Finalise: 100%|██████████| 11.0/11.0 [00:00<00:00, 1.03karray/s]\n"
     ]
    },
    {
     "name": "stdout",
     "output_type": "stream",
     "text": [
      "[OK] bio2zarr finished for Ne2e+04_r2e-09_100_1e+06_10\n",
      "tsinfer done\n",
      "Running tsdate\n"
     ]
    },
    {
     "name": "stderr",
     "output_type": "stream",
     "text": [
      "    Scan: 100%|██████████| 1.00/1.00 [00:00<00:00, 79.0files/s]\n",
      " Explode: 100%|██████████| 860/860 [00:00<00:00, 17.8kvars/s]\n",
      "  Encode: 100%|██████████| 253k/253k [00:00<00:00, 8.75MB/s]\n",
      "Finalise: 100%|██████████| 11.0/11.0 [00:00<00:00, 872array/s]\n"
     ]
    },
    {
     "name": "stdout",
     "output_type": "stream",
     "text": [
      "[OK] bio2zarr finished for Ne2e+04_r2e-09_100_1e+06_11\n",
      "tsinfer done\n",
      "Running tsdate\n"
     ]
    },
    {
     "name": "stderr",
     "output_type": "stream",
     "text": [
      "    Scan: 100%|██████████| 1.00/1.00 [00:00<00:00, 90.7files/s]\n",
      " Explode: 100%|██████████| 835/835 [00:00<00:00, 16.5kvars/s]\n",
      "  Encode: 100%|██████████| 245k/245k [00:00<00:00, 8.52MB/s]\n",
      "Finalise: 100%|██████████| 11.0/11.0 [00:00<00:00, 972array/s]\n"
     ]
    },
    {
     "name": "stdout",
     "output_type": "stream",
     "text": [
      "[OK] bio2zarr finished for Ne2e+04_r2e-09_100_1e+06_12\n",
      "tsinfer done\n",
      "Running tsdate\n"
     ]
    },
    {
     "name": "stderr",
     "output_type": "stream",
     "text": [
      "    Scan: 100%|██████████| 1.00/1.00 [00:00<00:00, 79.0files/s]\n",
      " Explode: 100%|██████████| 783/783 [00:00<00:00, 15.3kvars/s]\n",
      "  Encode: 100%|██████████| 224k/224k [00:00<00:00, 8.20MB/s]\n",
      "Finalise: 100%|██████████| 11.0/11.0 [00:00<00:00, 874array/s]\n"
     ]
    },
    {
     "name": "stdout",
     "output_type": "stream",
     "text": [
      "[OK] bio2zarr finished for Ne2e+04_r2e-09_100_1e+06_13\n",
      "tsinfer done\n",
      "Running tsdate\n"
     ]
    },
    {
     "name": "stderr",
     "output_type": "stream",
     "text": [
      "    Scan: 100%|██████████| 1.00/1.00 [00:00<00:00, 81.8files/s]\n",
      " Explode: 100%|██████████| 818/818 [00:00<00:00, 15.9kvars/s]\n",
      "  Encode: 100%|██████████| 234k/234k [00:00<00:00, 8.57MB/s]\n",
      "Finalise: 100%|██████████| 11.0/11.0 [00:00<00:00, 994array/s]\n"
     ]
    },
    {
     "name": "stdout",
     "output_type": "stream",
     "text": [
      "[OK] bio2zarr finished for Ne2e+04_r2e-09_100_1e+06_14\n",
      "tsinfer done\n",
      "Running tsdate\n"
     ]
    },
    {
     "name": "stderr",
     "output_type": "stream",
     "text": [
      "    Scan: 100%|██████████| 1.00/1.00 [00:00<00:00, 78.9files/s]\n",
      " Explode: 100%|██████████| 904/904 [00:00<00:00, 17.9kvars/s]\n",
      "  Encode: 100%|██████████| 266k/266k [00:00<00:00, 8.95MB/s]\n",
      "Finalise: 100%|██████████| 11.0/11.0 [00:00<00:00, 1.09karray/s]\n"
     ]
    },
    {
     "name": "stdout",
     "output_type": "stream",
     "text": [
      "[OK] bio2zarr finished for Ne2e+04_r2e-09_100_1e+06_15\n",
      "tsinfer done\n",
      "Running tsdate\n"
     ]
    },
    {
     "name": "stderr",
     "output_type": "stream",
     "text": [
      "    Scan: 100%|██████████| 1.00/1.00 [00:00<00:00, 85.6files/s]\n",
      " Explode: 100%|██████████| 751/751 [00:00<00:00, 14.9kvars/s]\n",
      "  Encode: 100%|██████████| 215k/215k [00:00<00:00, 8.04MB/s]\n",
      "Finalise: 100%|██████████| 11.0/11.0 [00:00<00:00, 1.06karray/s]\n"
     ]
    },
    {
     "name": "stdout",
     "output_type": "stream",
     "text": [
      "[OK] bio2zarr finished for Ne2e+04_r2e-09_100_1e+06_16\n",
      "tsinfer done\n",
      "Running tsdate\n"
     ]
    },
    {
     "name": "stderr",
     "output_type": "stream",
     "text": [
      "    Scan: 100%|██████████| 1.00/1.00 [00:00<00:00, 79.1files/s]\n",
      " Explode: 100%|██████████| 836/836 [00:00<00:00, 17.9kvars/s]\n",
      "  Encode: 100%|██████████| 246k/246k [00:00<00:00, 8.92MB/s]\n",
      "Finalise: 100%|██████████| 11.0/11.0 [00:00<00:00, 907array/s]\n"
     ]
    },
    {
     "name": "stdout",
     "output_type": "stream",
     "text": [
      "[OK] bio2zarr finished for Ne2e+04_r2e-09_100_1e+06_17\n",
      "tsinfer done\n",
      "Running tsdate\n"
     ]
    },
    {
     "name": "stderr",
     "output_type": "stream",
     "text": [
      "    Scan: 100%|██████████| 1.00/1.00 [00:00<00:00, 79.0files/s]\n",
      " Explode: 100%|██████████| 851/851 [00:00<00:00, 18.4kvars/s]\n",
      "  Encode: 100%|██████████| 243k/243k [00:00<00:00, 8.73MB/s]\n",
      "Finalise: 100%|██████████| 11.0/11.0 [00:00<00:00, 874array/s]\n"
     ]
    },
    {
     "name": "stdout",
     "output_type": "stream",
     "text": [
      "[OK] bio2zarr finished for Ne2e+04_r2e-09_100_1e+06_18\n",
      "tsinfer done\n",
      "Running tsdate\n"
     ]
    },
    {
     "name": "stderr",
     "output_type": "stream",
     "text": [
      "    Scan: 100%|██████████| 1.00/1.00 [00:00<00:00, 79.1files/s]\n",
      " Explode: 100%|██████████| 893/893 [00:00<00:00, 18.9kvars/s]\n",
      "  Encode: 100%|██████████| 255k/255k [00:00<00:00, 8.93MB/s]\n",
      "Finalise: 100%|██████████| 11.0/11.0 [00:00<00:00, 874array/s]\n"
     ]
    },
    {
     "name": "stdout",
     "output_type": "stream",
     "text": [
      "[OK] bio2zarr finished for Ne2e+04_r2e-09_100_1e+06_19\n",
      "tsinfer done\n",
      "Running tsdate\n"
     ]
    },
    {
     "name": "stderr",
     "output_type": "stream",
     "text": [
      "    Scan: 100%|██████████| 1.00/1.00 [00:00<00:00, 89.7files/s]\n",
      " Explode: 100%|██████████| 825/825 [00:00<00:00, 16.2kvars/s]\n",
      "  Encode: 100%|██████████| 236k/236k [00:00<00:00, 8.49MB/s]\n",
      "Finalise: 100%|██████████| 11.0/11.0 [00:00<00:00, 869array/s]\n"
     ]
    },
    {
     "name": "stdout",
     "output_type": "stream",
     "text": [
      "[OK] bio2zarr finished for Ne2e+04_r2e-09_100_1e+06_20\n",
      "tsinfer done\n",
      "Running tsdate\n"
     ]
    },
    {
     "name": "stderr",
     "output_type": "stream",
     "text": [
      "    Scan: 100%|██████████| 1.00/1.00 [00:00<00:00, 79.0files/s]\n",
      " Explode: 100%|██████████| 823/823 [00:00<00:00, 16.5kvars/s]\n",
      "  Encode: 100%|██████████| 235k/235k [00:00<00:00, 8.70MB/s]\n",
      "Finalise: 100%|██████████| 11.0/11.0 [00:00<00:00, 868array/s]\n"
     ]
    },
    {
     "name": "stdout",
     "output_type": "stream",
     "text": [
      "[OK] bio2zarr finished for Ne2e+04_r2e-09_100_1e+06_21\n",
      "tsinfer done\n",
      "Running tsdate\n"
     ]
    },
    {
     "name": "stderr",
     "output_type": "stream",
     "text": [
      "    Scan: 100%|██████████| 1.00/1.00 [00:00<00:00, 79.0files/s]\n",
      " Explode: 100%|██████████| 898/898 [00:00<00:00, 18.6kvars/s]\n",
      "  Encode: 100%|██████████| 264k/264k [00:00<00:00, 9.28MB/s]\n",
      "Finalise: 100%|██████████| 11.0/11.0 [00:00<00:00, 874array/s]\n"
     ]
    },
    {
     "name": "stdout",
     "output_type": "stream",
     "text": [
      "[OK] bio2zarr finished for Ne2e+04_r2e-09_100_1e+06_22\n",
      "tsinfer done\n",
      "Running tsdate\n"
     ]
    },
    {
     "name": "stderr",
     "output_type": "stream",
     "text": [
      "    Scan: 100%|██████████| 1.00/1.00 [00:00<00:00, 86.1files/s]\n",
      " Explode: 100%|██████████| 859/859 [00:00<00:00, 17.2kvars/s]\n",
      "  Encode: 100%|██████████| 246k/246k [00:00<00:00, 8.36MB/s]\n",
      "Finalise: 100%|██████████| 11.0/11.0 [00:00<00:00, 874array/s]\n"
     ]
    },
    {
     "name": "stdout",
     "output_type": "stream",
     "text": [
      "[OK] bio2zarr finished for Ne2e+04_r2e-09_100_1e+06_23\n",
      "tsinfer done\n",
      "Running tsdate\n"
     ]
    },
    {
     "name": "stderr",
     "output_type": "stream",
     "text": [
      "    Scan: 100%|██████████| 1.00/1.00 [00:00<00:00, 95.6files/s]\n",
      " Explode: 100%|██████████| 718/718 [00:00<00:00, 14.6kvars/s]\n",
      "  Encode: 100%|██████████| 205k/205k [00:00<00:00, 7.69MB/s]\n",
      "Finalise: 100%|██████████| 11.0/11.0 [00:00<00:00, 937array/s]\n"
     ]
    },
    {
     "name": "stdout",
     "output_type": "stream",
     "text": [
      "[OK] bio2zarr finished for Ne2e+04_r2e-09_100_1e+06_24\n",
      "tsinfer done\n",
      "Running tsdate\n"
     ]
    },
    {
     "name": "stderr",
     "output_type": "stream",
     "text": [
      "    Scan: 100%|██████████| 1.00/1.00 [00:00<00:00, 78.7files/s]\n",
      " Explode: 100%|██████████| 844/844 [00:00<00:00, 16.3kvars/s]\n",
      "  Encode: 100%|██████████| 241k/241k [00:00<00:00, 8.37MB/s]\n",
      "Finalise: 100%|██████████| 11.0/11.0 [00:00<00:00, 879array/s]\n"
     ]
    },
    {
     "name": "stdout",
     "output_type": "stream",
     "text": [
      "[OK] bio2zarr finished for Ne2e+04_r2e-09_100_1e+06_25\n",
      "tsinfer done\n",
      "Running tsdate\n"
     ]
    },
    {
     "name": "stderr",
     "output_type": "stream",
     "text": [
      "    Scan: 100%|██████████| 1.00/1.00 [00:00<00:00, 79.1files/s]\n",
      " Explode: 100%|██████████| 846/846 [00:00<00:00, 16.8kvars/s]\n",
      "  Encode: 100%|██████████| 242k/242k [00:00<00:00, 8.28MB/s]\n",
      "Finalise: 100%|██████████| 11.0/11.0 [00:00<00:00, 897array/s]\n"
     ]
    },
    {
     "name": "stdout",
     "output_type": "stream",
     "text": [
      "[OK] bio2zarr finished for Ne2e+04_r2e-09_100_1e+06_26\n",
      "tsinfer done\n",
      "Running tsdate\n"
     ]
    },
    {
     "name": "stderr",
     "output_type": "stream",
     "text": [
      "    Scan: 100%|██████████| 1.00/1.00 [00:00<00:00, 78.8files/s]\n",
      " Explode: 100%|██████████| 813/813 [00:00<00:00, 16.4kvars/s]\n",
      "  Encode: 100%|██████████| 239k/239k [00:00<00:00, 8.52MB/s]\n",
      "Finalise: 100%|██████████| 11.0/11.0 [00:00<00:00, 874array/s]\n"
     ]
    },
    {
     "name": "stdout",
     "output_type": "stream",
     "text": [
      "[OK] bio2zarr finished for Ne2e+04_r2e-09_100_1e+06_27\n",
      "tsinfer done\n",
      "Running tsdate\n"
     ]
    },
    {
     "name": "stderr",
     "output_type": "stream",
     "text": [
      "    Scan: 100%|██████████| 1.00/1.00 [00:00<00:00, 78.7files/s]\n",
      " Explode: 100%|██████████| 851/851 [00:00<00:00, 19.2kvars/s]\n",
      "  Encode: 100%|██████████| 243k/243k [00:00<00:00, 8.86MB/s]\n",
      "Finalise: 100%|██████████| 11.0/11.0 [00:00<00:00, 954array/s]\n"
     ]
    },
    {
     "name": "stdout",
     "output_type": "stream",
     "text": [
      "[OK] bio2zarr finished for Ne2e+04_r2e-09_100_1e+06_28\n",
      "tsinfer done\n",
      "Running tsdate\n"
     ]
    },
    {
     "name": "stderr",
     "output_type": "stream",
     "text": [
      "    Scan: 100%|██████████| 1.00/1.00 [00:00<00:00, 79.0files/s]\n",
      " Explode: 100%|██████████| 807/807 [00:00<00:00, 16.6kvars/s]\n",
      "  Encode: 100%|██████████| 231k/231k [00:00<00:00, 8.18MB/s]\n",
      "Finalise: 100%|██████████| 11.0/11.0 [00:00<00:00, 912array/s]\n"
     ]
    },
    {
     "name": "stdout",
     "output_type": "stream",
     "text": [
      "[OK] bio2zarr finished for Ne2e+04_r2e-09_100_1e+06_29\n",
      "tsinfer done\n",
      "Running tsdate\n"
     ]
    },
    {
     "name": "stderr",
     "output_type": "stream",
     "text": [
      "    Scan: 100%|██████████| 1.00/1.00 [00:00<00:00, 96.9files/s]\n",
      " Explode: 100%|██████████| 868/868 [00:00<00:00, 18.1kvars/s]\n",
      "  Encode: 100%|██████████| 248k/248k [00:00<00:00, 8.45MB/s]\n",
      "Finalise: 100%|██████████| 11.0/11.0 [00:00<00:00, 874array/s]\n"
     ]
    },
    {
     "name": "stdout",
     "output_type": "stream",
     "text": [
      "[OK] bio2zarr finished for Ne2e+04_r2e-09_100_1e+06_30\n",
      "tsinfer done\n",
      "Running tsdate\n"
     ]
    },
    {
     "name": "stderr",
     "output_type": "stream",
     "text": [
      "    Scan: 100%|██████████| 1.00/1.00 [00:00<00:00, 79.0files/s]\n",
      " Explode: 100%|██████████| 786/786 [00:00<00:00, 16.1kvars/s]\n",
      "  Encode: 100%|██████████| 225k/225k [00:00<00:00, 8.14MB/s]\n",
      "Finalise: 100%|██████████| 11.0/11.0 [00:00<00:00, 873array/s]\n"
     ]
    },
    {
     "name": "stdout",
     "output_type": "stream",
     "text": [
      "[OK] bio2zarr finished for Ne2e+04_r2e-09_100_1e+06_31\n",
      "tsinfer done\n",
      "Running tsdate\n"
     ]
    },
    {
     "name": "stderr",
     "output_type": "stream",
     "text": [
      "    Scan: 100%|██████████| 1.00/1.00 [00:00<00:00, 83.8files/s]\n",
      " Explode: 100%|██████████| 849/849 [00:00<00:00, 17.1kvars/s]\n",
      "  Encode: 100%|██████████| 243k/243k [00:00<00:00, 8.31MB/s]\n",
      "Finalise: 100%|██████████| 11.0/11.0 [00:00<00:00, 872array/s]\n"
     ]
    },
    {
     "name": "stdout",
     "output_type": "stream",
     "text": [
      "[OK] bio2zarr finished for Ne2e+04_r2e-09_100_1e+06_32\n",
      "tsinfer done\n",
      "Running tsdate\n"
     ]
    },
    {
     "name": "stderr",
     "output_type": "stream",
     "text": [
      "    Scan: 100%|██████████| 1.00/1.00 [00:00<00:00, 78.7files/s]\n",
      " Explode: 100%|██████████| 885/885 [00:00<00:00, 18.7kvars/s]\n",
      "  Encode: 100%|██████████| 253k/253k [00:00<00:00, 8.80MB/s]\n",
      "Finalise: 100%|██████████| 11.0/11.0 [00:00<00:00, 1.05karray/s]\n"
     ]
    },
    {
     "name": "stdout",
     "output_type": "stream",
     "text": [
      "[OK] bio2zarr finished for Ne2e+04_r2e-09_100_1e+06_33\n",
      "tsinfer done\n",
      "Running tsdate\n"
     ]
    },
    {
     "name": "stderr",
     "output_type": "stream",
     "text": [
      "    Scan: 100%|██████████| 1.00/1.00 [00:00<00:00, 92.4files/s]\n",
      " Explode: 100%|██████████| 877/877 [00:00<00:00, 17.8kvars/s]\n",
      "  Encode: 100%|██████████| 251k/251k [00:00<00:00, 8.53MB/s]\n",
      "Finalise: 100%|██████████| 11.0/11.0 [00:00<00:00, 964array/s]\n"
     ]
    },
    {
     "name": "stdout",
     "output_type": "stream",
     "text": [
      "[OK] bio2zarr finished for Ne2e+04_r2e-09_100_1e+06_34\n",
      "tsinfer done\n",
      "Running tsdate\n"
     ]
    },
    {
     "name": "stderr",
     "output_type": "stream",
     "text": [
      "    Scan: 100%|██████████| 1.00/1.00 [00:00<00:00, 88.2files/s]\n",
      " Explode: 100%|██████████| 842/842 [00:00<00:00, 16.7kvars/s]\n",
      "  Encode: 100%|██████████| 241k/241k [00:00<00:00, 8.42MB/s]\n",
      "Finalise: 100%|██████████| 11.0/11.0 [00:00<00:00, 873array/s]\n"
     ]
    },
    {
     "name": "stdout",
     "output_type": "stream",
     "text": [
      "[OK] bio2zarr finished for Ne2e+04_r2e-09_100_1e+06_35\n",
      "tsinfer done\n",
      "Running tsdate\n"
     ]
    },
    {
     "name": "stderr",
     "output_type": "stream",
     "text": [
      "    Scan: 100%|██████████| 1.00/1.00 [00:00<00:00, 90.6files/s]\n",
      " Explode: 100%|██████████| 775/775 [00:00<00:00, 12.9kvars/s]\n",
      "  Encode: 100%|██████████| 222k/222k [00:00<00:00, 8.78MB/s]\n",
      "Finalise: 100%|██████████| 11.0/11.0 [00:00<00:00, 868array/s]\n"
     ]
    },
    {
     "name": "stdout",
     "output_type": "stream",
     "text": [
      "[OK] bio2zarr finished for Ne2e+04_r2e-09_100_1e+06_36\n",
      "tsinfer done\n",
      "Running tsdate\n"
     ]
    },
    {
     "name": "stderr",
     "output_type": "stream",
     "text": [
      "    Scan: 100%|██████████| 1.00/1.00 [00:00<00:00, 95.1files/s]\n",
      " Explode: 100%|██████████| 893/893 [00:00<00:00, 17.6kvars/s]\n",
      "  Encode: 100%|██████████| 263k/263k [00:00<00:00, 6.78MB/s]\n",
      "Finalise: 100%|██████████| 11.0/11.0 [00:00<00:00, 874array/s]\n"
     ]
    },
    {
     "name": "stdout",
     "output_type": "stream",
     "text": [
      "[OK] bio2zarr finished for Ne2e+04_r2e-09_100_1e+06_37\n",
      "tsinfer done\n",
      "Running tsdate\n"
     ]
    },
    {
     "name": "stderr",
     "output_type": "stream",
     "text": [
      "    Scan: 100%|██████████| 1.00/1.00 [00:00<00:00, 79.0files/s]\n",
      " Explode: 100%|██████████| 831/831 [00:00<00:00, 17.1kvars/s]\n",
      "  Encode: 100%|██████████| 238k/238k [00:00<00:00, 8.30MB/s]\n",
      "Finalise: 100%|██████████| 11.0/11.0 [00:00<00:00, 873array/s]\n"
     ]
    },
    {
     "name": "stdout",
     "output_type": "stream",
     "text": [
      "[OK] bio2zarr finished for Ne2e+04_r2e-09_100_1e+06_38\n",
      "tsinfer done\n",
      "Running tsdate\n"
     ]
    },
    {
     "name": "stderr",
     "output_type": "stream",
     "text": [
      "    Scan: 100%|██████████| 1.00/1.00 [00:00<00:00, 79.0files/s]\n",
      " Explode: 100%|██████████| 857/857 [00:00<00:00, 17.6kvars/s]\n",
      "  Encode: 100%|██████████| 252k/252k [00:00<00:00, 8.90MB/s]\n",
      "Finalise: 100%|██████████| 11.0/11.0 [00:00<00:00, 874array/s]\n"
     ]
    },
    {
     "name": "stdout",
     "output_type": "stream",
     "text": [
      "[OK] bio2zarr finished for Ne2e+04_r2e-09_100_1e+06_39\n",
      "tsinfer done\n",
      "Running tsdate\n"
     ]
    },
    {
     "name": "stderr",
     "output_type": "stream",
     "text": [
      "    Scan: 100%|██████████| 1.00/1.00 [00:00<00:00, 79.0files/s]\n",
      " Explode: 100%|██████████| 786/786 [00:00<00:00, 16.8kvars/s]\n",
      "  Encode: 100%|██████████| 225k/225k [00:00<00:00, 8.12MB/s]\n",
      "Finalise: 100%|██████████| 11.0/11.0 [00:00<00:00, 874array/s]\n"
     ]
    },
    {
     "name": "stdout",
     "output_type": "stream",
     "text": [
      "[OK] bio2zarr finished for Ne2e+04_r2e-09_100_1e+06_40\n",
      "tsinfer done\n",
      "Running tsdate\n"
     ]
    },
    {
     "name": "stderr",
     "output_type": "stream",
     "text": [
      "    Scan: 100%|██████████| 1.00/1.00 [00:00<00:00, 96.2files/s]\n",
      " Explode: 100%|██████████| 822/822 [00:00<00:00, 16.4kvars/s]\n",
      "  Encode: 100%|██████████| 235k/235k [00:00<00:00, 8.90MB/s]\n",
      "Finalise: 100%|██████████| 11.0/11.0 [00:00<00:00, 873array/s]\n"
     ]
    },
    {
     "name": "stdout",
     "output_type": "stream",
     "text": [
      "[OK] bio2zarr finished for Ne2e+04_r2e-09_100_1e+06_41\n",
      "tsinfer done\n",
      "Running tsdate\n"
     ]
    },
    {
     "name": "stderr",
     "output_type": "stream",
     "text": [
      "    Scan: 100%|██████████| 1.00/1.00 [00:00<00:00, 79.2files/s]\n",
      " Explode: 100%|██████████| 814/814 [00:00<00:00, 17.3kvars/s]\n",
      "  Encode: 100%|██████████| 233k/233k [00:00<00:00, 8.11MB/s]\n",
      "Finalise: 100%|██████████| 11.0/11.0 [00:00<00:00, 1.05karray/s]\n"
     ]
    },
    {
     "name": "stdout",
     "output_type": "stream",
     "text": [
      "[OK] bio2zarr finished for Ne2e+04_r2e-09_100_1e+06_42\n",
      "tsinfer done\n",
      "Running tsdate\n"
     ]
    },
    {
     "name": "stderr",
     "output_type": "stream",
     "text": [
      "    Scan: 100%|██████████| 1.00/1.00 [00:00<00:00, 88.9files/s]\n",
      " Explode: 100%|██████████| 856/856 [00:00<00:00, 19.3kvars/s]\n",
      "  Encode: 100%|██████████| 252k/252k [00:00<00:00, 8.53MB/s]\n",
      "Finalise: 100%|██████████| 11.0/11.0 [00:00<00:00, 1.06karray/s]\n"
     ]
    },
    {
     "name": "stdout",
     "output_type": "stream",
     "text": [
      "[OK] bio2zarr finished for Ne2e+04_r2e-09_100_1e+06_43\n",
      "tsinfer done\n",
      "Running tsdate\n"
     ]
    },
    {
     "name": "stderr",
     "output_type": "stream",
     "text": [
      "    Scan: 100%|██████████| 1.00/1.00 [00:00<00:00, 79.0files/s]\n",
      " Explode: 100%|██████████| 829/829 [00:00<00:00, 16.6kvars/s]\n",
      "  Encode: 100%|██████████| 237k/237k [00:00<00:00, 8.16MB/s]\n",
      "Finalise: 100%|██████████| 11.0/11.0 [00:00<00:00, 950array/s]\n"
     ]
    },
    {
     "name": "stdout",
     "output_type": "stream",
     "text": [
      "[OK] bio2zarr finished for Ne2e+04_r2e-09_100_1e+06_44\n",
      "tsinfer done\n",
      "Running tsdate\n"
     ]
    },
    {
     "name": "stderr",
     "output_type": "stream",
     "text": [
      "    Scan: 100%|██████████| 1.00/1.00 [00:00<00:00, 78.9files/s]\n",
      " Explode: 100%|██████████| 820/820 [00:00<00:00, 16.4kvars/s]\n",
      "  Encode: 100%|██████████| 235k/235k [00:00<00:00, 8.46MB/s]\n",
      "Finalise: 100%|██████████| 11.0/11.0 [00:00<00:00, 924array/s]\n"
     ]
    },
    {
     "name": "stdout",
     "output_type": "stream",
     "text": [
      "[OK] bio2zarr finished for Ne2e+04_r2e-09_100_1e+06_45\n",
      "tsinfer done\n",
      "Running tsdate\n"
     ]
    },
    {
     "name": "stderr",
     "output_type": "stream",
     "text": [
      "    Scan: 100%|██████████| 1.00/1.00 [00:00<00:00, 79.0files/s]\n",
      " Explode: 100%|██████████| 935/935 [00:00<00:00, 19.0kvars/s]\n",
      "  Encode: 100%|██████████| 267k/267k [00:00<00:00, 7.04MB/s]\n",
      "Finalise: 100%|██████████| 11.0/11.0 [00:00<00:00, 1.06karray/s]\n"
     ]
    },
    {
     "name": "stdout",
     "output_type": "stream",
     "text": [
      "[OK] bio2zarr finished for Ne2e+04_r2e-09_100_1e+06_46\n",
      "tsinfer done\n",
      "Running tsdate\n"
     ]
    },
    {
     "name": "stderr",
     "output_type": "stream",
     "text": [
      "    Scan: 100%|██████████| 1.00/1.00 [00:00<00:00, 79.1files/s]\n",
      " Explode: 100%|██████████| 784/784 [00:00<00:00, 15.8kvars/s]\n",
      "  Encode: 100%|██████████| 224k/224k [00:00<00:00, 8.68MB/s]\n",
      "Finalise: 100%|██████████| 11.0/11.0 [00:00<00:00, 1.05karray/s]\n"
     ]
    },
    {
     "name": "stdout",
     "output_type": "stream",
     "text": [
      "[OK] bio2zarr finished for Ne2e+04_r2e-09_100_1e+06_47\n",
      "tsinfer done\n",
      "Running tsdate\n"
     ]
    },
    {
     "name": "stderr",
     "output_type": "stream",
     "text": [
      "    Scan: 100%|██████████| 1.00/1.00 [00:00<00:00, 79.5files/s]\n",
      " Explode: 100%|██████████| 852/852 [00:00<00:00, 17.8kvars/s]\n",
      "  Encode: 100%|██████████| 244k/244k [00:00<00:00, 8.86MB/s]\n",
      "Finalise: 100%|██████████| 11.0/11.0 [00:00<00:00, 1.06karray/s]\n"
     ]
    },
    {
     "name": "stdout",
     "output_type": "stream",
     "text": [
      "[OK] bio2zarr finished for Ne2e+04_r2e-09_100_1e+06_48\n",
      "tsinfer done\n",
      "Running tsdate\n"
     ]
    },
    {
     "name": "stderr",
     "output_type": "stream",
     "text": [
      "    Scan: 100%|██████████| 1.00/1.00 [00:00<00:00, 79.0files/s]\n",
      " Explode: 100%|██████████| 764/764 [00:00<00:00, 13.1kvars/s]\n",
      "  Encode: 100%|██████████| 219k/219k [00:00<00:00, 8.42MB/s]\n",
      "Finalise: 100%|██████████| 11.0/11.0 [00:00<00:00, 874array/s]\n"
     ]
    },
    {
     "name": "stdout",
     "output_type": "stream",
     "text": [
      "[OK] bio2zarr finished for Ne2e+04_r2e-09_100_1e+06_49\n",
      "tsinfer done\n",
      "Running tsdate\n"
     ]
    },
    {
     "name": "stderr",
     "output_type": "stream",
     "text": [
      "    Scan: 100%|██████████| 1.00/1.00 [00:00<00:00, 87.0files/s]\n",
      " Explode: 100%|██████████| 841/841 [00:00<00:00, 18.8kvars/s]\n",
      "  Encode: 100%|██████████| 241k/241k [00:00<00:00, 8.71MB/s]\n",
      "Finalise: 100%|██████████| 11.0/11.0 [00:00<00:00, 873array/s]\n"
     ]
    },
    {
     "name": "stdout",
     "output_type": "stream",
     "text": [
      "[OK] bio2zarr finished for Ne2e+04_r2e-09_100_1e+06_50\n",
      "tsinfer done\n",
      "Running tsdate\n"
     ]
    },
    {
     "name": "stderr",
     "output_type": "stream",
     "text": [
      "    Scan: 100%|██████████| 1.00/1.00 [00:00<00:00, 82.9files/s]\n",
      " Explode: 100%|██████████| 866/866 [00:00<00:00, 18.4kvars/s]\n",
      "  Encode: 100%|██████████| 248k/248k [00:00<00:00, 9.07MB/s]\n",
      "Finalise: 100%|██████████| 11.0/11.0 [00:00<00:00, 1.05karray/s]\n"
     ]
    },
    {
     "name": "stdout",
     "output_type": "stream",
     "text": [
      "[OK] bio2zarr finished for Ne2e+04_r2e-09_100_1e+06_51\n",
      "tsinfer done\n",
      "Running tsdate\n"
     ]
    },
    {
     "name": "stderr",
     "output_type": "stream",
     "text": [
      "    Scan: 100%|██████████| 1.00/1.00 [00:00<00:00, 79.1files/s]\n",
      " Explode: 100%|██████████| 836/836 [00:00<00:00, 17.1kvars/s]\n",
      "  Encode: 100%|██████████| 239k/239k [00:00<00:00, 8.71MB/s]\n",
      "Finalise: 100%|██████████| 11.0/11.0 [00:00<00:00, 869array/s]\n"
     ]
    },
    {
     "name": "stdout",
     "output_type": "stream",
     "text": [
      "[OK] bio2zarr finished for Ne2e+04_r2e-09_100_1e+06_52\n",
      "tsinfer done\n",
      "Running tsdate\n"
     ]
    },
    {
     "name": "stderr",
     "output_type": "stream",
     "text": [
      "    Scan: 100%|██████████| 1.00/1.00 [00:00<00:00, 88.7files/s]\n",
      " Explode: 100%|██████████| 846/846 [00:00<00:00, 17.0kvars/s]\n",
      "  Encode: 100%|██████████| 249k/249k [00:00<00:00, 9.27MB/s]\n",
      "Finalise: 100%|██████████| 11.0/11.0 [00:00<00:00, 874array/s]\n"
     ]
    },
    {
     "name": "stdout",
     "output_type": "stream",
     "text": [
      "[OK] bio2zarr finished for Ne2e+04_r2e-09_100_1e+06_53\n",
      "tsinfer done\n",
      "Running tsdate\n"
     ]
    },
    {
     "name": "stderr",
     "output_type": "stream",
     "text": [
      "    Scan: 100%|██████████| 1.00/1.00 [00:00<00:00, 79.1files/s]\n",
      " Explode: 100%|██████████| 820/820 [00:00<00:00, 16.9kvars/s]\n",
      "  Encode: 100%|██████████| 241k/241k [00:00<00:00, 8.70MB/s]\n",
      "Finalise: 100%|██████████| 11.0/11.0 [00:00<00:00, 969array/s]\n"
     ]
    },
    {
     "name": "stdout",
     "output_type": "stream",
     "text": [
      "[OK] bio2zarr finished for Ne2e+04_r2e-09_100_1e+06_54\n",
      "tsinfer done\n",
      "Running tsdate\n"
     ]
    },
    {
     "name": "stderr",
     "output_type": "stream",
     "text": [
      "    Scan: 100%|██████████| 1.00/1.00 [00:00<00:00, 83.2files/s]\n",
      " Explode: 100%|██████████| 809/809 [00:00<00:00, 16.4kvars/s]\n",
      "  Encode: 100%|██████████| 238k/238k [00:00<00:00, 8.64MB/s]\n",
      "Finalise: 100%|██████████| 11.0/11.0 [00:00<00:00, 1.06karray/s]\n"
     ]
    },
    {
     "name": "stdout",
     "output_type": "stream",
     "text": [
      "[OK] bio2zarr finished for Ne2e+04_r2e-09_100_1e+06_55\n",
      "tsinfer done\n",
      "Running tsdate\n"
     ]
    },
    {
     "name": "stderr",
     "output_type": "stream",
     "text": [
      "    Scan: 100%|██████████| 1.00/1.00 [00:00<00:00, 79.0files/s]\n",
      " Explode: 100%|██████████| 826/826 [00:00<00:00, 16.7kvars/s]\n",
      "  Encode: 100%|██████████| 236k/236k [00:00<00:00, 8.20MB/s]\n",
      "Finalise: 100%|██████████| 11.0/11.0 [00:00<00:00, 936array/s]\n"
     ]
    },
    {
     "name": "stdout",
     "output_type": "stream",
     "text": [
      "[OK] bio2zarr finished for Ne2e+04_r2e-09_100_1e+06_56\n",
      "tsinfer done\n",
      "Running tsdate\n"
     ]
    },
    {
     "name": "stderr",
     "output_type": "stream",
     "text": [
      "    Scan: 100%|██████████| 1.00/1.00 [00:00<00:00, 86.6files/s]\n",
      " Explode: 100%|██████████| 829/829 [00:00<00:00, 16.9kvars/s]\n",
      "  Encode: 100%|██████████| 237k/237k [00:00<00:00, 8.16MB/s]\n",
      "Finalise: 100%|██████████| 11.0/11.0 [00:00<00:00, 874array/s]\n"
     ]
    },
    {
     "name": "stdout",
     "output_type": "stream",
     "text": [
      "[OK] bio2zarr finished for Ne2e+04_r2e-09_100_1e+06_57\n",
      "tsinfer done\n",
      "Running tsdate\n"
     ]
    },
    {
     "name": "stderr",
     "output_type": "stream",
     "text": [
      "    Scan: 100%|██████████| 1.00/1.00 [00:00<00:00, 78.8files/s]\n",
      " Explode: 100%|██████████| 807/807 [00:00<00:00, 16.0kvars/s]\n",
      "  Encode: 100%|██████████| 231k/231k [00:00<00:00, 8.26MB/s]\n",
      "Finalise: 100%|██████████| 11.0/11.0 [00:00<00:00, 874array/s]\n"
     ]
    },
    {
     "name": "stdout",
     "output_type": "stream",
     "text": [
      "[OK] bio2zarr finished for Ne2e+04_r2e-09_100_1e+06_58\n",
      "tsinfer done\n",
      "Running tsdate\n"
     ]
    },
    {
     "name": "stderr",
     "output_type": "stream",
     "text": [
      "    Scan: 100%|██████████| 1.00/1.00 [00:00<00:00, 83.3files/s]\n",
      " Explode: 100%|██████████| 864/864 [00:00<00:00, 18.1kvars/s]\n",
      "  Encode: 100%|██████████| 247k/247k [00:00<00:00, 8.47MB/s]\n",
      "Finalise: 100%|██████████| 11.0/11.0 [00:00<00:00, 873array/s]\n"
     ]
    },
    {
     "name": "stdout",
     "output_type": "stream",
     "text": [
      "[OK] bio2zarr finished for Ne2e+04_r2e-09_100_1e+06_59\n",
      "tsinfer done\n",
      "Running tsdate\n"
     ]
    },
    {
     "name": "stderr",
     "output_type": "stream",
     "text": [
      "    Scan: 100%|██████████| 1.00/1.00 [00:00<00:00, 79.1files/s]\n",
      " Explode: 100%|██████████| 854/854 [00:00<00:00, 18.5kvars/s]\n",
      "  Encode: 100%|██████████| 251k/251k [00:00<00:00, 8.65MB/s]\n",
      "Finalise: 100%|██████████| 11.0/11.0 [00:00<00:00, 1.06karray/s]\n"
     ]
    },
    {
     "name": "stdout",
     "output_type": "stream",
     "text": [
      "[OK] bio2zarr finished for Ne2e+04_r2e-09_100_1e+06_60\n",
      "tsinfer done\n",
      "Running tsdate\n"
     ]
    },
    {
     "name": "stderr",
     "output_type": "stream",
     "text": [
      "    Scan: 100%|██████████| 1.00/1.00 [00:00<00:00, 88.9files/s]\n",
      " Explode: 100%|██████████| 827/827 [00:00<00:00, 17.8kvars/s]\n",
      "  Encode: 100%|██████████| 237k/237k [00:00<00:00, 8.21MB/s]\n",
      "Finalise: 100%|██████████| 11.0/11.0 [00:00<00:00, 874array/s]\n"
     ]
    },
    {
     "name": "stdout",
     "output_type": "stream",
     "text": [
      "[OK] bio2zarr finished for Ne2e+04_r2e-09_100_1e+06_61\n",
      "tsinfer done\n",
      "Running tsdate\n"
     ]
    },
    {
     "name": "stderr",
     "output_type": "stream",
     "text": [
      "    Scan: 100%|██████████| 1.00/1.00 [00:00<00:00, 79.0files/s]\n",
      " Explode: 100%|██████████| 877/877 [00:00<00:00, 17.2kvars/s]\n",
      "  Encode: 100%|██████████| 251k/251k [00:00<00:00, 8.76MB/s]\n",
      "Finalise: 100%|██████████| 11.0/11.0 [00:00<00:00, 874array/s]\n"
     ]
    },
    {
     "name": "stdout",
     "output_type": "stream",
     "text": [
      "[OK] bio2zarr finished for Ne2e+04_r2e-09_100_1e+06_62\n",
      "tsinfer done\n",
      "Running tsdate\n"
     ]
    },
    {
     "name": "stderr",
     "output_type": "stream",
     "text": [
      "    Scan: 100%|██████████| 1.00/1.00 [00:00<00:00, 78.7files/s]\n",
      " Explode: 100%|██████████| 784/784 [00:00<00:00, 16.9kvars/s]\n",
      "  Encode: 100%|██████████| 230k/230k [00:00<00:00, 8.04MB/s]\n",
      "Finalise: 100%|██████████| 11.0/11.0 [00:00<00:00, 873array/s]\n"
     ]
    },
    {
     "name": "stdout",
     "output_type": "stream",
     "text": [
      "[OK] bio2zarr finished for Ne2e+04_r2e-09_100_1e+06_63\n",
      "tsinfer done\n",
      "Running tsdate\n"
     ]
    },
    {
     "name": "stderr",
     "output_type": "stream",
     "text": [
      "    Scan: 100%|██████████| 1.00/1.00 [00:00<00:00, 79.0files/s]\n",
      " Explode: 100%|██████████| 856/856 [00:00<00:00, 19.0kvars/s]\n",
      "  Encode: 100%|██████████| 245k/245k [00:00<00:00, 8.43MB/s]\n",
      "Finalise: 100%|██████████| 11.0/11.0 [00:00<00:00, 872array/s]\n"
     ]
    },
    {
     "name": "stdout",
     "output_type": "stream",
     "text": [
      "[OK] bio2zarr finished for Ne2e+04_r2e-09_100_1e+06_64\n",
      "tsinfer done\n",
      "Running tsdate\n"
     ]
    },
    {
     "name": "stderr",
     "output_type": "stream",
     "text": [
      "    Scan: 100%|██████████| 1.00/1.00 [00:00<00:00, 79.1files/s]\n",
      " Explode: 100%|██████████| 843/843 [00:00<00:00, 17.0kvars/s]\n",
      "  Encode: 100%|██████████| 241k/241k [00:00<00:00, 8.77MB/s]\n",
      "Finalise: 100%|██████████| 11.0/11.0 [00:00<00:00, 869array/s]\n"
     ]
    },
    {
     "name": "stdout",
     "output_type": "stream",
     "text": [
      "[OK] bio2zarr finished for Ne2e+04_r2e-09_100_1e+06_65\n",
      "tsinfer done\n",
      "Running tsdate\n"
     ]
    },
    {
     "name": "stderr",
     "output_type": "stream",
     "text": [
      "    Scan: 100%|██████████| 1.00/1.00 [00:00<00:00, 79.1files/s]\n",
      " Explode: 100%|██████████| 832/832 [00:00<00:00, 18.1kvars/s]\n",
      "  Encode: 100%|██████████| 238k/238k [00:00<00:00, 8.58MB/s]\n",
      "Finalise: 100%|██████████| 11.0/11.0 [00:00<00:00, 902array/s]\n"
     ]
    },
    {
     "name": "stdout",
     "output_type": "stream",
     "text": [
      "[OK] bio2zarr finished for Ne2e+04_r2e-09_100_1e+06_66\n",
      "tsinfer done\n",
      "Running tsdate\n"
     ]
    },
    {
     "name": "stderr",
     "output_type": "stream",
     "text": [
      "    Scan: 100%|██████████| 1.00/1.00 [00:00<00:00, 82.4files/s]\n",
      " Explode: 100%|██████████| 897/897 [00:00<00:00, 17.6kvars/s]\n",
      "  Encode: 100%|██████████| 257k/257k [00:00<00:00, 6.33MB/s]\n",
      "Finalise: 100%|██████████| 11.0/11.0 [00:00<00:00, 907array/s]\n"
     ]
    },
    {
     "name": "stdout",
     "output_type": "stream",
     "text": [
      "[OK] bio2zarr finished for Ne2e+04_r2e-09_100_1e+06_67\n",
      "tsinfer done\n",
      "Running tsdate\n"
     ]
    },
    {
     "name": "stderr",
     "output_type": "stream",
     "text": [
      "    Scan: 100%|██████████| 1.00/1.00 [00:00<00:00, 86.3files/s]\n",
      " Explode: 100%|██████████| 837/837 [00:00<00:00, 16.9kvars/s]\n",
      "  Encode: 100%|██████████| 246k/246k [00:00<00:00, 9.22MB/s]\n",
      "Finalise: 100%|██████████| 11.0/11.0 [00:00<00:00, 947array/s]\n"
     ]
    },
    {
     "name": "stdout",
     "output_type": "stream",
     "text": [
      "[OK] bio2zarr finished for Ne2e+04_r2e-09_100_1e+06_68\n",
      "tsinfer done\n",
      "Running tsdate\n"
     ]
    },
    {
     "ename": "AssertionError",
     "evalue": "Use fewer rescaling intervals",
     "output_type": "error",
     "traceback": [
      "\u001b[31m---------------------------------------------------------------------------\u001b[39m",
      "\u001b[31mAssertionError\u001b[39m                            Traceback (most recent call last)",
      "\u001b[36mCell\u001b[39m\u001b[36m \u001b[39m\u001b[32mIn[14]\u001b[39m\u001b[32m, line 1\u001b[39m\n\u001b[32m----> \u001b[39m\u001b[32m1\u001b[39m \u001b[43msimulate_dump\u001b[49m\u001b[43m(\u001b[49m\u001b[32;43m2e4\u001b[39;49m\u001b[43m,\u001b[49m\u001b[32;43m50\u001b[39;49m\u001b[43m,\u001b[49m\u001b[32;43m100\u001b[39;49m\u001b[43m,\u001b[49m\u001b[43mtree_dir\u001b[49m\u001b[43m=\u001b[49m\u001b[33;43m\"\u001b[39;49m\u001b[33;43m/Users/jinminli/research/tree_distance/simulations/diff_rates/tree/\u001b[39;49m\u001b[33;43m\"\u001b[39;49m\u001b[43m,\u001b[49m\u001b[43mvcz_dir\u001b[49m\u001b[43m=\u001b[49m\u001b[33;43m\"\u001b[39;49m\u001b[33;43m/Users/jinminli/research/tree_distance/simulations/diff_rates/vcf/\u001b[39;49m\u001b[33;43m\"\u001b[39;49m\u001b[43m,\u001b[49m\u001b[43mmut_rate\u001b[49m\u001b[43m=\u001b[49m\u001b[32;43m0.2e-8\u001b[39;49m\u001b[43m)\u001b[49m\n",
      "\u001b[36mCell\u001b[39m\u001b[36m \u001b[39m\u001b[32mIn[9]\u001b[39m\u001b[32m, line 21\u001b[39m, in \u001b[36msimulate_dump\u001b[39m\u001b[34m(model, number_individuals, num_replicates, tree_dir, vcz_dir, sequence_length, mut_rate)\u001b[39m\n\u001b[32m     19\u001b[39m             ts=ts.delete_sites(\u001b[32m0\u001b[39m)\n\u001b[32m     20\u001b[39m         dump_ts(ts,save_dir=tree_replicate_dir,vcz_dir=vcz_replicate_dir,name=name+\u001b[33m\"\u001b[39m\u001b[33m_\u001b[39m\u001b[33m\"\u001b[39m+\u001b[38;5;28mstr\u001b[39m(i))\n\u001b[32m---> \u001b[39m\u001b[32m21\u001b[39m         \u001b[43minfer_ts\u001b[49m\u001b[43m(\u001b[49m\u001b[43mvcz_full_name\u001b[49m\u001b[43m=\u001b[49m\u001b[43mvcz_replicate_dir\u001b[49m\u001b[43m+\u001b[49m\u001b[43mname\u001b[49m\u001b[43m+\u001b[49m\u001b[33;43m\"\u001b[39;49m\u001b[33;43m_\u001b[39;49m\u001b[33;43m\"\u001b[39;49m\u001b[43m+\u001b[49m\u001b[38;5;28;43mstr\u001b[39;49m\u001b[43m(\u001b[49m\u001b[43mi\u001b[49m\u001b[43m)\u001b[49m\u001b[43m,\u001b[49m\u001b[43mtree_full_name\u001b[49m\u001b[43m=\u001b[49m\u001b[43mtree_replicate_dir\u001b[49m\u001b[43m+\u001b[49m\u001b[43mname\u001b[49m\u001b[43m+\u001b[49m\u001b[33;43m\"\u001b[39;49m\u001b[33;43m_\u001b[39;49m\u001b[33;43m\"\u001b[39;49m\u001b[43m+\u001b[49m\u001b[38;5;28;43mstr\u001b[39;49m\u001b[43m(\u001b[49m\u001b[43mi\u001b[49m\u001b[43m)\u001b[49m\u001b[43m)\u001b[49m\n\u001b[32m     22\u001b[39m \u001b[38;5;28;01melse\u001b[39;00m:\n\u001b[32m     23\u001b[39m     \u001b[38;5;28;01massert\u001b[39;00m(\u001b[38;5;28misinstance\u001b[39m(model, \u001b[38;5;28mstr\u001b[39m))\n",
      "\u001b[36mCell\u001b[39m\u001b[36m \u001b[39m\u001b[32mIn[3]\u001b[39m\u001b[32m, line 27\u001b[39m, in \u001b[36minfer_ts\u001b[39m\u001b[34m(vcz_full_name, tree_full_name)\u001b[39m\n\u001b[32m     24\u001b[39m \u001b[38;5;28mprint\u001b[39m(\u001b[33m\"\u001b[39m\u001b[33mRunning tsdate\u001b[39m\u001b[33m\"\u001b[39m)\n\u001b[32m     25\u001b[39m simplified_ts = tsdate.preprocess_ts(inferred_ts)\n\u001b[32m---> \u001b[39m\u001b[32m27\u001b[39m redated_ts = \u001b[43mtsdate\u001b[49m\u001b[43m.\u001b[49m\u001b[43mdate\u001b[49m\u001b[43m(\u001b[49m\u001b[43msimplified_ts\u001b[49m\u001b[43m,\u001b[49m\u001b[43m \u001b[49m\u001b[43mmutation_rate\u001b[49m\u001b[43m=\u001b[49m\u001b[32;43m1e-8\u001b[39;49m\u001b[43m)\u001b[49m\n\u001b[32m     29\u001b[39m out_file = \u001b[33mf\u001b[39m\u001b[33m\"\u001b[39m\u001b[38;5;132;01m{\u001b[39;00mtree_full_name\u001b[38;5;132;01m}\u001b[39;00m\u001b[33m-inferred.tsdate.trees\u001b[39m\u001b[33m\"\u001b[39m\n\u001b[32m     30\u001b[39m redated_ts.dump(out_file)\n",
      "\u001b[36mFile \u001b[39m\u001b[32m~/research/tree_distance/myenv/lib/python3.13/site-packages/tsdate/core.py:980\u001b[39m, in \u001b[36mdate\u001b[39m\u001b[34m(tree_sequence, mutation_rate, recombination_rate, time_units, method, constr_iterations, set_metadata, return_fit, return_likelihood, allow_unary, progress, record_provenance, **kwargs)\u001b[39m\n\u001b[32m    977\u001b[39m \u001b[38;5;28;01mif\u001b[39;00m method \u001b[38;5;129;01mnot\u001b[39;00m \u001b[38;5;129;01min\u001b[39;00m estimation_methods:\n\u001b[32m    978\u001b[39m     \u001b[38;5;28;01mraise\u001b[39;00m \u001b[38;5;167;01mValueError\u001b[39;00m(\u001b[33mf\u001b[39m\u001b[33m\"\u001b[39m\u001b[33mmethod must be one of \u001b[39m\u001b[38;5;132;01m{\u001b[39;00m\u001b[38;5;28mlist\u001b[39m(estimation_methods.keys())\u001b[38;5;132;01m}\u001b[39;00m\u001b[33m\"\u001b[39m)\n\u001b[32m--> \u001b[39m\u001b[32m980\u001b[39m \u001b[38;5;28;01mreturn\u001b[39;00m \u001b[43mestimation_methods\u001b[49m\u001b[43m[\u001b[49m\u001b[43mmethod\u001b[49m\u001b[43m]\u001b[49m\u001b[43m(\u001b[49m\n\u001b[32m    981\u001b[39m \u001b[43m    \u001b[49m\u001b[43mtree_sequence\u001b[49m\u001b[43m,\u001b[49m\n\u001b[32m    982\u001b[39m \u001b[43m    \u001b[49m\u001b[43mmutation_rate\u001b[49m\u001b[43m=\u001b[49m\u001b[43mmutation_rate\u001b[49m\u001b[43m,\u001b[49m\n\u001b[32m    983\u001b[39m \u001b[43m    \u001b[49m\u001b[43mrecombination_rate\u001b[49m\u001b[43m=\u001b[49m\u001b[43mrecombination_rate\u001b[49m\u001b[43m,\u001b[49m\n\u001b[32m    984\u001b[39m \u001b[43m    \u001b[49m\u001b[43mtime_units\u001b[49m\u001b[43m=\u001b[49m\u001b[43mtime_units\u001b[49m\u001b[43m,\u001b[49m\n\u001b[32m    985\u001b[39m \u001b[43m    \u001b[49m\u001b[43mprogress\u001b[49m\u001b[43m=\u001b[49m\u001b[43mprogress\u001b[49m\u001b[43m,\u001b[49m\n\u001b[32m    986\u001b[39m \u001b[43m    \u001b[49m\u001b[43mconstr_iterations\u001b[49m\u001b[43m=\u001b[49m\u001b[43mconstr_iterations\u001b[49m\u001b[43m,\u001b[49m\n\u001b[32m    987\u001b[39m \u001b[43m    \u001b[49m\u001b[43mreturn_fit\u001b[49m\u001b[43m=\u001b[49m\u001b[43mreturn_fit\u001b[49m\u001b[43m,\u001b[49m\n\u001b[32m    988\u001b[39m \u001b[43m    \u001b[49m\u001b[43mreturn_likelihood\u001b[49m\u001b[43m=\u001b[49m\u001b[43mreturn_likelihood\u001b[49m\u001b[43m,\u001b[49m\n\u001b[32m    989\u001b[39m \u001b[43m    \u001b[49m\u001b[43mallow_unary\u001b[49m\u001b[43m=\u001b[49m\u001b[43mallow_unary\u001b[49m\u001b[43m,\u001b[49m\n\u001b[32m    990\u001b[39m \u001b[43m    \u001b[49m\u001b[43mset_metadata\u001b[49m\u001b[43m=\u001b[49m\u001b[43mset_metadata\u001b[49m\u001b[43m,\u001b[49m\n\u001b[32m    991\u001b[39m \u001b[43m    \u001b[49m\u001b[43mrecord_provenance\u001b[49m\u001b[43m=\u001b[49m\u001b[43mrecord_provenance\u001b[49m\u001b[43m,\u001b[49m\n\u001b[32m    992\u001b[39m \u001b[43m    \u001b[49m\u001b[43m*\u001b[49m\u001b[43m*\u001b[49m\u001b[43mkwargs\u001b[49m\u001b[43m,\u001b[49m\n\u001b[32m    993\u001b[39m \u001b[43m\u001b[49m\u001b[43m)\u001b[49m\n",
      "\u001b[36mFile \u001b[39m\u001b[32m~/research/tree_distance/myenv/lib/python3.13/site-packages/tsdate/core.py:858\u001b[39m, in \u001b[36mvariational_gamma\u001b[39m\u001b[34m(tree_sequence, mutation_rate, eps, max_iterations, rescaling_intervals, rescaling_iterations, match_segregating_sites, max_shape, regularise_roots, singletons_phased, **kwargs)\u001b[39m\n\u001b[32m    852\u001b[39m     \u001b[38;5;28;01mraise\u001b[39;00m \u001b[38;5;167;01mValueError\u001b[39;00m(\n\u001b[32m    853\u001b[39m         \u001b[33m\"\u001b[39m\u001b[33mNo mutations present: these are required for the variational_gamma method\u001b[39m\u001b[33m\"\u001b[39m\n\u001b[32m    854\u001b[39m     )\n\u001b[32m    855\u001b[39m dating_method = VariationalGammaMethod(\n\u001b[32m    856\u001b[39m     tree_sequence, mutation_rate=mutation_rate, **kwargs\n\u001b[32m    857\u001b[39m )\n\u001b[32m--> \u001b[39m\u001b[32m858\u001b[39m result = \u001b[43mdating_method\u001b[49m\u001b[43m.\u001b[49m\u001b[43mrun\u001b[49m\u001b[43m(\u001b[49m\n\u001b[32m    859\u001b[39m \u001b[43m    \u001b[49m\u001b[43meps\u001b[49m\u001b[43m=\u001b[49m\u001b[43meps\u001b[49m\u001b[43m,\u001b[49m\n\u001b[32m    860\u001b[39m \u001b[43m    \u001b[49m\u001b[43mmax_iterations\u001b[49m\u001b[43m=\u001b[49m\u001b[43mmax_iterations\u001b[49m\u001b[43m,\u001b[49m\n\u001b[32m    861\u001b[39m \u001b[43m    \u001b[49m\u001b[43mmax_shape\u001b[49m\u001b[43m=\u001b[49m\u001b[43mmax_shape\u001b[49m\u001b[43m,\u001b[49m\n\u001b[32m    862\u001b[39m \u001b[43m    \u001b[49m\u001b[43mrescaling_intervals\u001b[49m\u001b[43m=\u001b[49m\u001b[43mrescaling_intervals\u001b[49m\u001b[43m,\u001b[49m\n\u001b[32m    863\u001b[39m \u001b[43m    \u001b[49m\u001b[43mrescaling_iterations\u001b[49m\u001b[43m=\u001b[49m\u001b[43mrescaling_iterations\u001b[49m\u001b[43m,\u001b[49m\n\u001b[32m    864\u001b[39m \u001b[43m    \u001b[49m\u001b[43mmatch_segregating_sites\u001b[49m\u001b[43m=\u001b[49m\u001b[43mmatch_segregating_sites\u001b[49m\u001b[43m,\u001b[49m\n\u001b[32m    865\u001b[39m \u001b[43m    \u001b[49m\u001b[43mregularise_roots\u001b[49m\u001b[43m=\u001b[49m\u001b[43mregularise_roots\u001b[49m\u001b[43m,\u001b[49m\n\u001b[32m    866\u001b[39m \u001b[43m    \u001b[49m\u001b[43msingletons_phased\u001b[49m\u001b[43m=\u001b[49m\u001b[43msingletons_phased\u001b[49m\u001b[43m,\u001b[49m\n\u001b[32m    867\u001b[39m \u001b[43m\u001b[49m\u001b[43m)\u001b[49m\n\u001b[32m    868\u001b[39m \u001b[38;5;28;01mreturn\u001b[39;00m dating_method.parse_result(result, eps)\n",
      "\u001b[36mFile \u001b[39m\u001b[32m~/research/tree_distance/myenv/lib/python3.13/site-packages/tsdate/core.py:478\u001b[39m, in \u001b[36mVariationalGammaMethod.run\u001b[39m\u001b[34m(self, eps, max_iterations, max_shape, rescaling_intervals, rescaling_iterations, match_segregating_sites, regularise_roots, singletons_phased)\u001b[39m\n\u001b[32m    470\u001b[39m     \u001b[38;5;28;01mraise\u001b[39;00m \u001b[38;5;167;01mValueError\u001b[39;00m(\u001b[33m\"\u001b[39m\u001b[33mVariational gamma method requires mutation rate\u001b[39m\u001b[33m\"\u001b[39m)\n\u001b[32m    472\u001b[39m fit_obj = variational.ExpectationPropagation(\n\u001b[32m    473\u001b[39m     \u001b[38;5;28mself\u001b[39m.ts,\n\u001b[32m    474\u001b[39m     mutation_rate=\u001b[38;5;28mself\u001b[39m.mutation_rate,\n\u001b[32m    475\u001b[39m     allow_unary=\u001b[38;5;28mself\u001b[39m.allow_unary,\n\u001b[32m    476\u001b[39m     singletons_phased=singletons_phased,\n\u001b[32m    477\u001b[39m )\n\u001b[32m--> \u001b[39m\u001b[32m478\u001b[39m \u001b[43mfit_obj\u001b[49m\u001b[43m.\u001b[49m\u001b[43minfer\u001b[49m\u001b[43m(\u001b[49m\n\u001b[32m    479\u001b[39m \u001b[43m    \u001b[49m\u001b[43mep_iterations\u001b[49m\u001b[43m=\u001b[49m\u001b[43mmax_iterations\u001b[49m\u001b[43m,\u001b[49m\n\u001b[32m    480\u001b[39m \u001b[43m    \u001b[49m\u001b[43mmax_shape\u001b[49m\u001b[43m=\u001b[49m\u001b[43mmax_shape\u001b[49m\u001b[43m,\u001b[49m\n\u001b[32m    481\u001b[39m \u001b[43m    \u001b[49m\u001b[43mrescale_intervals\u001b[49m\u001b[43m=\u001b[49m\u001b[43mrescaling_intervals\u001b[49m\u001b[43m,\u001b[49m\n\u001b[32m    482\u001b[39m \u001b[43m    \u001b[49m\u001b[43mrescale_iterations\u001b[49m\u001b[43m=\u001b[49m\u001b[43mrescaling_iterations\u001b[49m\u001b[43m,\u001b[49m\n\u001b[32m    483\u001b[39m \u001b[43m    \u001b[49m\u001b[43mregularise\u001b[49m\u001b[43m=\u001b[49m\u001b[43mregularise_roots\u001b[49m\u001b[43m,\u001b[49m\n\u001b[32m    484\u001b[39m \u001b[43m    \u001b[49m\u001b[43mrescale_segsites\u001b[49m\u001b[43m=\u001b[49m\u001b[43mmatch_segregating_sites\u001b[49m\u001b[43m,\u001b[49m\n\u001b[32m    485\u001b[39m \u001b[43m    \u001b[49m\u001b[43mprogress\u001b[49m\u001b[43m=\u001b[49m\u001b[38;5;28;43mself\u001b[39;49m\u001b[43m.\u001b[49m\u001b[43mpbar\u001b[49m\u001b[43m,\u001b[49m\n\u001b[32m    486\u001b[39m \u001b[43m\u001b[49m\u001b[43m)\u001b[49m\n\u001b[32m    487\u001b[39m marginal_likl = fit_obj.marginal_likelihood()\n\u001b[32m    488\u001b[39m node_mn, node_va = fit_obj.node_moments()\n",
      "\u001b[36mFile \u001b[39m\u001b[32m~/research/tree_distance/myenv/lib/python3.13/site-packages/tsdate/variational.py:902\u001b[39m, in \u001b[36mExpectationPropagation.infer\u001b[39m\u001b[34m(self, ep_iterations, max_shape, rescale_intervals, rescale_iterations, regularise, rescale_segsites, min_step, progress)\u001b[39m\n\u001b[32m    900\u001b[39m \u001b[38;5;28;01mif\u001b[39;00m rescale_intervals > \u001b[32m0\u001b[39m \u001b[38;5;129;01mand\u001b[39;00m rescale_iterations > \u001b[32m0\u001b[39m:\n\u001b[32m    901\u001b[39m     rescale_timing = time.time()\n\u001b[32m--> \u001b[39m\u001b[32m902\u001b[39m     \u001b[38;5;28;43mself\u001b[39;49m\u001b[43m.\u001b[49m\u001b[43mrescale\u001b[49m\u001b[43m(\u001b[49m\n\u001b[32m    903\u001b[39m \u001b[43m        \u001b[49m\u001b[43mrescale_intervals\u001b[49m\u001b[43m=\u001b[49m\u001b[43mrescale_intervals\u001b[49m\u001b[43m,\u001b[49m\n\u001b[32m    904\u001b[39m \u001b[43m        \u001b[49m\u001b[43mrescale_iterations\u001b[49m\u001b[43m=\u001b[49m\u001b[43mrescale_iterations\u001b[49m\u001b[43m,\u001b[49m\n\u001b[32m    905\u001b[39m \u001b[43m        \u001b[49m\u001b[43mrescale_segsites\u001b[49m\u001b[43m=\u001b[49m\u001b[43mrescale_segsites\u001b[49m\u001b[43m,\u001b[49m\n\u001b[32m    906\u001b[39m \u001b[43m        \u001b[49m\u001b[43mmax_shape\u001b[49m\u001b[43m=\u001b[49m\u001b[43mmax_shape\u001b[49m\u001b[43m,\u001b[49m\n\u001b[32m    907\u001b[39m \u001b[43m        \u001b[49m\u001b[43mprogress\u001b[49m\u001b[43m=\u001b[49m\u001b[43mprogress\u001b[49m\u001b[43m,\u001b[49m\n\u001b[32m    908\u001b[39m \u001b[43m    \u001b[49m\u001b[43m)\u001b[49m\n\u001b[32m    909\u001b[39m     rescale_timing -= time.time()\n\u001b[32m    910\u001b[39m     logger.info(\u001b[33mf\u001b[39m\u001b[33m\"\u001b[39m\u001b[33mTimescale rescaled in \u001b[39m\u001b[38;5;132;01m{\u001b[39;00m\u001b[38;5;28mabs\u001b[39m(rescale_timing)\u001b[38;5;132;01m:\u001b[39;00m\u001b[33m.2f\u001b[39m\u001b[38;5;132;01m}\u001b[39;00m\u001b[33m seconds\u001b[39m\u001b[33m\"\u001b[39m)\n",
      "\u001b[36mFile \u001b[39m\u001b[32m~/research/tree_distance/myenv/lib/python3.13/site-packages/tsdate/variational.py:786\u001b[39m, in \u001b[36mExpectationPropagation.rescale\u001b[39m\u001b[34m(self, rescale_intervals, rescale_segsites, rescale_iterations, quantile_width, max_shape, progress)\u001b[39m\n\u001b[32m    777\u001b[39m \u001b[38;5;28;01mfor\u001b[39;00m _ \u001b[38;5;129;01min\u001b[39;00m np.arange(rescale_iterations):  \u001b[38;5;66;03m# estimate time rescaling\u001b[39;00m\n\u001b[32m    778\u001b[39m     original_breaks, rescaled_breaks = mutational_timescale(\n\u001b[32m    779\u001b[39m         rescaled_nodes_time,\n\u001b[32m    780\u001b[39m         likelihoods,\n\u001b[32m   (...)\u001b[39m\u001b[32m    784\u001b[39m         rescale_intervals,\n\u001b[32m    785\u001b[39m     )\n\u001b[32m--> \u001b[39m\u001b[32m786\u001b[39m     rescaled_nodes_time = \u001b[43mpiecewise_scale_point_estimate\u001b[49m\u001b[43m(\u001b[49m\n\u001b[32m    787\u001b[39m \u001b[43m        \u001b[49m\u001b[43mrescaled_nodes_time\u001b[49m\u001b[43m,\u001b[49m\n\u001b[32m    788\u001b[39m \u001b[43m        \u001b[49m\u001b[43mnodes_fixed\u001b[49m\u001b[43m,\u001b[49m\n\u001b[32m    789\u001b[39m \u001b[43m        \u001b[49m\u001b[43moriginal_breaks\u001b[49m\u001b[43m,\u001b[49m\n\u001b[32m    790\u001b[39m \u001b[43m        \u001b[49m\u001b[43mrescaled_breaks\u001b[49m\u001b[43m,\u001b[49m\n\u001b[32m    791\u001b[39m \u001b[43m    \u001b[49m\u001b[43m)\u001b[49m\n\u001b[32m    792\u001b[39m     \u001b[38;5;28;01massert\u001b[39;00m np.allclose(rescaled_nodes_time[nodes_fixed], nodes_time[nodes_fixed])\n\u001b[32m    793\u001b[39m \u001b[38;5;66;03m# TODO: clean up\u001b[39;00m\n",
      "\u001b[36mFile \u001b[39m\u001b[32m~/research/tree_distance/myenv/lib/python3.13/site-packages/tsdate/rescaling.py:521\u001b[39m, in \u001b[36mpiecewise_scale_point_estimate\u001b[39m\u001b[34m()\u001b[39m\n\u001b[32m    514\u001b[39m \u001b[38;5;129m@numba_jit\u001b[39m(_f1w(_f1r, _b1r, _f1r, _f1r))\n\u001b[32m    515\u001b[39m \u001b[38;5;28;01mdef\u001b[39;00m\u001b[38;5;250m \u001b[39m\u001b[34mpiecewise_scale_point_estimate\u001b[39m(\n\u001b[32m    516\u001b[39m     point_estimate,\n\u001b[32m   (...)\u001b[39m\u001b[32m    519\u001b[39m     rescaled_breaks,\n\u001b[32m    520\u001b[39m ):\n\u001b[32m--> \u001b[39m\u001b[32m521\u001b[39m     \u001b[38;5;28;01massert\u001b[39;00m np.all(np.diff(rescaled_breaks) > \u001b[32m0\u001b[39m), \u001b[33m\"\u001b[39m\u001b[33mUse fewer rescaling intervals\u001b[39m\u001b[33m\"\u001b[39m\n\u001b[32m    522\u001b[39m     \u001b[38;5;28;01massert\u001b[39;00m np.all(np.diff(original_breaks) > \u001b[32m0\u001b[39m), \u001b[33m\"\u001b[39m\u001b[33mUse fewer rescaling intervals\u001b[39m\u001b[33m\"\u001b[39m\n\u001b[32m    523\u001b[39m     scalings = np.append(np.diff(rescaled_breaks) / np.diff(original_breaks), \u001b[32m0\u001b[39m)\n",
      "\u001b[31mAssertionError\u001b[39m: Use fewer rescaling intervals"
     ]
    }
   ],
   "source": [
    "simulate_dump(2e4,50,100,tree_dir=\"/Users/jinminli/research/tree_distance/simulations/diff_rates/tree/\",vcz_dir=\"/Users/jinminli/research/tree_distance/simulations/diff_rates/vcf/\",mut_rate=0.2e-8)"
   ]
  }
 ],
 "metadata": {
  "kernelspec": {
   "display_name": "myenv",
   "language": "python",
   "name": "python3"
  },
  "language_info": {
   "codemirror_mode": {
    "name": "ipython",
    "version": 3
   },
   "file_extension": ".py",
   "mimetype": "text/x-python",
   "name": "python",
   "nbconvert_exporter": "python",
   "pygments_lexer": "ipython3",
   "version": "3.13.1"
  }
 },
 "nbformat": 4,
 "nbformat_minor": 5
}
