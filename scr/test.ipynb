{
 "cells": [
  {
   "cell_type": "code",
   "execution_count": 1,
   "id": "d79b130c",
   "metadata": {},
   "outputs": [
    {
     "name": "stderr",
     "output_type": "stream",
     "text": [
      "/Users/jinminli/research/tree_distance/myenv/lib/python3.13/site-packages/tqdm/auto.py:21: TqdmWarning: IProgress not found. Please update jupyter and ipywidgets. See https://ipywidgets.readthedocs.io/en/stable/user_install.html\n",
      "  from .autonotebook import tqdm as notebook_tqdm\n"
     ]
    }
   ],
   "source": [
    "import stdpopsim\n",
    "import os\n",
    "import tskit\n",
    "import msprime\n",
    "import numpy as np\n",
    "import tsinfer\n",
    "import zarr\n",
    "import demesdraw\n",
    "import subprocess\n",
    "import pyfaidx\n",
    "import tsdate\n",
    "import matplotlib.pyplot as plt\n",
    "from IPython.display import display, SVG\n",
    "from Bio import bgzf\n",
    "#display(SVG(ts.draw_svg()))\n",
    "from OOA_sim import simple_OOA_sim"
   ]
  },
  {
   "cell_type": "code",
   "execution_count": 4,
   "id": "c80613d7",
   "metadata": {},
   "outputs": [
    {
     "name": "stdout",
     "output_type": "stream",
     "text": [
      "933444.0608548238 27.976483446098772 926149.1012298277\n"
     ]
    }
   ],
   "source": [
    "ts1=tskit.load(\"/Users/jinminli/research/tree_distance/simulations/tree/Ne2e+04_3000_1e+06/10/Ne2e+04_3000_1e+06_10.trees\")\n",
    "ts2=tskit.load(\"/Users/jinminli/research/tree_distance/simulations/tree/Ne2e+04_3000_1e+06/10/Ne2e+04_3000_1e+06_10-inferred.trees\")\n",
    "ts3=tskit.load(\"/Users/jinminli/research/tree_distance/simulations/tree/Ne2e+04_3000_1e+06/10/Ne2e+04_3000_1e+06_10-inferred.tsdate.trees\")\n",
    "print(ts1.at(1e5).total_branch_length,ts2.at(1e5).total_branch_length,ts3.at(1e5).total_branch_length)"
   ]
  }
 ],
 "metadata": {
  "kernelspec": {
   "display_name": "myenv",
   "language": "python",
   "name": "python3"
  },
  "language_info": {
   "codemirror_mode": {
    "name": "ipython",
    "version": 3
   },
   "file_extension": ".py",
   "mimetype": "text/x-python",
   "name": "python",
   "nbconvert_exporter": "python",
   "pygments_lexer": "ipython3",
   "version": "3.13.1"
  }
 },
 "nbformat": 4,
 "nbformat_minor": 5
}
