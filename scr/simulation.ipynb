{
 "cells": [
  {
   "cell_type": "code",
   "execution_count": 1,
   "id": "1ba8baf4",
   "metadata": {},
   "outputs": [],
   "source": [
    "#pip install -r requirements.txt"
   ]
  },
  {
   "cell_type": "code",
   "execution_count": null,
   "id": "731cf96c",
   "metadata": {},
   "outputs": [],
   "source": [
    "#recombination_rate=1e-8\n",
    "#mutation_rate=1.25e-8"
   ]
  },
  {
   "cell_type": "code",
   "execution_count": 2,
   "id": "da5cbd5d",
   "metadata": {},
   "outputs": [],
   "source": [
    "import stdpopsim\n",
    "import os\n",
    "import tskit\n",
    "import msprime\n",
    "import numpy as np\n",
    "import tsinfer\n",
    "import zarr\n",
    "import demesdraw\n",
    "import subprocess\n",
    "import pyfaidx\n",
    "import tsdate\n",
    "import matplotlib.pyplot as plt\n",
    "from IPython.display import display, SVG\n",
    "from Bio import bgzf\n",
    "#display(SVG(ts.draw_svg()))\n",
    "from OOA_sim import simple_OOA_sim"
   ]
  },
  {
   "cell_type": "code",
   "execution_count": 3,
   "id": "d2e1b574",
   "metadata": {},
   "outputs": [],
   "source": [
    "def dump_ts(ts,save_dir=\"./simulations/sim1/\",name=\"test\",contig_id=0):\n",
    "    os.makedirs(save_dir, exist_ok=True)\n",
    "    ts.dump(save_dir+name+\".trees\")\n",
    "    np.save(f\"{save_dir+name}-AA.npy\", [s.ancestral_state for s in ts.sites()])\n",
    "    vcf_name = f\"{save_dir+name}.vcf.gz\"\n",
    "    with bgzf.open(vcf_name, \"wt\") as f:\n",
    "        ts.write_vcf(f,contig_id=contig_id)\n",
    "    subprocess.run([\"tabix\", vcf_name])\n",
    "    ret = subprocess.run(\n",
    "        [\"python\", \"-m\", \"bio2zarr\", \"vcf2zarr\", \"convert\", \"--force\", vcf_name, f\"{save_dir+name}.vcz\"],\n",
    "        stderr = None,\n",
    "    )\n",
    "    if ret.returncode != 0: \n",
    "        print(f\"[ERROR] bio2zarr failed for {name} with code {ret.returncode}\") \n",
    "    else: \n",
    "        print(f\"[OK] bio2zarr finished for {name}\")\n",
    "def infer_ts(full_name):\n",
    "    #load zarr file, ancestral states and infer\n",
    "    ancestral_states = np.load(f\"{full_name}-AA.npy\")\n",
    "    vdata = tsinfer.VariantData(f\"{full_name}.vcz\", ancestral_states)\n",
    "    inferred_ts=tsinfer.infer(vdata,recombination_rate=1e-8)\n",
    "    inferred_ts.dump(f\"{full_name}-inferred.trees\")\n",
    "    print(\"tsinfer done\")"
   ]
  },
  {
   "cell_type": "code",
   "execution_count": 4,
   "id": "c7ca77e6",
   "metadata": {},
   "outputs": [],
   "source": [
    "ts1=msprime.sim_ancestry(samples=50,population_size=1e4,sequence_length=1e6,recombination_rate=1e-8)\n",
    "ts1=msprime.sim_mutations(ts1,rate=1.25e-8)"
   ]
  },
  {
   "cell_type": "code",
   "execution_count": 5,
   "id": "67d455c1",
   "metadata": {},
   "outputs": [
    {
     "name": "stderr",
     "output_type": "stream",
     "text": [
      "    Scan: 100%|██████████| 1.00/1.00 [00:00<00:00, 87.8files/s]\n",
      " Explode: 100%|██████████| 2.59k/2.59k [00:00<00:00, 17.1kvars/s]\n",
      "  Encode: 100%|██████████| 762k/762k [00:00<00:00, 11.3MB/s]\n",
      "Finalise: 100%|██████████| 11.0/11.0 [00:00<00:00, 861array/s]\n"
     ]
    },
    {
     "name": "stdout",
     "output_type": "stream",
     "text": [
      "[OK] bio2zarr finished for sample100_Ne1e4\n",
      "tsinfer done\n"
     ]
    }
   ],
   "source": [
    "dir=\"./simulations/sim1/\"\n",
    "name=\"sample100_Ne1e4\"\n",
    "dump_ts(ts1,save_dir=dir,name=name)\n",
    "infer_ts(full_name=dir+name)"
   ]
  },
  {
   "cell_type": "code",
   "execution_count": 6,
   "id": "aaaa7a8f",
   "metadata": {},
   "outputs": [
    {
     "name": "stderr",
     "output_type": "stream",
     "text": [
      "    Scan: 100%|██████████| 1.00/1.00 [00:00<00:00, 84.4files/s]\n",
      " Explode: 100%|██████████| 4.12k/4.12k [00:00<00:00, 17.7kvars/s]\n",
      "  Encode: 100%|██████████| 3.27M/3.27M [00:00<00:00, 25.8MB/s]\n",
      "Finalise: 100%|██████████| 11.0/11.0 [00:00<00:00, 1.05karray/s]\n"
     ]
    },
    {
     "name": "stdout",
     "output_type": "stream",
     "text": [
      "[OK] bio2zarr finished for ooa_300_1e6\n",
      "tsinfer done\n"
     ]
    }
   ],
   "source": [
    "ooa_ts=simple_OOA_sim(50,1e6)\n",
    "dir=\"./simulations/ooa_300_1e6/\"\n",
    "name=\"ooa_300_1e6\"\n",
    "dump_ts(ooa_ts,save_dir=dir,name=name)\n",
    "infer_ts(full_name=dir+name)"
   ]
  },
  {
   "cell_type": "code",
   "execution_count": 7,
   "id": "3cb31415",
   "metadata": {},
   "outputs": [
    {
     "name": "stderr",
     "output_type": "stream",
     "text": [
      "    Scan: 100%|██████████| 1.00/1.00 [00:00<00:00, 78.9files/s]\n",
      " Explode: 100%|██████████| 8.87k/8.87k [00:01<00:00, 7.02kvars/s]\n",
      "  Encode: 100%|██████████| 66.9M/66.9M [00:00<00:00, 154MB/s] \n",
      "Finalise: 100%|██████████| 11.0/11.0 [00:00<00:00, 872array/s]\n"
     ]
    },
    {
     "name": "stdout",
     "output_type": "stream",
     "text": [
      "[OK] bio2zarr finished for ooa_3000_1e6\n",
      "tsinfer done\n"
     ]
    }
   ],
   "source": [
    "ooa_ts=simple_OOA_sim(500,1e6)\n",
    "dir=\"./simulations/ooa_3000_1e6/\"\n",
    "name=\"ooa_3000_1e6\"\n",
    "dump_ts(ooa_ts,save_dir=dir,name=name)\n",
    "infer_ts(full_name=dir+name)"
   ]
  },
  {
   "cell_type": "code",
   "execution_count": 8,
   "id": "7c5ea483",
   "metadata": {},
   "outputs": [
    {
     "name": "stderr",
     "output_type": "stream",
     "text": [
      "    Scan: 100%|██████████| 1.00/1.00 [00:00<00:00, 98.1files/s]\n",
      " Explode: 100%|██████████| 4.95k/4.95k [00:00<00:00, 21.7kvars/s]\n",
      "  Encode: 100%|██████████| 1.45M/1.45M [00:00<00:00, 11.2MB/s]\n",
      "Finalise: 100%|██████████| 11.0/11.0 [00:00<00:00, 873array/s]\n"
     ]
    },
    {
     "name": "stdout",
     "output_type": "stream",
     "text": [
      "[OK] bio2zarr finished for Ne2e4_100_1e6\n",
      "tsinfer done\n"
     ]
    }
   ],
   "source": [
    "ts1=msprime.sim_ancestry(samples=50,population_size=2e4,sequence_length=1e6,recombination_rate=1e-8)\n",
    "ts1=msprime.sim_mutations(ts1,rate=1.25e-8)\n",
    "dir=\"./simulations/Ne2e4_100_1e6/\"\n",
    "name=\"Ne2e4_100_1e6\"\n",
    "dump_ts(ts1,save_dir=dir,name=name)\n",
    "infer_ts(full_name=dir+name)"
   ]
  },
  {
   "cell_type": "code",
   "execution_count": 9,
   "id": "02ca5aba",
   "metadata": {},
   "outputs": [
    {
     "name": "stderr",
     "output_type": "stream",
     "text": [
      "    Scan: 100%|██████████| 1.00/1.00 [00:00<00:00, 88.9files/s]\n",
      " Explode: 100%|██████████| 7.73k/7.73k [00:00<00:00, 10.5kvars/s]\n",
      "  Encode: 100%|██████████| 19.7M/19.7M [00:00<00:00, 82.0MB/s]\n",
      "Finalise: 100%|██████████| 11.0/11.0 [00:00<00:00, 873array/s]\n"
     ]
    },
    {
     "name": "stdout",
     "output_type": "stream",
     "text": [
      "[OK] bio2zarr finished for Ne2e4_1000_1e6\n",
      "tsinfer done\n"
     ]
    }
   ],
   "source": [
    "ts1=msprime.sim_ancestry(samples=500,population_size=2e4,sequence_length=1e6,recombination_rate=1e-8)\n",
    "ts1=msprime.sim_mutations(ts1,rate=1.25e-8)\n",
    "dir=\"./simulations/Ne2e4_1000_1e6/\"\n",
    "name=\"Ne2e4_1000_1e6\"\n",
    "dump_ts(ts1,save_dir=dir,name=name)\n",
    "infer_ts(full_name=dir+name)"
   ]
  },
  {
   "cell_type": "code",
   "execution_count": 10,
   "id": "c09a51b2",
   "metadata": {},
   "outputs": [
    {
     "name": "stderr",
     "output_type": "stream",
     "text": [
      "    Scan: 100%|██████████| 1.00/1.00 [00:00<00:00, 78.6files/s]\n",
      " Explode: 100%|██████████| 8.41k/8.41k [00:01<00:00, 5.37kvars/s]\n",
      "  Encode: 100%|██████████| 63.5M/63.5M [00:00<00:00, 155MB/s] \n",
      "Finalise: 100%|██████████| 11.0/11.0 [00:00<00:00, 868array/s]\n"
     ]
    },
    {
     "name": "stdout",
     "output_type": "stream",
     "text": [
      "[OK] bio2zarr finished for Ne2e4_3000_1e6\n",
      "tsinfer done\n"
     ]
    }
   ],
   "source": [
    "ts1=msprime.sim_ancestry(samples=1500,population_size=2e4,sequence_length=1e6,recombination_rate=1e-8)\n",
    "ts1=msprime.sim_mutations(ts1,rate=1.25e-8)\n",
    "dir=\"./simulations/Ne2e4_3000_1e6/\"\n",
    "name=\"Ne2e4_3000_1e6\"\n",
    "dump_ts(ts1,save_dir=dir,name=name)\n",
    "infer_ts(full_name=dir+name)"
   ]
  }
 ],
 "metadata": {
  "kernelspec": {
   "display_name": "myenv",
   "language": "python",
   "name": "python3"
  },
  "language_info": {
   "codemirror_mode": {
    "name": "ipython",
    "version": 3
   },
   "file_extension": ".py",
   "mimetype": "text/x-python",
   "name": "python",
   "nbconvert_exporter": "python",
   "pygments_lexer": "ipython3",
   "version": "3.13.1"
  }
 },
 "nbformat": 4,
 "nbformat_minor": 5
}
