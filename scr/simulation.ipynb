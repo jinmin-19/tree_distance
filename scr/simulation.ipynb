{
 "cells": [
  {
   "cell_type": "code",
   "execution_count": 1,
   "id": "1ba8baf4",
   "metadata": {},
   "outputs": [],
   "source": [
    "#pip install -r requirements.txt"
   ]
  },
  {
   "cell_type": "code",
   "execution_count": null,
   "id": "731cf96c",
   "metadata": {},
   "outputs": [],
   "source": [
    "#recombination_rate=1e-8\n",
    "#mutation_rate=1.25e-8"
   ]
  },
  {
   "cell_type": "code",
   "execution_count": 1,
   "id": "da5cbd5d",
   "metadata": {},
   "outputs": [
    {
     "name": "stderr",
     "output_type": "stream",
     "text": [
      "/Users/jinminli/research/tree_distance/myenv/lib/python3.13/site-packages/tqdm/auto.py:21: TqdmWarning: IProgress not found. Please update jupyter and ipywidgets. See https://ipywidgets.readthedocs.io/en/stable/user_install.html\n",
      "  from .autonotebook import tqdm as notebook_tqdm\n"
     ]
    }
   ],
   "source": [
    "import stdpopsim\n",
    "import os\n",
    "import tskit\n",
    "import msprime\n",
    "import numpy as np\n",
    "import tsinfer\n",
    "import zarr\n",
    "import demesdraw\n",
    "import subprocess\n",
    "import pyfaidx\n",
    "import tsdate\n",
    "import matplotlib.pyplot as plt\n",
    "from IPython.display import display, SVG\n",
    "from Bio import bgzf\n",
    "#display(SVG(ts.draw_svg()))\n",
    "from OOA_sim import simple_OOA_sim"
   ]
  },
  {
   "cell_type": "code",
   "execution_count": 2,
   "id": "d2e1b574",
   "metadata": {},
   "outputs": [],
   "source": [
    "def dump_ts(ts,save_dir=\"./simulations/sim1/\",vcz_dir=\"./simulations/sim1/\",name=\"test\",contig_id=0):\n",
    "    os.makedirs(save_dir, exist_ok=True)\n",
    "    ts.dump(save_dir+name+\".trees\")\n",
    "    np.save(f\"{vcz_dir+name}-AA.npy\", [s.ancestral_state for s in ts.sites()])\n",
    "    vcf_name = f\"{vcz_dir+name}.vcf.gz\"\n",
    "    with bgzf.open(vcf_name, \"wt\") as f:\n",
    "        ts.write_vcf(f,contig_id=contig_id)\n",
    "    subprocess.run([\"tabix\", vcf_name])\n",
    "    ret = subprocess.run(\n",
    "        [\"python\", \"-m\", \"bio2zarr\", \"vcf2zarr\", \"convert\", \"--force\", vcf_name, f\"{vcz_dir+name}.vcz\"],\n",
    "        stderr = None,\n",
    "    )\n",
    "    if ret.returncode != 0: \n",
    "        print(f\"[ERROR] bio2zarr failed for {name} with code {ret.returncode}\") \n",
    "    else: \n",
    "        print(f\"[OK] bio2zarr finished for {name}\")\n",
    "def infer_ts(vcz_full_name,tree_full_name):\n",
    "    #load zarr file, ancestral states and infer\n",
    "    ancestral_states = np.load(f\"{vcz_full_name}-AA.npy\")\n",
    "    vdata = tsinfer.VariantData(f\"{vcz_full_name}.vcz\", ancestral_states)\n",
    "    inferred_ts=tsinfer.infer(vdata,recombination_rate=1e-8)\n",
    "    inferred_ts.dump(f\"{tree_full_name}-inferred.trees\")\n",
    "    print(\"tsinfer done\")\n",
    "    print(\"Running tsdate\")\n",
    "    simplified_ts = tsdate.preprocess_ts(inferred_ts)\n",
    "\n",
    "    redated_ts = tsdate.date(simplified_ts, mutation_rate=1e-8)\n",
    "\n",
    "    out_file = f\"{tree_full_name}-inferred.tsdate.trees\"\n",
    "    redated_ts.dump(out_file)"
   ]
  },
  {
   "cell_type": "code",
   "execution_count": 3,
   "id": "1a426f34",
   "metadata": {},
   "outputs": [],
   "source": [
    "def simulate_dump(model,number_individuals,num_replicates,tree_dir,vcz_dir,sequence_length=1e6):\n",
    "    if isinstance(model, float):\n",
    "        name = f\"Ne{model:.0e}_{2*number_individuals}_{sequence_length:.0e}\"\n",
    "        \n",
    "        tree_base_path = os.path.join(tree_dir, name)\n",
    "        vcz_base_path=os.path.join(vcz_dir, name)\n",
    "        os.makedirs(tree_base_path, exist_ok=True)\n",
    "        os.makedirs(vcz_base_path, exist_ok=True)\n",
    "        for i in range(num_replicates):\n",
    "            tree_replicate_dir = os.path.join(tree_base_path, str(i))+\"/\"\n",
    "            vcz_replicate_dir = os.path.join(vcz_base_path, str(i))+\"/\"\n",
    "            os.makedirs(tree_replicate_dir, exist_ok=True)\n",
    "            os.makedirs(vcz_replicate_dir, exist_ok=True)\n",
    "            ts=msprime.sim_ancestry(samples=number_individuals,population_size=model,sequence_length=sequence_length,recombination_rate=1e-8)\n",
    "            ts=msprime.sim_mutations(ts,rate=1e-8)\n",
    "            dump_ts(ts,save_dir=tree_replicate_dir,vcz_dir=vcz_replicate_dir,name=name+\"_\"+str(i))\n",
    "            infer_ts(vcz_full_name=vcz_replicate_dir+name+\"_\"+str(i),tree_full_name=tree_replicate_dir+name+\"_\"+str(i))\n",
    "    else:\n",
    "        assert(isinstance(model, str))\n",
    "        assert(model==\"ooa\")\n",
    "        name=f\"ooa_{6*number_individuals}_{sequence_length:.0e}\"\n",
    "    \n",
    "        tree_base_path = os.path.join(tree_dir, name)\n",
    "        vcz_base_path=os.path.join(vcz_dir, name)\n",
    "        os.makedirs(tree_base_path, exist_ok=True)\n",
    "        os.makedirs(vcz_base_path, exist_ok=True)\n",
    "        for i in range(num_replicates):\n",
    "            tree_replicate_dir = os.path.join(tree_base_path, str(i))+\"/\"\n",
    "            vcz_replicate_dir = os.path.join(vcz_base_path, str(i))+\"/\"\n",
    "            os.makedirs(tree_replicate_dir, exist_ok=True)\n",
    "            os.makedirs(vcz_replicate_dir, exist_ok=True)\n",
    "            ts=simple_OOA_sim(number_individuals,sequence_length)\n",
    "            dump_ts(ts,save_dir=tree_replicate_dir,vcz_dir=vcz_replicate_dir,name=name+\"_\"+str(i))\n",
    "            infer_ts(vcz_full_name=vcz_replicate_dir+name+\"_\"+str(i),tree_full_name=tree_replicate_dir+name+\"_\"+str(i))"
   ]
  },
  {
   "cell_type": "code",
   "execution_count": 4,
   "id": "4aebefa8",
   "metadata": {},
   "outputs": [
    {
     "name": "stderr",
     "output_type": "stream",
     "text": [
      "    Scan: 100%|██████████| 1.00/1.00 [00:00<00:00, 97.5files/s]\n",
      " Explode: 100%|██████████| 4.28k/4.28k [00:00<00:00, 23.3kvars/s]\n",
      "  Encode: 100%|██████████| 1.26M/1.26M [00:00<00:00, 13.1MB/s]\n",
      "Finalise: 100%|██████████| 11.0/11.0 [00:00<00:00, 872array/s]\n"
     ]
    },
    {
     "name": "stdout",
     "output_type": "stream",
     "text": [
      "[OK] bio2zarr finished for Ne2e+04_100_1e+06_0\n",
      "tsinfer done\n",
      "Running tsdate\n"
     ]
    },
    {
     "name": "stderr",
     "output_type": "stream",
     "text": [
      "    Scan: 100%|██████████| 1.00/1.00 [00:00<00:00, 78.8files/s]\n",
      " Explode: 100%|██████████| 4.17k/4.17k [00:00<00:00, 20.1kvars/s]\n",
      "  Encode: 100%|██████████| 1.23M/1.23M [00:00<00:00, 12.4MB/s]\n",
      "Finalise: 100%|██████████| 11.0/11.0 [00:00<00:00, 874array/s]\n"
     ]
    },
    {
     "name": "stdout",
     "output_type": "stream",
     "text": [
      "[OK] bio2zarr finished for Ne2e+04_100_1e+06_1\n",
      "tsinfer done\n",
      "Running tsdate\n"
     ]
    },
    {
     "name": "stderr",
     "output_type": "stream",
     "text": [
      "    Scan: 100%|██████████| 1.00/1.00 [00:00<00:00, 78.9files/s]\n",
      " Explode: 100%|██████████| 3.93k/3.93k [00:00<00:00, 20.6kvars/s]\n",
      "  Encode: 100%|██████████| 1.15M/1.15M [00:00<00:00, 11.5MB/s]\n",
      "Finalise: 100%|██████████| 11.0/11.0 [00:00<00:00, 873array/s]\n"
     ]
    },
    {
     "name": "stdout",
     "output_type": "stream",
     "text": [
      "[OK] bio2zarr finished for Ne2e+04_100_1e+06_2\n",
      "tsinfer done\n",
      "Running tsdate\n"
     ]
    },
    {
     "name": "stderr",
     "output_type": "stream",
     "text": [
      "    Scan: 100%|██████████| 1.00/1.00 [00:00<00:00, 78.8files/s]\n",
      " Explode: 100%|██████████| 4.02k/4.02k [00:00<00:00, 20.4kvars/s]\n",
      "  Encode: 100%|██████████| 1.18M/1.18M [00:00<00:00, 12.4MB/s]\n",
      "Finalise: 100%|██████████| 11.0/11.0 [00:00<00:00, 919array/s]\n"
     ]
    },
    {
     "name": "stdout",
     "output_type": "stream",
     "text": [
      "[OK] bio2zarr finished for Ne2e+04_100_1e+06_3\n",
      "tsinfer done\n",
      "Running tsdate\n"
     ]
    },
    {
     "name": "stderr",
     "output_type": "stream",
     "text": [
      "    Scan: 100%|██████████| 1.00/1.00 [00:00<00:00, 78.8files/s]\n",
      " Explode: 100%|██████████| 4.22k/4.22k [00:00<00:00, 20.2kvars/s]\n",
      "  Encode: 100%|██████████| 1.24M/1.24M [00:00<00:00, 12.2MB/s]\n",
      "Finalise: 100%|██████████| 11.0/11.0 [00:00<00:00, 866array/s]\n"
     ]
    },
    {
     "name": "stdout",
     "output_type": "stream",
     "text": [
      "[OK] bio2zarr finished for Ne2e+04_100_1e+06_4\n",
      "tsinfer done\n",
      "Running tsdate\n"
     ]
    },
    {
     "name": "stderr",
     "output_type": "stream",
     "text": [
      "    Scan: 100%|██████████| 1.00/1.00 [00:00<00:00, 78.9files/s]\n",
      " Explode: 100%|██████████| 4.29k/4.29k [00:00<00:00, 23.4kvars/s]\n",
      "  Encode: 100%|██████████| 1.26M/1.26M [00:00<00:00, 12.9MB/s]\n",
      "Finalise: 100%|██████████| 11.0/11.0 [00:00<00:00, 868array/s]\n"
     ]
    },
    {
     "name": "stdout",
     "output_type": "stream",
     "text": [
      "[OK] bio2zarr finished for Ne2e+04_100_1e+06_5\n",
      "tsinfer done\n",
      "Running tsdate\n"
     ]
    },
    {
     "name": "stderr",
     "output_type": "stream",
     "text": [
      "    Scan: 100%|██████████| 1.00/1.00 [00:00<00:00, 81.0files/s]\n",
      " Explode: 100%|██████████| 4.07k/4.07k [00:00<00:00, 20.8kvars/s]\n",
      "  Encode: 100%|██████████| 1.20M/1.20M [00:00<00:00, 12.6MB/s]\n",
      "Finalise: 100%|██████████| 11.0/11.0 [00:00<00:00, 869array/s]\n"
     ]
    },
    {
     "name": "stdout",
     "output_type": "stream",
     "text": [
      "[OK] bio2zarr finished for Ne2e+04_100_1e+06_6\n",
      "tsinfer done\n",
      "Running tsdate\n"
     ]
    },
    {
     "name": "stderr",
     "output_type": "stream",
     "text": [
      "    Scan: 100%|██████████| 1.00/1.00 [00:00<00:00, 79.0files/s]\n",
      " Explode: 100%|██████████| 4.26k/4.26k [00:00<00:00, 22.0kvars/s]\n",
      "  Encode: 100%|██████████| 1.25M/1.25M [00:00<00:00, 12.3MB/s]\n",
      "Finalise: 100%|██████████| 11.0/11.0 [00:00<00:00, 1.00karray/s]\n"
     ]
    },
    {
     "name": "stdout",
     "output_type": "stream",
     "text": [
      "[OK] bio2zarr finished for Ne2e+04_100_1e+06_7\n",
      "tsinfer done\n",
      "Running tsdate\n"
     ]
    },
    {
     "name": "stderr",
     "output_type": "stream",
     "text": [
      "    Scan: 100%|██████████| 1.00/1.00 [00:00<00:00, 78.7files/s]\n",
      " Explode: 100%|██████████| 4.37k/4.37k [00:00<00:00, 23.7kvars/s]\n",
      "  Encode: 100%|██████████| 1.28M/1.28M [00:00<00:00, 11.1MB/s]\n",
      "Finalise: 100%|██████████| 11.0/11.0 [00:00<00:00, 923array/s]\n"
     ]
    },
    {
     "name": "stdout",
     "output_type": "stream",
     "text": [
      "[OK] bio2zarr finished for Ne2e+04_100_1e+06_8\n",
      "tsinfer done\n",
      "Running tsdate\n"
     ]
    },
    {
     "name": "stderr",
     "output_type": "stream",
     "text": [
      "    Scan: 100%|██████████| 1.00/1.00 [00:00<00:00, 78.8files/s]\n",
      " Explode: 100%|██████████| 4.07k/4.07k [00:00<00:00, 20.4kvars/s]\n",
      "  Encode: 100%|██████████| 1.20M/1.20M [00:00<00:00, 12.7MB/s]\n",
      "Finalise: 100%|██████████| 11.0/11.0 [00:00<00:00, 871array/s]\n"
     ]
    },
    {
     "name": "stdout",
     "output_type": "stream",
     "text": [
      "[OK] bio2zarr finished for Ne2e+04_100_1e+06_9\n",
      "tsinfer done\n",
      "Running tsdate\n"
     ]
    },
    {
     "name": "stderr",
     "output_type": "stream",
     "text": [
      "    Scan: 100%|██████████| 1.00/1.00 [00:00<00:00, 79.0files/s]\n",
      " Explode: 100%|██████████| 4.15k/4.15k [00:00<00:00, 19.9kvars/s]\n",
      "  Encode: 100%|██████████| 1.22M/1.22M [00:00<00:00, 12.9MB/s]\n",
      "Finalise: 100%|██████████| 11.0/11.0 [00:00<00:00, 869array/s]\n"
     ]
    },
    {
     "name": "stdout",
     "output_type": "stream",
     "text": [
      "[OK] bio2zarr finished for Ne2e+04_100_1e+06_10\n",
      "tsinfer done\n",
      "Running tsdate\n"
     ]
    },
    {
     "name": "stderr",
     "output_type": "stream",
     "text": [
      "    Scan: 100%|██████████| 1.00/1.00 [00:00<00:00, 87.2files/s]\n",
      " Explode: 100%|██████████| 4.10k/4.10k [00:00<00:00, 19.5kvars/s]\n",
      "  Encode: 100%|██████████| 1.21M/1.21M [00:00<00:00, 11.4MB/s]\n",
      "Finalise: 100%|██████████| 11.0/11.0 [00:00<00:00, 869array/s]\n"
     ]
    },
    {
     "name": "stdout",
     "output_type": "stream",
     "text": [
      "[OK] bio2zarr finished for Ne2e+04_100_1e+06_11\n",
      "tsinfer done\n",
      "Running tsdate\n"
     ]
    },
    {
     "name": "stderr",
     "output_type": "stream",
     "text": [
      "    Scan: 100%|██████████| 1.00/1.00 [00:00<00:00, 78.6files/s]\n",
      " Explode: 100%|██████████| 4.09k/4.09k [00:00<00:00, 19.5kvars/s]\n",
      "  Encode: 100%|██████████| 1.20M/1.20M [00:00<00:00, 11.1MB/s]\n",
      "Finalise: 100%|██████████| 11.0/11.0 [00:00<00:00, 900array/s]\n"
     ]
    },
    {
     "name": "stdout",
     "output_type": "stream",
     "text": [
      "[OK] bio2zarr finished for Ne2e+04_100_1e+06_12\n",
      "tsinfer done\n",
      "Running tsdate\n"
     ]
    },
    {
     "name": "stderr",
     "output_type": "stream",
     "text": [
      "    Scan: 100%|██████████| 1.00/1.00 [00:00<00:00, 77.0files/s]\n",
      " Explode: 100%|██████████| 3.98k/3.98k [00:00<00:00, 18.0kvars/s]\n",
      "  Encode: 100%|██████████| 1.17M/1.17M [00:00<00:00, 12.1MB/s]\n",
      "Finalise: 100%|██████████| 11.0/11.0 [00:00<00:00, 866array/s]\n"
     ]
    },
    {
     "name": "stdout",
     "output_type": "stream",
     "text": [
      "[OK] bio2zarr finished for Ne2e+04_100_1e+06_13\n",
      "tsinfer done\n",
      "Running tsdate\n"
     ]
    },
    {
     "name": "stderr",
     "output_type": "stream",
     "text": [
      "    Scan: 100%|██████████| 1.00/1.00 [00:00<00:00, 78.8files/s]\n",
      " Explode: 100%|██████████| 4.06k/4.06k [00:00<00:00, 20.0kvars/s]\n",
      "  Encode: 100%|██████████| 1.19M/1.19M [00:00<00:00, 11.8MB/s]\n",
      "Finalise: 100%|██████████| 11.0/11.0 [00:00<00:00, 868array/s]\n"
     ]
    },
    {
     "name": "stdout",
     "output_type": "stream",
     "text": [
      "[OK] bio2zarr finished for Ne2e+04_100_1e+06_14\n",
      "tsinfer done\n",
      "Running tsdate\n"
     ]
    },
    {
     "name": "stderr",
     "output_type": "stream",
     "text": [
      "    Scan: 100%|██████████| 1.00/1.00 [00:00<00:00, 79.0files/s]\n",
      " Explode: 100%|██████████| 4.09k/4.09k [00:00<00:00, 20.5kvars/s]\n",
      "  Encode: 100%|██████████| 1.20M/1.20M [00:00<00:00, 12.0MB/s]\n",
      "Finalise: 100%|██████████| 11.0/11.0 [00:00<00:00, 869array/s]\n"
     ]
    },
    {
     "name": "stdout",
     "output_type": "stream",
     "text": [
      "[OK] bio2zarr finished for Ne2e+04_100_1e+06_15\n",
      "tsinfer done\n",
      "Running tsdate\n"
     ]
    },
    {
     "name": "stderr",
     "output_type": "stream",
     "text": [
      "    Scan: 100%|██████████| 1.00/1.00 [00:00<00:00, 83.3files/s]\n",
      " Explode: 100%|██████████| 3.98k/3.98k [00:00<00:00, 20.7kvars/s]\n",
      "  Encode: 100%|██████████| 1.17M/1.17M [00:00<00:00, 12.3MB/s]\n",
      "Finalise: 100%|██████████| 11.0/11.0 [00:00<00:00, 999array/s]\n"
     ]
    },
    {
     "name": "stdout",
     "output_type": "stream",
     "text": [
      "[OK] bio2zarr finished for Ne2e+04_100_1e+06_16\n",
      "tsinfer done\n",
      "Running tsdate\n"
     ]
    },
    {
     "name": "stderr",
     "output_type": "stream",
     "text": [
      "    Scan: 100%|██████████| 1.00/1.00 [00:00<00:00, 84.4files/s]\n",
      " Explode: 100%|██████████| 4.04k/4.04k [00:00<00:00, 20.5kvars/s]\n",
      "  Encode: 100%|██████████| 1.19M/1.19M [00:00<00:00, 11.9MB/s]\n",
      "Finalise: 100%|██████████| 11.0/11.0 [00:00<00:00, 874array/s]\n"
     ]
    },
    {
     "name": "stdout",
     "output_type": "stream",
     "text": [
      "[OK] bio2zarr finished for Ne2e+04_100_1e+06_17\n",
      "tsinfer done\n",
      "Running tsdate\n"
     ]
    },
    {
     "name": "stderr",
     "output_type": "stream",
     "text": [
      "    Scan: 100%|██████████| 1.00/1.00 [00:00<00:00, 79.0files/s]\n",
      " Explode: 100%|██████████| 4.04k/4.04k [00:00<00:00, 20.5kvars/s]\n",
      "  Encode: 100%|██████████| 1.19M/1.19M [00:00<00:00, 12.5MB/s]\n",
      "Finalise: 100%|██████████| 11.0/11.0 [00:00<00:00, 869array/s]\n"
     ]
    },
    {
     "name": "stdout",
     "output_type": "stream",
     "text": [
      "[OK] bio2zarr finished for Ne2e+04_100_1e+06_18\n",
      "tsinfer done\n",
      "Running tsdate\n"
     ]
    },
    {
     "name": "stderr",
     "output_type": "stream",
     "text": [
      "    Scan: 100%|██████████| 1.00/1.00 [00:00<00:00, 78.9files/s]\n",
      " Explode: 100%|██████████| 4.25k/4.25k [00:00<00:00, 22.6kvars/s]\n",
      "  Encode: 100%|██████████| 1.25M/1.25M [00:00<00:00, 12.5MB/s]\n",
      "Finalise: 100%|██████████| 11.0/11.0 [00:00<00:00, 958array/s]\n"
     ]
    },
    {
     "name": "stdout",
     "output_type": "stream",
     "text": [
      "[OK] bio2zarr finished for Ne2e+04_100_1e+06_19\n",
      "tsinfer done\n",
      "Running tsdate\n"
     ]
    },
    {
     "name": "stderr",
     "output_type": "stream",
     "text": [
      "    Scan: 100%|██████████| 1.00/1.00 [00:00<00:00, 88.9files/s]\n",
      " Explode: 100%|██████████| 4.12k/4.12k [00:00<00:00, 20.4kvars/s]\n",
      "  Encode: 100%|██████████| 1.21M/1.21M [00:00<00:00, 10.2MB/s]\n",
      "Finalise: 100%|██████████| 11.0/11.0 [00:00<00:00, 872array/s]\n"
     ]
    },
    {
     "name": "stdout",
     "output_type": "stream",
     "text": [
      "[OK] bio2zarr finished for Ne2e+04_100_1e+06_20\n",
      "tsinfer done\n",
      "Running tsdate\n"
     ]
    },
    {
     "name": "stderr",
     "output_type": "stream",
     "text": [
      "    Scan: 100%|██████████| 1.00/1.00 [00:00<00:00, 94.6files/s]\n",
      " Explode: 100%|██████████| 4.27k/4.27k [00:00<00:00, 23.5kvars/s]\n",
      "  Encode: 100%|██████████| 1.26M/1.26M [00:00<00:00, 12.7MB/s]\n",
      "Finalise: 100%|██████████| 11.0/11.0 [00:00<00:00, 874array/s]\n"
     ]
    },
    {
     "name": "stdout",
     "output_type": "stream",
     "text": [
      "[OK] bio2zarr finished for Ne2e+04_100_1e+06_21\n",
      "tsinfer done\n",
      "Running tsdate\n"
     ]
    },
    {
     "name": "stderr",
     "output_type": "stream",
     "text": [
      "    Scan: 100%|██████████| 1.00/1.00 [00:00<00:00, 78.8files/s]\n",
      " Explode: 100%|██████████| 3.94k/3.94k [00:00<00:00, 19.6kvars/s]\n",
      "  Encode: 100%|██████████| 1.16M/1.16M [00:00<00:00, 11.9MB/s]\n",
      "Finalise: 100%|██████████| 11.0/11.0 [00:00<00:00, 873array/s]\n"
     ]
    },
    {
     "name": "stdout",
     "output_type": "stream",
     "text": [
      "[OK] bio2zarr finished for Ne2e+04_100_1e+06_22\n",
      "tsinfer done\n",
      "Running tsdate\n"
     ]
    },
    {
     "name": "stderr",
     "output_type": "stream",
     "text": [
      "    Scan: 100%|██████████| 1.00/1.00 [00:00<00:00, 79.0files/s]\n",
      " Explode: 100%|██████████| 4.02k/4.02k [00:00<00:00, 19.8kvars/s]\n",
      "  Encode: 100%|██████████| 1.18M/1.18M [00:00<00:00, 11.9MB/s]\n",
      "Finalise: 100%|██████████| 11.0/11.0 [00:00<00:00, 868array/s]\n"
     ]
    },
    {
     "name": "stdout",
     "output_type": "stream",
     "text": [
      "[OK] bio2zarr finished for Ne2e+04_100_1e+06_23\n",
      "tsinfer done\n",
      "Running tsdate\n"
     ]
    },
    {
     "name": "stderr",
     "output_type": "stream",
     "text": [
      "    Scan: 100%|██████████| 1.00/1.00 [00:00<00:00, 78.8files/s]\n",
      " Explode: 100%|██████████| 3.98k/3.98k [00:00<00:00, 20.9kvars/s]\n",
      "  Encode: 100%|██████████| 1.17M/1.17M [00:00<00:00, 12.8MB/s]\n",
      "Finalise: 100%|██████████| 11.0/11.0 [00:00<00:00, 868array/s]\n"
     ]
    },
    {
     "name": "stdout",
     "output_type": "stream",
     "text": [
      "[OK] bio2zarr finished for Ne2e+04_100_1e+06_24\n",
      "tsinfer done\n",
      "Running tsdate\n"
     ]
    },
    {
     "name": "stderr",
     "output_type": "stream",
     "text": [
      "    Scan: 100%|██████████| 1.00/1.00 [00:00<00:00, 78.8files/s]\n",
      " Explode: 100%|██████████| 4.05k/4.05k [00:00<00:00, 20.4kvars/s]\n",
      "  Encode: 100%|██████████| 1.19M/1.19M [00:00<00:00, 11.6MB/s]\n",
      "Finalise: 100%|██████████| 11.0/11.0 [00:00<00:00, 1.03karray/s]\n"
     ]
    },
    {
     "name": "stdout",
     "output_type": "stream",
     "text": [
      "[OK] bio2zarr finished for Ne2e+04_100_1e+06_25\n",
      "tsinfer done\n",
      "Running tsdate\n"
     ]
    },
    {
     "name": "stderr",
     "output_type": "stream",
     "text": [
      "    Scan: 100%|██████████| 1.00/1.00 [00:00<00:00, 79.1files/s]\n",
      " Explode: 100%|██████████| 4.00k/4.00k [00:00<00:00, 18.9kvars/s]\n",
      "  Encode: 100%|██████████| 1.18M/1.18M [00:00<00:00, 12.5MB/s]\n",
      "Finalise: 100%|██████████| 11.0/11.0 [00:00<00:00, 869array/s]\n"
     ]
    },
    {
     "name": "stdout",
     "output_type": "stream",
     "text": [
      "[OK] bio2zarr finished for Ne2e+04_100_1e+06_26\n",
      "tsinfer done\n",
      "Running tsdate\n"
     ]
    },
    {
     "name": "stderr",
     "output_type": "stream",
     "text": [
      "    Scan: 100%|██████████| 1.00/1.00 [00:00<00:00, 87.7files/s]\n",
      " Explode: 100%|██████████| 4.26k/4.26k [00:00<00:00, 22.1kvars/s]\n",
      "  Encode: 100%|██████████| 1.25M/1.25M [00:00<00:00, 12.0MB/s]\n",
      "Finalise: 100%|██████████| 11.0/11.0 [00:00<00:00, 992array/s]\n"
     ]
    },
    {
     "name": "stdout",
     "output_type": "stream",
     "text": [
      "[OK] bio2zarr finished for Ne2e+04_100_1e+06_27\n",
      "tsinfer done\n",
      "Running tsdate\n"
     ]
    },
    {
     "name": "stderr",
     "output_type": "stream",
     "text": [
      "    Scan: 100%|██████████| 1.00/1.00 [00:00<00:00, 79.0files/s]\n",
      " Explode: 100%|██████████| 4.26k/4.26k [00:00<00:00, 22.7kvars/s]\n",
      "  Encode: 100%|██████████| 1.25M/1.25M [00:00<00:00, 11.9MB/s]\n",
      "Finalise: 100%|██████████| 11.0/11.0 [00:00<00:00, 1.06karray/s]\n"
     ]
    },
    {
     "name": "stdout",
     "output_type": "stream",
     "text": [
      "[OK] bio2zarr finished for Ne2e+04_100_1e+06_28\n",
      "tsinfer done\n",
      "Running tsdate\n"
     ]
    },
    {
     "name": "stderr",
     "output_type": "stream",
     "text": [
      "    Scan: 100%|██████████| 1.00/1.00 [00:00<00:00, 79.3files/s]\n",
      " Explode: 100%|██████████| 4.12k/4.12k [00:00<00:00, 20.3kvars/s]\n",
      "  Encode: 100%|██████████| 1.21M/1.21M [00:00<00:00, 10.5MB/s]\n",
      "Finalise: 100%|██████████| 11.0/11.0 [00:00<00:00, 1.06karray/s]\n"
     ]
    },
    {
     "name": "stdout",
     "output_type": "stream",
     "text": [
      "[OK] bio2zarr finished for Ne2e+04_100_1e+06_29\n",
      "tsinfer done\n",
      "Running tsdate\n"
     ]
    },
    {
     "name": "stderr",
     "output_type": "stream",
     "text": [
      "    Scan: 100%|██████████| 1.00/1.00 [00:00<00:00, 78.8files/s]\n",
      " Explode: 100%|██████████| 4.19k/4.19k [00:00<00:00, 18.8kvars/s]\n",
      "  Encode: 100%|██████████| 1.23M/1.23M [00:00<00:00, 12.1MB/s]\n",
      "Finalise: 100%|██████████| 11.0/11.0 [00:00<00:00, 868array/s]\n"
     ]
    },
    {
     "name": "stdout",
     "output_type": "stream",
     "text": [
      "[OK] bio2zarr finished for Ne2e+04_100_1e+06_30\n",
      "tsinfer done\n",
      "Running tsdate\n"
     ]
    },
    {
     "name": "stderr",
     "output_type": "stream",
     "text": [
      "    Scan: 100%|██████████| 1.00/1.00 [00:00<00:00, 91.1files/s]\n",
      " Explode: 100%|██████████| 4.09k/4.09k [00:00<00:00, 19.3kvars/s]\n",
      "  Encode: 100%|██████████| 1.20M/1.20M [00:00<00:00, 11.5MB/s]\n",
      "Finalise: 100%|██████████| 11.0/11.0 [00:00<00:00, 866array/s]\n"
     ]
    },
    {
     "name": "stdout",
     "output_type": "stream",
     "text": [
      "[OK] bio2zarr finished for Ne2e+04_100_1e+06_31\n",
      "tsinfer done\n",
      "Running tsdate\n"
     ]
    },
    {
     "name": "stderr",
     "output_type": "stream",
     "text": [
      "    Scan: 100%|██████████| 1.00/1.00 [00:00<00:00, 95.0files/s]\n",
      " Explode: 100%|██████████| 4.21k/4.21k [00:00<00:00, 20.3kvars/s]\n",
      "  Encode: 100%|██████████| 1.24M/1.24M [00:00<00:00, 12.0MB/s]\n",
      "Finalise: 100%|██████████| 11.0/11.0 [00:00<00:00, 872array/s]\n"
     ]
    },
    {
     "name": "stdout",
     "output_type": "stream",
     "text": [
      "[OK] bio2zarr finished for Ne2e+04_100_1e+06_32\n",
      "tsinfer done\n",
      "Running tsdate\n"
     ]
    },
    {
     "name": "stderr",
     "output_type": "stream",
     "text": [
      "    Scan: 100%|██████████| 1.00/1.00 [00:00<00:00, 84.2files/s]\n",
      " Explode: 100%|██████████| 4.16k/4.16k [00:00<00:00, 20.2kvars/s]\n",
      "  Encode: 100%|██████████| 1.22M/1.22M [00:00<00:00, 12.4MB/s]\n",
      "Finalise: 100%|██████████| 11.0/11.0 [00:00<00:00, 867array/s]\n"
     ]
    },
    {
     "name": "stdout",
     "output_type": "stream",
     "text": [
      "[OK] bio2zarr finished for Ne2e+04_100_1e+06_33\n",
      "tsinfer done\n",
      "Running tsdate\n"
     ]
    },
    {
     "name": "stderr",
     "output_type": "stream",
     "text": [
      "    Scan: 100%|██████████| 1.00/1.00 [00:00<00:00, 95.1files/s]\n",
      " Explode: 100%|██████████| 4.36k/4.36k [00:00<00:00, 17.0kvars/s]\n",
      "  Encode: 100%|██████████| 1.28M/1.28M [00:00<00:00, 10.4MB/s]\n",
      "Finalise: 100%|██████████| 11.0/11.0 [00:00<00:00, 1.05karray/s]\n"
     ]
    },
    {
     "name": "stdout",
     "output_type": "stream",
     "text": [
      "[OK] bio2zarr finished for Ne2e+04_100_1e+06_34\n",
      "tsinfer done\n",
      "Running tsdate\n"
     ]
    },
    {
     "name": "stderr",
     "output_type": "stream",
     "text": [
      "    Scan: 100%|██████████| 1.00/1.00 [00:00<00:00, 79.0files/s]\n",
      " Explode: 100%|██████████| 4.28k/4.28k [00:00<00:00, 21.0kvars/s]\n",
      "  Encode: 100%|██████████| 1.26M/1.26M [00:00<00:00, 10.6MB/s]\n",
      "Finalise: 100%|██████████| 11.0/11.0 [00:00<00:00, 1.01karray/s]\n"
     ]
    },
    {
     "name": "stdout",
     "output_type": "stream",
     "text": [
      "[OK] bio2zarr finished for Ne2e+04_100_1e+06_35\n",
      "tsinfer done\n",
      "Running tsdate\n"
     ]
    },
    {
     "name": "stderr",
     "output_type": "stream",
     "text": [
      "    Scan: 100%|██████████| 1.00/1.00 [00:00<00:00, 78.9files/s]\n",
      " Explode: 100%|██████████| 4.21k/4.21k [00:00<00:00, 20.2kvars/s]\n",
      "  Encode: 100%|██████████| 1.24M/1.24M [00:00<00:00, 9.05MB/s]\n",
      "Finalise: 100%|██████████| 11.0/11.0 [00:00<00:00, 1.05karray/s]\n"
     ]
    },
    {
     "name": "stdout",
     "output_type": "stream",
     "text": [
      "[OK] bio2zarr finished for Ne2e+04_100_1e+06_36\n",
      "tsinfer done\n",
      "Running tsdate\n"
     ]
    },
    {
     "name": "stderr",
     "output_type": "stream",
     "text": [
      "    Scan: 100%|██████████| 1.00/1.00 [00:00<00:00, 95.4files/s]\n",
      " Explode: 100%|██████████| 4.34k/4.34k [00:00<00:00, 22.3kvars/s]\n",
      "  Encode: 100%|██████████| 1.27M/1.27M [00:00<00:00, 12.2MB/s]\n",
      "Finalise: 100%|██████████| 11.0/11.0 [00:00<00:00, 1.06karray/s]\n"
     ]
    },
    {
     "name": "stdout",
     "output_type": "stream",
     "text": [
      "[OK] bio2zarr finished for Ne2e+04_100_1e+06_37\n",
      "tsinfer done\n",
      "Running tsdate\n"
     ]
    },
    {
     "name": "stderr",
     "output_type": "stream",
     "text": [
      "    Scan: 100%|██████████| 1.00/1.00 [00:00<00:00, 79.1files/s]\n",
      " Explode: 100%|██████████| 4.26k/4.26k [00:00<00:00, 19.9kvars/s]\n",
      "  Encode: 100%|██████████| 1.25M/1.25M [00:00<00:00, 11.8MB/s]\n",
      "Finalise: 100%|██████████| 11.0/11.0 [00:00<00:00, 1.03karray/s]\n"
     ]
    },
    {
     "name": "stdout",
     "output_type": "stream",
     "text": [
      "[OK] bio2zarr finished for Ne2e+04_100_1e+06_38\n",
      "tsinfer done\n",
      "Running tsdate\n"
     ]
    },
    {
     "name": "stderr",
     "output_type": "stream",
     "text": [
      "    Scan: 100%|██████████| 1.00/1.00 [00:00<00:00, 83.5files/s]\n",
      " Explode: 100%|██████████| 4.14k/4.14k [00:00<00:00, 19.2kvars/s]\n",
      "  Encode: 100%|██████████| 1.22M/1.22M [00:00<00:00, 11.0MB/s]\n",
      "Finalise: 100%|██████████| 11.0/11.0 [00:00<00:00, 1.01karray/s]\n"
     ]
    },
    {
     "name": "stdout",
     "output_type": "stream",
     "text": [
      "[OK] bio2zarr finished for Ne2e+04_100_1e+06_39\n",
      "tsinfer done\n",
      "Running tsdate\n"
     ]
    },
    {
     "name": "stderr",
     "output_type": "stream",
     "text": [
      "    Scan: 100%|██████████| 1.00/1.00 [00:00<00:00, 88.6files/s]\n",
      " Explode: 100%|██████████| 4.06k/4.06k [00:00<00:00, 19.5kvars/s]\n",
      "  Encode: 100%|██████████| 1.19M/1.19M [00:00<00:00, 11.0MB/s]\n",
      "Finalise: 100%|██████████| 11.0/11.0 [00:00<00:00, 1.07karray/s]\n"
     ]
    },
    {
     "name": "stdout",
     "output_type": "stream",
     "text": [
      "[OK] bio2zarr finished for Ne2e+04_100_1e+06_40\n",
      "tsinfer done\n",
      "Running tsdate\n"
     ]
    },
    {
     "name": "stderr",
     "output_type": "stream",
     "text": [
      "    Scan: 100%|██████████| 1.00/1.00 [00:00<00:00, 78.9files/s]\n",
      " Explode: 100%|██████████| 4.26k/4.26k [00:00<00:00, 22.5kvars/s]\n",
      "  Encode: 100%|██████████| 1.25M/1.25M [00:00<00:00, 11.0MB/s]\n",
      "Finalise: 100%|██████████| 11.0/11.0 [00:00<00:00, 994array/s]\n"
     ]
    },
    {
     "name": "stdout",
     "output_type": "stream",
     "text": [
      "[OK] bio2zarr finished for Ne2e+04_100_1e+06_41\n",
      "tsinfer done\n",
      "Running tsdate\n"
     ]
    },
    {
     "name": "stderr",
     "output_type": "stream",
     "text": [
      "    Scan: 100%|██████████| 1.00/1.00 [00:00<00:00, 79.0files/s]\n",
      " Explode: 100%|██████████| 4.14k/4.14k [00:00<00:00, 20.6kvars/s]\n",
      "  Encode: 100%|██████████| 1.22M/1.22M [00:00<00:00, 12.1MB/s]\n",
      "Finalise: 100%|██████████| 11.0/11.0 [00:00<00:00, 1.06karray/s]\n"
     ]
    },
    {
     "name": "stdout",
     "output_type": "stream",
     "text": [
      "[OK] bio2zarr finished for Ne2e+04_100_1e+06_42\n",
      "tsinfer done\n",
      "Running tsdate\n"
     ]
    },
    {
     "name": "stderr",
     "output_type": "stream",
     "text": [
      "    Scan: 100%|██████████| 1.00/1.00 [00:00<00:00, 88.1files/s]\n",
      " Explode: 100%|██████████| 4.04k/4.04k [00:00<00:00, 19.8kvars/s]\n",
      "  Encode: 100%|██████████| 1.19M/1.19M [00:00<00:00, 11.6MB/s]\n",
      "Finalise: 100%|██████████| 11.0/11.0 [00:00<00:00, 916array/s]\n"
     ]
    },
    {
     "name": "stdout",
     "output_type": "stream",
     "text": [
      "[OK] bio2zarr finished for Ne2e+04_100_1e+06_43\n",
      "tsinfer done\n",
      "Running tsdate\n"
     ]
    },
    {
     "name": "stderr",
     "output_type": "stream",
     "text": [
      "    Scan: 100%|██████████| 1.00/1.00 [00:00<00:00, 84.2files/s]\n",
      " Explode: 100%|██████████| 4.01k/4.01k [00:00<00:00, 20.2kvars/s]\n",
      "  Encode: 100%|██████████| 1.18M/1.18M [00:00<00:00, 11.3MB/s]\n",
      "Finalise: 100%|██████████| 11.0/11.0 [00:00<00:00, 873array/s]\n"
     ]
    },
    {
     "name": "stdout",
     "output_type": "stream",
     "text": [
      "[OK] bio2zarr finished for Ne2e+04_100_1e+06_44\n",
      "tsinfer done\n",
      "Running tsdate\n"
     ]
    },
    {
     "name": "stderr",
     "output_type": "stream",
     "text": [
      "    Scan: 100%|██████████| 1.00/1.00 [00:00<00:00, 79.1files/s]\n",
      " Explode: 100%|██████████| 3.99k/3.99k [00:00<00:00, 20.4kvars/s]\n",
      "  Encode: 100%|██████████| 1.17M/1.17M [00:00<00:00, 12.9MB/s]\n",
      "Finalise: 100%|██████████| 11.0/11.0 [00:00<00:00, 1.04karray/s]\n"
     ]
    },
    {
     "name": "stdout",
     "output_type": "stream",
     "text": [
      "[OK] bio2zarr finished for Ne2e+04_100_1e+06_45\n",
      "tsinfer done\n",
      "Running tsdate\n"
     ]
    },
    {
     "name": "stderr",
     "output_type": "stream",
     "text": [
      "    Scan: 100%|██████████| 1.00/1.00 [00:00<00:00, 78.6files/s]\n",
      " Explode: 100%|██████████| 4.12k/4.12k [00:00<00:00, 19.6kvars/s]\n",
      "  Encode: 100%|██████████| 1.21M/1.21M [00:00<00:00, 11.7MB/s]\n",
      "Finalise: 100%|██████████| 11.0/11.0 [00:00<00:00, 936array/s]\n"
     ]
    },
    {
     "name": "stdout",
     "output_type": "stream",
     "text": [
      "[OK] bio2zarr finished for Ne2e+04_100_1e+06_46\n",
      "tsinfer done\n",
      "Running tsdate\n"
     ]
    },
    {
     "name": "stderr",
     "output_type": "stream",
     "text": [
      "    Scan: 100%|██████████| 1.00/1.00 [00:00<00:00, 79.0files/s]\n",
      " Explode: 100%|██████████| 4.25k/4.25k [00:00<00:00, 23.4kvars/s]\n",
      "  Encode: 100%|██████████| 1.25M/1.25M [00:00<00:00, 10.9MB/s]\n",
      "Finalise: 100%|██████████| 11.0/11.0 [00:00<00:00, 1.06karray/s]\n"
     ]
    },
    {
     "name": "stdout",
     "output_type": "stream",
     "text": [
      "[OK] bio2zarr finished for Ne2e+04_100_1e+06_47\n",
      "tsinfer done\n",
      "Running tsdate\n"
     ]
    },
    {
     "name": "stderr",
     "output_type": "stream",
     "text": [
      "    Scan: 100%|██████████| 1.00/1.00 [00:00<00:00, 79.1files/s]\n",
      " Explode: 100%|██████████| 4.32k/4.32k [00:00<00:00, 22.9kvars/s]\n",
      "  Encode: 100%|██████████| 1.27M/1.27M [00:00<00:00, 11.7MB/s]\n",
      "Finalise: 100%|██████████| 11.0/11.0 [00:00<00:00, 1.07karray/s]\n"
     ]
    },
    {
     "name": "stdout",
     "output_type": "stream",
     "text": [
      "[OK] bio2zarr finished for Ne2e+04_100_1e+06_48\n",
      "tsinfer done\n",
      "Running tsdate\n"
     ]
    },
    {
     "name": "stderr",
     "output_type": "stream",
     "text": [
      "    Scan: 100%|██████████| 1.00/1.00 [00:00<00:00, 79.0files/s]\n",
      " Explode: 100%|██████████| 4.13k/4.13k [00:00<00:00, 20.0kvars/s]\n",
      "  Encode: 100%|██████████| 1.21M/1.21M [00:00<00:00, 11.8MB/s]\n",
      "Finalise: 100%|██████████| 11.0/11.0 [00:00<00:00, 931array/s]\n"
     ]
    },
    {
     "name": "stdout",
     "output_type": "stream",
     "text": [
      "[OK] bio2zarr finished for Ne2e+04_100_1e+06_49\n",
      "tsinfer done\n",
      "Running tsdate\n"
     ]
    },
    {
     "name": "stderr",
     "output_type": "stream",
     "text": [
      "    Scan: 100%|██████████| 1.00/1.00 [00:00<00:00, 97.6files/s]\n",
      " Explode: 100%|██████████| 4.14k/4.14k [00:00<00:00, 20.2kvars/s]\n",
      "  Encode: 100%|██████████| 1.22M/1.22M [00:00<00:00, 12.1MB/s]\n",
      "Finalise: 100%|██████████| 11.0/11.0 [00:00<00:00, 1.06karray/s]\n"
     ]
    },
    {
     "name": "stdout",
     "output_type": "stream",
     "text": [
      "[OK] bio2zarr finished for Ne2e+04_100_1e+06_50\n",
      "tsinfer done\n",
      "Running tsdate\n"
     ]
    },
    {
     "name": "stderr",
     "output_type": "stream",
     "text": [
      "    Scan: 100%|██████████| 1.00/1.00 [00:00<00:00, 79.0files/s]\n",
      " Explode: 100%|██████████| 4.27k/4.27k [00:00<00:00, 22.2kvars/s]\n",
      "  Encode: 100%|██████████| 1.26M/1.26M [00:00<00:00, 8.91MB/s]\n",
      "Finalise: 100%|██████████| 11.0/11.0 [00:00<00:00, 1.01karray/s]\n"
     ]
    },
    {
     "name": "stdout",
     "output_type": "stream",
     "text": [
      "[OK] bio2zarr finished for Ne2e+04_100_1e+06_51\n",
      "tsinfer done\n",
      "Running tsdate\n"
     ]
    },
    {
     "name": "stderr",
     "output_type": "stream",
     "text": [
      "    Scan: 100%|██████████| 1.00/1.00 [00:00<00:00, 78.7files/s]\n",
      " Explode: 100%|██████████| 4.26k/4.26k [00:00<00:00, 23.2kvars/s]\n",
      "  Encode: 100%|██████████| 1.25M/1.25M [00:00<00:00, 12.1MB/s]\n",
      "Finalise: 100%|██████████| 11.0/11.0 [00:00<00:00, 870array/s]\n"
     ]
    },
    {
     "name": "stdout",
     "output_type": "stream",
     "text": [
      "[OK] bio2zarr finished for Ne2e+04_100_1e+06_52\n",
      "tsinfer done\n",
      "Running tsdate\n"
     ]
    },
    {
     "name": "stderr",
     "output_type": "stream",
     "text": [
      "    Scan: 100%|██████████| 1.00/1.00 [00:00<00:00, 78.9files/s]\n",
      " Explode: 100%|██████████| 4.03k/4.03k [00:00<00:00, 20.1kvars/s]\n",
      "  Encode: 100%|██████████| 1.18M/1.18M [00:00<00:00, 11.6MB/s]\n",
      "Finalise: 100%|██████████| 11.0/11.0 [00:00<00:00, 868array/s]\n"
     ]
    },
    {
     "name": "stdout",
     "output_type": "stream",
     "text": [
      "[OK] bio2zarr finished for Ne2e+04_100_1e+06_53\n",
      "tsinfer done\n",
      "Running tsdate\n"
     ]
    },
    {
     "name": "stderr",
     "output_type": "stream",
     "text": [
      "    Scan: 100%|██████████| 1.00/1.00 [00:00<00:00, 86.7files/s]\n",
      " Explode: 100%|██████████| 4.09k/4.09k [00:00<00:00, 19.6kvars/s]\n",
      "  Encode: 100%|██████████| 1.20M/1.20M [00:00<00:00, 11.7MB/s]\n",
      "Finalise: 100%|██████████| 11.0/11.0 [00:00<00:00, 932array/s]\n"
     ]
    },
    {
     "name": "stdout",
     "output_type": "stream",
     "text": [
      "[OK] bio2zarr finished for Ne2e+04_100_1e+06_54\n",
      "tsinfer done\n",
      "Running tsdate\n"
     ]
    },
    {
     "name": "stderr",
     "output_type": "stream",
     "text": [
      "    Scan: 100%|██████████| 1.00/1.00 [00:00<00:00, 79.0files/s]\n",
      " Explode: 100%|██████████| 4.09k/4.09k [00:00<00:00, 19.9kvars/s]\n",
      "  Encode: 100%|██████████| 1.20M/1.20M [00:00<00:00, 11.9MB/s]\n",
      "Finalise: 100%|██████████| 11.0/11.0 [00:00<00:00, 869array/s]\n"
     ]
    },
    {
     "name": "stdout",
     "output_type": "stream",
     "text": [
      "[OK] bio2zarr finished for Ne2e+04_100_1e+06_55\n",
      "tsinfer done\n",
      "Running tsdate\n"
     ]
    },
    {
     "name": "stderr",
     "output_type": "stream",
     "text": [
      "    Scan: 100%|██████████| 1.00/1.00 [00:00<00:00, 85.0files/s]\n",
      " Explode: 100%|██████████| 4.21k/4.21k [00:00<00:00, 19.7kvars/s]\n",
      "  Encode: 100%|██████████| 1.24M/1.24M [00:00<00:00, 11.8MB/s]\n",
      "Finalise: 100%|██████████| 11.0/11.0 [00:00<00:00, 1.03karray/s]\n"
     ]
    },
    {
     "name": "stdout",
     "output_type": "stream",
     "text": [
      "[OK] bio2zarr finished for Ne2e+04_100_1e+06_56\n",
      "tsinfer done\n",
      "Running tsdate\n"
     ]
    },
    {
     "name": "stderr",
     "output_type": "stream",
     "text": [
      "    Scan: 100%|██████████| 1.00/1.00 [00:00<00:00, 79.0files/s]\n",
      " Explode: 100%|██████████| 3.99k/3.99k [00:00<00:00, 19.6kvars/s]\n",
      "  Encode: 100%|██████████| 1.20M/1.20M [00:00<00:00, 12.2MB/s]\n",
      "Finalise: 100%|██████████| 11.0/11.0 [00:00<00:00, 871array/s]\n"
     ]
    },
    {
     "name": "stdout",
     "output_type": "stream",
     "text": [
      "[OK] bio2zarr finished for Ne2e+04_100_1e+06_57\n",
      "tsinfer done\n",
      "Running tsdate\n"
     ]
    },
    {
     "name": "stderr",
     "output_type": "stream",
     "text": [
      "    Scan: 100%|██████████| 1.00/1.00 [00:00<00:00, 78.8files/s]\n",
      " Explode: 100%|██████████| 4.08k/4.08k [00:00<00:00, 17.7kvars/s]\n",
      "  Encode: 100%|██████████| 1.20M/1.20M [00:00<00:00, 11.9MB/s]\n",
      "Finalise: 100%|██████████| 11.0/11.0 [00:00<00:00, 1.03karray/s]\n"
     ]
    },
    {
     "name": "stdout",
     "output_type": "stream",
     "text": [
      "[OK] bio2zarr finished for Ne2e+04_100_1e+06_58\n",
      "tsinfer done\n",
      "Running tsdate\n"
     ]
    },
    {
     "name": "stderr",
     "output_type": "stream",
     "text": [
      "    Scan: 100%|██████████| 1.00/1.00 [00:00<00:00, 78.9files/s]\n",
      " Explode: 100%|██████████| 4.37k/4.37k [00:00<00:00, 22.7kvars/s]\n",
      "  Encode: 100%|██████████| 1.29M/1.29M [00:00<00:00, 11.5MB/s]\n",
      "Finalise: 100%|██████████| 11.0/11.0 [00:00<00:00, 1.03karray/s]\n"
     ]
    },
    {
     "name": "stdout",
     "output_type": "stream",
     "text": [
      "[OK] bio2zarr finished for Ne2e+04_100_1e+06_59\n",
      "tsinfer done\n",
      "Running tsdate\n"
     ]
    },
    {
     "name": "stderr",
     "output_type": "stream",
     "text": [
      "    Scan: 100%|██████████| 1.00/1.00 [00:00<00:00, 79.0files/s]\n",
      " Explode: 100%|██████████| 4.39k/4.39k [00:00<00:00, 22.6kvars/s]\n",
      "  Encode: 100%|██████████| 1.29M/1.29M [00:00<00:00, 11.6MB/s]\n",
      "Finalise: 100%|██████████| 11.0/11.0 [00:00<00:00, 868array/s]\n"
     ]
    },
    {
     "name": "stdout",
     "output_type": "stream",
     "text": [
      "[OK] bio2zarr finished for Ne2e+04_100_1e+06_60\n",
      "tsinfer done\n",
      "Running tsdate\n"
     ]
    },
    {
     "name": "stderr",
     "output_type": "stream",
     "text": [
      "    Scan: 100%|██████████| 1.00/1.00 [00:00<00:00, 86.3files/s]\n",
      " Explode: 100%|██████████| 3.96k/3.96k [00:00<00:00, 16.5kvars/s]\n",
      "  Encode: 100%|██████████| 1.16M/1.16M [00:00<00:00, 11.8MB/s]\n",
      "Finalise: 100%|██████████| 11.0/11.0 [00:00<00:00, 871array/s]\n"
     ]
    },
    {
     "name": "stdout",
     "output_type": "stream",
     "text": [
      "[OK] bio2zarr finished for Ne2e+04_100_1e+06_61\n",
      "tsinfer done\n",
      "Running tsdate\n"
     ]
    },
    {
     "name": "stderr",
     "output_type": "stream",
     "text": [
      "    Scan: 100%|██████████| 1.00/1.00 [00:00<00:00, 81.7files/s]\n",
      " Explode: 100%|██████████| 4.07k/4.07k [00:00<00:00, 18.6kvars/s]\n",
      "  Encode: 100%|██████████| 1.20M/1.20M [00:00<00:00, 11.8MB/s]\n",
      "Finalise: 100%|██████████| 11.0/11.0 [00:00<00:00, 891array/s]\n"
     ]
    },
    {
     "name": "stdout",
     "output_type": "stream",
     "text": [
      "[OK] bio2zarr finished for Ne2e+04_100_1e+06_62\n",
      "tsinfer done\n",
      "Running tsdate\n"
     ]
    },
    {
     "name": "stderr",
     "output_type": "stream",
     "text": [
      "    Scan: 100%|██████████| 1.00/1.00 [00:00<00:00, 95.3files/s]\n",
      " Explode: 100%|██████████| 4.29k/4.29k [00:00<00:00, 22.3kvars/s]\n",
      "  Encode: 100%|██████████| 1.26M/1.26M [00:00<00:00, 10.9MB/s]\n",
      "Finalise: 100%|██████████| 11.0/11.0 [00:00<00:00, 899array/s]\n"
     ]
    },
    {
     "name": "stdout",
     "output_type": "stream",
     "text": [
      "[OK] bio2zarr finished for Ne2e+04_100_1e+06_63\n",
      "tsinfer done\n",
      "Running tsdate\n"
     ]
    },
    {
     "name": "stderr",
     "output_type": "stream",
     "text": [
      "    Scan: 100%|██████████| 1.00/1.00 [00:00<00:00, 90.6files/s]\n",
      " Explode: 100%|██████████| 4.26k/4.26k [00:00<00:00, 21.5kvars/s]\n",
      "  Encode: 100%|██████████| 1.25M/1.25M [00:00<00:00, 10.8MB/s]\n",
      "Finalise: 100%|██████████| 11.0/11.0 [00:00<00:00, 1.06karray/s]\n"
     ]
    },
    {
     "name": "stdout",
     "output_type": "stream",
     "text": [
      "[OK] bio2zarr finished for Ne2e+04_100_1e+06_64\n",
      "tsinfer done\n",
      "Running tsdate\n"
     ]
    },
    {
     "name": "stderr",
     "output_type": "stream",
     "text": [
      "    Scan: 100%|██████████| 1.00/1.00 [00:00<00:00, 78.9files/s]\n",
      " Explode: 100%|██████████| 4.19k/4.19k [00:00<00:00, 18.6kvars/s]\n",
      "  Encode: 100%|██████████| 1.23M/1.23M [00:00<00:00, 10.7MB/s]\n",
      "Finalise: 100%|██████████| 11.0/11.0 [00:00<00:00, 870array/s]\n"
     ]
    },
    {
     "name": "stdout",
     "output_type": "stream",
     "text": [
      "[OK] bio2zarr finished for Ne2e+04_100_1e+06_65\n",
      "tsinfer done\n",
      "Running tsdate\n"
     ]
    },
    {
     "name": "stderr",
     "output_type": "stream",
     "text": [
      "    Scan: 100%|██████████| 1.00/1.00 [00:00<00:00, 79.7files/s]\n",
      " Explode: 100%|██████████| 4.31k/4.31k [00:00<00:00, 22.2kvars/s]\n",
      "  Encode: 100%|██████████| 1.27M/1.27M [00:00<00:00, 11.1MB/s]\n",
      "Finalise: 100%|██████████| 11.0/11.0 [00:00<00:00, 874array/s]\n"
     ]
    },
    {
     "name": "stdout",
     "output_type": "stream",
     "text": [
      "[OK] bio2zarr finished for Ne2e+04_100_1e+06_66\n",
      "tsinfer done\n",
      "Running tsdate\n"
     ]
    },
    {
     "name": "stderr",
     "output_type": "stream",
     "text": [
      "    Scan: 100%|██████████| 1.00/1.00 [00:00<00:00, 85.7files/s]\n",
      " Explode: 100%|██████████| 4.16k/4.16k [00:00<00:00, 20.0kvars/s]\n",
      "  Encode: 100%|██████████| 1.22M/1.22M [00:00<00:00, 10.9MB/s]\n",
      "Finalise: 100%|██████████| 11.0/11.0 [00:00<00:00, 868array/s]\n"
     ]
    },
    {
     "name": "stdout",
     "output_type": "stream",
     "text": [
      "[OK] bio2zarr finished for Ne2e+04_100_1e+06_67\n",
      "tsinfer done\n",
      "Running tsdate\n"
     ]
    },
    {
     "name": "stderr",
     "output_type": "stream",
     "text": [
      "    Scan: 100%|██████████| 1.00/1.00 [00:00<00:00, 94.4files/s]\n",
      " Explode: 100%|██████████| 4.14k/4.14k [00:00<00:00, 19.9kvars/s]\n",
      "  Encode: 100%|██████████| 1.22M/1.22M [00:00<00:00, 9.76MB/s]\n",
      "Finalise: 100%|██████████| 11.0/11.0 [00:00<00:00, 873array/s]\n"
     ]
    },
    {
     "name": "stdout",
     "output_type": "stream",
     "text": [
      "[OK] bio2zarr finished for Ne2e+04_100_1e+06_68\n",
      "tsinfer done\n",
      "Running tsdate\n"
     ]
    },
    {
     "name": "stderr",
     "output_type": "stream",
     "text": [
      "    Scan: 100%|██████████| 1.00/1.00 [00:00<00:00, 94.1files/s]\n",
      " Explode: 100%|██████████| 4.17k/4.17k [00:00<00:00, 19.6kvars/s]\n",
      "  Encode: 100%|██████████| 1.23M/1.23M [00:00<00:00, 10.9MB/s]\n",
      "Finalise: 100%|██████████| 11.0/11.0 [00:00<00:00, 985array/s]\n"
     ]
    },
    {
     "name": "stdout",
     "output_type": "stream",
     "text": [
      "[OK] bio2zarr finished for Ne2e+04_100_1e+06_69\n",
      "tsinfer done\n",
      "Running tsdate\n"
     ]
    },
    {
     "name": "stderr",
     "output_type": "stream",
     "text": [
      "    Scan: 100%|██████████| 1.00/1.00 [00:00<00:00, 78.8files/s]\n",
      " Explode: 100%|██████████| 4.17k/4.17k [00:00<00:00, 18.0kvars/s]\n",
      "  Encode: 100%|██████████| 1.22M/1.22M [00:00<00:00, 11.6MB/s]\n",
      "Finalise: 100%|██████████| 11.0/11.0 [00:00<00:00, 988array/s]\n"
     ]
    },
    {
     "name": "stdout",
     "output_type": "stream",
     "text": [
      "[OK] bio2zarr finished for Ne2e+04_100_1e+06_70\n",
      "tsinfer done\n",
      "Running tsdate\n"
     ]
    },
    {
     "name": "stderr",
     "output_type": "stream",
     "text": [
      "    Scan: 100%|██████████| 1.00/1.00 [00:00<00:00, 86.0files/s]\n",
      " Explode: 100%|██████████| 4.27k/4.27k [00:00<00:00, 22.3kvars/s]\n",
      "  Encode: 100%|██████████| 1.25M/1.25M [00:00<00:00, 12.5MB/s]\n",
      "Finalise: 100%|██████████| 11.0/11.0 [00:00<00:00, 874array/s]\n"
     ]
    },
    {
     "name": "stdout",
     "output_type": "stream",
     "text": [
      "[OK] bio2zarr finished for Ne2e+04_100_1e+06_71\n",
      "tsinfer done\n",
      "Running tsdate\n"
     ]
    },
    {
     "name": "stderr",
     "output_type": "stream",
     "text": [
      "    Scan: 100%|██████████| 1.00/1.00 [00:00<00:00, 79.2files/s]\n",
      " Explode: 100%|██████████| 4.09k/4.09k [00:00<00:00, 20.1kvars/s]\n",
      "  Encode: 100%|██████████| 1.20M/1.20M [00:00<00:00, 12.6MB/s]\n",
      "Finalise: 100%|██████████| 11.0/11.0 [00:00<00:00, 874array/s]\n"
     ]
    },
    {
     "name": "stdout",
     "output_type": "stream",
     "text": [
      "[OK] bio2zarr finished for Ne2e+04_100_1e+06_72\n",
      "tsinfer done\n",
      "Running tsdate\n"
     ]
    },
    {
     "name": "stderr",
     "output_type": "stream",
     "text": [
      "    Scan: 100%|██████████| 1.00/1.00 [00:00<00:00, 78.7files/s]\n",
      " Explode: 100%|██████████| 4.32k/4.32k [00:00<00:00, 23.5kvars/s]\n",
      "  Encode: 100%|██████████| 1.27M/1.27M [00:00<00:00, 12.3MB/s]\n",
      "Finalise: 100%|██████████| 11.0/11.0 [00:00<00:00, 1.07karray/s]\n"
     ]
    },
    {
     "name": "stdout",
     "output_type": "stream",
     "text": [
      "[OK] bio2zarr finished for Ne2e+04_100_1e+06_73\n",
      "tsinfer done\n",
      "Running tsdate\n"
     ]
    },
    {
     "name": "stderr",
     "output_type": "stream",
     "text": [
      "    Scan: 100%|██████████| 1.00/1.00 [00:00<00:00, 78.9files/s]\n",
      " Explode: 100%|██████████| 4.18k/4.18k [00:00<00:00, 18.6kvars/s]\n",
      "  Encode: 100%|██████████| 1.23M/1.23M [00:00<00:00, 10.7MB/s]\n",
      "Finalise: 100%|██████████| 11.0/11.0 [00:00<00:00, 958array/s]\n"
     ]
    },
    {
     "name": "stdout",
     "output_type": "stream",
     "text": [
      "[OK] bio2zarr finished for Ne2e+04_100_1e+06_74\n",
      "tsinfer done\n",
      "Running tsdate\n"
     ]
    },
    {
     "name": "stderr",
     "output_type": "stream",
     "text": [
      "    Scan: 100%|██████████| 1.00/1.00 [00:00<00:00, 80.4files/s]\n",
      " Explode: 100%|██████████| 3.88k/3.88k [00:00<00:00, 19.0kvars/s]\n",
      "  Encode: 100%|██████████| 1.14M/1.14M [00:00<00:00, 11.4MB/s]\n",
      "Finalise: 100%|██████████| 11.0/11.0 [00:00<00:00, 828array/s]\n"
     ]
    },
    {
     "name": "stdout",
     "output_type": "stream",
     "text": [
      "[OK] bio2zarr finished for Ne2e+04_100_1e+06_75\n",
      "tsinfer done\n",
      "Running tsdate\n"
     ]
    },
    {
     "name": "stderr",
     "output_type": "stream",
     "text": [
      "    Scan: 100%|██████████| 1.00/1.00 [00:00<00:00, 78.9files/s]\n",
      " Explode: 100%|██████████| 3.98k/3.98k [00:00<00:00, 20.1kvars/s]\n",
      "  Encode: 100%|██████████| 1.17M/1.17M [00:00<00:00, 11.8MB/s]\n",
      "Finalise: 100%|██████████| 11.0/11.0 [00:00<00:00, 1.06karray/s]\n"
     ]
    },
    {
     "name": "stdout",
     "output_type": "stream",
     "text": [
      "[OK] bio2zarr finished for Ne2e+04_100_1e+06_76\n",
      "tsinfer done\n",
      "Running tsdate\n"
     ]
    },
    {
     "name": "stderr",
     "output_type": "stream",
     "text": [
      "    Scan: 100%|██████████| 1.00/1.00 [00:00<00:00, 83.4files/s]\n",
      " Explode: 100%|██████████| 4.11k/4.11k [00:00<00:00, 20.1kvars/s]\n",
      "  Encode: 100%|██████████| 1.21M/1.21M [00:00<00:00, 11.8MB/s]\n",
      "Finalise: 100%|██████████| 11.0/11.0 [00:00<00:00, 866array/s]\n"
     ]
    },
    {
     "name": "stdout",
     "output_type": "stream",
     "text": [
      "[OK] bio2zarr finished for Ne2e+04_100_1e+06_77\n",
      "tsinfer done\n",
      "Running tsdate\n"
     ]
    },
    {
     "name": "stderr",
     "output_type": "stream",
     "text": [
      "    Scan: 100%|██████████| 1.00/1.00 [00:00<00:00, 79.0files/s]\n",
      " Explode: 100%|██████████| 3.78k/3.78k [00:00<00:00, 18.9kvars/s]\n",
      "  Encode: 100%|██████████| 1.11M/1.11M [00:00<00:00, 11.8MB/s]\n",
      "Finalise: 100%|██████████| 11.0/11.0 [00:00<00:00, 870array/s]\n"
     ]
    },
    {
     "name": "stdout",
     "output_type": "stream",
     "text": [
      "[OK] bio2zarr finished for Ne2e+04_100_1e+06_78\n",
      "tsinfer done\n",
      "Running tsdate\n"
     ]
    },
    {
     "name": "stderr",
     "output_type": "stream",
     "text": [
      "    Scan: 100%|██████████| 1.00/1.00 [00:00<00:00, 78.9files/s]\n",
      " Explode: 100%|██████████| 3.97k/3.97k [00:00<00:00, 19.8kvars/s]\n",
      "  Encode: 100%|██████████| 1.17M/1.17M [00:00<00:00, 12.1MB/s]\n",
      "Finalise: 100%|██████████| 11.0/11.0 [00:00<00:00, 874array/s]\n"
     ]
    },
    {
     "name": "stdout",
     "output_type": "stream",
     "text": [
      "[OK] bio2zarr finished for Ne2e+04_100_1e+06_79\n",
      "tsinfer done\n",
      "Running tsdate\n"
     ]
    },
    {
     "name": "stderr",
     "output_type": "stream",
     "text": [
      "    Scan: 100%|██████████| 1.00/1.00 [00:00<00:00, 79.1files/s]\n",
      " Explode: 100%|██████████| 4.26k/4.26k [00:00<00:00, 23.7kvars/s]\n",
      "  Encode: 100%|██████████| 1.25M/1.25M [00:00<00:00, 11.3MB/s]\n",
      "Finalise: 100%|██████████| 11.0/11.0 [00:00<00:00, 874array/s]\n"
     ]
    },
    {
     "name": "stdout",
     "output_type": "stream",
     "text": [
      "[OK] bio2zarr finished for Ne2e+04_100_1e+06_80\n",
      "tsinfer done\n",
      "Running tsdate\n"
     ]
    },
    {
     "name": "stderr",
     "output_type": "stream",
     "text": [
      "    Scan: 100%|██████████| 1.00/1.00 [00:00<00:00, 89.1files/s]\n",
      " Explode: 100%|██████████| 4.03k/4.03k [00:00<00:00, 19.1kvars/s]\n",
      "  Encode: 100%|██████████| 1.18M/1.18M [00:00<00:00, 11.4MB/s]\n",
      "Finalise: 100%|██████████| 11.0/11.0 [00:00<00:00, 874array/s]\n"
     ]
    },
    {
     "name": "stdout",
     "output_type": "stream",
     "text": [
      "[OK] bio2zarr finished for Ne2e+04_100_1e+06_81\n",
      "tsinfer done\n",
      "Running tsdate\n"
     ]
    },
    {
     "name": "stderr",
     "output_type": "stream",
     "text": [
      "    Scan: 100%|██████████| 1.00/1.00 [00:00<00:00, 78.9files/s]\n",
      " Explode: 100%|██████████| 4.07k/4.07k [00:00<00:00, 19.6kvars/s]\n",
      "  Encode: 100%|██████████| 1.20M/1.20M [00:00<00:00, 11.5MB/s]\n",
      "Finalise: 100%|██████████| 11.0/11.0 [00:00<00:00, 944array/s]\n"
     ]
    },
    {
     "name": "stdout",
     "output_type": "stream",
     "text": [
      "[OK] bio2zarr finished for Ne2e+04_100_1e+06_82\n",
      "tsinfer done\n",
      "Running tsdate\n"
     ]
    },
    {
     "name": "stderr",
     "output_type": "stream",
     "text": [
      "    Scan: 100%|██████████| 1.00/1.00 [00:00<00:00, 79.0files/s]\n",
      " Explode: 100%|██████████| 4.32k/4.32k [00:00<00:00, 23.5kvars/s]\n",
      "  Encode: 100%|██████████| 1.27M/1.27M [00:00<00:00, 11.2MB/s]\n",
      "Finalise: 100%|██████████| 11.0/11.0 [00:00<00:00, 870array/s]\n"
     ]
    },
    {
     "name": "stdout",
     "output_type": "stream",
     "text": [
      "[OK] bio2zarr finished for Ne2e+04_100_1e+06_83\n",
      "tsinfer done\n",
      "Running tsdate\n"
     ]
    },
    {
     "name": "stderr",
     "output_type": "stream",
     "text": [
      "    Scan: 100%|██████████| 1.00/1.00 [00:00<00:00, 78.9files/s]\n",
      " Explode: 100%|██████████| 4.07k/4.07k [00:00<00:00, 19.3kvars/s]\n",
      "  Encode: 100%|██████████| 1.20M/1.20M [00:00<00:00, 11.9MB/s]\n",
      "Finalise: 100%|██████████| 11.0/11.0 [00:00<00:00, 874array/s]\n"
     ]
    },
    {
     "name": "stdout",
     "output_type": "stream",
     "text": [
      "[OK] bio2zarr finished for Ne2e+04_100_1e+06_84\n",
      "tsinfer done\n",
      "Running tsdate\n"
     ]
    },
    {
     "name": "stderr",
     "output_type": "stream",
     "text": [
      "    Scan: 100%|██████████| 1.00/1.00 [00:00<00:00, 82.3files/s]\n",
      " Explode: 100%|██████████| 4.04k/4.04k [00:00<00:00, 20.3kvars/s]\n",
      "  Encode: 100%|██████████| 1.19M/1.19M [00:00<00:00, 11.8MB/s]\n",
      "Finalise: 100%|██████████| 11.0/11.0 [00:00<00:00, 953array/s]\n"
     ]
    },
    {
     "name": "stdout",
     "output_type": "stream",
     "text": [
      "[OK] bio2zarr finished for Ne2e+04_100_1e+06_85\n",
      "tsinfer done\n",
      "Running tsdate\n"
     ]
    },
    {
     "name": "stderr",
     "output_type": "stream",
     "text": [
      "    Scan: 100%|██████████| 1.00/1.00 [00:00<00:00, 85.2files/s]\n",
      " Explode: 100%|██████████| 4.05k/4.05k [00:00<00:00, 20.1kvars/s]\n",
      "  Encode: 100%|██████████| 1.19M/1.19M [00:00<00:00, 12.0MB/s]\n",
      "Finalise: 100%|██████████| 11.0/11.0 [00:00<00:00, 1.02karray/s]\n"
     ]
    },
    {
     "name": "stdout",
     "output_type": "stream",
     "text": [
      "[OK] bio2zarr finished for Ne2e+04_100_1e+06_86\n",
      "tsinfer done\n",
      "Running tsdate\n"
     ]
    },
    {
     "name": "stderr",
     "output_type": "stream",
     "text": [
      "    Scan: 100%|██████████| 1.00/1.00 [00:00<00:00, 82.4files/s]\n",
      " Explode: 100%|██████████| 4.41k/4.41k [00:00<00:00, 21.3kvars/s]\n",
      "  Encode: 100%|██████████| 1.30M/1.30M [00:00<00:00, 12.3MB/s]\n",
      "Finalise: 100%|██████████| 11.0/11.0 [00:00<00:00, 872array/s]\n"
     ]
    },
    {
     "name": "stdout",
     "output_type": "stream",
     "text": [
      "[OK] bio2zarr finished for Ne2e+04_100_1e+06_87\n",
      "tsinfer done\n",
      "Running tsdate\n"
     ]
    },
    {
     "name": "stderr",
     "output_type": "stream",
     "text": [
      "    Scan: 100%|██████████| 1.00/1.00 [00:00<00:00, 95.7files/s]\n",
      " Explode: 100%|██████████| 4.01k/4.01k [00:00<00:00, 20.0kvars/s]\n",
      "  Encode: 100%|██████████| 1.18M/1.18M [00:00<00:00, 11.5MB/s]\n",
      "Finalise: 100%|██████████| 11.0/11.0 [00:00<00:00, 959array/s]\n"
     ]
    },
    {
     "name": "stdout",
     "output_type": "stream",
     "text": [
      "[OK] bio2zarr finished for Ne2e+04_100_1e+06_88\n",
      "tsinfer done\n",
      "Running tsdate\n"
     ]
    },
    {
     "name": "stderr",
     "output_type": "stream",
     "text": [
      "    Scan: 100%|██████████| 1.00/1.00 [00:00<00:00, 79.0files/s]\n",
      " Explode: 100%|██████████| 4.38k/4.38k [00:00<00:00, 23.2kvars/s]\n",
      "  Encode: 100%|██████████| 1.29M/1.29M [00:00<00:00, 11.0MB/s]\n",
      "Finalise: 100%|██████████| 11.0/11.0 [00:00<00:00, 868array/s]\n"
     ]
    },
    {
     "name": "stdout",
     "output_type": "stream",
     "text": [
      "[OK] bio2zarr finished for Ne2e+04_100_1e+06_89\n",
      "tsinfer done\n",
      "Running tsdate\n"
     ]
    },
    {
     "name": "stderr",
     "output_type": "stream",
     "text": [
      "    Scan: 100%|██████████| 1.00/1.00 [00:00<00:00, 78.8files/s]\n",
      " Explode: 100%|██████████| 4.20k/4.20k [00:00<00:00, 20.4kvars/s]\n",
      "  Encode: 100%|██████████| 1.24M/1.24M [00:00<00:00, 10.5MB/s]\n",
      "Finalise: 100%|██████████| 11.0/11.0 [00:00<00:00, 868array/s]\n"
     ]
    },
    {
     "name": "stdout",
     "output_type": "stream",
     "text": [
      "[OK] bio2zarr finished for Ne2e+04_100_1e+06_90\n",
      "tsinfer done\n",
      "Running tsdate\n"
     ]
    },
    {
     "name": "stderr",
     "output_type": "stream",
     "text": [
      "    Scan: 100%|██████████| 1.00/1.00 [00:00<00:00, 92.1files/s]\n",
      " Explode: 100%|██████████| 4.00k/4.00k [00:00<00:00, 18.9kvars/s]\n",
      "  Encode: 100%|██████████| 1.17M/1.17M [00:00<00:00, 11.6MB/s]\n",
      "Finalise: 100%|██████████| 11.0/11.0 [00:00<00:00, 1.04karray/s]\n"
     ]
    },
    {
     "name": "stdout",
     "output_type": "stream",
     "text": [
      "[OK] bio2zarr finished for Ne2e+04_100_1e+06_91\n",
      "tsinfer done\n",
      "Running tsdate\n"
     ]
    },
    {
     "name": "stderr",
     "output_type": "stream",
     "text": [
      "    Scan: 100%|██████████| 1.00/1.00 [00:00<00:00, 78.5files/s]\n",
      " Explode: 100%|██████████| 4.18k/4.18k [00:00<00:00, 17.6kvars/s]\n",
      "  Encode: 100%|██████████| 1.23M/1.23M [00:00<00:00, 10.5MB/s]\n",
      "Finalise: 100%|██████████| 11.0/11.0 [00:00<00:00, 901array/s]\n"
     ]
    },
    {
     "name": "stdout",
     "output_type": "stream",
     "text": [
      "[OK] bio2zarr finished for Ne2e+04_100_1e+06_92\n",
      "tsinfer done\n",
      "Running tsdate\n"
     ]
    },
    {
     "name": "stderr",
     "output_type": "stream",
     "text": [
      "    Scan: 100%|██████████| 1.00/1.00 [00:00<00:00, 82.3files/s]\n",
      " Explode: 100%|██████████| 3.85k/3.85k [00:00<00:00, 18.4kvars/s]\n",
      "  Encode: 100%|██████████| 1.13M/1.13M [00:00<00:00, 11.5MB/s]\n",
      "Finalise: 100%|██████████| 11.0/11.0 [00:00<00:00, 868array/s]\n"
     ]
    },
    {
     "name": "stdout",
     "output_type": "stream",
     "text": [
      "[OK] bio2zarr finished for Ne2e+04_100_1e+06_93\n",
      "tsinfer done\n",
      "Running tsdate\n"
     ]
    },
    {
     "name": "stderr",
     "output_type": "stream",
     "text": [
      "    Scan: 100%|██████████| 1.00/1.00 [00:00<00:00, 84.9files/s]\n",
      " Explode: 100%|██████████| 3.98k/3.98k [00:00<00:00, 17.6kvars/s]\n",
      "  Encode: 100%|██████████| 1.17M/1.17M [00:00<00:00, 11.1MB/s]\n",
      "Finalise: 100%|██████████| 11.0/11.0 [00:00<00:00, 1.08karray/s]\n"
     ]
    },
    {
     "name": "stdout",
     "output_type": "stream",
     "text": [
      "[OK] bio2zarr finished for Ne2e+04_100_1e+06_94\n",
      "tsinfer done\n",
      "Running tsdate\n"
     ]
    },
    {
     "name": "stderr",
     "output_type": "stream",
     "text": [
      "    Scan: 100%|██████████| 1.00/1.00 [00:00<00:00, 78.8files/s]\n",
      " Explode: 100%|██████████| 4.30k/4.30k [00:00<00:00, 22.6kvars/s]\n",
      "  Encode: 100%|██████████| 1.26M/1.26M [00:00<00:00, 10.9MB/s]\n",
      "Finalise: 100%|██████████| 11.0/11.0 [00:00<00:00, 864array/s]\n"
     ]
    },
    {
     "name": "stdout",
     "output_type": "stream",
     "text": [
      "[OK] bio2zarr finished for Ne2e+04_100_1e+06_95\n",
      "tsinfer done\n",
      "Running tsdate\n"
     ]
    },
    {
     "name": "stderr",
     "output_type": "stream",
     "text": [
      "    Scan: 100%|██████████| 1.00/1.00 [00:00<00:00, 78.9files/s]\n",
      " Explode: 100%|██████████| 4.17k/4.17k [00:00<00:00, 18.8kvars/s]\n",
      "  Encode: 100%|██████████| 1.23M/1.23M [00:00<00:00, 10.7MB/s]\n",
      "Finalise: 100%|██████████| 11.0/11.0 [00:00<00:00, 871array/s]\n"
     ]
    },
    {
     "name": "stdout",
     "output_type": "stream",
     "text": [
      "[OK] bio2zarr finished for Ne2e+04_100_1e+06_96\n",
      "tsinfer done\n",
      "Running tsdate\n"
     ]
    },
    {
     "name": "stderr",
     "output_type": "stream",
     "text": [
      "    Scan: 100%|██████████| 1.00/1.00 [00:00<00:00, 78.8files/s]\n",
      " Explode: 100%|██████████| 4.06k/4.06k [00:00<00:00, 19.9kvars/s]\n",
      "  Encode: 100%|██████████| 1.19M/1.19M [00:00<00:00, 10.8MB/s]\n",
      "Finalise: 100%|██████████| 11.0/11.0 [00:00<00:00, 866array/s]\n"
     ]
    },
    {
     "name": "stdout",
     "output_type": "stream",
     "text": [
      "[OK] bio2zarr finished for Ne2e+04_100_1e+06_97\n",
      "tsinfer done\n",
      "Running tsdate\n"
     ]
    },
    {
     "name": "stderr",
     "output_type": "stream",
     "text": [
      "    Scan: 100%|██████████| 1.00/1.00 [00:00<00:00, 89.0files/s]\n",
      " Explode: 100%|██████████| 4.17k/4.17k [00:00<00:00, 20.1kvars/s]\n",
      "  Encode: 100%|██████████| 1.23M/1.23M [00:00<00:00, 12.2MB/s]\n",
      "Finalise: 100%|██████████| 11.0/11.0 [00:00<00:00, 1.01karray/s]\n"
     ]
    },
    {
     "name": "stdout",
     "output_type": "stream",
     "text": [
      "[OK] bio2zarr finished for Ne2e+04_100_1e+06_98\n",
      "tsinfer done\n",
      "Running tsdate\n"
     ]
    },
    {
     "name": "stderr",
     "output_type": "stream",
     "text": [
      "    Scan: 100%|██████████| 1.00/1.00 [00:00<00:00, 79.9files/s]\n",
      " Explode: 100%|██████████| 3.94k/3.94k [00:00<00:00, 19.9kvars/s]\n",
      "  Encode: 100%|██████████| 1.16M/1.16M [00:00<00:00, 11.7MB/s]\n",
      "Finalise: 100%|██████████| 11.0/11.0 [00:00<00:00, 946array/s]\n"
     ]
    },
    {
     "name": "stdout",
     "output_type": "stream",
     "text": [
      "[OK] bio2zarr finished for Ne2e+04_100_1e+06_99\n",
      "tsinfer done\n",
      "Running tsdate\n"
     ]
    }
   ],
   "source": [
    "simulate_dump(2e4,50,100,tree_dir=\"/Users/jinminli/research/tree_distance/simulations/tree/\",vcz_dir=\"/Users/jinminli/research/tree_distance/simulations/vcf/\")"
   ]
  },
  {
   "cell_type": "code",
   "execution_count": 6,
   "id": "7f081ef9",
   "metadata": {},
   "outputs": [
    {
     "name": "stderr",
     "output_type": "stream",
     "text": [
      "    Scan: 100%|██████████| 1.00/1.00 [00:00<00:00, 78.8files/s]\n",
      " Explode: 100%|██████████| 4.73k/4.73k [00:00<00:00, 17.6kvars/s]\n",
      "  Encode: 100%|██████████| 3.76M/3.76M [00:00<00:00, 31.2MB/s]\n",
      "Finalise: 100%|██████████| 11.0/11.0 [00:00<00:00, 872array/s]\n"
     ]
    },
    {
     "name": "stdout",
     "output_type": "stream",
     "text": [
      "[OK] bio2zarr finished for Ne2e+04_300_1e+06_0\n",
      "tsinfer done\n",
      "Running tsdate\n"
     ]
    },
    {
     "name": "stderr",
     "output_type": "stream",
     "text": [
      "    Scan: 100%|██████████| 1.00/1.00 [00:00<00:00, 79.0files/s]\n",
      " Explode: 100%|██████████| 4.92k/4.92k [00:00<00:00, 18.4kvars/s]\n",
      "  Encode: 100%|██████████| 3.91M/3.91M [00:00<00:00, 29.4MB/s]\n",
      "Finalise: 100%|██████████| 11.0/11.0 [00:00<00:00, 868array/s]\n"
     ]
    },
    {
     "name": "stdout",
     "output_type": "stream",
     "text": [
      "[OK] bio2zarr finished for Ne2e+04_300_1e+06_1\n",
      "tsinfer done\n",
      "Running tsdate\n"
     ]
    },
    {
     "name": "stderr",
     "output_type": "stream",
     "text": [
      "    Scan: 100%|██████████| 1.00/1.00 [00:00<00:00, 85.9files/s]\n",
      " Explode: 100%|██████████| 4.84k/4.84k [00:00<00:00, 18.4kvars/s]\n",
      "  Encode: 100%|██████████| 3.84M/3.84M [00:00<00:00, 31.8MB/s]\n",
      "Finalise: 100%|██████████| 11.0/11.0 [00:00<00:00, 930array/s]\n"
     ]
    },
    {
     "name": "stdout",
     "output_type": "stream",
     "text": [
      "[OK] bio2zarr finished for Ne2e+04_300_1e+06_2\n",
      "tsinfer done\n",
      "Running tsdate\n"
     ]
    },
    {
     "name": "stderr",
     "output_type": "stream",
     "text": [
      "    Scan: 100%|██████████| 1.00/1.00 [00:00<00:00, 79.0files/s]\n",
      " Explode: 100%|██████████| 4.71k/4.71k [00:00<00:00, 18.1kvars/s]\n",
      "  Encode: 100%|██████████| 3.74M/3.74M [00:00<00:00, 30.4MB/s]\n",
      "Finalise: 100%|██████████| 11.0/11.0 [00:00<00:00, 908array/s]\n"
     ]
    },
    {
     "name": "stdout",
     "output_type": "stream",
     "text": [
      "[OK] bio2zarr finished for Ne2e+04_300_1e+06_3\n",
      "tsinfer done\n",
      "Running tsdate\n"
     ]
    },
    {
     "name": "stderr",
     "output_type": "stream",
     "text": [
      "    Scan: 100%|██████████| 1.00/1.00 [00:00<00:00, 97.5files/s]\n",
      " Explode: 100%|██████████| 5.20k/5.20k [00:00<00:00, 18.1kvars/s]\n",
      "  Encode: 100%|██████████| 4.13M/4.13M [00:00<00:00, 30.9MB/s]\n",
      "Finalise: 100%|██████████| 11.0/11.0 [00:00<00:00, 874array/s]\n"
     ]
    },
    {
     "name": "stdout",
     "output_type": "stream",
     "text": [
      "[OK] bio2zarr finished for Ne2e+04_300_1e+06_4\n",
      "tsinfer done\n",
      "Running tsdate\n"
     ]
    },
    {
     "name": "stderr",
     "output_type": "stream",
     "text": [
      "    Scan: 100%|██████████| 1.00/1.00 [00:00<00:00, 92.9files/s]\n",
      " Explode: 100%|██████████| 5.01k/5.01k [00:00<00:00, 18.6kvars/s]\n",
      "  Encode: 100%|██████████| 3.98M/3.98M [00:00<00:00, 29.2MB/s]\n",
      "Finalise: 100%|██████████| 11.0/11.0 [00:00<00:00, 870array/s]\n"
     ]
    },
    {
     "name": "stdout",
     "output_type": "stream",
     "text": [
      "[OK] bio2zarr finished for Ne2e+04_300_1e+06_5\n",
      "tsinfer done\n",
      "Running tsdate\n"
     ]
    },
    {
     "name": "stderr",
     "output_type": "stream",
     "text": [
      "    Scan: 100%|██████████| 1.00/1.00 [00:00<00:00, 79.1files/s]\n",
      " Explode: 100%|██████████| 5.03k/5.03k [00:00<00:00, 17.9kvars/s]\n",
      "  Encode: 100%|██████████| 4.00M/4.00M [00:00<00:00, 28.3MB/s]\n",
      "Finalise: 100%|██████████| 11.0/11.0 [00:00<00:00, 869array/s]\n"
     ]
    },
    {
     "name": "stdout",
     "output_type": "stream",
     "text": [
      "[OK] bio2zarr finished for Ne2e+04_300_1e+06_6\n",
      "tsinfer done\n",
      "Running tsdate\n"
     ]
    },
    {
     "name": "stderr",
     "output_type": "stream",
     "text": [
      "    Scan: 100%|██████████| 1.00/1.00 [00:00<00:00, 95.5files/s]\n",
      " Explode: 100%|██████████| 4.89k/4.89k [00:00<00:00, 18.5kvars/s]\n",
      "  Encode: 100%|██████████| 3.88M/3.88M [00:00<00:00, 28.6MB/s]\n",
      "Finalise: 100%|██████████| 11.0/11.0 [00:00<00:00, 868array/s]\n"
     ]
    },
    {
     "name": "stdout",
     "output_type": "stream",
     "text": [
      "[OK] bio2zarr finished for Ne2e+04_300_1e+06_7\n",
      "tsinfer done\n",
      "Running tsdate\n"
     ]
    },
    {
     "name": "stderr",
     "output_type": "stream",
     "text": [
      "    Scan: 100%|██████████| 1.00/1.00 [00:00<00:00, 78.6files/s]\n",
      " Explode: 100%|██████████| 4.97k/4.97k [00:00<00:00, 17.6kvars/s]\n",
      "  Encode: 100%|██████████| 3.94M/3.94M [00:00<00:00, 29.5MB/s]\n",
      "Finalise: 100%|██████████| 11.0/11.0 [00:00<00:00, 868array/s]\n"
     ]
    },
    {
     "name": "stdout",
     "output_type": "stream",
     "text": [
      "[OK] bio2zarr finished for Ne2e+04_300_1e+06_8\n",
      "tsinfer done\n",
      "Running tsdate\n"
     ]
    },
    {
     "name": "stderr",
     "output_type": "stream",
     "text": [
      "    Scan: 100%|██████████| 1.00/1.00 [00:00<00:00, 82.4files/s]\n",
      " Explode: 100%|██████████| 5.22k/5.22k [00:00<00:00, 17.7kvars/s]\n",
      "  Encode: 100%|██████████| 4.15M/4.15M [00:00<00:00, 28.4MB/s]\n",
      "Finalise: 100%|██████████| 11.0/11.0 [00:00<00:00, 938array/s]\n"
     ]
    },
    {
     "name": "stdout",
     "output_type": "stream",
     "text": [
      "[OK] bio2zarr finished for Ne2e+04_300_1e+06_9\n",
      "tsinfer done\n",
      "Running tsdate\n"
     ]
    },
    {
     "name": "stderr",
     "output_type": "stream",
     "text": [
      "    Scan: 100%|██████████| 1.00/1.00 [00:00<00:00, 78.9files/s]\n",
      " Explode: 100%|██████████| 5.16k/5.16k [00:00<00:00, 17.7kvars/s]\n",
      "  Encode: 100%|██████████| 4.10M/4.10M [00:00<00:00, 30.4MB/s]\n",
      "Finalise: 100%|██████████| 11.0/11.0 [00:00<00:00, 1.04karray/s]\n"
     ]
    },
    {
     "name": "stdout",
     "output_type": "stream",
     "text": [
      "[OK] bio2zarr finished for Ne2e+04_300_1e+06_10\n",
      "tsinfer done\n",
      "Running tsdate\n"
     ]
    },
    {
     "name": "stderr",
     "output_type": "stream",
     "text": [
      "    Scan: 100%|██████████| 1.00/1.00 [00:00<00:00, 79.0files/s]\n",
      " Explode: 100%|██████████| 4.88k/4.88k [00:00<00:00, 18.6kvars/s]\n",
      "  Encode: 100%|██████████| 3.87M/3.87M [00:00<00:00, 31.2MB/s]\n",
      "Finalise: 100%|██████████| 11.0/11.0 [00:00<00:00, 874array/s]\n"
     ]
    },
    {
     "name": "stdout",
     "output_type": "stream",
     "text": [
      "[OK] bio2zarr finished for Ne2e+04_300_1e+06_11\n",
      "tsinfer done\n",
      "Running tsdate\n"
     ]
    },
    {
     "name": "stderr",
     "output_type": "stream",
     "text": [
      "    Scan: 100%|██████████| 1.00/1.00 [00:00<00:00, 83.3files/s]\n",
      " Explode: 100%|██████████| 4.88k/4.88k [00:00<00:00, 18.4kvars/s]\n",
      "  Encode: 100%|██████████| 3.87M/3.87M [00:00<00:00, 28.9MB/s]\n",
      "Finalise: 100%|██████████| 11.0/11.0 [00:00<00:00, 1.06karray/s]\n"
     ]
    },
    {
     "name": "stdout",
     "output_type": "stream",
     "text": [
      "[OK] bio2zarr finished for Ne2e+04_300_1e+06_12\n",
      "tsinfer done\n",
      "Running tsdate\n"
     ]
    },
    {
     "name": "stderr",
     "output_type": "stream",
     "text": [
      "    Scan: 100%|██████████| 1.00/1.00 [00:00<00:00, 85.5files/s]\n",
      " Explode: 100%|██████████| 4.84k/4.84k [00:00<00:00, 18.5kvars/s]\n",
      "  Encode: 100%|██████████| 3.84M/3.84M [00:00<00:00, 28.2MB/s]\n",
      "Finalise: 100%|██████████| 11.0/11.0 [00:00<00:00, 868array/s]\n"
     ]
    },
    {
     "name": "stdout",
     "output_type": "stream",
     "text": [
      "[OK] bio2zarr finished for Ne2e+04_300_1e+06_13\n",
      "tsinfer done\n",
      "Running tsdate\n"
     ]
    },
    {
     "name": "stderr",
     "output_type": "stream",
     "text": [
      "    Scan: 100%|██████████| 1.00/1.00 [00:00<00:00, 79.0files/s]\n",
      " Explode: 100%|██████████| 5.12k/5.12k [00:00<00:00, 18.2kvars/s]\n",
      "  Encode: 100%|██████████| 4.07M/4.07M [00:00<00:00, 30.5MB/s]\n",
      "Finalise: 100%|██████████| 11.0/11.0 [00:00<00:00, 872array/s]\n"
     ]
    },
    {
     "name": "stdout",
     "output_type": "stream",
     "text": [
      "[OK] bio2zarr finished for Ne2e+04_300_1e+06_14\n",
      "tsinfer done\n",
      "Running tsdate\n"
     ]
    },
    {
     "name": "stderr",
     "output_type": "stream",
     "text": [
      "    Scan: 100%|██████████| 1.00/1.00 [00:00<00:00, 96.1files/s]\n",
      " Explode: 100%|██████████| 5.25k/5.25k [00:00<00:00, 18.2kvars/s]\n",
      "  Encode: 100%|██████████| 4.17M/4.17M [00:00<00:00, 30.1MB/s]\n",
      "Finalise: 100%|██████████| 11.0/11.0 [00:00<00:00, 913array/s]\n"
     ]
    },
    {
     "name": "stdout",
     "output_type": "stream",
     "text": [
      "[OK] bio2zarr finished for Ne2e+04_300_1e+06_15\n",
      "tsinfer done\n",
      "Running tsdate\n"
     ]
    },
    {
     "name": "stderr",
     "output_type": "stream",
     "text": [
      "    Scan: 100%|██████████| 1.00/1.00 [00:00<00:00, 81.9files/s]\n",
      " Explode: 100%|██████████| 5.09k/5.09k [00:00<00:00, 17.5kvars/s]\n",
      "  Encode: 100%|██████████| 4.04M/4.04M [00:00<00:00, 29.8MB/s]\n",
      "Finalise: 100%|██████████| 11.0/11.0 [00:00<00:00, 868array/s]\n"
     ]
    },
    {
     "name": "stdout",
     "output_type": "stream",
     "text": [
      "[OK] bio2zarr finished for Ne2e+04_300_1e+06_16\n",
      "tsinfer done\n",
      "Running tsdate\n"
     ]
    },
    {
     "name": "stderr",
     "output_type": "stream",
     "text": [
      "    Scan: 100%|██████████| 1.00/1.00 [00:00<00:00, 78.5files/s]\n",
      " Explode: 100%|██████████| 4.64k/4.64k [00:00<00:00, 17.9kvars/s]\n",
      "  Encode: 100%|██████████| 3.69M/3.69M [00:00<00:00, 31.2MB/s]\n",
      "Finalise: 100%|██████████| 11.0/11.0 [00:00<00:00, 871array/s]\n"
     ]
    },
    {
     "name": "stdout",
     "output_type": "stream",
     "text": [
      "[OK] bio2zarr finished for Ne2e+04_300_1e+06_17\n",
      "tsinfer done\n",
      "Running tsdate\n"
     ]
    },
    {
     "name": "stderr",
     "output_type": "stream",
     "text": [
      "    Scan: 100%|██████████| 1.00/1.00 [00:00<00:00, 78.9files/s]\n",
      " Explode: 100%|██████████| 4.70k/4.70k [00:00<00:00, 18.3kvars/s]\n",
      "  Encode: 100%|██████████| 3.73M/3.73M [00:00<00:00, 28.2MB/s]\n",
      "Finalise: 100%|██████████| 11.0/11.0 [00:00<00:00, 853array/s]\n"
     ]
    },
    {
     "name": "stdout",
     "output_type": "stream",
     "text": [
      "[OK] bio2zarr finished for Ne2e+04_300_1e+06_18\n",
      "tsinfer done\n",
      "Running tsdate\n"
     ]
    },
    {
     "name": "stderr",
     "output_type": "stream",
     "text": [
      "    Scan: 100%|██████████| 1.00/1.00 [00:00<00:00, 92.0files/s]\n",
      " Explode: 100%|██████████| 4.86k/4.86k [00:00<00:00, 18.8kvars/s]\n",
      "  Encode: 100%|██████████| 3.86M/3.86M [00:00<00:00, 31.3MB/s]\n",
      "Finalise: 100%|██████████| 11.0/11.0 [00:00<00:00, 874array/s]\n"
     ]
    },
    {
     "name": "stdout",
     "output_type": "stream",
     "text": [
      "[OK] bio2zarr finished for Ne2e+04_300_1e+06_19\n",
      "tsinfer done\n",
      "Running tsdate\n"
     ]
    },
    {
     "name": "stderr",
     "output_type": "stream",
     "text": [
      "    Scan: 100%|██████████| 1.00/1.00 [00:00<00:00, 78.9files/s]\n",
      " Explode: 100%|██████████| 4.96k/4.96k [00:00<00:00, 18.6kvars/s]\n",
      "  Encode: 100%|██████████| 3.94M/3.94M [00:00<00:00, 29.3MB/s]\n",
      "Finalise: 100%|██████████| 11.0/11.0 [00:00<00:00, 971array/s]\n"
     ]
    },
    {
     "name": "stdout",
     "output_type": "stream",
     "text": [
      "[OK] bio2zarr finished for Ne2e+04_300_1e+06_20\n",
      "tsinfer done\n",
      "Running tsdate\n"
     ]
    },
    {
     "name": "stderr",
     "output_type": "stream",
     "text": [
      "    Scan: 100%|██████████| 1.00/1.00 [00:00<00:00, 93.5files/s]\n",
      " Explode: 100%|██████████| 4.97k/4.97k [00:00<00:00, 18.6kvars/s]\n",
      "  Encode: 100%|██████████| 3.94M/3.94M [00:00<00:00, 28.9MB/s]\n",
      "Finalise: 100%|██████████| 11.0/11.0 [00:00<00:00, 967array/s]\n"
     ]
    },
    {
     "name": "stdout",
     "output_type": "stream",
     "text": [
      "[OK] bio2zarr finished for Ne2e+04_300_1e+06_21\n",
      "tsinfer done\n",
      "Running tsdate\n"
     ]
    },
    {
     "name": "stderr",
     "output_type": "stream",
     "text": [
      "    Scan: 100%|██████████| 1.00/1.00 [00:00<00:00, 78.9files/s]\n",
      " Explode: 100%|██████████| 4.92k/4.92k [00:00<00:00, 18.4kvars/s]\n",
      "  Encode: 100%|██████████| 3.90M/3.90M [00:00<00:00, 29.9MB/s]\n",
      "Finalise: 100%|██████████| 11.0/11.0 [00:00<00:00, 1.03karray/s]\n"
     ]
    },
    {
     "name": "stdout",
     "output_type": "stream",
     "text": [
      "[OK] bio2zarr finished for Ne2e+04_300_1e+06_22\n",
      "tsinfer done\n",
      "Running tsdate\n"
     ]
    },
    {
     "name": "stderr",
     "output_type": "stream",
     "text": [
      "    Scan: 100%|██████████| 1.00/1.00 [00:00<00:00, 86.2files/s]\n",
      " Explode: 100%|██████████| 5.08k/5.08k [00:00<00:00, 18.0kvars/s]\n",
      "  Encode: 100%|██████████| 4.03M/4.03M [00:00<00:00, 29.7MB/s]\n",
      "Finalise: 100%|██████████| 11.0/11.0 [00:00<00:00, 868array/s]\n"
     ]
    },
    {
     "name": "stdout",
     "output_type": "stream",
     "text": [
      "[OK] bio2zarr finished for Ne2e+04_300_1e+06_23\n",
      "tsinfer done\n",
      "Running tsdate\n"
     ]
    },
    {
     "name": "stderr",
     "output_type": "stream",
     "text": [
      "    Scan: 100%|██████████| 1.00/1.00 [00:00<00:00, 79.0files/s]\n",
      " Explode: 100%|██████████| 5.08k/5.08k [00:00<00:00, 18.1kvars/s]\n",
      "  Encode: 100%|██████████| 4.03M/4.03M [00:00<00:00, 29.9MB/s]\n",
      "Finalise: 100%|██████████| 11.0/11.0 [00:00<00:00, 915array/s]\n"
     ]
    },
    {
     "name": "stdout",
     "output_type": "stream",
     "text": [
      "[OK] bio2zarr finished for Ne2e+04_300_1e+06_24\n",
      "tsinfer done\n",
      "Running tsdate\n"
     ]
    },
    {
     "name": "stderr",
     "output_type": "stream",
     "text": [
      "    Scan: 100%|██████████| 1.00/1.00 [00:00<00:00, 79.1files/s]\n",
      " Explode: 100%|██████████| 5.21k/5.21k [00:00<00:00, 18.3kvars/s]\n",
      "  Encode: 100%|██████████| 4.14M/4.14M [00:00<00:00, 30.9MB/s]\n",
      "Finalise: 100%|██████████| 11.0/11.0 [00:00<00:00, 915array/s]\n"
     ]
    },
    {
     "name": "stdout",
     "output_type": "stream",
     "text": [
      "[OK] bio2zarr finished for Ne2e+04_300_1e+06_25\n",
      "tsinfer done\n",
      "Running tsdate\n"
     ]
    },
    {
     "name": "stderr",
     "output_type": "stream",
     "text": [
      "    Scan: 100%|██████████| 1.00/1.00 [00:00<00:00, 79.0files/s]\n",
      " Explode: 100%|██████████| 5.05k/5.05k [00:00<00:00, 17.9kvars/s]\n",
      "  Encode: 100%|██████████| 4.01M/4.01M [00:00<00:00, 23.5MB/s]\n",
      "Finalise: 100%|██████████| 11.0/11.0 [00:00<00:00, 993array/s]\n"
     ]
    },
    {
     "name": "stdout",
     "output_type": "stream",
     "text": [
      "[OK] bio2zarr finished for Ne2e+04_300_1e+06_26\n",
      "tsinfer done\n",
      "Running tsdate\n"
     ]
    },
    {
     "name": "stderr",
     "output_type": "stream",
     "text": [
      "    Scan: 100%|██████████| 1.00/1.00 [00:00<00:00, 88.3files/s]\n",
      " Explode: 100%|██████████| 5.23k/5.23k [00:00<00:00, 18.3kvars/s]\n",
      "  Encode: 100%|██████████| 4.16M/4.16M [00:00<00:00, 30.7MB/s]\n",
      "Finalise: 100%|██████████| 11.0/11.0 [00:00<00:00, 873array/s]\n"
     ]
    },
    {
     "name": "stdout",
     "output_type": "stream",
     "text": [
      "[OK] bio2zarr finished for Ne2e+04_300_1e+06_27\n",
      "tsinfer done\n",
      "Running tsdate\n"
     ]
    },
    {
     "name": "stderr",
     "output_type": "stream",
     "text": [
      "    Scan: 100%|██████████| 1.00/1.00 [00:00<00:00, 79.0files/s]\n",
      " Explode: 100%|██████████| 4.67k/4.67k [00:00<00:00, 18.5kvars/s]\n",
      "  Encode: 100%|██████████| 3.70M/3.70M [00:00<00:00, 31.2MB/s]\n",
      "Finalise: 100%|██████████| 11.0/11.0 [00:00<00:00, 873array/s]\n"
     ]
    },
    {
     "name": "stdout",
     "output_type": "stream",
     "text": [
      "[OK] bio2zarr finished for Ne2e+04_300_1e+06_28\n",
      "tsinfer done\n",
      "Running tsdate\n"
     ]
    },
    {
     "name": "stderr",
     "output_type": "stream",
     "text": [
      "    Scan: 100%|██████████| 1.00/1.00 [00:00<00:00, 83.0files/s]\n",
      " Explode: 100%|██████████| 4.73k/4.73k [00:00<00:00, 18.1kvars/s]\n",
      "  Encode: 100%|██████████| 3.76M/3.76M [00:00<00:00, 28.9MB/s]\n",
      "Finalise: 100%|██████████| 11.0/11.0 [00:00<00:00, 895array/s]\n"
     ]
    },
    {
     "name": "stdout",
     "output_type": "stream",
     "text": [
      "[OK] bio2zarr finished for Ne2e+04_300_1e+06_29\n",
      "tsinfer done\n",
      "Running tsdate\n"
     ]
    },
    {
     "name": "stderr",
     "output_type": "stream",
     "text": [
      "    Scan: 100%|██████████| 1.00/1.00 [00:00<00:00, 81.0files/s]\n",
      " Explode: 100%|██████████| 4.76k/4.76k [00:00<00:00, 18.1kvars/s]\n",
      "  Encode: 100%|██████████| 3.78M/3.78M [00:00<00:00, 31.5MB/s]\n",
      "Finalise: 100%|██████████| 11.0/11.0 [00:00<00:00, 873array/s]\n"
     ]
    },
    {
     "name": "stdout",
     "output_type": "stream",
     "text": [
      "[OK] bio2zarr finished for Ne2e+04_300_1e+06_30\n",
      "tsinfer done\n",
      "Running tsdate\n"
     ]
    },
    {
     "name": "stderr",
     "output_type": "stream",
     "text": [
      "    Scan: 100%|██████████| 1.00/1.00 [00:00<00:00, 79.0files/s]\n",
      " Explode: 100%|██████████| 5.10k/5.10k [00:00<00:00, 18.5kvars/s]\n",
      "  Encode: 100%|██████████| 4.05M/4.05M [00:00<00:00, 29.6MB/s]\n",
      "Finalise: 100%|██████████| 11.0/11.0 [00:00<00:00, 1.01karray/s]\n"
     ]
    },
    {
     "name": "stdout",
     "output_type": "stream",
     "text": [
      "[OK] bio2zarr finished for Ne2e+04_300_1e+06_31\n",
      "tsinfer done\n",
      "Running tsdate\n"
     ]
    },
    {
     "name": "stderr",
     "output_type": "stream",
     "text": [
      "    Scan: 100%|██████████| 1.00/1.00 [00:00<00:00, 78.6files/s]\n",
      " Explode: 100%|██████████| 5.13k/5.13k [00:00<00:00, 17.8kvars/s]\n",
      "  Encode: 100%|██████████| 4.07M/4.07M [00:00<00:00, 29.8MB/s]\n",
      "Finalise: 100%|██████████| 11.0/11.0 [00:00<00:00, 474array/s]\n"
     ]
    },
    {
     "name": "stdout",
     "output_type": "stream",
     "text": [
      "[OK] bio2zarr finished for Ne2e+04_300_1e+06_32\n",
      "tsinfer done\n",
      "Running tsdate\n"
     ]
    },
    {
     "name": "stderr",
     "output_type": "stream",
     "text": [
      "    Scan: 100%|██████████| 1.00/1.00 [00:00<00:00, 78.9files/s]\n",
      " Explode: 100%|██████████| 5.15k/5.15k [00:00<00:00, 18.0kvars/s]\n",
      "  Encode: 100%|██████████| 4.09M/4.09M [00:00<00:00, 30.5MB/s]\n",
      "Finalise: 100%|██████████| 11.0/11.0 [00:00<00:00, 1.05karray/s]\n"
     ]
    },
    {
     "name": "stdout",
     "output_type": "stream",
     "text": [
      "[OK] bio2zarr finished for Ne2e+04_300_1e+06_33\n",
      "tsinfer done\n",
      "Running tsdate\n"
     ]
    },
    {
     "name": "stderr",
     "output_type": "stream",
     "text": [
      "    Scan: 100%|██████████| 1.00/1.00 [00:00<00:00, 98.0files/s]\n",
      " Explode: 100%|██████████| 4.96k/4.96k [00:00<00:00, 18.0kvars/s]\n",
      "  Encode: 100%|██████████| 3.94M/3.94M [00:00<00:00, 31.6MB/s]\n",
      "Finalise: 100%|██████████| 11.0/11.0 [00:00<00:00, 871array/s]\n"
     ]
    },
    {
     "name": "stdout",
     "output_type": "stream",
     "text": [
      "[OK] bio2zarr finished for Ne2e+04_300_1e+06_34\n",
      "tsinfer done\n",
      "Running tsdate\n"
     ]
    },
    {
     "name": "stderr",
     "output_type": "stream",
     "text": [
      "    Scan: 100%|██████████| 1.00/1.00 [00:00<00:00, 82.1files/s]\n",
      " Explode: 100%|██████████| 4.95k/4.95k [00:00<00:00, 18.4kvars/s]\n",
      "  Encode: 100%|██████████| 3.93M/3.93M [00:00<00:00, 29.3MB/s]\n",
      "Finalise: 100%|██████████| 11.0/11.0 [00:00<00:00, 872array/s]\n"
     ]
    },
    {
     "name": "stdout",
     "output_type": "stream",
     "text": [
      "[OK] bio2zarr finished for Ne2e+04_300_1e+06_35\n",
      "tsinfer done\n",
      "Running tsdate\n"
     ]
    },
    {
     "name": "stderr",
     "output_type": "stream",
     "text": [
      "    Scan: 100%|██████████| 1.00/1.00 [00:00<00:00, 87.8files/s]\n",
      " Explode: 100%|██████████| 4.90k/4.90k [00:00<00:00, 18.2kvars/s]\n",
      "  Encode: 100%|██████████| 3.89M/3.89M [00:00<00:00, 31.9MB/s]\n",
      "Finalise: 100%|██████████| 11.0/11.0 [00:00<00:00, 868array/s]\n"
     ]
    },
    {
     "name": "stdout",
     "output_type": "stream",
     "text": [
      "[OK] bio2zarr finished for Ne2e+04_300_1e+06_36\n",
      "tsinfer done\n",
      "Running tsdate\n"
     ]
    },
    {
     "name": "stderr",
     "output_type": "stream",
     "text": [
      "    Scan: 100%|██████████| 1.00/1.00 [00:00<00:00, 79.0files/s]\n",
      " Explode: 100%|██████████| 5.02k/5.02k [00:00<00:00, 18.6kvars/s]\n",
      "  Encode: 100%|██████████| 3.99M/3.99M [00:00<00:00, 29.7MB/s]\n",
      "Finalise: 100%|██████████| 11.0/11.0 [00:00<00:00, 1.04karray/s]\n"
     ]
    },
    {
     "name": "stdout",
     "output_type": "stream",
     "text": [
      "[OK] bio2zarr finished for Ne2e+04_300_1e+06_37\n",
      "tsinfer done\n",
      "Running tsdate\n"
     ]
    },
    {
     "name": "stderr",
     "output_type": "stream",
     "text": [
      "    Scan: 100%|██████████| 1.00/1.00 [00:00<00:00, 82.4files/s]\n",
      " Explode: 100%|██████████| 5.10k/5.10k [00:00<00:00, 18.7kvars/s]\n",
      "  Encode: 100%|██████████| 4.05M/4.05M [00:00<00:00, 30.6MB/s]\n",
      "Finalise: 100%|██████████| 11.0/11.0 [00:00<00:00, 872array/s]\n"
     ]
    },
    {
     "name": "stdout",
     "output_type": "stream",
     "text": [
      "[OK] bio2zarr finished for Ne2e+04_300_1e+06_38\n",
      "tsinfer done\n",
      "Running tsdate\n"
     ]
    },
    {
     "name": "stderr",
     "output_type": "stream",
     "text": [
      "    Scan: 100%|██████████| 1.00/1.00 [00:00<00:00, 81.9files/s]\n",
      " Explode: 100%|██████████| 5.21k/5.21k [00:00<00:00, 18.1kvars/s]\n",
      "  Encode: 100%|██████████| 4.18M/4.18M [00:00<00:00, 31.6MB/s]\n",
      "Finalise: 100%|██████████| 11.0/11.0 [00:00<00:00, 1.06karray/s]\n"
     ]
    },
    {
     "name": "stdout",
     "output_type": "stream",
     "text": [
      "[OK] bio2zarr finished for Ne2e+04_300_1e+06_39\n",
      "tsinfer done\n",
      "Running tsdate\n"
     ]
    },
    {
     "name": "stderr",
     "output_type": "stream",
     "text": [
      "    Scan: 100%|██████████| 1.00/1.00 [00:00<00:00, 94.7files/s]\n",
      " Explode: 100%|██████████| 5.27k/5.27k [00:00<00:00, 17.9kvars/s]\n",
      "  Encode: 100%|██████████| 4.19M/4.19M [00:00<00:00, 30.3MB/s]\n",
      "Finalise: 100%|██████████| 11.0/11.0 [00:00<00:00, 873array/s]\n"
     ]
    },
    {
     "name": "stdout",
     "output_type": "stream",
     "text": [
      "[OK] bio2zarr finished for Ne2e+04_300_1e+06_40\n",
      "tsinfer done\n",
      "Running tsdate\n"
     ]
    },
    {
     "name": "stderr",
     "output_type": "stream",
     "text": [
      "    Scan: 100%|██████████| 1.00/1.00 [00:00<00:00, 78.9files/s]\n",
      " Explode: 100%|██████████| 5.02k/5.02k [00:00<00:00, 18.4kvars/s]\n",
      "  Encode: 100%|██████████| 3.99M/3.99M [00:00<00:00, 29.8MB/s]\n",
      "Finalise: 100%|██████████| 11.0/11.0 [00:00<00:00, 871array/s]\n"
     ]
    },
    {
     "name": "stdout",
     "output_type": "stream",
     "text": [
      "[OK] bio2zarr finished for Ne2e+04_300_1e+06_41\n",
      "tsinfer done\n",
      "Running tsdate\n"
     ]
    },
    {
     "name": "stderr",
     "output_type": "stream",
     "text": [
      "    Scan: 100%|██████████| 1.00/1.00 [00:00<00:00, 79.1files/s]\n",
      " Explode: 100%|██████████| 4.74k/4.74k [00:00<00:00, 18.3kvars/s]\n",
      "  Encode: 100%|██████████| 3.76M/3.76M [00:00<00:00, 31.6MB/s]\n",
      "Finalise: 100%|██████████| 11.0/11.0 [00:00<00:00, 879array/s]\n"
     ]
    },
    {
     "name": "stdout",
     "output_type": "stream",
     "text": [
      "[OK] bio2zarr finished for Ne2e+04_300_1e+06_42\n",
      "tsinfer done\n",
      "Running tsdate\n"
     ]
    },
    {
     "name": "stderr",
     "output_type": "stream",
     "text": [
      "    Scan: 100%|██████████| 1.00/1.00 [00:00<00:00, 86.0files/s]\n",
      " Explode: 100%|██████████| 5.16k/5.16k [00:00<00:00, 18.0kvars/s]\n",
      "  Encode: 100%|██████████| 4.10M/4.10M [00:00<00:00, 29.3MB/s]\n",
      "Finalise: 100%|██████████| 11.0/11.0 [00:00<00:00, 871array/s]\n"
     ]
    },
    {
     "name": "stdout",
     "output_type": "stream",
     "text": [
      "[OK] bio2zarr finished for Ne2e+04_300_1e+06_43\n",
      "tsinfer done\n",
      "Running tsdate\n"
     ]
    },
    {
     "name": "stderr",
     "output_type": "stream",
     "text": [
      "    Scan: 100%|██████████| 1.00/1.00 [00:00<00:00, 91.7files/s]\n",
      " Explode: 100%|██████████| 5.08k/5.08k [00:00<00:00, 18.8kvars/s]\n",
      "  Encode: 100%|██████████| 4.03M/4.03M [00:00<00:00, 30.2MB/s]\n",
      "Finalise: 100%|██████████| 11.0/11.0 [00:00<00:00, 844array/s]\n"
     ]
    },
    {
     "name": "stdout",
     "output_type": "stream",
     "text": [
      "[OK] bio2zarr finished for Ne2e+04_300_1e+06_44\n",
      "tsinfer done\n",
      "Running tsdate\n"
     ]
    },
    {
     "name": "stderr",
     "output_type": "stream",
     "text": [
      "    Scan: 100%|██████████| 1.00/1.00 [00:00<00:00, 95.3files/s]\n",
      " Explode: 100%|██████████| 5.16k/5.16k [00:00<00:00, 17.8kvars/s]\n",
      "  Encode: 100%|██████████| 4.10M/4.10M [00:00<00:00, 29.7MB/s]\n",
      "Finalise: 100%|██████████| 11.0/11.0 [00:00<00:00, 868array/s]\n"
     ]
    },
    {
     "name": "stdout",
     "output_type": "stream",
     "text": [
      "[OK] bio2zarr finished for Ne2e+04_300_1e+06_45\n",
      "tsinfer done\n",
      "Running tsdate\n"
     ]
    },
    {
     "name": "stderr",
     "output_type": "stream",
     "text": [
      "    Scan: 100%|██████████| 1.00/1.00 [00:00<00:00, 78.9files/s]\n",
      " Explode: 100%|██████████| 5.06k/5.06k [00:00<00:00, 17.9kvars/s]\n",
      "  Encode: 100%|██████████| 4.02M/4.02M [00:00<00:00, 29.2MB/s]\n",
      "Finalise: 100%|██████████| 11.0/11.0 [00:00<00:00, 869array/s]\n"
     ]
    },
    {
     "name": "stdout",
     "output_type": "stream",
     "text": [
      "[OK] bio2zarr finished for Ne2e+04_300_1e+06_46\n",
      "tsinfer done\n",
      "Running tsdate\n"
     ]
    },
    {
     "name": "stderr",
     "output_type": "stream",
     "text": [
      "    Scan: 100%|██████████| 1.00/1.00 [00:00<00:00, 93.0files/s]\n",
      " Explode: 100%|██████████| 5.11k/5.11k [00:00<00:00, 18.2kvars/s]\n",
      "  Encode: 100%|██████████| 4.05M/4.05M [00:00<00:00, 29.9MB/s]\n",
      "Finalise: 100%|██████████| 11.0/11.0 [00:00<00:00, 872array/s]\n"
     ]
    },
    {
     "name": "stdout",
     "output_type": "stream",
     "text": [
      "[OK] bio2zarr finished for Ne2e+04_300_1e+06_47\n",
      "tsinfer done\n",
      "Running tsdate\n"
     ]
    },
    {
     "name": "stderr",
     "output_type": "stream",
     "text": [
      "    Scan: 100%|██████████| 1.00/1.00 [00:00<00:00, 78.9files/s]\n",
      " Explode: 100%|██████████| 4.92k/4.92k [00:00<00:00, 18.6kvars/s]\n",
      "  Encode: 100%|██████████| 3.91M/3.91M [00:00<00:00, 29.6MB/s]\n",
      "Finalise: 100%|██████████| 11.0/11.0 [00:00<00:00, 983array/s]\n"
     ]
    },
    {
     "name": "stdout",
     "output_type": "stream",
     "text": [
      "[OK] bio2zarr finished for Ne2e+04_300_1e+06_48\n",
      "tsinfer done\n",
      "Running tsdate\n"
     ]
    },
    {
     "name": "stderr",
     "output_type": "stream",
     "text": [
      "    Scan: 100%|██████████| 1.00/1.00 [00:00<00:00, 78.9files/s]\n",
      " Explode: 100%|██████████| 4.71k/4.71k [00:00<00:00, 18.1kvars/s]\n",
      "  Encode: 100%|██████████| 3.74M/3.74M [00:00<00:00, 31.2MB/s]\n",
      "Finalise: 100%|██████████| 11.0/11.0 [00:00<00:00, 868array/s]\n"
     ]
    },
    {
     "name": "stdout",
     "output_type": "stream",
     "text": [
      "[OK] bio2zarr finished for Ne2e+04_300_1e+06_49\n",
      "tsinfer done\n",
      "Running tsdate\n"
     ]
    },
    {
     "name": "stderr",
     "output_type": "stream",
     "text": [
      "    Scan: 100%|██████████| 1.00/1.00 [00:00<00:00, 78.9files/s]\n",
      " Explode: 100%|██████████| 4.78k/4.78k [00:00<00:00, 18.5kvars/s]\n",
      "  Encode: 100%|██████████| 3.80M/3.80M [00:00<00:00, 30.9MB/s]\n",
      "Finalise: 100%|██████████| 11.0/11.0 [00:00<00:00, 874array/s]\n"
     ]
    },
    {
     "name": "stdout",
     "output_type": "stream",
     "text": [
      "[OK] bio2zarr finished for Ne2e+04_300_1e+06_50\n",
      "tsinfer done\n",
      "Running tsdate\n"
     ]
    },
    {
     "name": "stderr",
     "output_type": "stream",
     "text": [
      "    Scan: 100%|██████████| 1.00/1.00 [00:00<00:00, 78.9files/s]\n",
      " Explode: 100%|██████████| 5.01k/5.01k [00:00<00:00, 17.9kvars/s]\n",
      "  Encode: 100%|██████████| 3.98M/3.98M [00:00<00:00, 29.2MB/s]\n",
      "Finalise: 100%|██████████| 11.0/11.0 [00:00<00:00, 1.05karray/s]\n"
     ]
    },
    {
     "name": "stdout",
     "output_type": "stream",
     "text": [
      "[OK] bio2zarr finished for Ne2e+04_300_1e+06_51\n",
      "tsinfer done\n",
      "Running tsdate\n"
     ]
    },
    {
     "name": "stderr",
     "output_type": "stream",
     "text": [
      "    Scan: 100%|██████████| 1.00/1.00 [00:00<00:00, 89.6files/s]\n",
      " Explode: 100%|██████████| 4.96k/4.96k [00:00<00:00, 18.5kvars/s]\n",
      "  Encode: 100%|██████████| 3.94M/3.94M [00:00<00:00, 31.8MB/s]\n",
      "Finalise: 100%|██████████| 11.0/11.0 [00:00<00:00, 873array/s]\n"
     ]
    },
    {
     "name": "stdout",
     "output_type": "stream",
     "text": [
      "[OK] bio2zarr finished for Ne2e+04_300_1e+06_52\n",
      "tsinfer done\n",
      "Running tsdate\n"
     ]
    },
    {
     "name": "stderr",
     "output_type": "stream",
     "text": [
      "    Scan: 100%|██████████| 1.00/1.00 [00:00<00:00, 79.0files/s]\n",
      " Explode: 100%|██████████| 4.96k/4.96k [00:00<00:00, 18.5kvars/s]\n",
      "  Encode: 100%|██████████| 3.94M/3.94M [00:00<00:00, 29.2MB/s]\n",
      "Finalise: 100%|██████████| 11.0/11.0 [00:00<00:00, 1.05karray/s]\n"
     ]
    },
    {
     "name": "stdout",
     "output_type": "stream",
     "text": [
      "[OK] bio2zarr finished for Ne2e+04_300_1e+06_53\n",
      "tsinfer done\n",
      "Running tsdate\n"
     ]
    },
    {
     "name": "stderr",
     "output_type": "stream",
     "text": [
      "    Scan: 100%|██████████| 1.00/1.00 [00:00<00:00, 79.1files/s]\n",
      " Explode: 100%|██████████| 5.13k/5.13k [00:00<00:00, 18.2kvars/s]\n",
      "  Encode: 100%|██████████| 4.07M/4.07M [00:00<00:00, 30.9MB/s]\n",
      "Finalise: 100%|██████████| 11.0/11.0 [00:00<00:00, 872array/s]\n"
     ]
    },
    {
     "name": "stdout",
     "output_type": "stream",
     "text": [
      "[OK] bio2zarr finished for Ne2e+04_300_1e+06_54\n",
      "tsinfer done\n",
      "Running tsdate\n"
     ]
    },
    {
     "name": "stderr",
     "output_type": "stream",
     "text": [
      "    Scan: 100%|██████████| 1.00/1.00 [00:00<00:00, 90.7files/s]\n",
      " Explode: 100%|██████████| 4.99k/4.99k [00:00<00:00, 18.1kvars/s]\n",
      "  Encode: 100%|██████████| 3.97M/3.97M [00:00<00:00, 31.8MB/s]\n",
      "Finalise: 100%|██████████| 11.0/11.0 [00:00<00:00, 966array/s]\n"
     ]
    },
    {
     "name": "stdout",
     "output_type": "stream",
     "text": [
      "[OK] bio2zarr finished for Ne2e+04_300_1e+06_55\n",
      "tsinfer done\n",
      "Running tsdate\n"
     ]
    },
    {
     "name": "stderr",
     "output_type": "stream",
     "text": [
      "    Scan: 100%|██████████| 1.00/1.00 [00:00<00:00, 82.0files/s]\n",
      " Explode: 100%|██████████| 4.97k/4.97k [00:00<00:00, 18.6kvars/s]\n",
      "  Encode: 100%|██████████| 3.95M/3.95M [00:00<00:00, 29.6MB/s]\n",
      "Finalise: 100%|██████████| 11.0/11.0 [00:00<00:00, 1.06karray/s]\n"
     ]
    },
    {
     "name": "stdout",
     "output_type": "stream",
     "text": [
      "[OK] bio2zarr finished for Ne2e+04_300_1e+06_56\n",
      "tsinfer done\n",
      "Running tsdate\n"
     ]
    },
    {
     "name": "stderr",
     "output_type": "stream",
     "text": [
      "    Scan: 100%|██████████| 1.00/1.00 [00:00<00:00, 78.9files/s]\n",
      " Explode: 100%|██████████| 4.93k/4.93k [00:00<00:00, 17.2kvars/s]\n",
      "  Encode: 100%|██████████| 3.91M/3.91M [00:00<00:00, 28.7MB/s]\n",
      "Finalise: 100%|██████████| 11.0/11.0 [00:00<00:00, 1.05karray/s]\n"
     ]
    },
    {
     "name": "stdout",
     "output_type": "stream",
     "text": [
      "[OK] bio2zarr finished for Ne2e+04_300_1e+06_57\n",
      "tsinfer done\n",
      "Running tsdate\n"
     ]
    },
    {
     "name": "stderr",
     "output_type": "stream",
     "text": [
      "    Scan: 100%|██████████| 1.00/1.00 [00:00<00:00, 78.8files/s]\n",
      " Explode: 100%|██████████| 4.78k/4.78k [00:00<00:00, 18.2kvars/s]\n",
      "  Encode: 100%|██████████| 3.79M/3.79M [00:00<00:00, 28.4MB/s]\n",
      "Finalise: 100%|██████████| 11.0/11.0 [00:00<00:00, 1.06karray/s]\n"
     ]
    },
    {
     "name": "stdout",
     "output_type": "stream",
     "text": [
      "[OK] bio2zarr finished for Ne2e+04_300_1e+06_58\n",
      "tsinfer done\n",
      "Running tsdate\n"
     ]
    },
    {
     "name": "stderr",
     "output_type": "stream",
     "text": [
      "    Scan: 100%|██████████| 1.00/1.00 [00:00<00:00, 78.9files/s]\n",
      " Explode: 100%|██████████| 4.96k/4.96k [00:00<00:00, 18.3kvars/s]\n",
      "  Encode: 100%|██████████| 3.94M/3.94M [00:00<00:00, 31.1MB/s]\n",
      "Finalise: 100%|██████████| 11.0/11.0 [00:00<00:00, 872array/s]\n"
     ]
    },
    {
     "name": "stdout",
     "output_type": "stream",
     "text": [
      "[OK] bio2zarr finished for Ne2e+04_300_1e+06_59\n",
      "tsinfer done\n",
      "Running tsdate\n"
     ]
    },
    {
     "name": "stderr",
     "output_type": "stream",
     "text": [
      "    Scan: 100%|██████████| 1.00/1.00 [00:00<00:00, 78.7files/s]\n",
      " Explode: 100%|██████████| 5.03k/5.03k [00:00<00:00, 18.6kvars/s]\n",
      "  Encode: 100%|██████████| 3.99M/3.99M [00:00<00:00, 28.8MB/s]\n",
      "Finalise: 100%|██████████| 11.0/11.0 [00:00<00:00, 942array/s]\n"
     ]
    },
    {
     "name": "stdout",
     "output_type": "stream",
     "text": [
      "[OK] bio2zarr finished for Ne2e+04_300_1e+06_60\n",
      "tsinfer done\n",
      "Running tsdate\n"
     ]
    },
    {
     "name": "stderr",
     "output_type": "stream",
     "text": [
      "    Scan: 100%|██████████| 1.00/1.00 [00:00<00:00, 97.5files/s]\n",
      " Explode: 100%|██████████| 5.13k/5.13k [00:00<00:00, 18.2kvars/s]\n",
      "  Encode: 100%|██████████| 4.07M/4.07M [00:00<00:00, 29.3MB/s]\n",
      "Finalise: 100%|██████████| 11.0/11.0 [00:00<00:00, 1.06karray/s]\n"
     ]
    },
    {
     "name": "stdout",
     "output_type": "stream",
     "text": [
      "[OK] bio2zarr finished for Ne2e+04_300_1e+06_61\n",
      "tsinfer done\n",
      "Running tsdate\n"
     ]
    },
    {
     "name": "stderr",
     "output_type": "stream",
     "text": [
      "    Scan: 100%|██████████| 1.00/1.00 [00:00<00:00, 78.9files/s]\n",
      " Explode: 100%|██████████| 5.07k/5.07k [00:00<00:00, 18.5kvars/s]\n",
      "  Encode: 100%|██████████| 4.03M/4.03M [00:00<00:00, 30.7MB/s]\n",
      "Finalise: 100%|██████████| 11.0/11.0 [00:00<00:00, 863array/s]\n"
     ]
    },
    {
     "name": "stdout",
     "output_type": "stream",
     "text": [
      "[OK] bio2zarr finished for Ne2e+04_300_1e+06_62\n",
      "tsinfer done\n",
      "Running tsdate\n"
     ]
    },
    {
     "name": "stderr",
     "output_type": "stream",
     "text": [
      "    Scan: 100%|██████████| 1.00/1.00 [00:00<00:00, 79.0files/s]\n",
      " Explode: 100%|██████████| 4.86k/4.86k [00:00<00:00, 18.3kvars/s]\n",
      "  Encode: 100%|██████████| 3.85M/3.85M [00:00<00:00, 31.1MB/s]\n",
      "Finalise: 100%|██████████| 11.0/11.0 [00:00<00:00, 888array/s]\n"
     ]
    },
    {
     "name": "stdout",
     "output_type": "stream",
     "text": [
      "[OK] bio2zarr finished for Ne2e+04_300_1e+06_63\n",
      "tsinfer done\n",
      "Running tsdate\n"
     ]
    },
    {
     "name": "stderr",
     "output_type": "stream",
     "text": [
      "    Scan: 100%|██████████| 1.00/1.00 [00:00<00:00, 89.2files/s]\n",
      " Explode: 100%|██████████| 5.03k/5.03k [00:00<00:00, 18.0kvars/s]\n",
      "  Encode: 100%|██████████| 4.00M/4.00M [00:00<00:00, 29.2MB/s]\n",
      "Finalise: 100%|██████████| 11.0/11.0 [00:00<00:00, 946array/s]\n"
     ]
    },
    {
     "name": "stdout",
     "output_type": "stream",
     "text": [
      "[OK] bio2zarr finished for Ne2e+04_300_1e+06_64\n",
      "tsinfer done\n",
      "Running tsdate\n"
     ]
    },
    {
     "name": "stderr",
     "output_type": "stream",
     "text": [
      "    Scan: 100%|██████████| 1.00/1.00 [00:00<00:00, 95.4files/s]\n",
      " Explode: 100%|██████████| 4.91k/4.91k [00:00<00:00, 18.2kvars/s]\n",
      "  Encode: 100%|██████████| 3.90M/3.90M [00:00<00:00, 28.5MB/s]\n",
      "Finalise: 100%|██████████| 11.0/11.0 [00:00<00:00, 386array/s]\n"
     ]
    },
    {
     "name": "stdout",
     "output_type": "stream",
     "text": [
      "[OK] bio2zarr finished for Ne2e+04_300_1e+06_65\n",
      "tsinfer done\n",
      "Running tsdate\n"
     ]
    },
    {
     "name": "stderr",
     "output_type": "stream",
     "text": [
      "    Scan: 100%|██████████| 1.00/1.00 [00:00<00:00, 79.1files/s]\n",
      " Explode: 100%|██████████| 5.00k/5.00k [00:00<00:00, 18.5kvars/s]\n",
      "  Encode: 100%|██████████| 3.97M/3.97M [00:00<00:00, 28.8MB/s]\n",
      "Finalise: 100%|██████████| 11.0/11.0 [00:00<00:00, 872array/s]\n"
     ]
    },
    {
     "name": "stdout",
     "output_type": "stream",
     "text": [
      "[OK] bio2zarr finished for Ne2e+04_300_1e+06_66\n",
      "tsinfer done\n",
      "Running tsdate\n"
     ]
    },
    {
     "name": "stderr",
     "output_type": "stream",
     "text": [
      "    Scan: 100%|██████████| 1.00/1.00 [00:00<00:00, 78.9files/s]\n",
      " Explode: 100%|██████████| 4.97k/4.97k [00:00<00:00, 18.5kvars/s]\n",
      "  Encode: 100%|██████████| 3.95M/3.95M [00:00<00:00, 31.5MB/s]\n",
      "Finalise: 100%|██████████| 11.0/11.0 [00:00<00:00, 872array/s]\n"
     ]
    },
    {
     "name": "stdout",
     "output_type": "stream",
     "text": [
      "[OK] bio2zarr finished for Ne2e+04_300_1e+06_67\n",
      "tsinfer done\n",
      "Running tsdate\n"
     ]
    },
    {
     "name": "stderr",
     "output_type": "stream",
     "text": [
      "    Scan: 100%|██████████| 1.00/1.00 [00:00<00:00, 94.7files/s]\n",
      " Explode: 100%|██████████| 4.86k/4.86k [00:00<00:00, 18.6kvars/s]\n",
      "  Encode: 100%|██████████| 3.85M/3.85M [00:00<00:00, 28.9MB/s]\n",
      "Finalise: 100%|██████████| 11.0/11.0 [00:00<00:00, 872array/s]\n"
     ]
    },
    {
     "name": "stdout",
     "output_type": "stream",
     "text": [
      "[OK] bio2zarr finished for Ne2e+04_300_1e+06_68\n",
      "tsinfer done\n",
      "Running tsdate\n"
     ]
    },
    {
     "name": "stderr",
     "output_type": "stream",
     "text": [
      "    Scan: 100%|██████████| 1.00/1.00 [00:00<00:00, 87.7files/s]\n",
      " Explode: 100%|██████████| 5.22k/5.22k [00:00<00:00, 18.1kvars/s]\n",
      "  Encode: 100%|██████████| 4.15M/4.15M [00:00<00:00, 30.6MB/s]\n",
      "Finalise: 100%|██████████| 11.0/11.0 [00:00<00:00, 950array/s]\n"
     ]
    },
    {
     "name": "stdout",
     "output_type": "stream",
     "text": [
      "[OK] bio2zarr finished for Ne2e+04_300_1e+06_69\n",
      "tsinfer done\n",
      "Running tsdate\n"
     ]
    },
    {
     "name": "stderr",
     "output_type": "stream",
     "text": [
      "    Scan: 100%|██████████| 1.00/1.00 [00:00<00:00, 88.9files/s]\n",
      " Explode: 100%|██████████| 4.69k/4.69k [00:00<00:00, 18.2kvars/s]\n",
      "  Encode: 100%|██████████| 3.72M/3.72M [00:00<00:00, 31.2MB/s]\n",
      "Finalise: 100%|██████████| 11.0/11.0 [00:00<00:00, 1.06karray/s]\n"
     ]
    },
    {
     "name": "stdout",
     "output_type": "stream",
     "text": [
      "[OK] bio2zarr finished for Ne2e+04_300_1e+06_70\n",
      "tsinfer done\n",
      "Running tsdate\n"
     ]
    },
    {
     "name": "stderr",
     "output_type": "stream",
     "text": [
      "    Scan: 100%|██████████| 1.00/1.00 [00:00<00:00, 78.8files/s]\n",
      " Explode: 100%|██████████| 5.26k/5.26k [00:00<00:00, 17.9kvars/s]\n",
      "  Encode: 100%|██████████| 4.18M/4.18M [00:00<00:00, 30.7MB/s]\n",
      "Finalise: 100%|██████████| 11.0/11.0 [00:00<00:00, 931array/s]\n"
     ]
    },
    {
     "name": "stdout",
     "output_type": "stream",
     "text": [
      "[OK] bio2zarr finished for Ne2e+04_300_1e+06_71\n",
      "tsinfer done\n",
      "Running tsdate\n"
     ]
    },
    {
     "name": "stderr",
     "output_type": "stream",
     "text": [
      "    Scan: 100%|██████████| 1.00/1.00 [00:00<00:00, 95.2files/s]\n",
      " Explode: 100%|██████████| 4.80k/4.80k [00:00<00:00, 18.2kvars/s]\n",
      "  Encode: 100%|██████████| 3.81M/3.81M [00:00<00:00, 28.6MB/s]\n",
      "Finalise: 100%|██████████| 11.0/11.0 [00:00<00:00, 722array/s]\n"
     ]
    },
    {
     "name": "stdout",
     "output_type": "stream",
     "text": [
      "[OK] bio2zarr finished for Ne2e+04_300_1e+06_72\n",
      "tsinfer done\n",
      "Running tsdate\n"
     ]
    },
    {
     "name": "stderr",
     "output_type": "stream",
     "text": [
      "    Scan: 100%|██████████| 1.00/1.00 [00:00<00:00, 78.9files/s]\n",
      " Explode: 100%|██████████| 4.90k/4.90k [00:00<00:00, 18.2kvars/s]\n",
      "  Encode: 100%|██████████| 3.89M/3.89M [00:00<00:00, 31.4MB/s]\n",
      "Finalise: 100%|██████████| 11.0/11.0 [00:00<00:00, 872array/s]\n"
     ]
    },
    {
     "name": "stdout",
     "output_type": "stream",
     "text": [
      "[OK] bio2zarr finished for Ne2e+04_300_1e+06_73\n",
      "tsinfer done\n",
      "Running tsdate\n"
     ]
    },
    {
     "name": "stderr",
     "output_type": "stream",
     "text": [
      "    Scan: 100%|██████████| 1.00/1.00 [00:00<00:00, 78.8files/s]\n",
      " Explode: 100%|██████████| 5.05k/5.05k [00:00<00:00, 18.3kvars/s]\n",
      "  Encode: 100%|██████████| 4.01M/4.01M [00:00<00:00, 28.5MB/s]\n",
      "Finalise: 100%|██████████| 11.0/11.0 [00:00<00:00, 871array/s]\n"
     ]
    },
    {
     "name": "stdout",
     "output_type": "stream",
     "text": [
      "[OK] bio2zarr finished for Ne2e+04_300_1e+06_74\n",
      "tsinfer done\n",
      "Running tsdate\n"
     ]
    },
    {
     "name": "stderr",
     "output_type": "stream",
     "text": [
      "    Scan: 100%|██████████| 1.00/1.00 [00:00<00:00, 92.9files/s]\n",
      " Explode: 100%|██████████| 5.05k/5.05k [00:00<00:00, 17.9kvars/s]\n",
      "  Encode: 100%|██████████| 4.01M/4.01M [00:00<00:00, 29.0MB/s]\n",
      "Finalise: 100%|██████████| 11.0/11.0 [00:00<00:00, 1.05karray/s]\n"
     ]
    },
    {
     "name": "stdout",
     "output_type": "stream",
     "text": [
      "[OK] bio2zarr finished for Ne2e+04_300_1e+06_75\n",
      "tsinfer done\n",
      "Running tsdate\n"
     ]
    },
    {
     "name": "stderr",
     "output_type": "stream",
     "text": [
      "    Scan: 100%|██████████| 1.00/1.00 [00:00<00:00, 97.5files/s]\n",
      " Explode: 100%|██████████| 4.73k/4.73k [00:00<00:00, 18.1kvars/s]\n",
      "  Encode: 100%|██████████| 3.75M/3.75M [00:00<00:00, 30.9MB/s]\n",
      "Finalise: 100%|██████████| 11.0/11.0 [00:00<00:00, 1.06karray/s]\n"
     ]
    },
    {
     "name": "stdout",
     "output_type": "stream",
     "text": [
      "[OK] bio2zarr finished for Ne2e+04_300_1e+06_76\n",
      "tsinfer done\n",
      "Running tsdate\n"
     ]
    },
    {
     "name": "stderr",
     "output_type": "stream",
     "text": [
      "    Scan: 100%|██████████| 1.00/1.00 [00:00<00:00, 81.0files/s]\n",
      " Explode: 100%|██████████| 5.24k/5.24k [00:00<00:00, 17.6kvars/s]\n",
      "  Encode: 100%|██████████| 4.16M/4.16M [00:00<00:00, 30.6MB/s]\n",
      "Finalise: 100%|██████████| 11.0/11.0 [00:00<00:00, 1.06karray/s]\n"
     ]
    },
    {
     "name": "stdout",
     "output_type": "stream",
     "text": [
      "[OK] bio2zarr finished for Ne2e+04_300_1e+06_77\n",
      "tsinfer done\n",
      "Running tsdate\n"
     ]
    },
    {
     "name": "stderr",
     "output_type": "stream",
     "text": [
      "    Scan: 100%|██████████| 1.00/1.00 [00:00<00:00, 85.9files/s]\n",
      " Explode: 100%|██████████| 5.26k/5.26k [00:00<00:00, 17.7kvars/s]\n",
      "  Encode: 100%|██████████| 4.17M/4.17M [00:00<00:00, 30.0MB/s]\n",
      "Finalise: 100%|██████████| 11.0/11.0 [00:00<00:00, 1.02karray/s]\n"
     ]
    },
    {
     "name": "stdout",
     "output_type": "stream",
     "text": [
      "[OK] bio2zarr finished for Ne2e+04_300_1e+06_78\n",
      "tsinfer done\n",
      "Running tsdate\n"
     ]
    },
    {
     "name": "stderr",
     "output_type": "stream",
     "text": [
      "    Scan: 100%|██████████| 1.00/1.00 [00:00<00:00, 79.1files/s]\n",
      " Explode: 100%|██████████| 4.98k/4.98k [00:00<00:00, 18.6kvars/s]\n",
      "  Encode: 100%|██████████| 3.95M/3.95M [00:00<00:00, 29.9MB/s]\n",
      "Finalise: 100%|██████████| 11.0/11.0 [00:00<00:00, 869array/s]\n"
     ]
    },
    {
     "name": "stdout",
     "output_type": "stream",
     "text": [
      "[OK] bio2zarr finished for Ne2e+04_300_1e+06_79\n",
      "tsinfer done\n",
      "Running tsdate\n"
     ]
    },
    {
     "name": "stderr",
     "output_type": "stream",
     "text": [
      "    Scan: 100%|██████████| 1.00/1.00 [00:00<00:00, 89.9files/s]\n",
      " Explode: 100%|██████████| 5.13k/5.13k [00:00<00:00, 18.0kvars/s]\n",
      "  Encode: 100%|██████████| 4.08M/4.08M [00:00<00:00, 29.0MB/s]\n",
      "Finalise: 100%|██████████| 11.0/11.0 [00:00<00:00, 424array/s]\n"
     ]
    },
    {
     "name": "stdout",
     "output_type": "stream",
     "text": [
      "[OK] bio2zarr finished for Ne2e+04_300_1e+06_80\n",
      "tsinfer done\n",
      "Running tsdate\n"
     ]
    },
    {
     "name": "stderr",
     "output_type": "stream",
     "text": [
      "    Scan: 100%|██████████| 1.00/1.00 [00:00<00:00, 78.9files/s]\n",
      " Explode: 100%|██████████| 5.13k/5.13k [00:00<00:00, 17.9kvars/s]\n",
      "  Encode: 100%|██████████| 4.08M/4.08M [00:00<00:00, 30.3MB/s]\n",
      "Finalise: 100%|██████████| 11.0/11.0 [00:00<00:00, 913array/s]\n"
     ]
    },
    {
     "name": "stdout",
     "output_type": "stream",
     "text": [
      "[OK] bio2zarr finished for Ne2e+04_300_1e+06_81\n",
      "tsinfer done\n",
      "Running tsdate\n"
     ]
    },
    {
     "name": "stderr",
     "output_type": "stream",
     "text": [
      "    Scan: 100%|██████████| 1.00/1.00 [00:00<00:00, 90.4files/s]\n",
      " Explode: 100%|██████████| 4.92k/4.92k [00:00<00:00, 18.4kvars/s]\n",
      "  Encode: 100%|██████████| 3.91M/3.91M [00:00<00:00, 31.6MB/s]\n",
      "Finalise: 100%|██████████| 11.0/11.0 [00:00<00:00, 1.00karray/s]\n"
     ]
    },
    {
     "name": "stdout",
     "output_type": "stream",
     "text": [
      "[OK] bio2zarr finished for Ne2e+04_300_1e+06_82\n",
      "tsinfer done\n",
      "Running tsdate\n"
     ]
    },
    {
     "name": "stderr",
     "output_type": "stream",
     "text": [
      "    Scan: 100%|██████████| 1.00/1.00 [00:00<00:00, 79.0files/s]\n",
      " Explode: 100%|██████████| 4.99k/4.99k [00:00<00:00, 17.8kvars/s]\n",
      "  Encode: 100%|██████████| 3.96M/3.96M [00:00<00:00, 28.9MB/s]\n",
      "Finalise: 100%|██████████| 11.0/11.0 [00:00<00:00, 1.04karray/s]\n"
     ]
    },
    {
     "name": "stdout",
     "output_type": "stream",
     "text": [
      "[OK] bio2zarr finished for Ne2e+04_300_1e+06_83\n",
      "tsinfer done\n",
      "Running tsdate\n"
     ]
    },
    {
     "name": "stderr",
     "output_type": "stream",
     "text": [
      "    Scan: 100%|██████████| 1.00/1.00 [00:00<00:00, 93.4files/s]\n",
      " Explode: 100%|██████████| 5.29k/5.29k [00:00<00:00, 18.0kvars/s]\n",
      "  Encode: 100%|██████████| 4.20M/4.20M [00:00<00:00, 27.0MB/s]\n",
      "Finalise: 100%|██████████| 11.0/11.0 [00:00<00:00, 874array/s]\n"
     ]
    },
    {
     "name": "stdout",
     "output_type": "stream",
     "text": [
      "[OK] bio2zarr finished for Ne2e+04_300_1e+06_84\n",
      "tsinfer done\n",
      "Running tsdate\n"
     ]
    },
    {
     "name": "stderr",
     "output_type": "stream",
     "text": [
      "    Scan: 100%|██████████| 1.00/1.00 [00:00<00:00, 78.9files/s]\n",
      " Explode: 100%|██████████| 4.92k/4.92k [00:00<00:00, 18.5kvars/s]\n",
      "  Encode: 100%|██████████| 3.91M/3.91M [00:00<00:00, 31.3MB/s]\n",
      "Finalise: 100%|██████████| 11.0/11.0 [00:00<00:00, 884array/s]\n"
     ]
    },
    {
     "name": "stdout",
     "output_type": "stream",
     "text": [
      "[OK] bio2zarr finished for Ne2e+04_300_1e+06_85\n",
      "tsinfer done\n",
      "Running tsdate\n"
     ]
    },
    {
     "name": "stderr",
     "output_type": "stream",
     "text": [
      "    Scan: 100%|██████████| 1.00/1.00 [00:00<00:00, 87.2files/s]\n",
      " Explode: 100%|██████████| 4.92k/4.92k [00:00<00:00, 18.2kvars/s]\n",
      "  Encode: 100%|██████████| 3.91M/3.91M [00:00<00:00, 28.9MB/s]\n",
      "Finalise: 100%|██████████| 11.0/11.0 [00:00<00:00, 873array/s]\n"
     ]
    },
    {
     "name": "stdout",
     "output_type": "stream",
     "text": [
      "[OK] bio2zarr finished for Ne2e+04_300_1e+06_86\n",
      "tsinfer done\n",
      "Running tsdate\n"
     ]
    },
    {
     "name": "stderr",
     "output_type": "stream",
     "text": [
      "    Scan: 100%|██████████| 1.00/1.00 [00:00<00:00, 80.4files/s]\n",
      " Explode: 100%|██████████| 5.00k/5.00k [00:00<00:00, 18.4kvars/s]\n",
      "  Encode: 100%|██████████| 3.97M/3.97M [00:00<00:00, 29.7MB/s]\n",
      "Finalise: 100%|██████████| 11.0/11.0 [00:00<00:00, 400array/s]\n"
     ]
    },
    {
     "name": "stdout",
     "output_type": "stream",
     "text": [
      "[OK] bio2zarr finished for Ne2e+04_300_1e+06_87\n",
      "tsinfer done\n",
      "Running tsdate\n"
     ]
    },
    {
     "name": "stderr",
     "output_type": "stream",
     "text": [
      "    Scan: 100%|██████████| 1.00/1.00 [00:00<00:00, 78.9files/s]\n",
      " Explode: 100%|██████████| 4.99k/4.99k [00:00<00:00, 18.5kvars/s]\n",
      "  Encode: 100%|██████████| 3.96M/3.96M [00:00<00:00, 31.8MB/s]\n",
      "Finalise: 100%|██████████| 11.0/11.0 [00:00<00:00, 872array/s]\n"
     ]
    },
    {
     "name": "stdout",
     "output_type": "stream",
     "text": [
      "[OK] bio2zarr finished for Ne2e+04_300_1e+06_88\n",
      "tsinfer done\n",
      "Running tsdate\n"
     ]
    },
    {
     "name": "stderr",
     "output_type": "stream",
     "text": [
      "    Scan: 100%|██████████| 1.00/1.00 [00:00<00:00, 92.1files/s]\n",
      " Explode: 100%|██████████| 5.15k/5.15k [00:00<00:00, 18.0kvars/s]\n",
      "  Encode: 100%|██████████| 4.09M/4.09M [00:00<00:00, 30.3MB/s]\n",
      "Finalise: 100%|██████████| 11.0/11.0 [00:00<00:00, 871array/s]\n"
     ]
    },
    {
     "name": "stdout",
     "output_type": "stream",
     "text": [
      "[OK] bio2zarr finished for Ne2e+04_300_1e+06_89\n",
      "tsinfer done\n",
      "Running tsdate\n"
     ]
    },
    {
     "name": "stderr",
     "output_type": "stream",
     "text": [
      "    Scan: 100%|██████████| 1.00/1.00 [00:00<00:00, 79.1files/s]\n",
      " Explode: 100%|██████████| 4.95k/4.95k [00:00<00:00, 17.3kvars/s]\n",
      "  Encode: 100%|██████████| 3.93M/3.93M [00:00<00:00, 29.3MB/s]\n",
      "Finalise: 100%|██████████| 11.0/11.0 [00:00<00:00, 863array/s]\n"
     ]
    },
    {
     "name": "stdout",
     "output_type": "stream",
     "text": [
      "[OK] bio2zarr finished for Ne2e+04_300_1e+06_90\n",
      "tsinfer done\n",
      "Running tsdate\n"
     ]
    },
    {
     "name": "stderr",
     "output_type": "stream",
     "text": [
      "    Scan: 100%|██████████| 1.00/1.00 [00:00<00:00, 88.4files/s]\n",
      " Explode: 100%|██████████| 4.83k/4.83k [00:00<00:00, 18.4kvars/s]\n",
      "  Encode: 100%|██████████| 3.84M/3.84M [00:00<00:00, 28.7MB/s]\n",
      "Finalise: 100%|██████████| 11.0/11.0 [00:00<00:00, 872array/s]\n"
     ]
    },
    {
     "name": "stdout",
     "output_type": "stream",
     "text": [
      "[OK] bio2zarr finished for Ne2e+04_300_1e+06_91\n",
      "tsinfer done\n",
      "Running tsdate\n"
     ]
    },
    {
     "name": "stderr",
     "output_type": "stream",
     "text": [
      "    Scan: 100%|██████████| 1.00/1.00 [00:00<00:00, 78.8files/s]\n",
      " Explode: 100%|██████████| 5.29k/5.29k [00:00<00:00, 17.8kvars/s]\n",
      "  Encode: 100%|██████████| 4.20M/4.20M [00:00<00:00, 30.6MB/s]\n",
      "Finalise: 100%|██████████| 11.0/11.0 [00:00<00:00, 854array/s]\n"
     ]
    },
    {
     "name": "stdout",
     "output_type": "stream",
     "text": [
      "[OK] bio2zarr finished for Ne2e+04_300_1e+06_92\n",
      "tsinfer done\n",
      "Running tsdate\n"
     ]
    },
    {
     "name": "stderr",
     "output_type": "stream",
     "text": [
      "    Scan: 100%|██████████| 1.00/1.00 [00:00<00:00, 96.1files/s]\n",
      " Explode: 100%|██████████| 4.84k/4.84k [00:00<00:00, 18.5kvars/s]\n",
      "  Encode: 100%|██████████| 3.84M/3.84M [00:00<00:00, 30.2MB/s]\n",
      "Finalise: 100%|██████████| 11.0/11.0 [00:00<00:00, 873array/s]\n"
     ]
    },
    {
     "name": "stdout",
     "output_type": "stream",
     "text": [
      "[OK] bio2zarr finished for Ne2e+04_300_1e+06_93\n",
      "tsinfer done\n",
      "Running tsdate\n"
     ]
    },
    {
     "name": "stderr",
     "output_type": "stream",
     "text": [
      "    Scan: 100%|██████████| 1.00/1.00 [00:00<00:00, 93.3files/s]\n",
      " Explode: 100%|██████████| 4.86k/4.86k [00:00<00:00, 18.3kvars/s]\n",
      "  Encode: 100%|██████████| 3.86M/3.86M [00:00<00:00, 28.9MB/s]\n",
      "Finalise: 100%|██████████| 11.0/11.0 [00:00<00:00, 983array/s]\n"
     ]
    },
    {
     "name": "stdout",
     "output_type": "stream",
     "text": [
      "[OK] bio2zarr finished for Ne2e+04_300_1e+06_94\n",
      "tsinfer done\n",
      "Running tsdate\n"
     ]
    },
    {
     "name": "stderr",
     "output_type": "stream",
     "text": [
      "    Scan: 100%|██████████| 1.00/1.00 [00:00<00:00, 96.8files/s]\n",
      " Explode: 100%|██████████| 4.91k/4.91k [00:00<00:00, 18.5kvars/s]\n",
      "  Encode: 100%|██████████| 3.90M/3.90M [00:00<00:00, 28.8MB/s]\n",
      "Finalise: 100%|██████████| 11.0/11.0 [00:00<00:00, 925array/s]\n"
     ]
    },
    {
     "name": "stdout",
     "output_type": "stream",
     "text": [
      "[OK] bio2zarr finished for Ne2e+04_300_1e+06_95\n",
      "tsinfer done\n",
      "Running tsdate\n"
     ]
    },
    {
     "name": "stderr",
     "output_type": "stream",
     "text": [
      "    Scan: 100%|██████████| 1.00/1.00 [00:00<00:00, 91.2files/s]\n",
      " Explode: 100%|██████████| 5.06k/5.06k [00:00<00:00, 18.5kvars/s]\n",
      "  Encode: 100%|██████████| 4.02M/4.02M [00:00<00:00, 29.6MB/s]\n",
      "Finalise: 100%|██████████| 11.0/11.0 [00:00<00:00, 1.04karray/s]\n"
     ]
    },
    {
     "name": "stdout",
     "output_type": "stream",
     "text": [
      "[OK] bio2zarr finished for Ne2e+04_300_1e+06_96\n",
      "tsinfer done\n",
      "Running tsdate\n"
     ]
    },
    {
     "name": "stderr",
     "output_type": "stream",
     "text": [
      "    Scan: 100%|██████████| 1.00/1.00 [00:00<00:00, 96.5files/s]\n",
      " Explode: 100%|██████████| 4.86k/4.86k [00:00<00:00, 18.4kvars/s]\n",
      "  Encode: 100%|██████████| 3.85M/3.85M [00:00<00:00, 29.2MB/s]\n",
      "Finalise: 100%|██████████| 11.0/11.0 [00:00<00:00, 790array/s]\n"
     ]
    },
    {
     "name": "stdout",
     "output_type": "stream",
     "text": [
      "[OK] bio2zarr finished for Ne2e+04_300_1e+06_97\n",
      "tsinfer done\n",
      "Running tsdate\n"
     ]
    },
    {
     "name": "stderr",
     "output_type": "stream",
     "text": [
      "    Scan: 100%|██████████| 1.00/1.00 [00:00<00:00, 96.6files/s]\n",
      " Explode: 100%|██████████| 5.09k/5.09k [00:00<00:00, 18.4kvars/s]\n",
      "  Encode: 100%|██████████| 4.04M/4.04M [00:00<00:00, 29.2MB/s]\n",
      "Finalise: 100%|██████████| 11.0/11.0 [00:00<00:00, 1.00karray/s]\n"
     ]
    },
    {
     "name": "stdout",
     "output_type": "stream",
     "text": [
      "[OK] bio2zarr finished for Ne2e+04_300_1e+06_98\n",
      "tsinfer done\n",
      "Running tsdate\n"
     ]
    },
    {
     "name": "stderr",
     "output_type": "stream",
     "text": [
      "    Scan: 100%|██████████| 1.00/1.00 [00:00<00:00, 97.0files/s]\n",
      " Explode: 100%|██████████| 4.98k/4.98k [00:00<00:00, 17.5kvars/s]\n",
      "  Encode: 100%|██████████| 3.96M/3.96M [00:00<00:00, 29.2MB/s]\n",
      "Finalise: 100%|██████████| 11.0/11.0 [00:00<00:00, 1.06karray/s]\n"
     ]
    },
    {
     "name": "stdout",
     "output_type": "stream",
     "text": [
      "[OK] bio2zarr finished for Ne2e+04_300_1e+06_99\n",
      "tsinfer done\n",
      "Running tsdate\n"
     ]
    }
   ],
   "source": [
    "simulate_dump(2e4,150,100,tree_dir=\"/Users/jinminli/research/tree_distance/simulations/tree/\",vcz_dir=\"/Users/jinminli/research/tree_distance/simulations/vcf/\")"
   ]
  },
  {
   "cell_type": "code",
   "execution_count": 7,
   "id": "b4bf7cab",
   "metadata": {},
   "outputs": [
    {
     "name": "stderr",
     "output_type": "stream",
     "text": [
      "    Scan: 100%|██████████| 1.00/1.00 [00:00<00:00, 79.0files/s]\n",
      " Explode: 100%|██████████| 3.33k/3.33k [00:00<00:00, 17.4kvars/s]\n",
      "  Encode: 100%|██████████| 2.64M/2.64M [00:00<00:00, 26.7MB/s]\n",
      "Finalise: 100%|██████████| 11.0/11.0 [00:00<00:00, 872array/s]\n"
     ]
    },
    {
     "name": "stdout",
     "output_type": "stream",
     "text": [
      "[OK] bio2zarr finished for ooa_300_1e+06_0\n",
      "tsinfer done\n",
      "Running tsdate\n"
     ]
    },
    {
     "name": "stderr",
     "output_type": "stream",
     "text": [
      "    Scan: 100%|██████████| 1.00/1.00 [00:00<00:00, 78.9files/s]\n",
      " Explode: 100%|██████████| 3.37k/3.37k [00:00<00:00, 17.2kvars/s]\n",
      "  Encode: 100%|██████████| 2.67M/2.67M [00:00<00:00, 28.1MB/s]\n",
      "Finalise: 100%|██████████| 11.0/11.0 [00:00<00:00, 872array/s]\n"
     ]
    },
    {
     "name": "stdout",
     "output_type": "stream",
     "text": [
      "[OK] bio2zarr finished for ooa_300_1e+06_1\n",
      "tsinfer done\n",
      "Running tsdate\n"
     ]
    },
    {
     "name": "stderr",
     "output_type": "stream",
     "text": [
      "    Scan: 100%|██████████| 1.00/1.00 [00:00<00:00, 87.8files/s]\n",
      " Explode: 100%|██████████| 3.35k/3.35k [00:00<00:00, 17.4kvars/s]\n",
      "  Encode: 100%|██████████| 2.66M/2.66M [00:00<00:00, 26.4MB/s]\n",
      "Finalise: 100%|██████████| 11.0/11.0 [00:00<00:00, 903array/s]\n"
     ]
    },
    {
     "name": "stdout",
     "output_type": "stream",
     "text": [
      "[OK] bio2zarr finished for ooa_300_1e+06_2\n",
      "tsinfer done\n",
      "Running tsdate\n"
     ]
    },
    {
     "name": "stderr",
     "output_type": "stream",
     "text": [
      "    Scan: 100%|██████████| 1.00/1.00 [00:00<00:00, 82.9files/s]\n",
      " Explode: 100%|██████████| 3.46k/3.46k [00:00<00:00, 17.0kvars/s]\n",
      "  Encode: 100%|██████████| 2.75M/2.75M [00:00<00:00, 28.0MB/s]\n",
      "Finalise: 100%|██████████| 11.0/11.0 [00:00<00:00, 1.06karray/s]\n"
     ]
    },
    {
     "name": "stdout",
     "output_type": "stream",
     "text": [
      "[OK] bio2zarr finished for ooa_300_1e+06_3\n",
      "tsinfer done\n",
      "Running tsdate\n"
     ]
    },
    {
     "name": "stderr",
     "output_type": "stream",
     "text": [
      "    Scan: 100%|██████████| 1.00/1.00 [00:00<00:00, 65.8files/s]\n",
      " Explode: 100%|██████████| 3.55k/3.55k [00:00<00:00, 16.4kvars/s]\n",
      "  Encode: 100%|██████████| 2.82M/2.82M [00:00<00:00, 28.9MB/s]\n",
      "Finalise: 100%|██████████| 11.0/11.0 [00:00<00:00, 733array/s]\n"
     ]
    },
    {
     "name": "stdout",
     "output_type": "stream",
     "text": [
      "[OK] bio2zarr finished for ooa_300_1e+06_4\n",
      "tsinfer done\n",
      "Running tsdate\n"
     ]
    },
    {
     "name": "stderr",
     "output_type": "stream",
     "text": [
      "    Scan: 100%|██████████| 1.00/1.00 [00:00<00:00, 67.8files/s]\n",
      " Explode: 100%|██████████| 3.35k/3.35k [00:00<00:00, 17.4kvars/s]\n",
      "  Encode: 100%|██████████| 2.66M/2.66M [00:00<00:00, 28.9MB/s]\n",
      "Finalise: 100%|██████████| 11.0/11.0 [00:00<00:00, 728array/s]\n"
     ]
    },
    {
     "name": "stdout",
     "output_type": "stream",
     "text": [
      "[OK] bio2zarr finished for ooa_300_1e+06_5\n",
      "tsinfer done\n",
      "Running tsdate\n"
     ]
    },
    {
     "name": "stderr",
     "output_type": "stream",
     "text": [
      "    Scan: 100%|██████████| 1.00/1.00 [00:00<00:00, 95.3files/s]\n",
      " Explode: 100%|██████████| 3.16k/3.16k [00:00<00:00, 18.2kvars/s]\n",
      "  Encode: 100%|██████████| 2.51M/2.51M [00:00<00:00, 27.7MB/s]\n",
      "Finalise: 100%|██████████| 11.0/11.0 [00:00<00:00, 729array/s]\n"
     ]
    },
    {
     "name": "stdout",
     "output_type": "stream",
     "text": [
      "[OK] bio2zarr finished for ooa_300_1e+06_6\n",
      "tsinfer done\n",
      "Running tsdate\n"
     ]
    },
    {
     "name": "stderr",
     "output_type": "stream",
     "text": [
      "    Scan: 100%|██████████| 1.00/1.00 [00:00<00:00, 65.9files/s]\n",
      " Explode: 100%|██████████| 3.29k/3.29k [00:00<00:00, 17.1kvars/s]\n",
      "  Encode: 100%|██████████| 2.62M/2.62M [00:00<00:00, 30.1MB/s]\n",
      "Finalise: 100%|██████████| 11.0/11.0 [00:00<00:00, 729array/s]\n"
     ]
    },
    {
     "name": "stdout",
     "output_type": "stream",
     "text": [
      "[OK] bio2zarr finished for ooa_300_1e+06_7\n",
      "tsinfer done\n",
      "Running tsdate\n"
     ]
    },
    {
     "name": "stderr",
     "output_type": "stream",
     "text": [
      "    Scan: 100%|██████████| 1.00/1.00 [00:00<00:00, 84.1files/s]\n",
      " Explode: 100%|██████████| 3.08k/3.08k [00:00<00:00, 17.1kvars/s]\n",
      "  Encode: 100%|██████████| 2.45M/2.45M [00:00<00:00, 26.7MB/s]\n",
      "Finalise: 100%|██████████| 11.0/11.0 [00:00<00:00, 729array/s]\n"
     ]
    },
    {
     "name": "stdout",
     "output_type": "stream",
     "text": [
      "[OK] bio2zarr finished for ooa_300_1e+06_8\n",
      "tsinfer done\n",
      "Running tsdate\n"
     ]
    },
    {
     "name": "stderr",
     "output_type": "stream",
     "text": [
      "    Scan: 100%|██████████| 1.00/1.00 [00:00<00:00, 65.9files/s]\n",
      " Explode: 100%|██████████| 3.26k/3.26k [00:00<00:00, 16.4kvars/s]\n",
      "  Encode: 100%|██████████| 2.59M/2.59M [00:00<00:00, 28.0MB/s]\n",
      "Finalise: 100%|██████████| 11.0/11.0 [00:00<00:00, 1.06karray/s]\n"
     ]
    },
    {
     "name": "stdout",
     "output_type": "stream",
     "text": [
      "[OK] bio2zarr finished for ooa_300_1e+06_9\n",
      "tsinfer done\n",
      "Running tsdate\n"
     ]
    },
    {
     "name": "stderr",
     "output_type": "stream",
     "text": [
      "    Scan: 100%|██████████| 1.00/1.00 [00:00<00:00, 66.0files/s]\n",
      " Explode: 100%|██████████| 3.40k/3.40k [00:00<00:00, 16.5kvars/s]\n",
      "  Encode: 100%|██████████| 2.70M/2.70M [00:00<00:00, 30.3MB/s]\n",
      "Finalise: 100%|██████████| 11.0/11.0 [00:00<00:00, 728array/s]\n"
     ]
    },
    {
     "name": "stdout",
     "output_type": "stream",
     "text": [
      "[OK] bio2zarr finished for ooa_300_1e+06_10\n",
      "tsinfer done\n",
      "Running tsdate\n"
     ]
    },
    {
     "name": "stderr",
     "output_type": "stream",
     "text": [
      "    Scan: 100%|██████████| 1.00/1.00 [00:00<00:00, 66.0files/s]\n",
      " Explode: 100%|██████████| 3.40k/3.40k [00:00<00:00, 16.9kvars/s]\n",
      "  Encode: 100%|██████████| 2.70M/2.70M [00:00<00:00, 26.0MB/s]\n",
      "Finalise: 100%|██████████| 11.0/11.0 [00:00<00:00, 876array/s]\n"
     ]
    },
    {
     "name": "stdout",
     "output_type": "stream",
     "text": [
      "[OK] bio2zarr finished for ooa_300_1e+06_11\n",
      "tsinfer done\n",
      "Running tsdate\n"
     ]
    },
    {
     "name": "stderr",
     "output_type": "stream",
     "text": [
      "    Scan: 100%|██████████| 1.00/1.00 [00:00<00:00, 96.0files/s]\n",
      " Explode: 100%|██████████| 3.30k/3.30k [00:00<00:00, 16.5kvars/s]\n",
      "  Encode: 100%|██████████| 2.62M/2.62M [00:00<00:00, 28.5MB/s]\n",
      "Finalise: 100%|██████████| 11.0/11.0 [00:00<00:00, 845array/s]\n"
     ]
    },
    {
     "name": "stdout",
     "output_type": "stream",
     "text": [
      "[OK] bio2zarr finished for ooa_300_1e+06_12\n",
      "tsinfer done\n",
      "Running tsdate\n"
     ]
    },
    {
     "name": "stderr",
     "output_type": "stream",
     "text": [
      "    Scan: 100%|██████████| 1.00/1.00 [00:00<00:00, 90.1files/s]\n",
      " Explode: 100%|██████████| 3.24k/3.24k [00:00<00:00, 17.0kvars/s]\n",
      "  Encode: 100%|██████████| 2.57M/2.57M [00:00<00:00, 29.8MB/s]\n",
      "Finalise: 100%|██████████| 11.0/11.0 [00:00<00:00, 728array/s]\n"
     ]
    },
    {
     "name": "stdout",
     "output_type": "stream",
     "text": [
      "[OK] bio2zarr finished for ooa_300_1e+06_13\n",
      "tsinfer done\n",
      "Running tsdate\n"
     ]
    },
    {
     "name": "stderr",
     "output_type": "stream",
     "text": [
      "    Scan: 100%|██████████| 1.00/1.00 [00:00<00:00, 78.4files/s]\n",
      " Explode: 100%|██████████| 3.33k/3.33k [00:00<00:00, 17.0kvars/s]\n",
      "  Encode: 100%|██████████| 2.64M/2.64M [00:00<00:00, 26.7MB/s]\n",
      "Finalise: 100%|██████████| 11.0/11.0 [00:00<00:00, 881array/s]\n"
     ]
    },
    {
     "name": "stdout",
     "output_type": "stream",
     "text": [
      "[OK] bio2zarr finished for ooa_300_1e+06_14\n",
      "tsinfer done\n",
      "Running tsdate\n"
     ]
    },
    {
     "name": "stderr",
     "output_type": "stream",
     "text": [
      "    Scan: 100%|██████████| 1.00/1.00 [00:00<00:00, 95.5files/s]\n",
      " Explode: 100%|██████████| 3.16k/3.16k [00:00<00:00, 17.5kvars/s]\n",
      "  Encode: 100%|██████████| 2.51M/2.51M [00:00<00:00, 27.0MB/s]\n",
      "Finalise: 100%|██████████| 11.0/11.0 [00:00<00:00, 1.01karray/s]\n"
     ]
    },
    {
     "name": "stdout",
     "output_type": "stream",
     "text": [
      "[OK] bio2zarr finished for ooa_300_1e+06_15\n",
      "tsinfer done\n",
      "Running tsdate\n"
     ]
    },
    {
     "name": "stderr",
     "output_type": "stream",
     "text": [
      "    Scan: 100%|██████████| 1.00/1.00 [00:00<00:00, 82.8files/s]\n",
      " Explode: 100%|██████████| 3.26k/3.26k [00:00<00:00, 17.2kvars/s]\n",
      "  Encode: 100%|██████████| 2.59M/2.59M [00:00<00:00, 28.1MB/s]\n",
      "Finalise: 100%|██████████| 11.0/11.0 [00:00<00:00, 727array/s]\n"
     ]
    },
    {
     "name": "stdout",
     "output_type": "stream",
     "text": [
      "[OK] bio2zarr finished for ooa_300_1e+06_16\n",
      "tsinfer done\n",
      "Running tsdate\n"
     ]
    },
    {
     "name": "stderr",
     "output_type": "stream",
     "text": [
      "    Scan: 100%|██████████| 1.00/1.00 [00:00<00:00, 72.3files/s]\n",
      " Explode: 100%|██████████| 3.25k/3.25k [00:00<00:00, 16.9kvars/s]\n",
      "  Encode: 100%|██████████| 2.58M/2.58M [00:00<00:00, 29.2MB/s]\n",
      "Finalise: 100%|██████████| 11.0/11.0 [00:00<00:00, 835array/s]\n"
     ]
    },
    {
     "name": "stdout",
     "output_type": "stream",
     "text": [
      "[OK] bio2zarr finished for ooa_300_1e+06_17\n",
      "tsinfer done\n",
      "Running tsdate\n"
     ]
    },
    {
     "name": "stderr",
     "output_type": "stream",
     "text": [
      "    Scan: 100%|██████████| 1.00/1.00 [00:00<00:00, 78.1files/s]\n",
      " Explode: 100%|██████████| 3.16k/3.16k [00:00<00:00, 17.6kvars/s]\n",
      "  Encode: 100%|██████████| 2.51M/2.51M [00:00<00:00, 27.8MB/s]\n",
      "Finalise: 100%|██████████| 11.0/11.0 [00:00<00:00, 1.06karray/s]\n"
     ]
    },
    {
     "name": "stdout",
     "output_type": "stream",
     "text": [
      "[OK] bio2zarr finished for ooa_300_1e+06_18\n",
      "tsinfer done\n",
      "Running tsdate\n"
     ]
    },
    {
     "name": "stderr",
     "output_type": "stream",
     "text": [
      "    Scan: 100%|██████████| 1.00/1.00 [00:00<00:00, 75.7files/s]\n",
      " Explode: 100%|██████████| 3.11k/3.11k [00:00<00:00, 17.5kvars/s]\n",
      "  Encode: 100%|██████████| 2.47M/2.47M [00:00<00:00, 26.3MB/s]\n",
      "Finalise: 100%|██████████| 11.0/11.0 [00:00<00:00, 728array/s]\n"
     ]
    },
    {
     "name": "stdout",
     "output_type": "stream",
     "text": [
      "[OK] bio2zarr finished for ooa_300_1e+06_19\n",
      "tsinfer done\n",
      "Running tsdate\n"
     ]
    },
    {
     "name": "stderr",
     "output_type": "stream",
     "text": [
      "    Scan: 100%|██████████| 1.00/1.00 [00:00<00:00, 86.8files/s]\n",
      " Explode: 100%|██████████| 3.35k/3.35k [00:00<00:00, 17.5kvars/s]\n",
      "  Encode: 100%|██████████| 2.66M/2.66M [00:00<00:00, 28.2MB/s]\n",
      "Finalise: 100%|██████████| 11.0/11.0 [00:00<00:00, 1.04karray/s]\n"
     ]
    },
    {
     "name": "stdout",
     "output_type": "stream",
     "text": [
      "[OK] bio2zarr finished for ooa_300_1e+06_20\n",
      "tsinfer done\n",
      "Running tsdate\n"
     ]
    },
    {
     "name": "stderr",
     "output_type": "stream",
     "text": [
      "    Scan: 100%|██████████| 1.00/1.00 [00:00<00:00, 89.3files/s]\n",
      " Explode: 100%|██████████| 3.19k/3.19k [00:00<00:00, 16.8kvars/s]\n",
      "  Encode: 100%|██████████| 2.54M/2.54M [00:00<00:00, 28.1MB/s]\n",
      "Finalise: 100%|██████████| 11.0/11.0 [00:00<00:00, 951array/s]\n"
     ]
    },
    {
     "name": "stdout",
     "output_type": "stream",
     "text": [
      "[OK] bio2zarr finished for ooa_300_1e+06_21\n",
      "tsinfer done\n",
      "Running tsdate\n"
     ]
    },
    {
     "name": "stderr",
     "output_type": "stream",
     "text": [
      "    Scan: 100%|██████████| 1.00/1.00 [00:00<00:00, 84.9files/s]\n",
      " Explode: 100%|██████████| 3.08k/3.08k [00:00<00:00, 17.6kvars/s]\n",
      "  Encode: 100%|██████████| 2.45M/2.45M [00:00<00:00, 26.7MB/s]\n",
      "Finalise: 100%|██████████| 11.0/11.0 [00:00<00:00, 909array/s]\n"
     ]
    },
    {
     "name": "stdout",
     "output_type": "stream",
     "text": [
      "[OK] bio2zarr finished for ooa_300_1e+06_22\n",
      "tsinfer done\n",
      "Running tsdate\n"
     ]
    },
    {
     "name": "stderr",
     "output_type": "stream",
     "text": [
      "    Scan: 100%|██████████| 1.00/1.00 [00:00<00:00, 66.0files/s]\n",
      " Explode: 100%|██████████| 3.40k/3.40k [00:00<00:00, 17.6kvars/s]\n",
      "  Encode: 100%|██████████| 2.70M/2.70M [00:00<00:00, 29.9MB/s]\n",
      "Finalise: 100%|██████████| 11.0/11.0 [00:00<00:00, 727array/s]\n"
     ]
    },
    {
     "name": "stdout",
     "output_type": "stream",
     "text": [
      "[OK] bio2zarr finished for ooa_300_1e+06_23\n",
      "tsinfer done\n",
      "Running tsdate\n"
     ]
    },
    {
     "name": "stderr",
     "output_type": "stream",
     "text": [
      "    Scan: 100%|██████████| 1.00/1.00 [00:00<00:00, 66.0files/s]\n",
      " Explode: 100%|██████████| 3.34k/3.34k [00:00<00:00, 17.8kvars/s]\n",
      "  Encode: 100%|██████████| 2.65M/2.65M [00:00<00:00, 28.0MB/s]\n",
      "Finalise: 100%|██████████| 11.0/11.0 [00:00<00:00, 839array/s]\n"
     ]
    },
    {
     "name": "stdout",
     "output_type": "stream",
     "text": [
      "[OK] bio2zarr finished for ooa_300_1e+06_24\n",
      "tsinfer done\n",
      "Running tsdate\n"
     ]
    },
    {
     "name": "stderr",
     "output_type": "stream",
     "text": [
      "    Scan: 100%|██████████| 1.00/1.00 [00:00<00:00, 81.5files/s]\n",
      " Explode: 100%|██████████| 3.24k/3.24k [00:00<00:00, 17.4kvars/s]\n",
      "  Encode: 100%|██████████| 2.57M/2.57M [00:00<00:00, 23.8MB/s]\n",
      "Finalise: 100%|██████████| 11.0/11.0 [00:00<00:00, 1.01karray/s]\n"
     ]
    },
    {
     "name": "stdout",
     "output_type": "stream",
     "text": [
      "[OK] bio2zarr finished for ooa_300_1e+06_25\n",
      "tsinfer done\n",
      "Running tsdate\n"
     ]
    },
    {
     "name": "stderr",
     "output_type": "stream",
     "text": [
      "    Scan: 100%|██████████| 1.00/1.00 [00:00<00:00, 65.9files/s]\n",
      " Explode: 100%|██████████| 3.40k/3.40k [00:00<00:00, 17.0kvars/s]\n",
      "  Encode: 100%|██████████| 2.70M/2.70M [00:00<00:00, 28.9MB/s]\n",
      "Finalise: 100%|██████████| 11.0/11.0 [00:00<00:00, 740array/s]\n"
     ]
    },
    {
     "name": "stdout",
     "output_type": "stream",
     "text": [
      "[OK] bio2zarr finished for ooa_300_1e+06_26\n",
      "tsinfer done\n",
      "Running tsdate\n"
     ]
    },
    {
     "name": "stderr",
     "output_type": "stream",
     "text": [
      "    Scan: 100%|██████████| 1.00/1.00 [00:00<00:00, 70.9files/s]\n",
      " Explode: 100%|██████████| 3.22k/3.22k [00:00<00:00, 16.9kvars/s]\n",
      "  Encode: 100%|██████████| 2.56M/2.56M [00:00<00:00, 28.8MB/s]\n",
      "Finalise: 100%|██████████| 11.0/11.0 [00:00<00:00, 884array/s]\n"
     ]
    },
    {
     "name": "stdout",
     "output_type": "stream",
     "text": [
      "[OK] bio2zarr finished for ooa_300_1e+06_27\n",
      "tsinfer done\n",
      "Running tsdate\n"
     ]
    },
    {
     "name": "stderr",
     "output_type": "stream",
     "text": [
      "    Scan: 100%|██████████| 1.00/1.00 [00:00<00:00, 66.0files/s]\n",
      " Explode: 100%|██████████| 3.26k/3.26k [00:00<00:00, 17.0kvars/s]\n",
      "  Encode: 100%|██████████| 2.59M/2.59M [00:00<00:00, 26.6MB/s]\n",
      "Finalise: 100%|██████████| 11.0/11.0 [00:00<00:00, 728array/s]\n"
     ]
    },
    {
     "name": "stdout",
     "output_type": "stream",
     "text": [
      "[OK] bio2zarr finished for ooa_300_1e+06_28\n",
      "tsinfer done\n",
      "Running tsdate\n"
     ]
    },
    {
     "name": "stderr",
     "output_type": "stream",
     "text": [
      "    Scan: 100%|██████████| 1.00/1.00 [00:00<00:00, 66.0files/s]\n",
      " Explode: 100%|██████████| 3.33k/3.33k [00:00<00:00, 18.1kvars/s]\n",
      "  Encode: 100%|██████████| 2.64M/2.64M [00:00<00:00, 26.4MB/s]\n",
      "Finalise: 100%|██████████| 11.0/11.0 [00:00<00:00, 729array/s]\n"
     ]
    },
    {
     "name": "stdout",
     "output_type": "stream",
     "text": [
      "[OK] bio2zarr finished for ooa_300_1e+06_29\n",
      "tsinfer done\n",
      "Running tsdate\n"
     ]
    },
    {
     "name": "stderr",
     "output_type": "stream",
     "text": [
      "    Scan: 100%|██████████| 1.00/1.00 [00:00<00:00, 89.7files/s]\n",
      " Explode: 100%|██████████| 3.39k/3.39k [00:00<00:00, 17.3kvars/s]\n",
      "  Encode: 100%|██████████| 2.69M/2.69M [00:00<00:00, 30.4MB/s]\n",
      "Finalise: 100%|██████████| 11.0/11.0 [00:00<00:00, 842array/s]\n"
     ]
    },
    {
     "name": "stdout",
     "output_type": "stream",
     "text": [
      "[OK] bio2zarr finished for ooa_300_1e+06_30\n",
      "tsinfer done\n",
      "Running tsdate\n"
     ]
    },
    {
     "name": "stderr",
     "output_type": "stream",
     "text": [
      "    Scan: 100%|██████████| 1.00/1.00 [00:00<00:00, 93.4files/s]\n",
      " Explode: 100%|██████████| 3.34k/3.34k [00:00<00:00, 16.8kvars/s]\n",
      "  Encode: 100%|██████████| 2.65M/2.65M [00:00<00:00, 25.6MB/s]\n",
      "Finalise: 100%|██████████| 11.0/11.0 [00:00<00:00, 728array/s]\n"
     ]
    },
    {
     "name": "stdout",
     "output_type": "stream",
     "text": [
      "[OK] bio2zarr finished for ooa_300_1e+06_31\n",
      "tsinfer done\n",
      "Running tsdate\n"
     ]
    },
    {
     "name": "stderr",
     "output_type": "stream",
     "text": [
      "    Scan: 100%|██████████| 1.00/1.00 [00:00<00:00, 84.3files/s]\n",
      " Explode: 100%|██████████| 3.16k/3.16k [00:00<00:00, 17.5kvars/s]\n",
      "  Encode: 100%|██████████| 2.51M/2.51M [00:00<00:00, 28.4MB/s]\n",
      "Finalise: 100%|██████████| 11.0/11.0 [00:00<00:00, 729array/s]\n"
     ]
    },
    {
     "name": "stdout",
     "output_type": "stream",
     "text": [
      "[OK] bio2zarr finished for ooa_300_1e+06_32\n",
      "tsinfer done\n",
      "Running tsdate\n"
     ]
    },
    {
     "name": "stderr",
     "output_type": "stream",
     "text": [
      "    Scan: 100%|██████████| 1.00/1.00 [00:00<00:00, 66.0files/s]\n",
      " Explode: 100%|██████████| 3.17k/3.17k [00:00<00:00, 18.0kvars/s]\n",
      "  Encode: 100%|██████████| 2.51M/2.51M [00:00<00:00, 29.2MB/s]\n",
      "Finalise: 100%|██████████| 11.0/11.0 [00:00<00:00, 728array/s]\n"
     ]
    },
    {
     "name": "stdout",
     "output_type": "stream",
     "text": [
      "[OK] bio2zarr finished for ooa_300_1e+06_33\n",
      "tsinfer done\n",
      "Running tsdate\n"
     ]
    },
    {
     "name": "stderr",
     "output_type": "stream",
     "text": [
      "    Scan: 100%|██████████| 1.00/1.00 [00:00<00:00, 65.9files/s]\n",
      " Explode: 100%|██████████| 3.18k/3.18k [00:00<00:00, 17.1kvars/s]\n",
      "  Encode: 100%|██████████| 2.53M/2.53M [00:00<00:00, 27.6MB/s]\n",
      "Finalise: 100%|██████████| 11.0/11.0 [00:00<00:00, 768array/s]\n"
     ]
    },
    {
     "name": "stdout",
     "output_type": "stream",
     "text": [
      "[OK] bio2zarr finished for ooa_300_1e+06_34\n",
      "tsinfer done\n",
      "Running tsdate\n"
     ]
    },
    {
     "name": "stderr",
     "output_type": "stream",
     "text": [
      "    Scan: 100%|██████████| 1.00/1.00 [00:00<00:00, 70.2files/s]\n",
      " Explode: 100%|██████████| 3.52k/3.52k [00:00<00:00, 16.5kvars/s]\n",
      "  Encode: 100%|██████████| 2.80M/2.80M [00:00<00:00, 30.5MB/s]\n",
      "Finalise: 100%|██████████| 11.0/11.0 [00:00<00:00, 1.06karray/s]\n"
     ]
    },
    {
     "name": "stdout",
     "output_type": "stream",
     "text": [
      "[OK] bio2zarr finished for ooa_300_1e+06_35\n",
      "tsinfer done\n",
      "Running tsdate\n"
     ]
    },
    {
     "name": "stderr",
     "output_type": "stream",
     "text": [
      "    Scan: 100%|██████████| 1.00/1.00 [00:00<00:00, 66.0files/s]\n",
      " Explode: 100%|██████████| 3.10k/3.10k [00:00<00:00, 17.1kvars/s]\n",
      "  Encode: 100%|██████████| 2.47M/2.47M [00:00<00:00, 27.0MB/s]\n",
      "Finalise: 100%|██████████| 11.0/11.0 [00:00<00:00, 729array/s]\n"
     ]
    },
    {
     "name": "stdout",
     "output_type": "stream",
     "text": [
      "[OK] bio2zarr finished for ooa_300_1e+06_36\n",
      "tsinfer done\n",
      "Running tsdate\n"
     ]
    },
    {
     "name": "stderr",
     "output_type": "stream",
     "text": [
      "    Scan: 100%|██████████| 1.00/1.00 [00:00<00:00, 66.5files/s]\n",
      " Explode: 100%|██████████| 3.16k/3.16k [00:00<00:00, 17.2kvars/s]\n",
      "  Encode: 100%|██████████| 2.51M/2.51M [00:00<00:00, 27.3MB/s]\n",
      "Finalise: 100%|██████████| 11.0/11.0 [00:00<00:00, 773array/s]\n"
     ]
    },
    {
     "name": "stdout",
     "output_type": "stream",
     "text": [
      "[OK] bio2zarr finished for ooa_300_1e+06_37\n",
      "tsinfer done\n",
      "Running tsdate\n"
     ]
    },
    {
     "name": "stderr",
     "output_type": "stream",
     "text": [
      "    Scan: 100%|██████████| 1.00/1.00 [00:00<00:00, 66.0files/s]\n",
      " Explode: 100%|██████████| 3.26k/3.26k [00:00<00:00, 18.0kvars/s]\n",
      "  Encode: 100%|██████████| 2.59M/2.59M [00:00<00:00, 28.8MB/s]\n",
      "Finalise: 100%|██████████| 11.0/11.0 [00:00<00:00, 729array/s]\n"
     ]
    },
    {
     "name": "stdout",
     "output_type": "stream",
     "text": [
      "[OK] bio2zarr finished for ooa_300_1e+06_38\n",
      "tsinfer done\n",
      "Running tsdate\n"
     ]
    },
    {
     "name": "stderr",
     "output_type": "stream",
     "text": [
      "    Scan: 100%|██████████| 1.00/1.00 [00:00<00:00, 67.6files/s]\n",
      " Explode: 100%|██████████| 3.29k/3.29k [00:00<00:00, 17.3kvars/s]\n",
      "  Encode: 100%|██████████| 2.62M/2.62M [00:00<00:00, 28.8MB/s]\n",
      "Finalise: 100%|██████████| 11.0/11.0 [00:00<00:00, 757array/s]\n"
     ]
    },
    {
     "name": "stdout",
     "output_type": "stream",
     "text": [
      "[OK] bio2zarr finished for ooa_300_1e+06_39\n",
      "tsinfer done\n",
      "Running tsdate\n"
     ]
    },
    {
     "name": "stderr",
     "output_type": "stream",
     "text": [
      "    Scan: 100%|██████████| 1.00/1.00 [00:00<00:00, 75.9files/s]\n",
      " Explode: 100%|██████████| 3.29k/3.29k [00:00<00:00, 17.5kvars/s]\n",
      "  Encode: 100%|██████████| 2.61M/2.61M [00:00<00:00, 27.5MB/s]\n",
      "Finalise: 100%|██████████| 11.0/11.0 [00:00<00:00, 767array/s]\n"
     ]
    },
    {
     "name": "stdout",
     "output_type": "stream",
     "text": [
      "[OK] bio2zarr finished for ooa_300_1e+06_40\n",
      "tsinfer done\n",
      "Running tsdate\n"
     ]
    },
    {
     "name": "stderr",
     "output_type": "stream",
     "text": [
      "    Scan: 100%|██████████| 1.00/1.00 [00:00<00:00, 96.2files/s]\n",
      " Explode: 100%|██████████| 3.13k/3.13k [00:00<00:00, 16.8kvars/s]\n",
      "  Encode: 100%|██████████| 2.49M/2.49M [00:00<00:00, 26.2MB/s]\n",
      "Finalise: 100%|██████████| 11.0/11.0 [00:00<00:00, 729array/s]\n"
     ]
    },
    {
     "name": "stdout",
     "output_type": "stream",
     "text": [
      "[OK] bio2zarr finished for ooa_300_1e+06_41\n",
      "tsinfer done\n",
      "Running tsdate\n"
     ]
    },
    {
     "name": "stderr",
     "output_type": "stream",
     "text": [
      "    Scan: 100%|██████████| 1.00/1.00 [00:00<00:00, 91.4files/s]\n",
      " Explode: 100%|██████████| 3.14k/3.14k [00:00<00:00, 17.4kvars/s]\n",
      "  Encode: 100%|██████████| 2.50M/2.50M [00:00<00:00, 29.1MB/s]\n",
      "Finalise: 100%|██████████| 11.0/11.0 [00:00<00:00, 729array/s]\n"
     ]
    },
    {
     "name": "stdout",
     "output_type": "stream",
     "text": [
      "[OK] bio2zarr finished for ooa_300_1e+06_42\n",
      "tsinfer done\n",
      "Running tsdate\n"
     ]
    },
    {
     "name": "stderr",
     "output_type": "stream",
     "text": [
      "    Scan: 100%|██████████| 1.00/1.00 [00:00<00:00, 96.3files/s]\n",
      " Explode: 100%|██████████| 3.39k/3.39k [00:00<00:00, 16.9kvars/s]\n",
      "  Encode: 100%|██████████| 2.69M/2.69M [00:00<00:00, 29.2MB/s]\n",
      "Finalise: 100%|██████████| 11.0/11.0 [00:00<00:00, 727array/s]\n"
     ]
    },
    {
     "name": "stdout",
     "output_type": "stream",
     "text": [
      "[OK] bio2zarr finished for ooa_300_1e+06_43\n",
      "tsinfer done\n",
      "Running tsdate\n"
     ]
    },
    {
     "name": "stderr",
     "output_type": "stream",
     "text": [
      "    Scan: 100%|██████████| 1.00/1.00 [00:00<00:00, 65.6files/s]\n",
      " Explode: 100%|██████████| 3.34k/3.34k [00:00<00:00, 17.0kvars/s]\n",
      "  Encode: 100%|██████████| 2.65M/2.65M [00:00<00:00, 28.8MB/s]\n",
      "Finalise: 100%|██████████| 11.0/11.0 [00:00<00:00, 781array/s]\n"
     ]
    },
    {
     "name": "stdout",
     "output_type": "stream",
     "text": [
      "[OK] bio2zarr finished for ooa_300_1e+06_44\n",
      "tsinfer done\n",
      "Running tsdate\n"
     ]
    },
    {
     "name": "stderr",
     "output_type": "stream",
     "text": [
      "    Scan: 100%|██████████| 1.00/1.00 [00:00<00:00, 93.7files/s]\n",
      " Explode: 100%|██████████| 3.17k/3.17k [00:00<00:00, 17.7kvars/s]\n",
      "  Encode: 100%|██████████| 2.49M/2.49M [00:00<00:00, 26.3MB/s]\n",
      "Finalise: 100%|██████████| 11.0/11.0 [00:00<00:00, 729array/s]\n"
     ]
    },
    {
     "name": "stdout",
     "output_type": "stream",
     "text": [
      "[OK] bio2zarr finished for ooa_300_1e+06_45\n",
      "tsinfer done\n",
      "Running tsdate\n"
     ]
    },
    {
     "name": "stderr",
     "output_type": "stream",
     "text": [
      "    Scan: 100%|██████████| 1.00/1.00 [00:00<00:00, 84.1files/s]\n",
      " Explode: 100%|██████████| 3.48k/3.48k [00:00<00:00, 17.0kvars/s]\n",
      "  Encode: 100%|██████████| 2.76M/2.76M [00:00<00:00, 30.2MB/s]\n",
      "Finalise: 100%|██████████| 11.0/11.0 [00:00<00:00, 836array/s]\n"
     ]
    },
    {
     "name": "stdout",
     "output_type": "stream",
     "text": [
      "[OK] bio2zarr finished for ooa_300_1e+06_46\n",
      "tsinfer done\n",
      "Running tsdate\n"
     ]
    },
    {
     "name": "stderr",
     "output_type": "stream",
     "text": [
      "    Scan: 100%|██████████| 1.00/1.00 [00:00<00:00, 74.7files/s]\n",
      " Explode: 100%|██████████| 3.22k/3.22k [00:00<00:00, 17.1kvars/s]\n",
      "  Encode: 100%|██████████| 2.55M/2.55M [00:00<00:00, 27.9MB/s]\n",
      "Finalise: 100%|██████████| 11.0/11.0 [00:00<00:00, 991array/s]\n"
     ]
    },
    {
     "name": "stdout",
     "output_type": "stream",
     "text": [
      "[OK] bio2zarr finished for ooa_300_1e+06_47\n",
      "tsinfer done\n",
      "Running tsdate\n"
     ]
    },
    {
     "name": "stderr",
     "output_type": "stream",
     "text": [
      "    Scan: 100%|██████████| 1.00/1.00 [00:00<00:00, 95.2files/s]\n",
      " Explode: 100%|██████████| 3.06k/3.06k [00:00<00:00, 16.3kvars/s]\n",
      "  Encode: 100%|██████████| 2.43M/2.43M [00:00<00:00, 26.5MB/s]\n",
      "Finalise: 100%|██████████| 11.0/11.0 [00:00<00:00, 744array/s]\n"
     ]
    },
    {
     "name": "stdout",
     "output_type": "stream",
     "text": [
      "[OK] bio2zarr finished for ooa_300_1e+06_48\n",
      "tsinfer done\n",
      "Running tsdate\n"
     ]
    },
    {
     "name": "stderr",
     "output_type": "stream",
     "text": [
      "    Scan: 100%|██████████| 1.00/1.00 [00:00<00:00, 65.8files/s]\n",
      " Explode: 100%|██████████| 3.42k/3.42k [00:00<00:00, 17.2kvars/s]\n",
      "  Encode: 100%|██████████| 2.71M/2.71M [00:00<00:00, 29.2MB/s]\n",
      "Finalise: 100%|██████████| 11.0/11.0 [00:00<00:00, 726array/s]\n"
     ]
    },
    {
     "name": "stdout",
     "output_type": "stream",
     "text": [
      "[OK] bio2zarr finished for ooa_300_1e+06_49\n",
      "tsinfer done\n",
      "Running tsdate\n"
     ]
    },
    {
     "name": "stderr",
     "output_type": "stream",
     "text": [
      "    Scan: 100%|██████████| 1.00/1.00 [00:00<00:00, 65.9files/s]\n",
      " Explode: 100%|██████████| 3.43k/3.43k [00:00<00:00, 17.1kvars/s]\n",
      "  Encode: 100%|██████████| 2.72M/2.72M [00:00<00:00, 29.5MB/s]\n",
      "Finalise: 100%|██████████| 11.0/11.0 [00:00<00:00, 895array/s]\n"
     ]
    },
    {
     "name": "stdout",
     "output_type": "stream",
     "text": [
      "[OK] bio2zarr finished for ooa_300_1e+06_50\n",
      "tsinfer done\n",
      "Running tsdate\n"
     ]
    },
    {
     "name": "stderr",
     "output_type": "stream",
     "text": [
      "    Scan: 100%|██████████| 1.00/1.00 [00:00<00:00, 65.8files/s]\n",
      " Explode: 100%|██████████| 3.21k/3.21k [00:00<00:00, 17.6kvars/s]\n",
      "  Encode: 100%|██████████| 2.55M/2.55M [00:00<00:00, 28.3MB/s]\n",
      "Finalise: 100%|██████████| 11.0/11.0 [00:00<00:00, 732array/s]\n"
     ]
    },
    {
     "name": "stdout",
     "output_type": "stream",
     "text": [
      "[OK] bio2zarr finished for ooa_300_1e+06_51\n",
      "tsinfer done\n",
      "Running tsdate\n"
     ]
    },
    {
     "name": "stderr",
     "output_type": "stream",
     "text": [
      "    Scan: 100%|██████████| 1.00/1.00 [00:00<00:00, 77.0files/s]\n",
      " Explode: 100%|██████████| 3.28k/3.28k [00:00<00:00, 17.8kvars/s]\n",
      "  Encode: 100%|██████████| 2.60M/2.60M [00:00<00:00, 25.6MB/s]\n",
      "Finalise: 100%|██████████| 11.0/11.0 [00:00<00:00, 726array/s]\n"
     ]
    },
    {
     "name": "stdout",
     "output_type": "stream",
     "text": [
      "[OK] bio2zarr finished for ooa_300_1e+06_52\n",
      "tsinfer done\n",
      "Running tsdate\n"
     ]
    },
    {
     "name": "stderr",
     "output_type": "stream",
     "text": [
      "    Scan: 100%|██████████| 1.00/1.00 [00:00<00:00, 65.5files/s]\n",
      " Explode: 100%|██████████| 3.29k/3.29k [00:00<00:00, 17.8kvars/s]\n",
      "  Encode: 100%|██████████| 2.61M/2.61M [00:00<00:00, 25.5MB/s]\n",
      "Finalise: 100%|██████████| 11.0/11.0 [00:00<00:00, 868array/s]\n"
     ]
    },
    {
     "name": "stdout",
     "output_type": "stream",
     "text": [
      "[OK] bio2zarr finished for ooa_300_1e+06_53\n",
      "tsinfer done\n",
      "Running tsdate\n"
     ]
    },
    {
     "name": "stderr",
     "output_type": "stream",
     "text": [
      "    Scan: 100%|██████████| 1.00/1.00 [00:00<00:00, 81.4files/s]\n",
      " Explode: 100%|██████████| 3.12k/3.12k [00:00<00:00, 17.3kvars/s]\n",
      "  Encode: 100%|██████████| 2.48M/2.48M [00:00<00:00, 27.0MB/s]\n",
      "Finalise: 100%|██████████| 11.0/11.0 [00:00<00:00, 729array/s]\n"
     ]
    },
    {
     "name": "stdout",
     "output_type": "stream",
     "text": [
      "[OK] bio2zarr finished for ooa_300_1e+06_54\n",
      "tsinfer done\n",
      "Running tsdate\n"
     ]
    },
    {
     "name": "stderr",
     "output_type": "stream",
     "text": [
      "    Scan: 100%|██████████| 1.00/1.00 [00:00<00:00, 65.9files/s]\n",
      " Explode: 100%|██████████| 3.27k/3.27k [00:00<00:00, 17.1kvars/s]\n",
      "  Encode: 100%|██████████| 2.59M/2.59M [00:00<00:00, 27.9MB/s]\n",
      "Finalise: 100%|██████████| 11.0/11.0 [00:00<00:00, 848array/s]\n"
     ]
    },
    {
     "name": "stdout",
     "output_type": "stream",
     "text": [
      "[OK] bio2zarr finished for ooa_300_1e+06_55\n",
      "tsinfer done\n",
      "Running tsdate\n"
     ]
    },
    {
     "name": "stderr",
     "output_type": "stream",
     "text": [
      "    Scan: 100%|██████████| 1.00/1.00 [00:00<00:00, 65.9files/s]\n",
      " Explode: 100%|██████████| 3.36k/3.36k [00:00<00:00, 17.3kvars/s]\n",
      "  Encode: 100%|██████████| 2.67M/2.67M [00:00<00:00, 28.7MB/s]\n",
      "Finalise: 100%|██████████| 11.0/11.0 [00:00<00:00, 1.00karray/s]\n"
     ]
    },
    {
     "name": "stdout",
     "output_type": "stream",
     "text": [
      "[OK] bio2zarr finished for ooa_300_1e+06_56\n",
      "tsinfer done\n",
      "Running tsdate\n"
     ]
    },
    {
     "name": "stderr",
     "output_type": "stream",
     "text": [
      "    Scan: 100%|██████████| 1.00/1.00 [00:00<00:00, 92.0files/s]\n",
      " Explode: 100%|██████████| 3.15k/3.15k [00:00<00:00, 17.0kvars/s]\n",
      "  Encode: 100%|██████████| 2.50M/2.50M [00:00<00:00, 28.6MB/s]\n",
      "Finalise: 100%|██████████| 11.0/11.0 [00:00<00:00, 729array/s]\n"
     ]
    },
    {
     "name": "stdout",
     "output_type": "stream",
     "text": [
      "[OK] bio2zarr finished for ooa_300_1e+06_57\n",
      "tsinfer done\n",
      "Running tsdate\n"
     ]
    },
    {
     "name": "stderr",
     "output_type": "stream",
     "text": [
      "    Scan: 100%|██████████| 1.00/1.00 [00:00<00:00, 75.8files/s]\n",
      " Explode: 100%|██████████| 3.10k/3.10k [00:00<00:00, 17.7kvars/s]\n",
      "  Encode: 100%|██████████| 2.46M/2.46M [00:00<00:00, 27.7MB/s]\n",
      "Finalise: 100%|██████████| 11.0/11.0 [00:00<00:00, 729array/s]\n"
     ]
    },
    {
     "name": "stdout",
     "output_type": "stream",
     "text": [
      "[OK] bio2zarr finished for ooa_300_1e+06_58\n",
      "tsinfer done\n",
      "Running tsdate\n"
     ]
    },
    {
     "name": "stderr",
     "output_type": "stream",
     "text": [
      "    Scan: 100%|██████████| 1.00/1.00 [00:00<00:00, 81.3files/s]\n",
      " Explode: 100%|██████████| 3.29k/3.29k [00:00<00:00, 16.5kvars/s]\n",
      "  Encode: 100%|██████████| 2.61M/2.61M [00:00<00:00, 28.3MB/s]\n",
      "Finalise: 100%|██████████| 11.0/11.0 [00:00<00:00, 728array/s]\n"
     ]
    },
    {
     "name": "stdout",
     "output_type": "stream",
     "text": [
      "[OK] bio2zarr finished for ooa_300_1e+06_59\n",
      "tsinfer done\n",
      "Running tsdate\n"
     ]
    },
    {
     "name": "stderr",
     "output_type": "stream",
     "text": [
      "    Scan: 100%|██████████| 1.00/1.00 [00:00<00:00, 65.9files/s]\n",
      " Explode: 100%|██████████| 3.19k/3.19k [00:00<00:00, 17.3kvars/s]\n",
      "  Encode: 100%|██████████| 2.54M/2.54M [00:00<00:00, 27.3MB/s]\n",
      "Finalise: 100%|██████████| 11.0/11.0 [00:00<00:00, 725array/s]\n"
     ]
    },
    {
     "name": "stdout",
     "output_type": "stream",
     "text": [
      "[OK] bio2zarr finished for ooa_300_1e+06_60\n",
      "tsinfer done\n",
      "Running tsdate\n"
     ]
    },
    {
     "name": "stderr",
     "output_type": "stream",
     "text": [
      "    Scan: 100%|██████████| 1.00/1.00 [00:00<00:00, 65.9files/s]\n",
      " Explode: 100%|██████████| 3.17k/3.17k [00:00<00:00, 16.3kvars/s]\n",
      "  Encode: 100%|██████████| 2.49M/2.49M [00:00<00:00, 23.6MB/s]\n",
      "Finalise: 100%|██████████| 11.0/11.0 [00:00<00:00, 1.02karray/s]\n"
     ]
    },
    {
     "name": "stdout",
     "output_type": "stream",
     "text": [
      "[OK] bio2zarr finished for ooa_300_1e+06_61\n",
      "tsinfer done\n",
      "Running tsdate\n"
     ]
    },
    {
     "name": "stderr",
     "output_type": "stream",
     "text": [
      "    Scan: 100%|██████████| 1.00/1.00 [00:00<00:00, 66.1files/s]\n",
      " Explode: 100%|██████████| 3.28k/3.28k [00:00<00:00, 16.9kvars/s]\n",
      "  Encode: 100%|██████████| 2.61M/2.61M [00:00<00:00, 30.1MB/s]\n",
      "Finalise: 100%|██████████| 11.0/11.0 [00:00<00:00, 727array/s]\n"
     ]
    },
    {
     "name": "stdout",
     "output_type": "stream",
     "text": [
      "[OK] bio2zarr finished for ooa_300_1e+06_62\n",
      "tsinfer done\n",
      "Running tsdate\n"
     ]
    },
    {
     "name": "stderr",
     "output_type": "stream",
     "text": [
      "    Scan: 100%|██████████| 1.00/1.00 [00:00<00:00, 65.8files/s]\n",
      " Explode: 100%|██████████| 3.10k/3.10k [00:00<00:00, 17.3kvars/s]\n",
      "  Encode: 100%|██████████| 2.46M/2.46M [00:00<00:00, 27.1MB/s]\n",
      "Finalise: 100%|██████████| 11.0/11.0 [00:00<00:00, 729array/s]\n"
     ]
    },
    {
     "name": "stdout",
     "output_type": "stream",
     "text": [
      "[OK] bio2zarr finished for ooa_300_1e+06_63\n",
      "tsinfer done\n",
      "Running tsdate\n"
     ]
    },
    {
     "name": "stderr",
     "output_type": "stream",
     "text": [
      "    Scan: 100%|██████████| 1.00/1.00 [00:00<00:00, 66.0files/s]\n",
      " Explode: 100%|██████████| 3.40k/3.40k [00:00<00:00, 17.3kvars/s]\n",
      "  Encode: 100%|██████████| 2.70M/2.70M [00:00<00:00, 29.3MB/s]\n",
      "Finalise: 100%|██████████| 11.0/11.0 [00:00<00:00, 768array/s]\n"
     ]
    },
    {
     "name": "stdout",
     "output_type": "stream",
     "text": [
      "[OK] bio2zarr finished for ooa_300_1e+06_64\n",
      "tsinfer done\n",
      "Running tsdate\n"
     ]
    },
    {
     "name": "stderr",
     "output_type": "stream",
     "text": [
      "    Scan: 100%|██████████| 1.00/1.00 [00:00<00:00, 87.0files/s]\n",
      " Explode: 100%|██████████| 3.14k/3.14k [00:00<00:00, 17.0kvars/s]\n",
      "  Encode: 100%|██████████| 2.49M/2.49M [00:00<00:00, 26.8MB/s]\n",
      "Finalise: 100%|██████████| 11.0/11.0 [00:00<00:00, 958array/s]\n"
     ]
    },
    {
     "name": "stdout",
     "output_type": "stream",
     "text": [
      "[OK] bio2zarr finished for ooa_300_1e+06_65\n",
      "tsinfer done\n",
      "Running tsdate\n"
     ]
    },
    {
     "name": "stderr",
     "output_type": "stream",
     "text": [
      "    Scan: 100%|██████████| 1.00/1.00 [00:00<00:00, 65.9files/s]\n",
      " Explode: 100%|██████████| 3.26k/3.26k [00:00<00:00, 16.9kvars/s]\n",
      "  Encode: 100%|██████████| 2.59M/2.59M [00:00<00:00, 29.2MB/s]\n",
      "Finalise: 100%|██████████| 11.0/11.0 [00:00<00:00, 728array/s]\n"
     ]
    },
    {
     "name": "stdout",
     "output_type": "stream",
     "text": [
      "[OK] bio2zarr finished for ooa_300_1e+06_66\n",
      "tsinfer done\n",
      "Running tsdate\n"
     ]
    },
    {
     "name": "stderr",
     "output_type": "stream",
     "text": [
      "    Scan: 100%|██████████| 1.00/1.00 [00:00<00:00, 66.0files/s]\n",
      " Explode: 100%|██████████| 3.10k/3.10k [00:00<00:00, 17.3kvars/s]\n",
      "  Encode: 100%|██████████| 2.46M/2.46M [00:00<00:00, 26.2MB/s]\n",
      "Finalise: 100%|██████████| 11.0/11.0 [00:00<00:00, 727array/s]\n"
     ]
    },
    {
     "name": "stdout",
     "output_type": "stream",
     "text": [
      "[OK] bio2zarr finished for ooa_300_1e+06_67\n",
      "tsinfer done\n",
      "Running tsdate\n"
     ]
    },
    {
     "name": "stderr",
     "output_type": "stream",
     "text": [
      "    Scan: 100%|██████████| 1.00/1.00 [00:00<00:00, 82.8files/s]\n",
      " Explode: 100%|██████████| 3.10k/3.10k [00:00<00:00, 17.3kvars/s]\n",
      "  Encode: 100%|██████████| 2.46M/2.46M [00:00<00:00, 27.3MB/s]\n",
      "Finalise: 100%|██████████| 11.0/11.0 [00:00<00:00, 728array/s]\n"
     ]
    },
    {
     "name": "stdout",
     "output_type": "stream",
     "text": [
      "[OK] bio2zarr finished for ooa_300_1e+06_68\n",
      "tsinfer done\n",
      "Running tsdate\n"
     ]
    },
    {
     "name": "stderr",
     "output_type": "stream",
     "text": [
      "    Scan: 100%|██████████| 1.00/1.00 [00:00<00:00, 67.0files/s]\n",
      " Explode: 100%|██████████| 3.25k/3.25k [00:00<00:00, 16.8kvars/s]\n",
      "  Encode: 100%|██████████| 2.58M/2.58M [00:00<00:00, 26.1MB/s]\n",
      "Finalise: 100%|██████████| 11.0/11.0 [00:00<00:00, 1.08karray/s]\n"
     ]
    },
    {
     "name": "stdout",
     "output_type": "stream",
     "text": [
      "[OK] bio2zarr finished for ooa_300_1e+06_69\n",
      "tsinfer done\n",
      "Running tsdate\n"
     ]
    },
    {
     "name": "stderr",
     "output_type": "stream",
     "text": [
      "    Scan: 100%|██████████| 1.00/1.00 [00:00<00:00, 80.0files/s]\n",
      " Explode: 100%|██████████| 3.31k/3.31k [00:00<00:00, 17.0kvars/s]\n",
      "  Encode: 100%|██████████| 2.63M/2.63M [00:00<00:00, 29.0MB/s]\n",
      "Finalise: 100%|██████████| 11.0/11.0 [00:00<00:00, 849array/s]\n"
     ]
    },
    {
     "name": "stdout",
     "output_type": "stream",
     "text": [
      "[OK] bio2zarr finished for ooa_300_1e+06_70\n",
      "tsinfer done\n",
      "Running tsdate\n"
     ]
    },
    {
     "name": "stderr",
     "output_type": "stream",
     "text": [
      "    Scan: 100%|██████████| 1.00/1.00 [00:00<00:00, 95.9files/s]\n",
      " Explode: 100%|██████████| 3.17k/3.17k [00:00<00:00, 17.8kvars/s]\n",
      "  Encode: 100%|██████████| 2.51M/2.51M [00:00<00:00, 27.6MB/s]\n",
      "Finalise: 100%|██████████| 11.0/11.0 [00:00<00:00, 729array/s]\n"
     ]
    },
    {
     "name": "stdout",
     "output_type": "stream",
     "text": [
      "[OK] bio2zarr finished for ooa_300_1e+06_71\n",
      "tsinfer done\n",
      "Running tsdate\n"
     ]
    },
    {
     "name": "stderr",
     "output_type": "stream",
     "text": [
      "    Scan: 100%|██████████| 1.00/1.00 [00:00<00:00, 65.9files/s]\n",
      " Explode: 100%|██████████| 3.29k/3.29k [00:00<00:00, 17.5kvars/s]\n",
      "  Encode: 100%|██████████| 2.62M/2.62M [00:00<00:00, 23.0MB/s]\n",
      "Finalise: 100%|██████████| 11.0/11.0 [00:00<00:00, 761array/s]\n"
     ]
    },
    {
     "name": "stdout",
     "output_type": "stream",
     "text": [
      "[OK] bio2zarr finished for ooa_300_1e+06_72\n",
      "tsinfer done\n",
      "Running tsdate\n"
     ]
    },
    {
     "name": "stderr",
     "output_type": "stream",
     "text": [
      "    Scan: 100%|██████████| 1.00/1.00 [00:00<00:00, 65.9files/s]\n",
      " Explode: 100%|██████████| 3.12k/3.12k [00:00<00:00, 17.2kvars/s]\n",
      "  Encode: 100%|██████████| 2.48M/2.48M [00:00<00:00, 27.7MB/s]\n",
      "Finalise: 100%|██████████| 11.0/11.0 [00:00<00:00, 959array/s]\n"
     ]
    },
    {
     "name": "stdout",
     "output_type": "stream",
     "text": [
      "[OK] bio2zarr finished for ooa_300_1e+06_73\n",
      "tsinfer done\n",
      "Running tsdate\n"
     ]
    },
    {
     "name": "stderr",
     "output_type": "stream",
     "text": [
      "    Scan: 100%|██████████| 1.00/1.00 [00:00<00:00, 85.6files/s]\n",
      " Explode: 100%|██████████| 3.17k/3.17k [00:00<00:00, 17.7kvars/s]\n",
      "  Encode: 100%|██████████| 2.52M/2.52M [00:00<00:00, 27.5MB/s]\n",
      "Finalise: 100%|██████████| 11.0/11.0 [00:00<00:00, 729array/s]\n"
     ]
    },
    {
     "name": "stdout",
     "output_type": "stream",
     "text": [
      "[OK] bio2zarr finished for ooa_300_1e+06_74\n",
      "tsinfer done\n",
      "Running tsdate\n"
     ]
    },
    {
     "name": "stderr",
     "output_type": "stream",
     "text": [
      "    Scan: 100%|██████████| 1.00/1.00 [00:00<00:00, 65.9files/s]\n",
      " Explode: 100%|██████████| 3.32k/3.32k [00:00<00:00, 17.6kvars/s]\n",
      "  Encode: 100%|██████████| 2.63M/2.63M [00:00<00:00, 28.2MB/s]\n",
      "Finalise: 100%|██████████| 11.0/11.0 [00:00<00:00, 874array/s]\n"
     ]
    },
    {
     "name": "stdout",
     "output_type": "stream",
     "text": [
      "[OK] bio2zarr finished for ooa_300_1e+06_75\n",
      "tsinfer done\n",
      "Running tsdate\n"
     ]
    },
    {
     "name": "stderr",
     "output_type": "stream",
     "text": [
      "    Scan: 100%|██████████| 1.00/1.00 [00:00<00:00, 65.9files/s]\n",
      " Explode: 100%|██████████| 3.34k/3.34k [00:00<00:00, 17.2kvars/s]\n",
      "  Encode: 100%|██████████| 2.65M/2.65M [00:00<00:00, 24.5MB/s]\n",
      "Finalise: 100%|██████████| 11.0/11.0 [00:00<00:00, 726array/s]\n"
     ]
    },
    {
     "name": "stdout",
     "output_type": "stream",
     "text": [
      "[OK] bio2zarr finished for ooa_300_1e+06_76\n",
      "tsinfer done\n",
      "Running tsdate\n"
     ]
    },
    {
     "name": "stderr",
     "output_type": "stream",
     "text": [
      "    Scan: 100%|██████████| 1.00/1.00 [00:00<00:00, 91.9files/s]\n",
      " Explode: 100%|██████████| 3.04k/3.04k [00:00<00:00, 16.2kvars/s]\n",
      "  Encode: 100%|██████████| 2.41M/2.41M [00:00<00:00, 28.0MB/s]\n",
      "Finalise: 100%|██████████| 11.0/11.0 [00:00<00:00, 729array/s]\n"
     ]
    },
    {
     "name": "stdout",
     "output_type": "stream",
     "text": [
      "[OK] bio2zarr finished for ooa_300_1e+06_77\n",
      "tsinfer done\n",
      "Running tsdate\n"
     ]
    },
    {
     "name": "stderr",
     "output_type": "stream",
     "text": [
      "    Scan: 100%|██████████| 1.00/1.00 [00:00<00:00, 97.1files/s]\n",
      " Explode: 100%|██████████| 3.19k/3.19k [00:00<00:00, 17.0kvars/s]\n",
      "  Encode: 100%|██████████| 2.53M/2.53M [00:00<00:00, 27.9MB/s]\n",
      "Finalise: 100%|██████████| 11.0/11.0 [00:00<00:00, 729array/s]\n"
     ]
    },
    {
     "name": "stdout",
     "output_type": "stream",
     "text": [
      "[OK] bio2zarr finished for ooa_300_1e+06_78\n",
      "tsinfer done\n",
      "Running tsdate\n"
     ]
    },
    {
     "name": "stderr",
     "output_type": "stream",
     "text": [
      "    Scan: 100%|██████████| 1.00/1.00 [00:00<00:00, 90.1files/s]\n",
      " Explode: 100%|██████████| 3.24k/3.24k [00:00<00:00, 16.9kvars/s]\n",
      "  Encode: 100%|██████████| 2.58M/2.58M [00:00<00:00, 28.1MB/s]\n",
      "Finalise: 100%|██████████| 11.0/11.0 [00:00<00:00, 977array/s]\n"
     ]
    },
    {
     "name": "stdout",
     "output_type": "stream",
     "text": [
      "[OK] bio2zarr finished for ooa_300_1e+06_79\n",
      "tsinfer done\n",
      "Running tsdate\n"
     ]
    },
    {
     "name": "stderr",
     "output_type": "stream",
     "text": [
      "    Scan: 100%|██████████| 1.00/1.00 [00:00<00:00, 94.4files/s]\n",
      " Explode: 100%|██████████| 3.30k/3.30k [00:00<00:00, 17.4kvars/s]\n",
      "  Encode: 100%|██████████| 2.62M/2.62M [00:00<00:00, 26.9MB/s]\n",
      "Finalise: 100%|██████████| 11.0/11.0 [00:00<00:00, 1.08karray/s]\n"
     ]
    },
    {
     "name": "stdout",
     "output_type": "stream",
     "text": [
      "[OK] bio2zarr finished for ooa_300_1e+06_80\n",
      "tsinfer done\n",
      "Running tsdate\n"
     ]
    },
    {
     "name": "stderr",
     "output_type": "stream",
     "text": [
      "    Scan: 100%|██████████| 1.00/1.00 [00:00<00:00, 74.5files/s]\n",
      " Explode: 100%|██████████| 3.33k/3.33k [00:00<00:00, 17.1kvars/s]\n",
      "  Encode: 100%|██████████| 2.65M/2.65M [00:00<00:00, 29.0MB/s]\n",
      "Finalise: 100%|██████████| 11.0/11.0 [00:00<00:00, 728array/s]\n"
     ]
    },
    {
     "name": "stdout",
     "output_type": "stream",
     "text": [
      "[OK] bio2zarr finished for ooa_300_1e+06_81\n",
      "tsinfer done\n",
      "Running tsdate\n"
     ]
    },
    {
     "name": "stderr",
     "output_type": "stream",
     "text": [
      "    Scan: 100%|██████████| 1.00/1.00 [00:00<00:00, 88.1files/s]\n",
      " Explode: 100%|██████████| 3.08k/3.08k [00:00<00:00, 17.9kvars/s]\n",
      "  Encode: 100%|██████████| 2.44M/2.44M [00:00<00:00, 27.6MB/s]\n",
      "Finalise: 100%|██████████| 11.0/11.0 [00:00<00:00, 1.08karray/s]\n"
     ]
    },
    {
     "name": "stdout",
     "output_type": "stream",
     "text": [
      "[OK] bio2zarr finished for ooa_300_1e+06_82\n",
      "tsinfer done\n",
      "Running tsdate\n"
     ]
    },
    {
     "name": "stderr",
     "output_type": "stream",
     "text": [
      "    Scan: 100%|██████████| 1.00/1.00 [00:00<00:00, 73.1files/s]\n",
      " Explode: 100%|██████████| 3.29k/3.29k [00:00<00:00, 16.7kvars/s]\n",
      "  Encode: 100%|██████████| 2.61M/2.61M [00:00<00:00, 29.3MB/s]\n",
      "Finalise: 100%|██████████| 11.0/11.0 [00:00<00:00, 980array/s]\n"
     ]
    },
    {
     "name": "stdout",
     "output_type": "stream",
     "text": [
      "[OK] bio2zarr finished for ooa_300_1e+06_83\n",
      "tsinfer done\n",
      "Running tsdate\n"
     ]
    },
    {
     "name": "stderr",
     "output_type": "stream",
     "text": [
      "    Scan: 100%|██████████| 1.00/1.00 [00:00<00:00, 67.9files/s]\n",
      " Explode: 100%|██████████| 3.15k/3.15k [00:00<00:00, 17.8kvars/s]\n",
      "  Encode: 100%|██████████| 2.50M/2.50M [00:00<00:00, 27.7MB/s]\n",
      "Finalise: 100%|██████████| 11.0/11.0 [00:00<00:00, 729array/s]\n"
     ]
    },
    {
     "name": "stdout",
     "output_type": "stream",
     "text": [
      "[OK] bio2zarr finished for ooa_300_1e+06_84\n",
      "tsinfer done\n",
      "Running tsdate\n"
     ]
    },
    {
     "name": "stderr",
     "output_type": "stream",
     "text": [
      "    Scan: 100%|██████████| 1.00/1.00 [00:00<00:00, 96.4files/s]\n",
      " Explode: 100%|██████████| 3.18k/3.18k [00:00<00:00, 16.8kvars/s]\n",
      "  Encode: 100%|██████████| 2.52M/2.52M [00:00<00:00, 22.9MB/s]\n",
      "Finalise: 100%|██████████| 11.0/11.0 [00:00<00:00, 726array/s]\n"
     ]
    },
    {
     "name": "stdout",
     "output_type": "stream",
     "text": [
      "[OK] bio2zarr finished for ooa_300_1e+06_85\n",
      "tsinfer done\n",
      "Running tsdate\n"
     ]
    },
    {
     "name": "stderr",
     "output_type": "stream",
     "text": [
      "    Scan: 100%|██████████| 1.00/1.00 [00:00<00:00, 90.0files/s]\n",
      " Explode: 100%|██████████| 3.12k/3.12k [00:00<00:00, 16.7kvars/s]\n",
      "  Encode: 100%|██████████| 2.48M/2.48M [00:00<00:00, 26.9MB/s]\n",
      "Finalise: 100%|██████████| 11.0/11.0 [00:00<00:00, 909array/s]\n"
     ]
    },
    {
     "name": "stdout",
     "output_type": "stream",
     "text": [
      "[OK] bio2zarr finished for ooa_300_1e+06_86\n",
      "tsinfer done\n",
      "Running tsdate\n"
     ]
    },
    {
     "name": "stderr",
     "output_type": "stream",
     "text": [
      "    Scan: 100%|██████████| 1.00/1.00 [00:00<00:00, 65.8files/s]\n",
      " Explode: 100%|██████████| 3.19k/3.19k [00:00<00:00, 17.7kvars/s]\n",
      "  Encode: 100%|██████████| 2.53M/2.53M [00:00<00:00, 28.3MB/s]\n",
      "Finalise: 100%|██████████| 11.0/11.0 [00:00<00:00, 729array/s]\n"
     ]
    },
    {
     "name": "stdout",
     "output_type": "stream",
     "text": [
      "[OK] bio2zarr finished for ooa_300_1e+06_87\n",
      "tsinfer done\n",
      "Running tsdate\n"
     ]
    },
    {
     "name": "stderr",
     "output_type": "stream",
     "text": [
      "    Scan: 100%|██████████| 1.00/1.00 [00:00<00:00, 74.9files/s]\n",
      " Explode: 100%|██████████| 3.28k/3.28k [00:00<00:00, 17.7kvars/s]\n",
      "  Encode: 100%|██████████| 2.60M/2.60M [00:00<00:00, 27.9MB/s]\n",
      "Finalise: 100%|██████████| 11.0/11.0 [00:00<00:00, 849array/s]\n"
     ]
    },
    {
     "name": "stdout",
     "output_type": "stream",
     "text": [
      "[OK] bio2zarr finished for ooa_300_1e+06_88\n",
      "tsinfer done\n",
      "Running tsdate\n"
     ]
    },
    {
     "name": "stderr",
     "output_type": "stream",
     "text": [
      "    Scan: 100%|██████████| 1.00/1.00 [00:00<00:00, 72.4files/s]\n",
      " Explode: 100%|██████████| 3.21k/3.21k [00:00<00:00, 17.1kvars/s]\n",
      "  Encode: 100%|██████████| 2.54M/2.54M [00:00<00:00, 27.4MB/s]\n",
      "Finalise: 100%|██████████| 11.0/11.0 [00:00<00:00, 1.07karray/s]\n"
     ]
    },
    {
     "name": "stdout",
     "output_type": "stream",
     "text": [
      "[OK] bio2zarr finished for ooa_300_1e+06_89\n",
      "tsinfer done\n",
      "Running tsdate\n"
     ]
    },
    {
     "name": "stderr",
     "output_type": "stream",
     "text": [
      "    Scan: 100%|██████████| 1.00/1.00 [00:00<00:00, 65.9files/s]\n",
      " Explode: 100%|██████████| 3.35k/3.35k [00:00<00:00, 16.7kvars/s]\n",
      "  Encode: 100%|██████████| 2.66M/2.66M [00:00<00:00, 28.7MB/s]\n",
      "Finalise: 100%|██████████| 11.0/11.0 [00:00<00:00, 728array/s]\n"
     ]
    },
    {
     "name": "stdout",
     "output_type": "stream",
     "text": [
      "[OK] bio2zarr finished for ooa_300_1e+06_90\n",
      "tsinfer done\n",
      "Running tsdate\n"
     ]
    },
    {
     "name": "stderr",
     "output_type": "stream",
     "text": [
      "    Scan: 100%|██████████| 1.00/1.00 [00:00<00:00, 67.4files/s]\n",
      " Explode: 100%|██████████| 3.24k/3.24k [00:00<00:00, 17.6kvars/s]\n",
      "  Encode: 100%|██████████| 2.57M/2.57M [00:00<00:00, 27.4MB/s]\n",
      "Finalise: 100%|██████████| 11.0/11.0 [00:00<00:00, 803array/s]\n"
     ]
    },
    {
     "name": "stdout",
     "output_type": "stream",
     "text": [
      "[OK] bio2zarr finished for ooa_300_1e+06_91\n",
      "tsinfer done\n",
      "Running tsdate\n"
     ]
    },
    {
     "name": "stderr",
     "output_type": "stream",
     "text": [
      "    Scan: 100%|██████████| 1.00/1.00 [00:00<00:00, 65.4files/s]\n",
      " Explode: 100%|██████████| 3.10k/3.10k [00:00<00:00, 16.7kvars/s]\n",
      "  Encode: 100%|██████████| 2.46M/2.46M [00:00<00:00, 26.1MB/s]\n",
      "Finalise: 100%|██████████| 11.0/11.0 [00:00<00:00, 728array/s]\n"
     ]
    },
    {
     "name": "stdout",
     "output_type": "stream",
     "text": [
      "[OK] bio2zarr finished for ooa_300_1e+06_92\n",
      "tsinfer done\n",
      "Running tsdate\n"
     ]
    },
    {
     "name": "stderr",
     "output_type": "stream",
     "text": [
      "    Scan: 100%|██████████| 1.00/1.00 [00:00<00:00, 65.9files/s]\n",
      " Explode: 100%|██████████| 3.15k/3.15k [00:00<00:00, 17.7kvars/s]\n",
      "  Encode: 100%|██████████| 2.50M/2.50M [00:00<00:00, 28.8MB/s]\n",
      "Finalise: 100%|██████████| 11.0/11.0 [00:00<00:00, 727array/s]\n"
     ]
    },
    {
     "name": "stdout",
     "output_type": "stream",
     "text": [
      "[OK] bio2zarr finished for ooa_300_1e+06_93\n",
      "tsinfer done\n",
      "Running tsdate\n"
     ]
    },
    {
     "name": "stderr",
     "output_type": "stream",
     "text": [
      "    Scan: 100%|██████████| 1.00/1.00 [00:00<00:00, 78.7files/s]\n",
      " Explode: 100%|██████████| 3.37k/3.37k [00:00<00:00, 16.5kvars/s]\n",
      "  Encode: 100%|██████████| 2.68M/2.68M [00:00<00:00, 29.6MB/s]\n",
      "Finalise: 100%|██████████| 11.0/11.0 [00:00<00:00, 729array/s]\n"
     ]
    },
    {
     "name": "stdout",
     "output_type": "stream",
     "text": [
      "[OK] bio2zarr finished for ooa_300_1e+06_94\n",
      "tsinfer done\n",
      "Running tsdate\n"
     ]
    },
    {
     "name": "stderr",
     "output_type": "stream",
     "text": [
      "    Scan: 100%|██████████| 1.00/1.00 [00:00<00:00, 74.9files/s]\n",
      " Explode: 100%|██████████| 3.21k/3.21k [00:00<00:00, 17.5kvars/s]\n",
      "  Encode: 100%|██████████| 2.55M/2.55M [00:00<00:00, 28.1MB/s]\n",
      "Finalise: 100%|██████████| 11.0/11.0 [00:00<00:00, 746array/s]\n"
     ]
    },
    {
     "name": "stdout",
     "output_type": "stream",
     "text": [
      "[OK] bio2zarr finished for ooa_300_1e+06_95\n",
      "tsinfer done\n",
      "Running tsdate\n"
     ]
    },
    {
     "name": "stderr",
     "output_type": "stream",
     "text": [
      "    Scan: 100%|██████████| 1.00/1.00 [00:00<00:00, 81.2files/s]\n",
      " Explode: 100%|██████████| 3.32k/3.32k [00:00<00:00, 17.0kvars/s]\n",
      "  Encode: 100%|██████████| 2.64M/2.64M [00:00<00:00, 29.5MB/s]\n",
      "Finalise: 100%|██████████| 11.0/11.0 [00:00<00:00, 879array/s]\n"
     ]
    },
    {
     "name": "stdout",
     "output_type": "stream",
     "text": [
      "[OK] bio2zarr finished for ooa_300_1e+06_96\n",
      "tsinfer done\n",
      "Running tsdate\n"
     ]
    },
    {
     "name": "stderr",
     "output_type": "stream",
     "text": [
      "    Scan: 100%|██████████| 1.00/1.00 [00:00<00:00, 87.2files/s]\n",
      " Explode: 100%|██████████| 3.11k/3.11k [00:00<00:00, 17.4kvars/s]\n",
      "  Encode: 100%|██████████| 2.47M/2.47M [00:00<00:00, 23.1MB/s]\n",
      "Finalise: 100%|██████████| 11.0/11.0 [00:00<00:00, 727array/s]\n"
     ]
    },
    {
     "name": "stdout",
     "output_type": "stream",
     "text": [
      "[OK] bio2zarr finished for ooa_300_1e+06_97\n",
      "tsinfer done\n",
      "Running tsdate\n"
     ]
    },
    {
     "name": "stderr",
     "output_type": "stream",
     "text": [
      "    Scan: 100%|██████████| 1.00/1.00 [00:00<00:00, 79.0files/s]\n",
      " Explode: 100%|██████████| 3.17k/3.17k [00:00<00:00, 17.8kvars/s]\n",
      "  Encode: 100%|██████████| 2.52M/2.52M [00:00<00:00, 27.3MB/s]\n",
      "Finalise: 100%|██████████| 11.0/11.0 [00:00<00:00, 927array/s]\n"
     ]
    },
    {
     "name": "stdout",
     "output_type": "stream",
     "text": [
      "[OK] bio2zarr finished for ooa_300_1e+06_98\n",
      "tsinfer done\n",
      "Running tsdate\n"
     ]
    },
    {
     "name": "stderr",
     "output_type": "stream",
     "text": [
      "    Scan: 100%|██████████| 1.00/1.00 [00:00<00:00, 90.4files/s]\n",
      " Explode: 100%|██████████| 3.23k/3.23k [00:00<00:00, 17.5kvars/s]\n",
      "  Encode: 100%|██████████| 2.56M/2.56M [00:00<00:00, 28.1MB/s]\n",
      "Finalise: 100%|██████████| 11.0/11.0 [00:00<00:00, 1.01karray/s]\n"
     ]
    },
    {
     "name": "stdout",
     "output_type": "stream",
     "text": [
      "[OK] bio2zarr finished for ooa_300_1e+06_99\n",
      "tsinfer done\n",
      "Running tsdate\n"
     ]
    }
   ],
   "source": [
    "simulate_dump(\"ooa\",50,100,tree_dir=\"/Users/jinminli/research/tree_distance/simulations/tree/\",vcz_dir=\"/Users/jinminli/research/tree_distance/simulations/vcf/\")"
   ]
  },
  {
   "cell_type": "code",
   "execution_count": 4,
   "id": "c7ca77e6",
   "metadata": {},
   "outputs": [],
   "source": [
    "ts1=msprime.sim_ancestry(samples=50,population_size=1e4,sequence_length=1e6,recombination_rate=1e-8)\n",
    "ts1=msprime.sim_mutations(ts1,rate=1.25e-8)"
   ]
  },
  {
   "cell_type": "code",
   "execution_count": 5,
   "id": "67d455c1",
   "metadata": {},
   "outputs": [
    {
     "name": "stderr",
     "output_type": "stream",
     "text": [
      "    Scan: 100%|██████████| 1.00/1.00 [00:00<00:00, 87.8files/s]\n",
      " Explode: 100%|██████████| 2.59k/2.59k [00:00<00:00, 17.1kvars/s]\n",
      "  Encode: 100%|██████████| 762k/762k [00:00<00:00, 11.3MB/s]\n",
      "Finalise: 100%|██████████| 11.0/11.0 [00:00<00:00, 861array/s]\n"
     ]
    },
    {
     "name": "stdout",
     "output_type": "stream",
     "text": [
      "[OK] bio2zarr finished for sample100_Ne1e4\n",
      "tsinfer done\n"
     ]
    }
   ],
   "source": [
    "dir=\"./simulations/sim1/\"\n",
    "name=\"sample100_Ne1e4\"\n",
    "dump_ts(ts1,save_dir=dir,name=name)\n",
    "infer_ts(full_name=dir+name)"
   ]
  },
  {
   "cell_type": "code",
   "execution_count": 6,
   "id": "aaaa7a8f",
   "metadata": {},
   "outputs": [
    {
     "name": "stderr",
     "output_type": "stream",
     "text": [
      "    Scan: 100%|██████████| 1.00/1.00 [00:00<00:00, 84.4files/s]\n",
      " Explode: 100%|██████████| 4.12k/4.12k [00:00<00:00, 17.7kvars/s]\n",
      "  Encode: 100%|██████████| 3.27M/3.27M [00:00<00:00, 25.8MB/s]\n",
      "Finalise: 100%|██████████| 11.0/11.0 [00:00<00:00, 1.05karray/s]\n"
     ]
    },
    {
     "name": "stdout",
     "output_type": "stream",
     "text": [
      "[OK] bio2zarr finished for ooa_300_1e6\n",
      "tsinfer done\n"
     ]
    }
   ],
   "source": [
    "ooa_ts=simple_OOA_sim(50,1e6)\n",
    "dir=\"./simulations/ooa_300_1e6/\"\n",
    "name=\"ooa_300_1e6\"\n",
    "dump_ts(ooa_ts,save_dir=dir,name=name)\n",
    "infer_ts(full_name=dir+name)"
   ]
  },
  {
   "cell_type": "code",
   "execution_count": 7,
   "id": "3cb31415",
   "metadata": {},
   "outputs": [
    {
     "name": "stderr",
     "output_type": "stream",
     "text": [
      "    Scan: 100%|██████████| 1.00/1.00 [00:00<00:00, 78.9files/s]\n",
      " Explode: 100%|██████████| 8.87k/8.87k [00:01<00:00, 7.02kvars/s]\n",
      "  Encode: 100%|██████████| 66.9M/66.9M [00:00<00:00, 154MB/s] \n",
      "Finalise: 100%|██████████| 11.0/11.0 [00:00<00:00, 872array/s]\n"
     ]
    },
    {
     "name": "stdout",
     "output_type": "stream",
     "text": [
      "[OK] bio2zarr finished for ooa_3000_1e6\n",
      "tsinfer done\n"
     ]
    }
   ],
   "source": [
    "ooa_ts=simple_OOA_sim(500,1e6)\n",
    "dir=\"./simulations/ooa_3000_1e6/\"\n",
    "name=\"ooa_3000_1e6\"\n",
    "dump_ts(ooa_ts,save_dir=dir,name=name)\n",
    "infer_ts(full_name=dir+name)"
   ]
  },
  {
   "cell_type": "code",
   "execution_count": 8,
   "id": "7c5ea483",
   "metadata": {},
   "outputs": [
    {
     "name": "stderr",
     "output_type": "stream",
     "text": [
      "    Scan: 100%|██████████| 1.00/1.00 [00:00<00:00, 98.1files/s]\n",
      " Explode: 100%|██████████| 4.95k/4.95k [00:00<00:00, 21.7kvars/s]\n",
      "  Encode: 100%|██████████| 1.45M/1.45M [00:00<00:00, 11.2MB/s]\n",
      "Finalise: 100%|██████████| 11.0/11.0 [00:00<00:00, 873array/s]\n"
     ]
    },
    {
     "name": "stdout",
     "output_type": "stream",
     "text": [
      "[OK] bio2zarr finished for Ne2e4_100_1e6\n",
      "tsinfer done\n"
     ]
    }
   ],
   "source": [
    "ts1=msprime.sim_ancestry(samples=50,population_size=2e4,sequence_length=1e6,recombination_rate=1e-8)\n",
    "ts1=msprime.sim_mutations(ts1,rate=1.25e-8)\n",
    "dir=\"./simulations/Ne2e4_100_1e6/\"\n",
    "name=\"Ne2e4_100_1e6\"\n",
    "dump_ts(ts1,save_dir=dir,name=name)\n",
    "infer_ts(full_name=dir+name)"
   ]
  },
  {
   "cell_type": "code",
   "execution_count": 9,
   "id": "02ca5aba",
   "metadata": {},
   "outputs": [
    {
     "name": "stderr",
     "output_type": "stream",
     "text": [
      "    Scan: 100%|██████████| 1.00/1.00 [00:00<00:00, 88.9files/s]\n",
      " Explode: 100%|██████████| 7.73k/7.73k [00:00<00:00, 10.5kvars/s]\n",
      "  Encode: 100%|██████████| 19.7M/19.7M [00:00<00:00, 82.0MB/s]\n",
      "Finalise: 100%|██████████| 11.0/11.0 [00:00<00:00, 873array/s]\n"
     ]
    },
    {
     "name": "stdout",
     "output_type": "stream",
     "text": [
      "[OK] bio2zarr finished for Ne2e4_1000_1e6\n",
      "tsinfer done\n"
     ]
    }
   ],
   "source": [
    "ts1=msprime.sim_ancestry(samples=500,population_size=2e4,sequence_length=1e6,recombination_rate=1e-8)\n",
    "ts1=msprime.sim_mutations(ts1,rate=1.25e-8)\n",
    "dir=\"./simulations/Ne2e4_1000_1e6/\"\n",
    "name=\"Ne2e4_1000_1e6\"\n",
    "dump_ts(ts1,save_dir=dir,name=name)\n",
    "infer_ts(full_name=dir+name)"
   ]
  },
  {
   "cell_type": "code",
   "execution_count": 10,
   "id": "c09a51b2",
   "metadata": {},
   "outputs": [
    {
     "name": "stderr",
     "output_type": "stream",
     "text": [
      "    Scan: 100%|██████████| 1.00/1.00 [00:00<00:00, 78.6files/s]\n",
      " Explode: 100%|██████████| 8.41k/8.41k [00:01<00:00, 5.37kvars/s]\n",
      "  Encode: 100%|██████████| 63.5M/63.5M [00:00<00:00, 155MB/s] \n",
      "Finalise: 100%|██████████| 11.0/11.0 [00:00<00:00, 868array/s]\n"
     ]
    },
    {
     "name": "stdout",
     "output_type": "stream",
     "text": [
      "[OK] bio2zarr finished for Ne2e4_3000_1e6\n",
      "tsinfer done\n"
     ]
    }
   ],
   "source": [
    "ts1=msprime.sim_ancestry(samples=1500,population_size=2e4,sequence_length=1e6,recombination_rate=1e-8)\n",
    "ts1=msprime.sim_mutations(ts1,rate=1.25e-8)\n",
    "dir=\"./simulations/Ne2e4_3000_1e6/\"\n",
    "name=\"Ne2e4_3000_1e6\"\n",
    "dump_ts(ts1,save_dir=dir,name=name)\n",
    "infer_ts(full_name=dir+name)"
   ]
  }
 ],
 "metadata": {
  "kernelspec": {
   "display_name": "myenv",
   "language": "python",
   "name": "python3"
  },
  "language_info": {
   "codemirror_mode": {
    "name": "ipython",
    "version": 3
   },
   "file_extension": ".py",
   "mimetype": "text/x-python",
   "name": "python",
   "nbconvert_exporter": "python",
   "pygments_lexer": "ipython3",
   "version": "3.13.1"
  }
 },
 "nbformat": 4,
 "nbformat_minor": 5
}
