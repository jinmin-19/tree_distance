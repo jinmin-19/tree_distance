{
 "cells": [
  {
   "cell_type": "code",
   "execution_count": 1,
   "id": "1ba8baf4",
   "metadata": {},
   "outputs": [],
   "source": [
    "#pip install -r requirements.txt"
   ]
  },
  {
   "cell_type": "code",
   "execution_count": null,
   "id": "731cf96c",
   "metadata": {},
   "outputs": [],
   "source": [
    "#recombination_rate=1e-8\n",
    "#mutation_rate=1.25e-8"
   ]
  },
  {
   "cell_type": "code",
   "execution_count": 1,
   "id": "da5cbd5d",
   "metadata": {},
   "outputs": [
    {
     "name": "stderr",
     "output_type": "stream",
     "text": [
      "/Users/jinminli/research/tree_distance/myenv/lib/python3.13/site-packages/tqdm/auto.py:21: TqdmWarning: IProgress not found. Please update jupyter and ipywidgets. See https://ipywidgets.readthedocs.io/en/stable/user_install.html\n",
      "  from .autonotebook import tqdm as notebook_tqdm\n"
     ]
    }
   ],
   "source": [
    "import stdpopsim\n",
    "import os\n",
    "import tskit\n",
    "import msprime\n",
    "import numpy as np\n",
    "import tsinfer\n",
    "import zarr\n",
    "import demesdraw\n",
    "import subprocess\n",
    "import pyfaidx\n",
    "import tsdate\n",
    "import matplotlib.pyplot as plt\n",
    "from IPython.display import display, SVG\n",
    "from Bio import bgzf\n",
    "#display(SVG(ts.draw_svg()))\n",
    "from OOA_sim import simple_OOA_sim"
   ]
  },
  {
   "cell_type": "code",
   "execution_count": 10,
   "id": "d2e1b574",
   "metadata": {},
   "outputs": [],
   "source": [
    "def dump_ts(ts,save_dir=\"./simulations/sim1/\",vcz_dir=\"./simulations/sim1/\",name=\"test\",contig_id=0):\n",
    "    os.makedirs(save_dir, exist_ok=True)\n",
    "    ts.dump(save_dir+name+\".trees\")\n",
    "    np.save(f\"{vcz_dir+name}-AA.npy\", [s.ancestral_state for s in ts.sites()])\n",
    "    vcf_name = f\"{vcz_dir+name}.vcf.gz\"\n",
    "    with bgzf.open(vcf_name, \"wt\") as f:\n",
    "        ts.write_vcf(f,contig_id=contig_id)\n",
    "    subprocess.run([\"tabix\", vcf_name])\n",
    "    ret = subprocess.run(\n",
    "        [\"python\", \"-m\", \"bio2zarr\", \"vcf2zarr\", \"convert\", \"--force\", vcf_name, f\"{vcz_dir+name}.vcz\"],\n",
    "        stderr = None,\n",
    "    )\n",
    "    if ret.returncode != 0: \n",
    "        print(f\"[ERROR] bio2zarr failed for {name} with code {ret.returncode}\") \n",
    "    else: \n",
    "        print(f\"[OK] bio2zarr finished for {name}\")\n",
    "def infer_ts(vcz_full_name,tree_full_name):\n",
    "    #load zarr file, ancestral states and infer\n",
    "    ancestral_states = np.load(f\"{vcz_full_name}-AA.npy\")\n",
    "    vdata = tsinfer.VariantData(f\"{vcz_full_name}.vcz\", ancestral_states)\n",
    "    inferred_ts=tsinfer.infer(vdata,recombination_rate=1e-8)\n",
    "    inferred_ts.dump(f\"{tree_full_name}-inferred.trees\")\n",
    "    print(\"tsinfer done\")"
   ]
  },
  {
   "cell_type": "code",
   "execution_count": null,
   "id": "1a426f34",
   "metadata": {},
   "outputs": [],
   "source": [
    "def simulate_dump(model,number_individuals,num_replicates,tree_dir,vcz_dir,sequence_length=1e6):\n",
    "    if isinstance(model, float):\n",
    "        name = f\"Ne{model:.0e}_{2*number_individuals}_{sequence_length:.0e}\"\n",
    "        \n",
    "        tree_base_path = os.path.join(tree_dir, name)\n",
    "        vcz_base_path=os.path.join(vcz_dir, name)\n",
    "        os.makedirs(tree_base_path, exist_ok=True)\n",
    "        os.makedirs(vcz_base_path, exist_ok=True)\n",
    "        for i in range(num_replicates):\n",
    "            tree_replicate_dir = os.path.join(tree_base_path, str(i))+\"/\"\n",
    "            vcz_replicate_dir = os.path.join(vcz_base_path, str(i))+\"/\"\n",
    "            os.makedirs(tree_replicate_dir, exist_ok=True)\n",
    "            os.makedirs(vcz_replicate_dir, exist_ok=True)\n",
    "            ts=msprime.sim_ancestry(samples=number_individuals,population_size=model,sequence_length=sequence_length,recombination_rate=1e-8)\n",
    "            ts=msprime.sim_mutations(ts,rate=1e-8)\n",
    "            dump_ts(ts,save_dir=tree_replicate_dir,vcz_dir=vcz_replicate_dir,name=name+\"_\"+str(i))\n",
    "            infer_ts(vcz_full_name=vcz_replicate_dir+name+\"_\"+str(i),tree_full_name=tree_replicate_dir+name+\"_\"+str(i))\n",
    "    else:\n",
    "        assert(isinstance(model, str))\n",
    "        assert(model==\"ooa\")\n",
    "        name=f\"ooa_{6*number_individuals}_{sequence_length:.0e}\"\n",
    "    \n",
    "        tree_base_path = os.path.join(tree_dir, name)\n",
    "        vcz_base_path=os.path.join(vcz_dir, name)\n",
    "        os.makedirs(tree_base_path, exist_ok=True)\n",
    "        os.makedirs(vcz_base_path, exist_ok=True)\n",
    "        for i in range(num_replicates):\n",
    "            tree_replicate_dir = os.path.join(tree_base_path, str(i))+\"/\"\n",
    "            vcz_replicate_dir = os.path.join(vcz_base_path, str(i))+\"/\"\n",
    "            os.makedirs(tree_replicate_dir, exist_ok=True)\n",
    "            os.makedirs(vcz_replicate_dir, exist_ok=True)\n",
    "            ts=simple_OOA_sim(number_individuals,sequence_length)\n",
    "            dump_ts(ts,save_dir=tree_replicate_dir,vcz_dir=vcz_replicate_dir,name=name+\"_\"+str(i))\n",
    "            infer_ts(vcz_full_name=vcz_replicate_dir+name+\"_\"+str(i),tree_full_name=tree_replicate_dir+name+\"_\"+str(i))"
   ]
  },
  {
   "cell_type": "code",
   "execution_count": 15,
   "id": "4aebefa8",
   "metadata": {},
   "outputs": [
    {
     "name": "stderr",
     "output_type": "stream",
     "text": [
      "    Scan: 100%|██████████| 1.00/1.00 [00:00<00:00, 24.6files/s]\n",
      " Explode: 100%|██████████| 4.21k/4.21k [00:00<00:00, 21.1kvars/s]\n",
      "  Encode: 100%|██████████| 1.24M/1.24M [00:00<00:00, 11.4MB/s]\n",
      "Finalise: 100%|██████████| 11.0/11.0 [00:00<00:00, 1.08karray/s]\n"
     ]
    },
    {
     "name": "stdout",
     "output_type": "stream",
     "text": [
      "[OK] bio2zarr finished for Ne2e+04_100_1e+06_0\n",
      "tsinfer done\n"
     ]
    },
    {
     "name": "stderr",
     "output_type": "stream",
     "text": [
      "    Scan: 100%|██████████| 1.00/1.00 [00:00<00:00, 78.7files/s]\n",
      " Explode: 100%|██████████| 3.94k/3.94k [00:00<00:00, 21.5kvars/s]\n",
      "  Encode: 100%|██████████| 1.16M/1.16M [00:00<00:00, 12.6MB/s]\n",
      "Finalise: 100%|██████████| 11.0/11.0 [00:00<00:00, 873array/s]\n"
     ]
    },
    {
     "name": "stdout",
     "output_type": "stream",
     "text": [
      "[OK] bio2zarr finished for Ne2e+04_100_1e+06_1\n",
      "tsinfer done\n"
     ]
    },
    {
     "name": "stderr",
     "output_type": "stream",
     "text": [
      "    Scan: 100%|██████████| 1.00/1.00 [00:00<00:00, 78.5files/s]\n",
      " Explode: 100%|██████████| 4.05k/4.05k [00:00<00:00, 21.4kvars/s]\n",
      "  Encode: 100%|██████████| 1.19M/1.19M [00:00<00:00, 12.0MB/s]\n",
      "Finalise: 100%|██████████| 11.0/11.0 [00:00<00:00, 869array/s]\n"
     ]
    },
    {
     "name": "stdout",
     "output_type": "stream",
     "text": [
      "[OK] bio2zarr finished for Ne2e+04_100_1e+06_2\n",
      "tsinfer done\n"
     ]
    },
    {
     "name": "stderr",
     "output_type": "stream",
     "text": [
      "    Scan: 100%|██████████| 1.00/1.00 [00:00<00:00, 79.3files/s]\n",
      " Explode: 100%|██████████| 4.37k/4.37k [00:00<00:00, 23.2kvars/s]\n",
      "  Encode: 100%|██████████| 1.29M/1.29M [00:00<00:00, 11.8MB/s]\n",
      "Finalise: 100%|██████████| 11.0/11.0 [00:00<00:00, 872array/s]\n"
     ]
    },
    {
     "name": "stdout",
     "output_type": "stream",
     "text": [
      "[OK] bio2zarr finished for Ne2e+04_100_1e+06_3\n",
      "tsinfer done\n"
     ]
    },
    {
     "name": "stderr",
     "output_type": "stream",
     "text": [
      "    Scan: 100%|██████████| 1.00/1.00 [00:00<00:00, 89.8files/s]\n",
      " Explode: 100%|██████████| 4.06k/4.06k [00:00<00:00, 20.7kvars/s]\n",
      "  Encode: 100%|██████████| 1.19M/1.19M [00:00<00:00, 12.8MB/s]\n",
      "Finalise: 100%|██████████| 11.0/11.0 [00:00<00:00, 872array/s]\n"
     ]
    },
    {
     "name": "stdout",
     "output_type": "stream",
     "text": [
      "[OK] bio2zarr finished for Ne2e+04_100_1e+06_4\n",
      "tsinfer done\n"
     ]
    },
    {
     "name": "stderr",
     "output_type": "stream",
     "text": [
      "    Scan: 100%|██████████| 1.00/1.00 [00:00<00:00, 87.4files/s]\n",
      " Explode: 100%|██████████| 4.30k/4.30k [00:00<00:00, 24.2kvars/s]\n",
      "  Encode: 100%|██████████| 1.27M/1.27M [00:00<00:00, 11.8MB/s]\n",
      "Finalise: 100%|██████████| 11.0/11.0 [00:00<00:00, 869array/s]\n"
     ]
    },
    {
     "name": "stdout",
     "output_type": "stream",
     "text": [
      "[OK] bio2zarr finished for Ne2e+04_100_1e+06_5\n",
      "tsinfer done\n"
     ]
    },
    {
     "name": "stderr",
     "output_type": "stream",
     "text": [
      "    Scan: 100%|██████████| 1.00/1.00 [00:00<00:00, 78.9files/s]\n",
      " Explode: 100%|██████████| 4.23k/4.23k [00:00<00:00, 24.3kvars/s]\n",
      "  Encode: 100%|██████████| 1.24M/1.24M [00:00<00:00, 11.5MB/s]\n",
      "Finalise: 100%|██████████| 11.0/11.0 [00:00<00:00, 872array/s]\n"
     ]
    },
    {
     "name": "stdout",
     "output_type": "stream",
     "text": [
      "[OK] bio2zarr finished for Ne2e+04_100_1e+06_6\n",
      "tsinfer done\n"
     ]
    },
    {
     "name": "stderr",
     "output_type": "stream",
     "text": [
      "    Scan: 100%|██████████| 1.00/1.00 [00:00<00:00, 78.9files/s]\n",
      " Explode: 100%|██████████| 4.08k/4.08k [00:00<00:00, 20.8kvars/s]\n",
      "  Encode: 100%|██████████| 1.20M/1.20M [00:00<00:00, 12.4MB/s]\n",
      "Finalise: 100%|██████████| 11.0/11.0 [00:00<00:00, 907array/s]\n"
     ]
    },
    {
     "name": "stdout",
     "output_type": "stream",
     "text": [
      "[OK] bio2zarr finished for Ne2e+04_100_1e+06_7\n",
      "tsinfer done\n"
     ]
    },
    {
     "name": "stderr",
     "output_type": "stream",
     "text": [
      "    Scan: 100%|██████████| 1.00/1.00 [00:00<00:00, 78.8files/s]\n",
      " Explode: 100%|██████████| 4.10k/4.10k [00:00<00:00, 20.5kvars/s]\n",
      "  Encode: 100%|██████████| 1.20M/1.20M [00:00<00:00, 12.9MB/s]\n",
      "Finalise: 100%|██████████| 11.0/11.0 [00:00<00:00, 873array/s]\n"
     ]
    },
    {
     "name": "stdout",
     "output_type": "stream",
     "text": [
      "[OK] bio2zarr finished for Ne2e+04_100_1e+06_8\n",
      "tsinfer done\n"
     ]
    },
    {
     "name": "stderr",
     "output_type": "stream",
     "text": [
      "    Scan: 100%|██████████| 1.00/1.00 [00:00<00:00, 89.2files/s]\n",
      " Explode: 100%|██████████| 4.24k/4.24k [00:00<00:00, 23.1kvars/s]\n",
      "  Encode: 100%|██████████| 1.25M/1.25M [00:00<00:00, 10.4MB/s]\n",
      "Finalise: 100%|██████████| 11.0/11.0 [00:00<00:00, 873array/s]\n"
     ]
    },
    {
     "name": "stdout",
     "output_type": "stream",
     "text": [
      "[OK] bio2zarr finished for Ne2e+04_100_1e+06_9\n",
      "tsinfer done\n"
     ]
    },
    {
     "name": "stderr",
     "output_type": "stream",
     "text": [
      "    Scan: 100%|██████████| 1.00/1.00 [00:00<00:00, 84.1files/s]\n",
      " Explode: 100%|██████████| 4.15k/4.15k [00:00<00:00, 20.2kvars/s]\n",
      "  Encode: 100%|██████████| 1.22M/1.22M [00:00<00:00, 12.0MB/s]\n",
      "Finalise: 100%|██████████| 11.0/11.0 [00:00<00:00, 1.03karray/s]\n"
     ]
    },
    {
     "name": "stdout",
     "output_type": "stream",
     "text": [
      "[OK] bio2zarr finished for Ne2e+04_100_1e+06_10\n",
      "tsinfer done\n"
     ]
    },
    {
     "name": "stderr",
     "output_type": "stream",
     "text": [
      "    Scan: 100%|██████████| 1.00/1.00 [00:00<00:00, 78.8files/s]\n",
      " Explode: 100%|██████████| 4.01k/4.01k [00:00<00:00, 20.7kvars/s]\n",
      "  Encode: 100%|██████████| 1.18M/1.18M [00:00<00:00, 12.7MB/s]\n",
      "Finalise: 100%|██████████| 11.0/11.0 [00:00<00:00, 870array/s]\n"
     ]
    },
    {
     "name": "stdout",
     "output_type": "stream",
     "text": [
      "[OK] bio2zarr finished for Ne2e+04_100_1e+06_11\n",
      "tsinfer done\n"
     ]
    },
    {
     "name": "stderr",
     "output_type": "stream",
     "text": [
      "    Scan: 100%|██████████| 1.00/1.00 [00:00<00:00, 78.4files/s]\n",
      " Explode: 100%|██████████| 4.15k/4.15k [00:00<00:00, 19.3kvars/s]\n",
      "  Encode: 100%|██████████| 1.22M/1.22M [00:00<00:00, 12.7MB/s]\n",
      "Finalise: 100%|██████████| 11.0/11.0 [00:00<00:00, 1.01karray/s]\n"
     ]
    },
    {
     "name": "stdout",
     "output_type": "stream",
     "text": [
      "[OK] bio2zarr finished for Ne2e+04_100_1e+06_12\n",
      "tsinfer done\n"
     ]
    },
    {
     "name": "stderr",
     "output_type": "stream",
     "text": [
      "    Scan: 100%|██████████| 1.00/1.00 [00:00<00:00, 78.9files/s]\n",
      " Explode: 100%|██████████| 4.26k/4.26k [00:00<00:00, 23.4kvars/s]\n",
      "  Encode: 100%|██████████| 1.25M/1.25M [00:00<00:00, 12.4MB/s]\n",
      "Finalise: 100%|██████████| 11.0/11.0 [00:00<00:00, 871array/s]\n"
     ]
    },
    {
     "name": "stdout",
     "output_type": "stream",
     "text": [
      "[OK] bio2zarr finished for Ne2e+04_100_1e+06_13\n",
      "tsinfer done\n"
     ]
    },
    {
     "name": "stderr",
     "output_type": "stream",
     "text": [
      "    Scan: 100%|██████████| 1.00/1.00 [00:00<00:00, 90.4files/s]\n",
      " Explode: 100%|██████████| 4.29k/4.29k [00:00<00:00, 22.1kvars/s]\n",
      "  Encode: 100%|██████████| 1.26M/1.26M [00:00<00:00, 12.3MB/s]\n",
      "Finalise: 100%|██████████| 11.0/11.0 [00:00<00:00, 912array/s]\n"
     ]
    },
    {
     "name": "stdout",
     "output_type": "stream",
     "text": [
      "[OK] bio2zarr finished for Ne2e+04_100_1e+06_14\n",
      "tsinfer done\n"
     ]
    },
    {
     "name": "stderr",
     "output_type": "stream",
     "text": [
      "    Scan: 100%|██████████| 1.00/1.00 [00:00<00:00, 78.7files/s]\n",
      " Explode: 100%|██████████| 4.18k/4.18k [00:00<00:00, 20.3kvars/s]\n",
      "  Encode: 100%|██████████| 1.23M/1.23M [00:00<00:00, 11.8MB/s]\n",
      "Finalise: 100%|██████████| 11.0/11.0 [00:00<00:00, 932array/s]\n"
     ]
    },
    {
     "name": "stdout",
     "output_type": "stream",
     "text": [
      "[OK] bio2zarr finished for Ne2e+04_100_1e+06_15\n",
      "tsinfer done\n"
     ]
    },
    {
     "name": "stderr",
     "output_type": "stream",
     "text": [
      "    Scan: 100%|██████████| 1.00/1.00 [00:00<00:00, 79.8files/s]\n",
      " Explode: 100%|██████████| 4.11k/4.11k [00:00<00:00, 20.9kvars/s]\n",
      "  Encode: 100%|██████████| 1.21M/1.21M [00:00<00:00, 12.3MB/s]\n",
      "Finalise: 100%|██████████| 11.0/11.0 [00:00<00:00, 871array/s]\n"
     ]
    },
    {
     "name": "stdout",
     "output_type": "stream",
     "text": [
      "[OK] bio2zarr finished for Ne2e+04_100_1e+06_16\n",
      "tsinfer done\n"
     ]
    },
    {
     "name": "stderr",
     "output_type": "stream",
     "text": [
      "    Scan: 100%|██████████| 1.00/1.00 [00:00<00:00, 78.9files/s]\n",
      " Explode: 100%|██████████| 4.03k/4.03k [00:00<00:00, 20.2kvars/s]\n",
      "  Encode: 100%|██████████| 1.18M/1.18M [00:00<00:00, 12.1MB/s]\n",
      "Finalise: 100%|██████████| 11.0/11.0 [00:00<00:00, 1.06karray/s]\n"
     ]
    },
    {
     "name": "stdout",
     "output_type": "stream",
     "text": [
      "[OK] bio2zarr finished for Ne2e+04_100_1e+06_17\n",
      "tsinfer done\n"
     ]
    },
    {
     "name": "stderr",
     "output_type": "stream",
     "text": [
      "    Scan: 100%|██████████| 1.00/1.00 [00:00<00:00, 79.0files/s]\n",
      " Explode: 100%|██████████| 4.28k/4.28k [00:00<00:00, 22.8kvars/s]\n",
      "  Encode: 100%|██████████| 1.26M/1.26M [00:00<00:00, 12.5MB/s]\n",
      "Finalise: 100%|██████████| 11.0/11.0 [00:00<00:00, 873array/s]\n"
     ]
    },
    {
     "name": "stdout",
     "output_type": "stream",
     "text": [
      "[OK] bio2zarr finished for Ne2e+04_100_1e+06_18\n",
      "tsinfer done\n"
     ]
    },
    {
     "name": "stderr",
     "output_type": "stream",
     "text": [
      "    Scan: 100%|██████████| 1.00/1.00 [00:00<00:00, 80.2files/s]\n",
      " Explode: 100%|██████████| 4.26k/4.26k [00:00<00:00, 23.0kvars/s]\n",
      "  Encode: 100%|██████████| 1.25M/1.25M [00:00<00:00, 9.72MB/s]\n",
      "Finalise: 100%|██████████| 11.0/11.0 [00:00<00:00, 916array/s]\n"
     ]
    },
    {
     "name": "stdout",
     "output_type": "stream",
     "text": [
      "[OK] bio2zarr finished for Ne2e+04_100_1e+06_19\n",
      "tsinfer done\n"
     ]
    },
    {
     "name": "stderr",
     "output_type": "stream",
     "text": [
      "    Scan: 100%|██████████| 1.00/1.00 [00:00<00:00, 96.6files/s]\n",
      " Explode: 100%|██████████| 4.30k/4.30k [00:00<00:00, 23.0kvars/s]\n",
      "  Encode: 100%|██████████| 1.26M/1.26M [00:00<00:00, 12.2MB/s]\n",
      "Finalise: 100%|██████████| 11.0/11.0 [00:00<00:00, 872array/s]\n"
     ]
    },
    {
     "name": "stdout",
     "output_type": "stream",
     "text": [
      "[OK] bio2zarr finished for Ne2e+04_100_1e+06_20\n",
      "tsinfer done\n"
     ]
    },
    {
     "name": "stderr",
     "output_type": "stream",
     "text": [
      "    Scan: 100%|██████████| 1.00/1.00 [00:00<00:00, 79.0files/s]\n",
      " Explode: 100%|██████████| 4.14k/4.14k [00:00<00:00, 20.1kvars/s]\n",
      "  Encode: 100%|██████████| 1.22M/1.22M [00:00<00:00, 11.9MB/s]\n",
      "Finalise: 100%|██████████| 11.0/11.0 [00:00<00:00, 873array/s]\n"
     ]
    },
    {
     "name": "stdout",
     "output_type": "stream",
     "text": [
      "[OK] bio2zarr finished for Ne2e+04_100_1e+06_21\n",
      "tsinfer done\n"
     ]
    },
    {
     "name": "stderr",
     "output_type": "stream",
     "text": [
      "    Scan: 100%|██████████| 1.00/1.00 [00:00<00:00, 88.0files/s]\n",
      " Explode: 100%|██████████| 4.10k/4.10k [00:00<00:00, 20.8kvars/s]\n",
      "  Encode: 100%|██████████| 1.21M/1.21M [00:00<00:00, 12.1MB/s]\n",
      "Finalise: 100%|██████████| 11.0/11.0 [00:00<00:00, 873array/s]\n"
     ]
    },
    {
     "name": "stdout",
     "output_type": "stream",
     "text": [
      "[OK] bio2zarr finished for Ne2e+04_100_1e+06_22\n",
      "tsinfer done\n"
     ]
    },
    {
     "name": "stderr",
     "output_type": "stream",
     "text": [
      "    Scan: 100%|██████████| 1.00/1.00 [00:00<00:00, 78.9files/s]\n",
      " Explode: 100%|██████████| 4.29k/4.29k [00:00<00:00, 22.3kvars/s]\n",
      "  Encode: 100%|██████████| 1.26M/1.26M [00:00<00:00, 11.7MB/s]\n",
      "Finalise: 100%|██████████| 11.0/11.0 [00:00<00:00, 869array/s]\n"
     ]
    },
    {
     "name": "stdout",
     "output_type": "stream",
     "text": [
      "[OK] bio2zarr finished for Ne2e+04_100_1e+06_23\n",
      "tsinfer done\n"
     ]
    },
    {
     "name": "stderr",
     "output_type": "stream",
     "text": [
      "    Scan: 100%|██████████| 1.00/1.00 [00:00<00:00, 93.9files/s]\n",
      " Explode: 100%|██████████| 4.08k/4.08k [00:00<00:00, 20.4kvars/s]\n",
      "  Encode: 100%|██████████| 1.20M/1.20M [00:00<00:00, 11.8MB/s]\n",
      "Finalise: 100%|██████████| 11.0/11.0 [00:00<00:00, 1.08karray/s]\n"
     ]
    },
    {
     "name": "stdout",
     "output_type": "stream",
     "text": [
      "[OK] bio2zarr finished for Ne2e+04_100_1e+06_24\n",
      "tsinfer done\n"
     ]
    },
    {
     "name": "stderr",
     "output_type": "stream",
     "text": [
      "    Scan: 100%|██████████| 1.00/1.00 [00:00<00:00, 79.0files/s]\n",
      " Explode: 100%|██████████| 4.01k/4.01k [00:00<00:00, 19.9kvars/s]\n",
      "  Encode: 100%|██████████| 1.18M/1.18M [00:00<00:00, 12.2MB/s]\n",
      "Finalise: 100%|██████████| 11.0/11.0 [00:00<00:00, 864array/s]\n"
     ]
    },
    {
     "name": "stdout",
     "output_type": "stream",
     "text": [
      "[OK] bio2zarr finished for Ne2e+04_100_1e+06_25\n",
      "tsinfer done\n"
     ]
    },
    {
     "name": "stderr",
     "output_type": "stream",
     "text": [
      "    Scan: 100%|██████████| 1.00/1.00 [00:00<00:00, 83.0files/s]\n",
      " Explode: 100%|██████████| 4.22k/4.22k [00:00<00:00, 18.5kvars/s]\n",
      "  Encode: 100%|██████████| 1.24M/1.24M [00:00<00:00, 10.3MB/s]\n",
      "Finalise: 100%|██████████| 11.0/11.0 [00:00<00:00, 970array/s]\n"
     ]
    },
    {
     "name": "stdout",
     "output_type": "stream",
     "text": [
      "[OK] bio2zarr finished for Ne2e+04_100_1e+06_26\n",
      "tsinfer done\n"
     ]
    },
    {
     "name": "stderr",
     "output_type": "stream",
     "text": [
      "    Scan: 100%|██████████| 1.00/1.00 [00:00<00:00, 81.0files/s]\n",
      " Explode: 100%|██████████| 4.01k/4.01k [00:00<00:00, 19.9kvars/s]\n",
      "  Encode: 100%|██████████| 1.18M/1.18M [00:00<00:00, 11.4MB/s]\n",
      "Finalise: 100%|██████████| 11.0/11.0 [00:00<00:00, 992array/s]\n"
     ]
    },
    {
     "name": "stdout",
     "output_type": "stream",
     "text": [
      "[OK] bio2zarr finished for Ne2e+04_100_1e+06_27\n",
      "tsinfer done\n"
     ]
    },
    {
     "name": "stderr",
     "output_type": "stream",
     "text": [
      "    Scan: 100%|██████████| 1.00/1.00 [00:00<00:00, 78.7files/s]\n",
      " Explode: 100%|██████████| 4.24k/4.24k [00:00<00:00, 22.5kvars/s]\n",
      "  Encode: 100%|██████████| 1.25M/1.25M [00:00<00:00, 12.4MB/s]\n",
      "Finalise: 100%|██████████| 11.0/11.0 [00:00<00:00, 885array/s]\n"
     ]
    },
    {
     "name": "stdout",
     "output_type": "stream",
     "text": [
      "[OK] bio2zarr finished for Ne2e+04_100_1e+06_28\n",
      "tsinfer done\n"
     ]
    },
    {
     "name": "stderr",
     "output_type": "stream",
     "text": [
      "    Scan: 100%|██████████| 1.00/1.00 [00:00<00:00, 78.5files/s]\n",
      " Explode: 100%|██████████| 4.10k/4.10k [00:00<00:00, 19.7kvars/s]\n",
      "  Encode: 100%|██████████| 1.21M/1.21M [00:00<00:00, 11.7MB/s]\n",
      "Finalise: 100%|██████████| 11.0/11.0 [00:00<00:00, 868array/s]\n"
     ]
    },
    {
     "name": "stdout",
     "output_type": "stream",
     "text": [
      "[OK] bio2zarr finished for Ne2e+04_100_1e+06_29\n",
      "tsinfer done\n"
     ]
    },
    {
     "name": "stderr",
     "output_type": "stream",
     "text": [
      "    Scan: 100%|██████████| 1.00/1.00 [00:00<00:00, 78.8files/s]\n",
      " Explode: 100%|██████████| 4.35k/4.35k [00:00<00:00, 23.4kvars/s]\n",
      "  Encode: 100%|██████████| 1.28M/1.28M [00:00<00:00, 12.1MB/s]\n",
      "Finalise: 100%|██████████| 11.0/11.0 [00:00<00:00, 872array/s]\n"
     ]
    },
    {
     "name": "stdout",
     "output_type": "stream",
     "text": [
      "[OK] bio2zarr finished for Ne2e+04_100_1e+06_30\n",
      "tsinfer done\n"
     ]
    },
    {
     "name": "stderr",
     "output_type": "stream",
     "text": [
      "    Scan: 100%|██████████| 1.00/1.00 [00:00<00:00, 95.6files/s]\n",
      " Explode: 100%|██████████| 4.15k/4.15k [00:00<00:00, 20.5kvars/s]\n",
      "  Encode: 100%|██████████| 1.22M/1.22M [00:00<00:00, 11.4MB/s]\n",
      "Finalise: 100%|██████████| 11.0/11.0 [00:00<00:00, 873array/s]\n"
     ]
    },
    {
     "name": "stdout",
     "output_type": "stream",
     "text": [
      "[OK] bio2zarr finished for Ne2e+04_100_1e+06_31\n",
      "tsinfer done\n"
     ]
    },
    {
     "name": "stderr",
     "output_type": "stream",
     "text": [
      "    Scan: 100%|██████████| 1.00/1.00 [00:00<00:00, 79.0files/s]\n",
      " Explode: 100%|██████████| 4.09k/4.09k [00:00<00:00, 19.9kvars/s]\n",
      "  Encode: 100%|██████████| 1.20M/1.20M [00:00<00:00, 12.3MB/s]\n",
      "Finalise: 100%|██████████| 11.0/11.0 [00:00<00:00, 949array/s]\n"
     ]
    },
    {
     "name": "stdout",
     "output_type": "stream",
     "text": [
      "[OK] bio2zarr finished for Ne2e+04_100_1e+06_32\n",
      "tsinfer done\n"
     ]
    },
    {
     "name": "stderr",
     "output_type": "stream",
     "text": [
      "    Scan: 100%|██████████| 1.00/1.00 [00:00<00:00, 79.5files/s]\n",
      " Explode: 100%|██████████| 3.94k/3.94k [00:00<00:00, 20.2kvars/s]\n",
      "  Encode: 100%|██████████| 1.16M/1.16M [00:00<00:00, 11.8MB/s]\n",
      "Finalise: 100%|██████████| 11.0/11.0 [00:00<00:00, 1.07karray/s]\n"
     ]
    },
    {
     "name": "stdout",
     "output_type": "stream",
     "text": [
      "[OK] bio2zarr finished for Ne2e+04_100_1e+06_33\n",
      "tsinfer done\n"
     ]
    },
    {
     "name": "stderr",
     "output_type": "stream",
     "text": [
      "    Scan: 100%|██████████| 1.00/1.00 [00:00<00:00, 79.0files/s]\n",
      " Explode: 100%|██████████| 4.00k/4.00k [00:00<00:00, 20.3kvars/s]\n",
      "  Encode: 100%|██████████| 1.18M/1.18M [00:00<00:00, 11.5MB/s]\n",
      "Finalise: 100%|██████████| 11.0/11.0 [00:00<00:00, 917array/s]\n"
     ]
    },
    {
     "name": "stdout",
     "output_type": "stream",
     "text": [
      "[OK] bio2zarr finished for Ne2e+04_100_1e+06_34\n",
      "tsinfer done\n"
     ]
    },
    {
     "name": "stderr",
     "output_type": "stream",
     "text": [
      "    Scan: 100%|██████████| 1.00/1.00 [00:00<00:00, 84.8files/s]\n",
      " Explode: 100%|██████████| 4.19k/4.19k [00:00<00:00, 20.2kvars/s]\n",
      "  Encode: 100%|██████████| 1.23M/1.23M [00:00<00:00, 11.7MB/s]\n",
      "Finalise: 100%|██████████| 11.0/11.0 [00:00<00:00, 874array/s]\n"
     ]
    },
    {
     "name": "stdout",
     "output_type": "stream",
     "text": [
      "[OK] bio2zarr finished for Ne2e+04_100_1e+06_35\n",
      "tsinfer done\n"
     ]
    },
    {
     "name": "stderr",
     "output_type": "stream",
     "text": [
      "    Scan: 100%|██████████| 1.00/1.00 [00:00<00:00, 88.7files/s]\n",
      " Explode: 100%|██████████| 4.17k/4.17k [00:00<00:00, 19.5kvars/s]\n",
      "  Encode: 100%|██████████| 1.23M/1.23M [00:00<00:00, 12.0MB/s]\n",
      "Finalise: 100%|██████████| 11.0/11.0 [00:00<00:00, 874array/s]\n"
     ]
    },
    {
     "name": "stdout",
     "output_type": "stream",
     "text": [
      "[OK] bio2zarr finished for Ne2e+04_100_1e+06_36\n",
      "tsinfer done\n"
     ]
    },
    {
     "name": "stderr",
     "output_type": "stream",
     "text": [
      "    Scan: 100%|██████████| 1.00/1.00 [00:00<00:00, 79.0files/s]\n",
      " Explode: 100%|██████████| 4.18k/4.18k [00:00<00:00, 19.7kvars/s]\n",
      "  Encode: 100%|██████████| 1.23M/1.23M [00:00<00:00, 11.9MB/s]\n",
      "Finalise: 100%|██████████| 11.0/11.0 [00:00<00:00, 946array/s]\n"
     ]
    },
    {
     "name": "stdout",
     "output_type": "stream",
     "text": [
      "[OK] bio2zarr finished for Ne2e+04_100_1e+06_37\n",
      "tsinfer done\n"
     ]
    },
    {
     "name": "stderr",
     "output_type": "stream",
     "text": [
      "    Scan: 100%|██████████| 1.00/1.00 [00:00<00:00, 78.9files/s]\n",
      " Explode: 100%|██████████| 4.10k/4.10k [00:00<00:00, 20.2kvars/s]\n",
      "  Encode: 100%|██████████| 1.21M/1.21M [00:00<00:00, 11.8MB/s]\n",
      "Finalise: 100%|██████████| 11.0/11.0 [00:00<00:00, 1.05karray/s]\n"
     ]
    },
    {
     "name": "stdout",
     "output_type": "stream",
     "text": [
      "[OK] bio2zarr finished for Ne2e+04_100_1e+06_38\n",
      "tsinfer done\n"
     ]
    },
    {
     "name": "stderr",
     "output_type": "stream",
     "text": [
      "    Scan: 100%|██████████| 1.00/1.00 [00:00<00:00, 95.6files/s]\n",
      " Explode: 100%|██████████| 4.18k/4.18k [00:00<00:00, 20.2kvars/s]\n",
      "  Encode: 100%|██████████| 1.23M/1.23M [00:00<00:00, 12.4MB/s]\n",
      "Finalise: 100%|██████████| 11.0/11.0 [00:00<00:00, 884array/s]\n"
     ]
    },
    {
     "name": "stdout",
     "output_type": "stream",
     "text": [
      "[OK] bio2zarr finished for Ne2e+04_100_1e+06_39\n",
      "tsinfer done\n"
     ]
    },
    {
     "name": "stderr",
     "output_type": "stream",
     "text": [
      "    Scan: 100%|██████████| 1.00/1.00 [00:00<00:00, 82.3files/s]\n",
      " Explode: 100%|██████████| 4.19k/4.19k [00:00<00:00, 19.5kvars/s]\n",
      "  Encode: 100%|██████████| 1.23M/1.23M [00:00<00:00, 10.5MB/s]\n",
      "Finalise: 100%|██████████| 11.0/11.0 [00:00<00:00, 924array/s]\n"
     ]
    },
    {
     "name": "stdout",
     "output_type": "stream",
     "text": [
      "[OK] bio2zarr finished for Ne2e+04_100_1e+06_40\n",
      "tsinfer done\n"
     ]
    },
    {
     "name": "stderr",
     "output_type": "stream",
     "text": [
      "    Scan: 100%|██████████| 1.00/1.00 [00:00<00:00, 78.8files/s]\n",
      " Explode: 100%|██████████| 4.09k/4.09k [00:00<00:00, 19.7kvars/s]\n",
      "  Encode: 100%|██████████| 1.20M/1.20M [00:00<00:00, 12.0MB/s]\n",
      "Finalise: 100%|██████████| 11.0/11.0 [00:00<00:00, 1.06karray/s]\n"
     ]
    },
    {
     "name": "stdout",
     "output_type": "stream",
     "text": [
      "[OK] bio2zarr finished for Ne2e+04_100_1e+06_41\n",
      "tsinfer done\n"
     ]
    },
    {
     "name": "stderr",
     "output_type": "stream",
     "text": [
      "    Scan: 100%|██████████| 1.00/1.00 [00:00<00:00, 79.0files/s]\n",
      " Explode: 100%|██████████| 4.00k/4.00k [00:00<00:00, 20.1kvars/s]\n",
      "  Encode: 100%|██████████| 1.17M/1.17M [00:00<00:00, 12.1MB/s]\n",
      "Finalise: 100%|██████████| 11.0/11.0 [00:00<00:00, 864array/s]\n"
     ]
    },
    {
     "name": "stdout",
     "output_type": "stream",
     "text": [
      "[OK] bio2zarr finished for Ne2e+04_100_1e+06_42\n",
      "tsinfer done\n"
     ]
    },
    {
     "name": "stderr",
     "output_type": "stream",
     "text": [
      "    Scan: 100%|██████████| 1.00/1.00 [00:00<00:00, 79.4files/s]\n",
      " Explode: 100%|██████████| 4.19k/4.19k [00:00<00:00, 19.9kvars/s]\n",
      "  Encode: 100%|██████████| 1.23M/1.23M [00:00<00:00, 12.3MB/s]\n",
      "Finalise: 100%|██████████| 11.0/11.0 [00:00<00:00, 871array/s]\n"
     ]
    },
    {
     "name": "stdout",
     "output_type": "stream",
     "text": [
      "[OK] bio2zarr finished for Ne2e+04_100_1e+06_43\n",
      "tsinfer done\n"
     ]
    },
    {
     "name": "stderr",
     "output_type": "stream",
     "text": [
      "    Scan: 100%|██████████| 1.00/1.00 [00:00<00:00, 78.8files/s]\n",
      " Explode: 100%|██████████| 3.98k/3.98k [00:00<00:00, 19.7kvars/s]\n",
      "  Encode: 100%|██████████| 1.17M/1.17M [00:00<00:00, 11.8MB/s]\n",
      "Finalise: 100%|██████████| 11.0/11.0 [00:00<00:00, 873array/s]\n"
     ]
    },
    {
     "name": "stdout",
     "output_type": "stream",
     "text": [
      "[OK] bio2zarr finished for Ne2e+04_100_1e+06_44\n",
      "tsinfer done\n"
     ]
    },
    {
     "name": "stderr",
     "output_type": "stream",
     "text": [
      "    Scan: 100%|██████████| 1.00/1.00 [00:00<00:00, 87.2files/s]\n",
      " Explode: 100%|██████████| 4.25k/4.25k [00:00<00:00, 23.3kvars/s]\n",
      "  Encode: 100%|██████████| 1.25M/1.25M [00:00<00:00, 12.0MB/s]\n",
      "Finalise: 100%|██████████| 11.0/11.0 [00:00<00:00, 976array/s]\n"
     ]
    },
    {
     "name": "stdout",
     "output_type": "stream",
     "text": [
      "[OK] bio2zarr finished for Ne2e+04_100_1e+06_45\n",
      "tsinfer done\n"
     ]
    },
    {
     "name": "stderr",
     "output_type": "stream",
     "text": [
      "    Scan: 100%|██████████| 1.00/1.00 [00:00<00:00, 79.9files/s]\n",
      " Explode: 100%|██████████| 4.13k/4.13k [00:00<00:00, 19.9kvars/s]\n",
      "  Encode: 100%|██████████| 1.21M/1.21M [00:00<00:00, 12.0MB/s]\n",
      "Finalise: 100%|██████████| 11.0/11.0 [00:00<00:00, 872array/s]\n"
     ]
    },
    {
     "name": "stdout",
     "output_type": "stream",
     "text": [
      "[OK] bio2zarr finished for Ne2e+04_100_1e+06_46\n",
      "tsinfer done\n"
     ]
    },
    {
     "name": "stderr",
     "output_type": "stream",
     "text": [
      "    Scan: 100%|██████████| 1.00/1.00 [00:00<00:00, 79.2files/s]\n",
      " Explode: 100%|██████████| 4.09k/4.09k [00:00<00:00, 20.0kvars/s]\n",
      "  Encode: 100%|██████████| 1.20M/1.20M [00:00<00:00, 11.8MB/s]\n",
      "Finalise: 100%|██████████| 11.0/11.0 [00:00<00:00, 873array/s]\n"
     ]
    },
    {
     "name": "stdout",
     "output_type": "stream",
     "text": [
      "[OK] bio2zarr finished for Ne2e+04_100_1e+06_47\n",
      "tsinfer done\n"
     ]
    },
    {
     "name": "stderr",
     "output_type": "stream",
     "text": [
      "    Scan: 100%|██████████| 1.00/1.00 [00:00<00:00, 78.6files/s]\n",
      " Explode: 100%|██████████| 4.12k/4.12k [00:00<00:00, 20.2kvars/s]\n",
      "  Encode: 100%|██████████| 1.21M/1.21M [00:00<00:00, 12.0MB/s]\n",
      "Finalise: 100%|██████████| 11.0/11.0 [00:00<00:00, 869array/s]\n"
     ]
    },
    {
     "name": "stdout",
     "output_type": "stream",
     "text": [
      "[OK] bio2zarr finished for Ne2e+04_100_1e+06_48\n",
      "tsinfer done\n"
     ]
    },
    {
     "name": "stderr",
     "output_type": "stream",
     "text": [
      "    Scan: 100%|██████████| 1.00/1.00 [00:00<00:00, 78.7files/s]\n",
      " Explode: 100%|██████████| 4.16k/4.16k [00:00<00:00, 17.7kvars/s]\n",
      "  Encode: 100%|██████████| 1.22M/1.22M [00:00<00:00, 10.5MB/s]\n",
      "Finalise: 100%|██████████| 11.0/11.0 [00:00<00:00, 1.07karray/s]\n"
     ]
    },
    {
     "name": "stdout",
     "output_type": "stream",
     "text": [
      "[OK] bio2zarr finished for Ne2e+04_100_1e+06_49\n",
      "tsinfer done\n"
     ]
    },
    {
     "name": "stderr",
     "output_type": "stream",
     "text": [
      "    Scan: 100%|██████████| 1.00/1.00 [00:00<00:00, 79.0files/s]\n",
      " Explode: 100%|██████████| 4.32k/4.32k [00:00<00:00, 22.5kvars/s]\n",
      "  Encode: 100%|██████████| 1.27M/1.27M [00:00<00:00, 11.1MB/s]\n",
      "Finalise: 100%|██████████| 11.0/11.0 [00:00<00:00, 859array/s]\n"
     ]
    },
    {
     "name": "stdout",
     "output_type": "stream",
     "text": [
      "[OK] bio2zarr finished for Ne2e+04_100_1e+06_50\n",
      "tsinfer done\n"
     ]
    },
    {
     "name": "stderr",
     "output_type": "stream",
     "text": [
      "    Scan: 100%|██████████| 1.00/1.00 [00:00<00:00, 79.0files/s]\n",
      " Explode: 100%|██████████| 3.94k/3.94k [00:00<00:00, 19.8kvars/s]\n",
      "  Encode: 100%|██████████| 1.16M/1.16M [00:00<00:00, 11.7MB/s]\n",
      "Finalise: 100%|██████████| 11.0/11.0 [00:00<00:00, 873array/s]\n"
     ]
    },
    {
     "name": "stdout",
     "output_type": "stream",
     "text": [
      "[OK] bio2zarr finished for Ne2e+04_100_1e+06_51\n",
      "tsinfer done\n"
     ]
    },
    {
     "name": "stderr",
     "output_type": "stream",
     "text": [
      "    Scan: 100%|██████████| 1.00/1.00 [00:00<00:00, 78.8files/s]\n",
      " Explode: 100%|██████████| 4.06k/4.06k [00:00<00:00, 19.3kvars/s]\n",
      "  Encode: 100%|██████████| 1.19M/1.19M [00:00<00:00, 11.5MB/s]\n",
      "Finalise: 100%|██████████| 11.0/11.0 [00:00<00:00, 870array/s]\n"
     ]
    },
    {
     "name": "stdout",
     "output_type": "stream",
     "text": [
      "[OK] bio2zarr finished for Ne2e+04_100_1e+06_52\n",
      "tsinfer done\n"
     ]
    },
    {
     "name": "stderr",
     "output_type": "stream",
     "text": [
      "    Scan: 100%|██████████| 1.00/1.00 [00:00<00:00, 78.8files/s]\n",
      " Explode: 100%|██████████| 4.25k/4.25k [00:00<00:00, 21.8kvars/s]\n",
      "  Encode: 100%|██████████| 1.25M/1.25M [00:00<00:00, 12.0MB/s]\n",
      "Finalise: 100%|██████████| 11.0/11.0 [00:00<00:00, 873array/s]\n"
     ]
    },
    {
     "name": "stdout",
     "output_type": "stream",
     "text": [
      "[OK] bio2zarr finished for Ne2e+04_100_1e+06_53\n",
      "tsinfer done\n"
     ]
    },
    {
     "name": "stderr",
     "output_type": "stream",
     "text": [
      "    Scan: 100%|██████████| 1.00/1.00 [00:00<00:00, 78.8files/s]\n",
      " Explode: 100%|██████████| 4.20k/4.20k [00:00<00:00, 19.6kvars/s]\n",
      "  Encode: 100%|██████████| 1.24M/1.24M [00:00<00:00, 10.4MB/s]\n",
      "Finalise: 100%|██████████| 11.0/11.0 [00:00<00:00, 874array/s]\n"
     ]
    },
    {
     "name": "stdout",
     "output_type": "stream",
     "text": [
      "[OK] bio2zarr finished for Ne2e+04_100_1e+06_54\n",
      "tsinfer done\n"
     ]
    },
    {
     "name": "stderr",
     "output_type": "stream",
     "text": [
      "    Scan: 100%|██████████| 1.00/1.00 [00:00<00:00, 93.3files/s]\n",
      " Explode: 100%|██████████| 4.21k/4.21k [00:00<00:00, 19.7kvars/s]\n",
      "  Encode: 100%|██████████| 1.24M/1.24M [00:00<00:00, 11.6MB/s]\n",
      "Finalise: 100%|██████████| 11.0/11.0 [00:00<00:00, 1.02karray/s]\n"
     ]
    },
    {
     "name": "stdout",
     "output_type": "stream",
     "text": [
      "[OK] bio2zarr finished for Ne2e+04_100_1e+06_55\n",
      "tsinfer done\n"
     ]
    },
    {
     "name": "stderr",
     "output_type": "stream",
     "text": [
      "    Scan: 100%|██████████| 1.00/1.00 [00:00<00:00, 78.9files/s]\n",
      " Explode: 100%|██████████| 4.40k/4.40k [00:00<00:00, 22.3kvars/s]\n",
      "  Encode: 100%|██████████| 1.29M/1.29M [00:00<00:00, 11.1MB/s]\n",
      "Finalise: 100%|██████████| 11.0/11.0 [00:00<00:00, 874array/s]\n"
     ]
    },
    {
     "name": "stdout",
     "output_type": "stream",
     "text": [
      "[OK] bio2zarr finished for Ne2e+04_100_1e+06_56\n",
      "tsinfer done\n"
     ]
    },
    {
     "name": "stderr",
     "output_type": "stream",
     "text": [
      "    Scan: 100%|██████████| 1.00/1.00 [00:00<00:00, 95.6files/s]\n",
      " Explode: 100%|██████████| 4.05k/4.05k [00:00<00:00, 19.9kvars/s]\n",
      "  Encode: 100%|██████████| 1.19M/1.19M [00:00<00:00, 11.6MB/s]\n",
      "Finalise: 100%|██████████| 11.0/11.0 [00:00<00:00, 872array/s]\n"
     ]
    },
    {
     "name": "stdout",
     "output_type": "stream",
     "text": [
      "[OK] bio2zarr finished for Ne2e+04_100_1e+06_57\n",
      "tsinfer done\n"
     ]
    },
    {
     "name": "stderr",
     "output_type": "stream",
     "text": [
      "    Scan: 100%|██████████| 1.00/1.00 [00:00<00:00, 78.7files/s]\n",
      " Explode: 100%|██████████| 4.16k/4.16k [00:00<00:00, 19.8kvars/s]\n",
      "  Encode: 100%|██████████| 1.22M/1.22M [00:00<00:00, 11.8MB/s]\n",
      "Finalise: 100%|██████████| 11.0/11.0 [00:00<00:00, 873array/s]\n"
     ]
    },
    {
     "name": "stdout",
     "output_type": "stream",
     "text": [
      "[OK] bio2zarr finished for Ne2e+04_100_1e+06_58\n",
      "tsinfer done\n"
     ]
    },
    {
     "name": "stderr",
     "output_type": "stream",
     "text": [
      "    Scan: 100%|██████████| 1.00/1.00 [00:00<00:00, 78.8files/s]\n",
      " Explode: 100%|██████████| 4.13k/4.13k [00:00<00:00, 19.4kvars/s]\n",
      "  Encode: 100%|██████████| 1.22M/1.22M [00:00<00:00, 11.7MB/s]\n",
      "Finalise: 100%|██████████| 11.0/11.0 [00:00<00:00, 872array/s]\n"
     ]
    },
    {
     "name": "stdout",
     "output_type": "stream",
     "text": [
      "[OK] bio2zarr finished for Ne2e+04_100_1e+06_59\n",
      "tsinfer done\n"
     ]
    },
    {
     "name": "stderr",
     "output_type": "stream",
     "text": [
      "    Scan: 100%|██████████| 1.00/1.00 [00:00<00:00, 78.8files/s]\n",
      " Explode: 100%|██████████| 4.47k/4.47k [00:00<00:00, 22.4kvars/s]\n",
      "  Encode: 100%|██████████| 1.31M/1.31M [00:00<00:00, 12.0MB/s]\n",
      "Finalise: 100%|██████████| 11.0/11.0 [00:00<00:00, 1.07karray/s]\n"
     ]
    },
    {
     "name": "stdout",
     "output_type": "stream",
     "text": [
      "[OK] bio2zarr finished for Ne2e+04_100_1e+06_60\n",
      "tsinfer done\n"
     ]
    },
    {
     "name": "stderr",
     "output_type": "stream",
     "text": [
      "    Scan: 100%|██████████| 1.00/1.00 [00:00<00:00, 88.4files/s]\n",
      " Explode: 100%|██████████| 3.97k/3.97k [00:00<00:00, 19.8kvars/s]\n",
      "  Encode: 100%|██████████| 1.17M/1.17M [00:00<00:00, 12.2MB/s]\n",
      "Finalise: 100%|██████████| 11.0/11.0 [00:00<00:00, 951array/s]\n"
     ]
    },
    {
     "name": "stdout",
     "output_type": "stream",
     "text": [
      "[OK] bio2zarr finished for Ne2e+04_100_1e+06_61\n",
      "tsinfer done\n"
     ]
    },
    {
     "name": "stderr",
     "output_type": "stream",
     "text": [
      "    Scan: 100%|██████████| 1.00/1.00 [00:00<00:00, 79.0files/s]\n",
      " Explode: 100%|██████████| 4.27k/4.27k [00:00<00:00, 23.4kvars/s]\n",
      "  Encode: 100%|██████████| 1.25M/1.25M [00:00<00:00, 12.0MB/s]\n",
      "Finalise: 100%|██████████| 11.0/11.0 [00:00<00:00, 872array/s]\n"
     ]
    },
    {
     "name": "stdout",
     "output_type": "stream",
     "text": [
      "[OK] bio2zarr finished for Ne2e+04_100_1e+06_62\n",
      "tsinfer done\n"
     ]
    },
    {
     "name": "stderr",
     "output_type": "stream",
     "text": [
      "    Scan: 100%|██████████| 1.00/1.00 [00:00<00:00, 79.1files/s]\n",
      " Explode: 100%|██████████| 4.24k/4.24k [00:00<00:00, 22.2kvars/s]\n",
      "  Encode: 100%|██████████| 1.25M/1.25M [00:00<00:00, 10.6MB/s]\n",
      "Finalise: 100%|██████████| 11.0/11.0 [00:00<00:00, 874array/s]\n"
     ]
    },
    {
     "name": "stdout",
     "output_type": "stream",
     "text": [
      "[OK] bio2zarr finished for Ne2e+04_100_1e+06_63\n",
      "tsinfer done\n"
     ]
    },
    {
     "name": "stderr",
     "output_type": "stream",
     "text": [
      "    Scan: 100%|██████████| 1.00/1.00 [00:00<00:00, 93.1files/s]\n",
      " Explode: 100%|██████████| 4.01k/4.01k [00:00<00:00, 19.7kvars/s]\n",
      "  Encode: 100%|██████████| 1.18M/1.18M [00:00<00:00, 11.7MB/s]\n",
      "Finalise: 100%|██████████| 11.0/11.0 [00:00<00:00, 874array/s]\n"
     ]
    },
    {
     "name": "stdout",
     "output_type": "stream",
     "text": [
      "[OK] bio2zarr finished for Ne2e+04_100_1e+06_64\n",
      "tsinfer done\n"
     ]
    },
    {
     "name": "stderr",
     "output_type": "stream",
     "text": [
      "    Scan: 100%|██████████| 1.00/1.00 [00:00<00:00, 78.7files/s]\n",
      " Explode: 100%|██████████| 4.10k/4.10k [00:00<00:00, 19.8kvars/s]\n",
      "  Encode: 100%|██████████| 1.21M/1.21M [00:00<00:00, 12.1MB/s]\n",
      "Finalise: 100%|██████████| 11.0/11.0 [00:00<00:00, 869array/s]\n"
     ]
    },
    {
     "name": "stdout",
     "output_type": "stream",
     "text": [
      "[OK] bio2zarr finished for Ne2e+04_100_1e+06_65\n",
      "tsinfer done\n"
     ]
    },
    {
     "name": "stderr",
     "output_type": "stream",
     "text": [
      "    Scan: 100%|██████████| 1.00/1.00 [00:00<00:00, 78.8files/s]\n",
      " Explode: 100%|██████████| 4.17k/4.17k [00:00<00:00, 20.0kvars/s]\n",
      "  Encode: 100%|██████████| 1.22M/1.22M [00:00<00:00, 11.9MB/s]\n",
      "Finalise: 100%|██████████| 11.0/11.0 [00:00<00:00, 873array/s]\n"
     ]
    },
    {
     "name": "stdout",
     "output_type": "stream",
     "text": [
      "[OK] bio2zarr finished for Ne2e+04_100_1e+06_66\n",
      "tsinfer done\n"
     ]
    },
    {
     "name": "stderr",
     "output_type": "stream",
     "text": [
      "    Scan: 100%|██████████| 1.00/1.00 [00:00<00:00, 84.7files/s]\n",
      " Explode: 100%|██████████| 3.84k/3.84k [00:00<00:00, 18.3kvars/s]\n",
      "  Encode: 100%|██████████| 1.13M/1.13M [00:00<00:00, 11.5MB/s]\n",
      "Finalise: 100%|██████████| 11.0/11.0 [00:00<00:00, 995array/s]\n"
     ]
    },
    {
     "name": "stdout",
     "output_type": "stream",
     "text": [
      "[OK] bio2zarr finished for Ne2e+04_100_1e+06_67\n",
      "tsinfer done\n"
     ]
    },
    {
     "name": "stderr",
     "output_type": "stream",
     "text": [
      "    Scan: 100%|██████████| 1.00/1.00 [00:00<00:00, 78.9files/s]\n",
      " Explode: 100%|██████████| 4.20k/4.20k [00:00<00:00, 19.8kvars/s]\n",
      "  Encode: 100%|██████████| 1.24M/1.24M [00:00<00:00, 12.1MB/s]\n",
      "Finalise: 100%|██████████| 11.0/11.0 [00:00<00:00, 874array/s]\n"
     ]
    },
    {
     "name": "stdout",
     "output_type": "stream",
     "text": [
      "[OK] bio2zarr finished for Ne2e+04_100_1e+06_68\n",
      "tsinfer done\n"
     ]
    },
    {
     "name": "stderr",
     "output_type": "stream",
     "text": [
      "    Scan: 100%|██████████| 1.00/1.00 [00:00<00:00, 78.5files/s]\n",
      " Explode: 100%|██████████| 4.17k/4.17k [00:00<00:00, 20.1kvars/s]\n",
      "  Encode: 100%|██████████| 1.23M/1.23M [00:00<00:00, 12.2MB/s]\n",
      "Finalise: 100%|██████████| 11.0/11.0 [00:00<00:00, 873array/s]\n"
     ]
    },
    {
     "name": "stdout",
     "output_type": "stream",
     "text": [
      "[OK] bio2zarr finished for Ne2e+04_100_1e+06_69\n",
      "tsinfer done\n"
     ]
    },
    {
     "name": "stderr",
     "output_type": "stream",
     "text": [
      "    Scan: 100%|██████████| 1.00/1.00 [00:00<00:00, 78.8files/s]\n",
      " Explode: 100%|██████████| 3.97k/3.97k [00:00<00:00, 20.0kvars/s]\n",
      "  Encode: 100%|██████████| 1.17M/1.17M [00:00<00:00, 11.8MB/s]\n",
      "Finalise: 100%|██████████| 11.0/11.0 [00:00<00:00, 872array/s]\n"
     ]
    },
    {
     "name": "stdout",
     "output_type": "stream",
     "text": [
      "[OK] bio2zarr finished for Ne2e+04_100_1e+06_70\n",
      "tsinfer done\n"
     ]
    },
    {
     "name": "stderr",
     "output_type": "stream",
     "text": [
      "    Scan: 100%|██████████| 1.00/1.00 [00:00<00:00, 78.8files/s]\n",
      " Explode: 100%|██████████| 4.09k/4.09k [00:00<00:00, 20.4kvars/s]\n",
      "  Encode: 100%|██████████| 1.20M/1.20M [00:00<00:00, 11.7MB/s]\n",
      "Finalise: 100%|██████████| 11.0/11.0 [00:00<00:00, 871array/s]\n"
     ]
    },
    {
     "name": "stdout",
     "output_type": "stream",
     "text": [
      "[OK] bio2zarr finished for Ne2e+04_100_1e+06_71\n",
      "tsinfer done\n"
     ]
    },
    {
     "name": "stderr",
     "output_type": "stream",
     "text": [
      "    Scan: 100%|██████████| 1.00/1.00 [00:00<00:00, 94.5files/s]\n",
      " Explode: 100%|██████████| 4.09k/4.09k [00:00<00:00, 19.7kvars/s]\n",
      "  Encode: 100%|██████████| 1.20M/1.20M [00:00<00:00, 11.9MB/s]\n",
      "Finalise: 100%|██████████| 11.0/11.0 [00:00<00:00, 918array/s]\n"
     ]
    },
    {
     "name": "stdout",
     "output_type": "stream",
     "text": [
      "[OK] bio2zarr finished for Ne2e+04_100_1e+06_72\n",
      "tsinfer done\n"
     ]
    },
    {
     "name": "stderr",
     "output_type": "stream",
     "text": [
      "    Scan: 100%|██████████| 1.00/1.00 [00:00<00:00, 87.9files/s]\n",
      " Explode: 100%|██████████| 4.25k/4.25k [00:00<00:00, 22.6kvars/s]\n",
      "  Encode: 100%|██████████| 1.25M/1.25M [00:00<00:00, 11.6MB/s]\n",
      "Finalise: 100%|██████████| 11.0/11.0 [00:00<00:00, 871array/s]\n"
     ]
    },
    {
     "name": "stdout",
     "output_type": "stream",
     "text": [
      "[OK] bio2zarr finished for Ne2e+04_100_1e+06_73\n",
      "tsinfer done\n"
     ]
    },
    {
     "name": "stderr",
     "output_type": "stream",
     "text": [
      "    Scan: 100%|██████████| 1.00/1.00 [00:00<00:00, 81.7files/s]\n",
      " Explode: 100%|██████████| 4.26k/4.26k [00:00<00:00, 22.0kvars/s]\n",
      "  Encode: 100%|██████████| 1.25M/1.25M [00:00<00:00, 10.7MB/s]\n",
      "Finalise: 100%|██████████| 11.0/11.0 [00:00<00:00, 874array/s]\n"
     ]
    },
    {
     "name": "stdout",
     "output_type": "stream",
     "text": [
      "[OK] bio2zarr finished for Ne2e+04_100_1e+06_74\n",
      "tsinfer done\n"
     ]
    },
    {
     "name": "stderr",
     "output_type": "stream",
     "text": [
      "    Scan: 100%|██████████| 1.00/1.00 [00:00<00:00, 79.1files/s]\n",
      " Explode: 100%|██████████| 4.32k/4.32k [00:00<00:00, 22.6kvars/s]\n",
      "  Encode: 100%|██████████| 1.27M/1.27M [00:00<00:00, 11.0MB/s]\n",
      "Finalise: 100%|██████████| 11.0/11.0 [00:00<00:00, 906array/s]\n"
     ]
    },
    {
     "name": "stdout",
     "output_type": "stream",
     "text": [
      "[OK] bio2zarr finished for Ne2e+04_100_1e+06_75\n",
      "tsinfer done\n"
     ]
    },
    {
     "name": "stderr",
     "output_type": "stream",
     "text": [
      "    Scan: 100%|██████████| 1.00/1.00 [00:00<00:00, 83.1files/s]\n",
      " Explode: 100%|██████████| 4.28k/4.28k [00:00<00:00, 22.3kvars/s]\n",
      "  Encode: 100%|██████████| 1.26M/1.26M [00:00<00:00, 11.9MB/s]\n",
      "Finalise: 100%|██████████| 11.0/11.0 [00:00<00:00, 1.04karray/s]\n"
     ]
    },
    {
     "name": "stdout",
     "output_type": "stream",
     "text": [
      "[OK] bio2zarr finished for Ne2e+04_100_1e+06_76\n",
      "tsinfer done\n"
     ]
    },
    {
     "name": "stderr",
     "output_type": "stream",
     "text": [
      "    Scan: 100%|██████████| 1.00/1.00 [00:00<00:00, 79.0files/s]\n",
      " Explode: 100%|██████████| 4.33k/4.33k [00:00<00:00, 22.3kvars/s]\n",
      "  Encode: 100%|██████████| 1.27M/1.27M [00:00<00:00, 11.1MB/s]\n",
      "Finalise: 100%|██████████| 11.0/11.0 [00:00<00:00, 1.06karray/s]\n"
     ]
    },
    {
     "name": "stdout",
     "output_type": "stream",
     "text": [
      "[OK] bio2zarr finished for Ne2e+04_100_1e+06_77\n",
      "tsinfer done\n"
     ]
    },
    {
     "name": "stderr",
     "output_type": "stream",
     "text": [
      "    Scan: 100%|██████████| 1.00/1.00 [00:00<00:00, 82.0files/s]\n",
      " Explode: 100%|██████████| 4.40k/4.40k [00:00<00:00, 22.6kvars/s]\n",
      "  Encode: 100%|██████████| 1.29M/1.29M [00:00<00:00, 12.1MB/s]\n",
      "Finalise: 100%|██████████| 11.0/11.0 [00:00<00:00, 1.07karray/s]\n"
     ]
    },
    {
     "name": "stdout",
     "output_type": "stream",
     "text": [
      "[OK] bio2zarr finished for Ne2e+04_100_1e+06_78\n",
      "tsinfer done\n"
     ]
    },
    {
     "name": "stderr",
     "output_type": "stream",
     "text": [
      "    Scan: 100%|██████████| 1.00/1.00 [00:00<00:00, 80.3files/s]\n",
      " Explode: 100%|██████████| 4.17k/4.17k [00:00<00:00, 20.0kvars/s]\n",
      "  Encode: 100%|██████████| 1.23M/1.23M [00:00<00:00, 12.5MB/s]\n",
      "Finalise: 100%|██████████| 11.0/11.0 [00:00<00:00, 921array/s]\n"
     ]
    },
    {
     "name": "stdout",
     "output_type": "stream",
     "text": [
      "[OK] bio2zarr finished for Ne2e+04_100_1e+06_79\n",
      "tsinfer done\n"
     ]
    },
    {
     "name": "stderr",
     "output_type": "stream",
     "text": [
      "    Scan: 100%|██████████| 1.00/1.00 [00:00<00:00, 94.8files/s]\n",
      " Explode: 100%|██████████| 4.21k/4.21k [00:00<00:00, 18.1kvars/s]\n",
      "  Encode: 100%|██████████| 1.24M/1.24M [00:00<00:00, 11.0MB/s]\n",
      "Finalise: 100%|██████████| 11.0/11.0 [00:00<00:00, 1.02karray/s]\n"
     ]
    },
    {
     "name": "stdout",
     "output_type": "stream",
     "text": [
      "[OK] bio2zarr finished for Ne2e+04_100_1e+06_80\n",
      "tsinfer done\n"
     ]
    },
    {
     "name": "stderr",
     "output_type": "stream",
     "text": [
      "    Scan: 100%|██████████| 1.00/1.00 [00:00<00:00, 85.8files/s]\n",
      " Explode: 100%|██████████| 4.03k/4.03k [00:00<00:00, 19.7kvars/s]\n",
      "  Encode: 100%|██████████| 1.18M/1.18M [00:00<00:00, 11.7MB/s]\n",
      "Finalise: 100%|██████████| 11.0/11.0 [00:00<00:00, 873array/s]\n"
     ]
    },
    {
     "name": "stdout",
     "output_type": "stream",
     "text": [
      "[OK] bio2zarr finished for Ne2e+04_100_1e+06_81\n",
      "tsinfer done\n"
     ]
    },
    {
     "name": "stderr",
     "output_type": "stream",
     "text": [
      "    Scan: 100%|██████████| 1.00/1.00 [00:00<00:00, 78.9files/s]\n",
      " Explode: 100%|██████████| 4.17k/4.17k [00:00<00:00, 19.9kvars/s]\n",
      "  Encode: 100%|██████████| 1.23M/1.23M [00:00<00:00, 12.0MB/s]\n",
      "Finalise: 100%|██████████| 11.0/11.0 [00:00<00:00, 873array/s]\n"
     ]
    },
    {
     "name": "stdout",
     "output_type": "stream",
     "text": [
      "[OK] bio2zarr finished for Ne2e+04_100_1e+06_82\n",
      "tsinfer done\n"
     ]
    },
    {
     "name": "stderr",
     "output_type": "stream",
     "text": [
      "    Scan: 100%|██████████| 1.00/1.00 [00:00<00:00, 94.8files/s]\n",
      " Explode: 100%|██████████| 4.04k/4.04k [00:00<00:00, 19.4kvars/s]\n",
      "  Encode: 100%|██████████| 1.19M/1.19M [00:00<00:00, 11.6MB/s]\n",
      "Finalise: 100%|██████████| 11.0/11.0 [00:00<00:00, 1.08karray/s]\n"
     ]
    },
    {
     "name": "stdout",
     "output_type": "stream",
     "text": [
      "[OK] bio2zarr finished for Ne2e+04_100_1e+06_83\n",
      "tsinfer done\n"
     ]
    },
    {
     "name": "stderr",
     "output_type": "stream",
     "text": [
      "    Scan: 100%|██████████| 1.00/1.00 [00:00<00:00, 85.7files/s]\n",
      " Explode: 100%|██████████| 3.96k/3.96k [00:00<00:00, 19.7kvars/s]\n",
      "  Encode: 100%|██████████| 1.16M/1.16M [00:00<00:00, 12.0MB/s]\n",
      "Finalise: 100%|██████████| 11.0/11.0 [00:00<00:00, 874array/s]\n"
     ]
    },
    {
     "name": "stdout",
     "output_type": "stream",
     "text": [
      "[OK] bio2zarr finished for Ne2e+04_100_1e+06_84\n",
      "tsinfer done\n"
     ]
    },
    {
     "name": "stderr",
     "output_type": "stream",
     "text": [
      "    Scan: 100%|██████████| 1.00/1.00 [00:00<00:00, 78.8files/s]\n",
      " Explode: 100%|██████████| 4.01k/4.01k [00:00<00:00, 19.7kvars/s]\n",
      "  Encode: 100%|██████████| 1.18M/1.18M [00:00<00:00, 12.0MB/s]\n",
      "Finalise: 100%|██████████| 11.0/11.0 [00:00<00:00, 1.05karray/s]\n"
     ]
    },
    {
     "name": "stdout",
     "output_type": "stream",
     "text": [
      "[OK] bio2zarr finished for Ne2e+04_100_1e+06_85\n",
      "tsinfer done\n"
     ]
    },
    {
     "name": "stderr",
     "output_type": "stream",
     "text": [
      "    Scan: 100%|██████████| 1.00/1.00 [00:00<00:00, 78.7files/s]\n",
      " Explode: 100%|██████████| 4.37k/4.37k [00:00<00:00, 22.0kvars/s]\n",
      "  Encode: 100%|██████████| 1.29M/1.29M [00:00<00:00, 11.9MB/s]\n",
      "Finalise: 100%|██████████| 11.0/11.0 [00:00<00:00, 874array/s]\n"
     ]
    },
    {
     "name": "stdout",
     "output_type": "stream",
     "text": [
      "[OK] bio2zarr finished for Ne2e+04_100_1e+06_86\n",
      "tsinfer done\n"
     ]
    },
    {
     "name": "stderr",
     "output_type": "stream",
     "text": [
      "    Scan: 100%|██████████| 1.00/1.00 [00:00<00:00, 93.0files/s]\n",
      " Explode: 100%|██████████| 4.08k/4.08k [00:00<00:00, 19.3kvars/s]\n",
      "  Encode: 100%|██████████| 1.20M/1.20M [00:00<00:00, 11.7MB/s]\n",
      "Finalise: 100%|██████████| 11.0/11.0 [00:00<00:00, 870array/s]\n"
     ]
    },
    {
     "name": "stdout",
     "output_type": "stream",
     "text": [
      "[OK] bio2zarr finished for Ne2e+04_100_1e+06_87\n",
      "tsinfer done\n"
     ]
    },
    {
     "name": "stderr",
     "output_type": "stream",
     "text": [
      "    Scan: 100%|██████████| 1.00/1.00 [00:00<00:00, 78.7files/s]\n",
      " Explode: 100%|██████████| 4.17k/4.17k [00:00<00:00, 19.4kvars/s]\n",
      "  Encode: 100%|██████████| 1.23M/1.23M [00:00<00:00, 11.1MB/s]\n",
      "Finalise: 100%|██████████| 11.0/11.0 [00:00<00:00, 874array/s]\n"
     ]
    },
    {
     "name": "stdout",
     "output_type": "stream",
     "text": [
      "[OK] bio2zarr finished for Ne2e+04_100_1e+06_88\n",
      "tsinfer done\n"
     ]
    },
    {
     "name": "stderr",
     "output_type": "stream",
     "text": [
      "    Scan: 100%|██████████| 1.00/1.00 [00:00<00:00, 83.2files/s]\n",
      " Explode: 100%|██████████| 4.09k/4.09k [00:00<00:00, 19.5kvars/s]\n",
      "  Encode: 100%|██████████| 1.20M/1.20M [00:00<00:00, 11.9MB/s]\n",
      "Finalise: 100%|██████████| 11.0/11.0 [00:00<00:00, 872array/s]\n"
     ]
    },
    {
     "name": "stdout",
     "output_type": "stream",
     "text": [
      "[OK] bio2zarr finished for Ne2e+04_100_1e+06_89\n",
      "tsinfer done\n"
     ]
    },
    {
     "name": "stderr",
     "output_type": "stream",
     "text": [
      "    Scan: 100%|██████████| 1.00/1.00 [00:00<00:00, 78.4files/s]\n",
      " Explode: 100%|██████████| 4.22k/4.22k [00:00<00:00, 19.8kvars/s]\n",
      "  Encode: 100%|██████████| 1.24M/1.24M [00:00<00:00, 11.9MB/s]\n",
      "Finalise: 100%|██████████| 11.0/11.0 [00:00<00:00, 873array/s]\n"
     ]
    },
    {
     "name": "stdout",
     "output_type": "stream",
     "text": [
      "[OK] bio2zarr finished for Ne2e+04_100_1e+06_90\n",
      "tsinfer done\n"
     ]
    },
    {
     "name": "stderr",
     "output_type": "stream",
     "text": [
      "    Scan: 100%|██████████| 1.00/1.00 [00:00<00:00, 79.0files/s]\n",
      " Explode: 100%|██████████| 4.30k/4.30k [00:00<00:00, 21.6kvars/s]\n",
      "  Encode: 100%|██████████| 1.26M/1.26M [00:00<00:00, 11.0MB/s]\n",
      "Finalise: 100%|██████████| 11.0/11.0 [00:00<00:00, 961array/s]\n"
     ]
    },
    {
     "name": "stdout",
     "output_type": "stream",
     "text": [
      "[OK] bio2zarr finished for Ne2e+04_100_1e+06_91\n",
      "tsinfer done\n"
     ]
    },
    {
     "name": "stderr",
     "output_type": "stream",
     "text": [
      "    Scan: 100%|██████████| 1.00/1.00 [00:00<00:00, 77.8files/s]\n",
      " Explode: 100%|██████████| 4.11k/4.11k [00:00<00:00, 19.4kvars/s]\n",
      "  Encode: 100%|██████████| 1.21M/1.21M [00:00<00:00, 11.8MB/s]\n",
      "Finalise: 100%|██████████| 11.0/11.0 [00:00<00:00, 873array/s]\n"
     ]
    },
    {
     "name": "stdout",
     "output_type": "stream",
     "text": [
      "[OK] bio2zarr finished for Ne2e+04_100_1e+06_92\n",
      "tsinfer done\n"
     ]
    },
    {
     "name": "stderr",
     "output_type": "stream",
     "text": [
      "    Scan: 100%|██████████| 1.00/1.00 [00:00<00:00, 78.8files/s]\n",
      " Explode: 100%|██████████| 4.29k/4.29k [00:00<00:00, 22.0kvars/s]\n",
      "  Encode: 100%|██████████| 1.26M/1.26M [00:00<00:00, 10.6MB/s]\n",
      "Finalise: 100%|██████████| 11.0/11.0 [00:00<00:00, 979array/s]\n"
     ]
    },
    {
     "name": "stdout",
     "output_type": "stream",
     "text": [
      "[OK] bio2zarr finished for Ne2e+04_100_1e+06_93\n",
      "tsinfer done\n"
     ]
    },
    {
     "name": "stderr",
     "output_type": "stream",
     "text": [
      "    Scan: 100%|██████████| 1.00/1.00 [00:00<00:00, 92.9files/s]\n",
      " Explode: 100%|██████████| 4.12k/4.12k [00:00<00:00, 20.0kvars/s]\n",
      "  Encode: 100%|██████████| 1.21M/1.21M [00:00<00:00, 12.2MB/s]\n",
      "Finalise: 100%|██████████| 11.0/11.0 [00:00<00:00, 871array/s]\n"
     ]
    },
    {
     "name": "stdout",
     "output_type": "stream",
     "text": [
      "[OK] bio2zarr finished for Ne2e+04_100_1e+06_94\n",
      "tsinfer done\n"
     ]
    },
    {
     "name": "stderr",
     "output_type": "stream",
     "text": [
      "    Scan: 100%|██████████| 1.00/1.00 [00:00<00:00, 79.0files/s]\n",
      " Explode: 100%|██████████| 4.23k/4.23k [00:00<00:00, 22.9kvars/s]\n",
      "  Encode: 100%|██████████| 1.24M/1.24M [00:00<00:00, 11.1MB/s]\n",
      "Finalise: 100%|██████████| 11.0/11.0 [00:00<00:00, 1.06karray/s]\n"
     ]
    },
    {
     "name": "stdout",
     "output_type": "stream",
     "text": [
      "[OK] bio2zarr finished for Ne2e+04_100_1e+06_95\n",
      "tsinfer done\n"
     ]
    },
    {
     "name": "stderr",
     "output_type": "stream",
     "text": [
      "    Scan: 100%|██████████| 1.00/1.00 [00:00<00:00, 78.9files/s]\n",
      " Explode: 100%|██████████| 4.27k/4.27k [00:00<00:00, 22.6kvars/s]\n",
      "  Encode: 100%|██████████| 1.26M/1.26M [00:00<00:00, 10.6MB/s]\n",
      "Finalise: 100%|██████████| 11.0/11.0 [00:00<00:00, 872array/s]\n"
     ]
    },
    {
     "name": "stdout",
     "output_type": "stream",
     "text": [
      "[OK] bio2zarr finished for Ne2e+04_100_1e+06_96\n",
      "tsinfer done\n"
     ]
    },
    {
     "name": "stderr",
     "output_type": "stream",
     "text": [
      "    Scan: 100%|██████████| 1.00/1.00 [00:00<00:00, 78.7files/s]\n",
      " Explode: 100%|██████████| 4.09k/4.09k [00:00<00:00, 19.9kvars/s]\n",
      "  Encode: 100%|██████████| 1.20M/1.20M [00:00<00:00, 11.0MB/s]\n",
      "Finalise: 100%|██████████| 11.0/11.0 [00:00<00:00, 870array/s]\n"
     ]
    },
    {
     "name": "stdout",
     "output_type": "stream",
     "text": [
      "[OK] bio2zarr finished for Ne2e+04_100_1e+06_97\n",
      "tsinfer done\n"
     ]
    },
    {
     "name": "stderr",
     "output_type": "stream",
     "text": [
      "    Scan: 100%|██████████| 1.00/1.00 [00:00<00:00, 78.9files/s]\n",
      " Explode: 100%|██████████| 4.00k/4.00k [00:00<00:00, 19.4kvars/s]\n",
      "  Encode: 100%|██████████| 1.18M/1.18M [00:00<00:00, 11.6MB/s]\n",
      "Finalise: 100%|██████████| 11.0/11.0 [00:00<00:00, 872array/s]\n"
     ]
    },
    {
     "name": "stdout",
     "output_type": "stream",
     "text": [
      "[OK] bio2zarr finished for Ne2e+04_100_1e+06_98\n",
      "tsinfer done\n"
     ]
    },
    {
     "name": "stderr",
     "output_type": "stream",
     "text": [
      "    Scan: 100%|██████████| 1.00/1.00 [00:00<00:00, 78.9files/s]\n",
      " Explode: 100%|██████████| 4.12k/4.12k [00:00<00:00, 18.4kvars/s]\n",
      "  Encode: 100%|██████████| 1.21M/1.21M [00:00<00:00, 11.8MB/s]\n",
      "Finalise: 100%|██████████| 11.0/11.0 [00:00<00:00, 873array/s]\n"
     ]
    },
    {
     "name": "stdout",
     "output_type": "stream",
     "text": [
      "[OK] bio2zarr finished for Ne2e+04_100_1e+06_99\n",
      "tsinfer done\n"
     ]
    }
   ],
   "source": [
    "simulate_dump(2e4,50,100,tree_dir=\"/Users/jinminli/research/tree_distance/simulations/tree/\",vcz_dir=\"/Users/jinminli/research/tree_distance/simulations/vcf/\")"
   ]
  },
  {
   "cell_type": "code",
   "execution_count": 4,
   "id": "c7ca77e6",
   "metadata": {},
   "outputs": [],
   "source": [
    "ts1=msprime.sim_ancestry(samples=50,population_size=1e4,sequence_length=1e6,recombination_rate=1e-8)\n",
    "ts1=msprime.sim_mutations(ts1,rate=1.25e-8)"
   ]
  },
  {
   "cell_type": "code",
   "execution_count": 5,
   "id": "67d455c1",
   "metadata": {},
   "outputs": [
    {
     "name": "stderr",
     "output_type": "stream",
     "text": [
      "    Scan: 100%|██████████| 1.00/1.00 [00:00<00:00, 87.8files/s]\n",
      " Explode: 100%|██████████| 2.59k/2.59k [00:00<00:00, 17.1kvars/s]\n",
      "  Encode: 100%|██████████| 762k/762k [00:00<00:00, 11.3MB/s]\n",
      "Finalise: 100%|██████████| 11.0/11.0 [00:00<00:00, 861array/s]\n"
     ]
    },
    {
     "name": "stdout",
     "output_type": "stream",
     "text": [
      "[OK] bio2zarr finished for sample100_Ne1e4\n",
      "tsinfer done\n"
     ]
    }
   ],
   "source": [
    "dir=\"./simulations/sim1/\"\n",
    "name=\"sample100_Ne1e4\"\n",
    "dump_ts(ts1,save_dir=dir,name=name)\n",
    "infer_ts(full_name=dir+name)"
   ]
  },
  {
   "cell_type": "code",
   "execution_count": 6,
   "id": "aaaa7a8f",
   "metadata": {},
   "outputs": [
    {
     "name": "stderr",
     "output_type": "stream",
     "text": [
      "    Scan: 100%|██████████| 1.00/1.00 [00:00<00:00, 84.4files/s]\n",
      " Explode: 100%|██████████| 4.12k/4.12k [00:00<00:00, 17.7kvars/s]\n",
      "  Encode: 100%|██████████| 3.27M/3.27M [00:00<00:00, 25.8MB/s]\n",
      "Finalise: 100%|██████████| 11.0/11.0 [00:00<00:00, 1.05karray/s]\n"
     ]
    },
    {
     "name": "stdout",
     "output_type": "stream",
     "text": [
      "[OK] bio2zarr finished for ooa_300_1e6\n",
      "tsinfer done\n"
     ]
    }
   ],
   "source": [
    "ooa_ts=simple_OOA_sim(50,1e6)\n",
    "dir=\"./simulations/ooa_300_1e6/\"\n",
    "name=\"ooa_300_1e6\"\n",
    "dump_ts(ooa_ts,save_dir=dir,name=name)\n",
    "infer_ts(full_name=dir+name)"
   ]
  },
  {
   "cell_type": "code",
   "execution_count": 7,
   "id": "3cb31415",
   "metadata": {},
   "outputs": [
    {
     "name": "stderr",
     "output_type": "stream",
     "text": [
      "    Scan: 100%|██████████| 1.00/1.00 [00:00<00:00, 78.9files/s]\n",
      " Explode: 100%|██████████| 8.87k/8.87k [00:01<00:00, 7.02kvars/s]\n",
      "  Encode: 100%|██████████| 66.9M/66.9M [00:00<00:00, 154MB/s] \n",
      "Finalise: 100%|██████████| 11.0/11.0 [00:00<00:00, 872array/s]\n"
     ]
    },
    {
     "name": "stdout",
     "output_type": "stream",
     "text": [
      "[OK] bio2zarr finished for ooa_3000_1e6\n",
      "tsinfer done\n"
     ]
    }
   ],
   "source": [
    "ooa_ts=simple_OOA_sim(500,1e6)\n",
    "dir=\"./simulations/ooa_3000_1e6/\"\n",
    "name=\"ooa_3000_1e6\"\n",
    "dump_ts(ooa_ts,save_dir=dir,name=name)\n",
    "infer_ts(full_name=dir+name)"
   ]
  },
  {
   "cell_type": "code",
   "execution_count": 8,
   "id": "7c5ea483",
   "metadata": {},
   "outputs": [
    {
     "name": "stderr",
     "output_type": "stream",
     "text": [
      "    Scan: 100%|██████████| 1.00/1.00 [00:00<00:00, 98.1files/s]\n",
      " Explode: 100%|██████████| 4.95k/4.95k [00:00<00:00, 21.7kvars/s]\n",
      "  Encode: 100%|██████████| 1.45M/1.45M [00:00<00:00, 11.2MB/s]\n",
      "Finalise: 100%|██████████| 11.0/11.0 [00:00<00:00, 873array/s]\n"
     ]
    },
    {
     "name": "stdout",
     "output_type": "stream",
     "text": [
      "[OK] bio2zarr finished for Ne2e4_100_1e6\n",
      "tsinfer done\n"
     ]
    }
   ],
   "source": [
    "ts1=msprime.sim_ancestry(samples=50,population_size=2e4,sequence_length=1e6,recombination_rate=1e-8)\n",
    "ts1=msprime.sim_mutations(ts1,rate=1.25e-8)\n",
    "dir=\"./simulations/Ne2e4_100_1e6/\"\n",
    "name=\"Ne2e4_100_1e6\"\n",
    "dump_ts(ts1,save_dir=dir,name=name)\n",
    "infer_ts(full_name=dir+name)"
   ]
  },
  {
   "cell_type": "code",
   "execution_count": 9,
   "id": "02ca5aba",
   "metadata": {},
   "outputs": [
    {
     "name": "stderr",
     "output_type": "stream",
     "text": [
      "    Scan: 100%|██████████| 1.00/1.00 [00:00<00:00, 88.9files/s]\n",
      " Explode: 100%|██████████| 7.73k/7.73k [00:00<00:00, 10.5kvars/s]\n",
      "  Encode: 100%|██████████| 19.7M/19.7M [00:00<00:00, 82.0MB/s]\n",
      "Finalise: 100%|██████████| 11.0/11.0 [00:00<00:00, 873array/s]\n"
     ]
    },
    {
     "name": "stdout",
     "output_type": "stream",
     "text": [
      "[OK] bio2zarr finished for Ne2e4_1000_1e6\n",
      "tsinfer done\n"
     ]
    }
   ],
   "source": [
    "ts1=msprime.sim_ancestry(samples=500,population_size=2e4,sequence_length=1e6,recombination_rate=1e-8)\n",
    "ts1=msprime.sim_mutations(ts1,rate=1.25e-8)\n",
    "dir=\"./simulations/Ne2e4_1000_1e6/\"\n",
    "name=\"Ne2e4_1000_1e6\"\n",
    "dump_ts(ts1,save_dir=dir,name=name)\n",
    "infer_ts(full_name=dir+name)"
   ]
  },
  {
   "cell_type": "code",
   "execution_count": 10,
   "id": "c09a51b2",
   "metadata": {},
   "outputs": [
    {
     "name": "stderr",
     "output_type": "stream",
     "text": [
      "    Scan: 100%|██████████| 1.00/1.00 [00:00<00:00, 78.6files/s]\n",
      " Explode: 100%|██████████| 8.41k/8.41k [00:01<00:00, 5.37kvars/s]\n",
      "  Encode: 100%|██████████| 63.5M/63.5M [00:00<00:00, 155MB/s] \n",
      "Finalise: 100%|██████████| 11.0/11.0 [00:00<00:00, 868array/s]\n"
     ]
    },
    {
     "name": "stdout",
     "output_type": "stream",
     "text": [
      "[OK] bio2zarr finished for Ne2e4_3000_1e6\n",
      "tsinfer done\n"
     ]
    }
   ],
   "source": [
    "ts1=msprime.sim_ancestry(samples=1500,population_size=2e4,sequence_length=1e6,recombination_rate=1e-8)\n",
    "ts1=msprime.sim_mutations(ts1,rate=1.25e-8)\n",
    "dir=\"./simulations/Ne2e4_3000_1e6/\"\n",
    "name=\"Ne2e4_3000_1e6\"\n",
    "dump_ts(ts1,save_dir=dir,name=name)\n",
    "infer_ts(full_name=dir+name)"
   ]
  }
 ],
 "metadata": {
  "kernelspec": {
   "display_name": "myenv",
   "language": "python",
   "name": "python3"
  },
  "language_info": {
   "codemirror_mode": {
    "name": "ipython",
    "version": 3
   },
   "file_extension": ".py",
   "mimetype": "text/x-python",
   "name": "python",
   "nbconvert_exporter": "python",
   "pygments_lexer": "ipython3",
   "version": "3.13.1"
  }
 },
 "nbformat": 4,
 "nbformat_minor": 5
}
